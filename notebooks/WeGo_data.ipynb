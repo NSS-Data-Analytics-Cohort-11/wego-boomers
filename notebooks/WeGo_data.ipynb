{
 "cells": [
  {
   "cell_type": "code",
   "execution_count": 1,
   "id": "4009dec1",
   "metadata": {},
   "outputs": [],
   "source": [
    "import pandas as pd\n",
    "import numpy as np\n",
    "import matplotlib.pyplot as plt\n",
    "import seaborn as sns"
   ]
  },
  {
   "cell_type": "markdown",
   "id": "9469da00",
   "metadata": {},
   "source": [
    "Read in data."
   ]
  },
  {
   "cell_type": "code",
   "execution_count": 2,
   "id": "5d0f966d",
   "metadata": {
    "scrolled": true
   },
   "outputs": [],
   "source": [
    "wego = pd.read_csv(\"../data/Headway Data, 8-1-2023 to 9-30-2023.csv\")\n"
   ]
  },
  {
   "cell_type": "code",
   "execution_count": 3,
   "id": "6d7476fe",
   "metadata": {},
   "outputs": [],
   "source": [
    "pd.set_option('display.max_columns', None)\n",
    "pd.set_option('display.max_rows', None)"
   ]
  },
  {
   "cell_type": "code",
   "execution_count": 4,
   "id": "fb8dfa64",
   "metadata": {},
   "outputs": [
    {
     "data": {
      "text/html": [
       "<div>\n",
       "<style scoped>\n",
       "    .dataframe tbody tr th:only-of-type {\n",
       "        vertical-align: middle;\n",
       "    }\n",
       "\n",
       "    .dataframe tbody tr th {\n",
       "        vertical-align: top;\n",
       "    }\n",
       "\n",
       "    .dataframe thead th {\n",
       "        text-align: right;\n",
       "    }\n",
       "</style>\n",
       "<table border=\"1\" class=\"dataframe\">\n",
       "  <thead>\n",
       "    <tr style=\"text-align: right;\">\n",
       "      <th></th>\n",
       "      <th>CALENDAR_ID</th>\n",
       "      <th>SERVICE_ABBR</th>\n",
       "      <th>ADHERENCE_ID</th>\n",
       "      <th>DATE</th>\n",
       "      <th>ROUTE_ABBR</th>\n",
       "      <th>BLOCK_ABBR</th>\n",
       "      <th>OPERATOR</th>\n",
       "      <th>TRIP_ID</th>\n",
       "      <th>OVERLOAD_ID</th>\n",
       "      <th>ROUTE_DIRECTION_NAME</th>\n",
       "      <th>TIME_POINT_ABBR</th>\n",
       "      <th>ROUTE_STOP_SEQUENCE</th>\n",
       "      <th>TRIP_EDGE</th>\n",
       "      <th>LATITUDE</th>\n",
       "      <th>LONGITUDE</th>\n",
       "      <th>SCHEDULED_TIME</th>\n",
       "      <th>ACTUAL_ARRIVAL_TIME</th>\n",
       "      <th>ACTUAL_DEPARTURE_TIME</th>\n",
       "      <th>ADHERENCE</th>\n",
       "      <th>SCHEDULED_HDWY</th>\n",
       "      <th>ACTUAL_HDWY</th>\n",
       "      <th>HDWY_DEV</th>\n",
       "      <th>ADJUSTED_EARLY_COUNT</th>\n",
       "      <th>ADJUSTED_LATE_COUNT</th>\n",
       "      <th>ADJUSTED_ONTIME_COUNT</th>\n",
       "      <th>STOP_CANCELLED</th>\n",
       "      <th>PREV_SCHED_STOP_CANCELLED</th>\n",
       "      <th>IS_RELIEF</th>\n",
       "      <th>DWELL_IN_MINS</th>\n",
       "      <th>SCHEDULED_LAYOVER_MINUTES</th>\n",
       "    </tr>\n",
       "  </thead>\n",
       "  <tbody>\n",
       "    <tr>\n",
       "      <th>0</th>\n",
       "      <td>120230801</td>\n",
       "      <td>1</td>\n",
       "      <td>99457890</td>\n",
       "      <td>2023-08-01</td>\n",
       "      <td>22</td>\n",
       "      <td>2200</td>\n",
       "      <td>1040</td>\n",
       "      <td>345104</td>\n",
       "      <td>0</td>\n",
       "      <td>TO DOWNTOWN</td>\n",
       "      <td>MHSP</td>\n",
       "      <td>14.0</td>\n",
       "      <td>1</td>\n",
       "      <td>36.181248</td>\n",
       "      <td>-86.847705</td>\n",
       "      <td>2023-08-01 04:42:00</td>\n",
       "      <td>2023-08-01 04:37:38</td>\n",
       "      <td>2023-08-01 04:44:08</td>\n",
       "      <td>-2.133333</td>\n",
       "      <td>NaN</td>\n",
       "      <td>NaN</td>\n",
       "      <td>NaN</td>\n",
       "      <td>0</td>\n",
       "      <td>0</td>\n",
       "      <td>1</td>\n",
       "      <td>0</td>\n",
       "      <td>0.0</td>\n",
       "      <td>0</td>\n",
       "      <td>6.500000</td>\n",
       "      <td>NaN</td>\n",
       "    </tr>\n",
       "    <tr>\n",
       "      <th>1</th>\n",
       "      <td>120230801</td>\n",
       "      <td>1</td>\n",
       "      <td>99457891</td>\n",
       "      <td>2023-08-01</td>\n",
       "      <td>22</td>\n",
       "      <td>2200</td>\n",
       "      <td>1040</td>\n",
       "      <td>345104</td>\n",
       "      <td>0</td>\n",
       "      <td>TO DOWNTOWN</td>\n",
       "      <td>ELIZ</td>\n",
       "      <td>10.0</td>\n",
       "      <td>0</td>\n",
       "      <td>36.193454</td>\n",
       "      <td>-86.839981</td>\n",
       "      <td>2023-08-01 04:46:00</td>\n",
       "      <td>2023-08-01 04:48:27</td>\n",
       "      <td>2023-08-01 04:48:27</td>\n",
       "      <td>-2.450000</td>\n",
       "      <td>NaN</td>\n",
       "      <td>NaN</td>\n",
       "      <td>NaN</td>\n",
       "      <td>0</td>\n",
       "      <td>0</td>\n",
       "      <td>1</td>\n",
       "      <td>0</td>\n",
       "      <td>0.0</td>\n",
       "      <td>0</td>\n",
       "      <td>0.000000</td>\n",
       "      <td>NaN</td>\n",
       "    </tr>\n",
       "    <tr>\n",
       "      <th>2</th>\n",
       "      <td>120230801</td>\n",
       "      <td>1</td>\n",
       "      <td>99457892</td>\n",
       "      <td>2023-08-01</td>\n",
       "      <td>22</td>\n",
       "      <td>2200</td>\n",
       "      <td>1040</td>\n",
       "      <td>345104</td>\n",
       "      <td>0</td>\n",
       "      <td>TO DOWNTOWN</td>\n",
       "      <td>CV23</td>\n",
       "      <td>5.0</td>\n",
       "      <td>0</td>\n",
       "      <td>36.182177</td>\n",
       "      <td>-86.814445</td>\n",
       "      <td>2023-08-01 04:54:00</td>\n",
       "      <td>2023-08-01 04:54:56</td>\n",
       "      <td>2023-08-01 04:54:56</td>\n",
       "      <td>-0.933333</td>\n",
       "      <td>NaN</td>\n",
       "      <td>NaN</td>\n",
       "      <td>NaN</td>\n",
       "      <td>0</td>\n",
       "      <td>0</td>\n",
       "      <td>1</td>\n",
       "      <td>0</td>\n",
       "      <td>0.0</td>\n",
       "      <td>0</td>\n",
       "      <td>0.000000</td>\n",
       "      <td>NaN</td>\n",
       "    </tr>\n",
       "    <tr>\n",
       "      <th>3</th>\n",
       "      <td>120230801</td>\n",
       "      <td>1</td>\n",
       "      <td>99457893</td>\n",
       "      <td>2023-08-01</td>\n",
       "      <td>22</td>\n",
       "      <td>2200</td>\n",
       "      <td>1040</td>\n",
       "      <td>345104</td>\n",
       "      <td>0</td>\n",
       "      <td>TO DOWNTOWN</td>\n",
       "      <td>MCC5_10</td>\n",
       "      <td>1.0</td>\n",
       "      <td>2</td>\n",
       "      <td>36.167091</td>\n",
       "      <td>-86.781923</td>\n",
       "      <td>2023-08-01 05:10:00</td>\n",
       "      <td>2023-08-01 05:03:43</td>\n",
       "      <td>2023-08-01 05:03:43</td>\n",
       "      <td>6.283333</td>\n",
       "      <td>NaN</td>\n",
       "      <td>NaN</td>\n",
       "      <td>NaN</td>\n",
       "      <td>0</td>\n",
       "      <td>0</td>\n",
       "      <td>1</td>\n",
       "      <td>0</td>\n",
       "      <td>NaN</td>\n",
       "      <td>0</td>\n",
       "      <td>0.000000</td>\n",
       "      <td>NaN</td>\n",
       "    </tr>\n",
       "    <tr>\n",
       "      <th>4</th>\n",
       "      <td>120230801</td>\n",
       "      <td>1</td>\n",
       "      <td>99457894</td>\n",
       "      <td>2023-08-01</td>\n",
       "      <td>22</td>\n",
       "      <td>2200</td>\n",
       "      <td>1040</td>\n",
       "      <td>345105</td>\n",
       "      <td>0</td>\n",
       "      <td>FROM DOWNTOWN</td>\n",
       "      <td>MCC5_10</td>\n",
       "      <td>1.0</td>\n",
       "      <td>1</td>\n",
       "      <td>36.167091</td>\n",
       "      <td>-86.781923</td>\n",
       "      <td>2023-08-01 05:15:00</td>\n",
       "      <td>2023-08-01 05:03:43</td>\n",
       "      <td>2023-08-01 05:16:35</td>\n",
       "      <td>-1.583333</td>\n",
       "      <td>NaN</td>\n",
       "      <td>NaN</td>\n",
       "      <td>NaN</td>\n",
       "      <td>0</td>\n",
       "      <td>0</td>\n",
       "      <td>1</td>\n",
       "      <td>0</td>\n",
       "      <td>0.0</td>\n",
       "      <td>0</td>\n",
       "      <td>12.866666</td>\n",
       "      <td>5.0</td>\n",
       "    </tr>\n",
       "  </tbody>\n",
       "</table>\n",
       "</div>"
      ],
      "text/plain": [
       "   CALENDAR_ID  SERVICE_ABBR  ADHERENCE_ID        DATE  ROUTE_ABBR  \\\n",
       "0    120230801             1      99457890  2023-08-01          22   \n",
       "1    120230801             1      99457891  2023-08-01          22   \n",
       "2    120230801             1      99457892  2023-08-01          22   \n",
       "3    120230801             1      99457893  2023-08-01          22   \n",
       "4    120230801             1      99457894  2023-08-01          22   \n",
       "\n",
       "   BLOCK_ABBR  OPERATOR  TRIP_ID  OVERLOAD_ID ROUTE_DIRECTION_NAME  \\\n",
       "0        2200      1040   345104            0          TO DOWNTOWN   \n",
       "1        2200      1040   345104            0          TO DOWNTOWN   \n",
       "2        2200      1040   345104            0          TO DOWNTOWN   \n",
       "3        2200      1040   345104            0          TO DOWNTOWN   \n",
       "4        2200      1040   345105            0        FROM DOWNTOWN   \n",
       "\n",
       "  TIME_POINT_ABBR  ROUTE_STOP_SEQUENCE  TRIP_EDGE   LATITUDE  LONGITUDE  \\\n",
       "0            MHSP                 14.0          1  36.181248 -86.847705   \n",
       "1            ELIZ                 10.0          0  36.193454 -86.839981   \n",
       "2            CV23                  5.0          0  36.182177 -86.814445   \n",
       "3         MCC5_10                  1.0          2  36.167091 -86.781923   \n",
       "4         MCC5_10                  1.0          1  36.167091 -86.781923   \n",
       "\n",
       "        SCHEDULED_TIME  ACTUAL_ARRIVAL_TIME ACTUAL_DEPARTURE_TIME  ADHERENCE  \\\n",
       "0  2023-08-01 04:42:00  2023-08-01 04:37:38   2023-08-01 04:44:08  -2.133333   \n",
       "1  2023-08-01 04:46:00  2023-08-01 04:48:27   2023-08-01 04:48:27  -2.450000   \n",
       "2  2023-08-01 04:54:00  2023-08-01 04:54:56   2023-08-01 04:54:56  -0.933333   \n",
       "3  2023-08-01 05:10:00  2023-08-01 05:03:43   2023-08-01 05:03:43   6.283333   \n",
       "4  2023-08-01 05:15:00  2023-08-01 05:03:43   2023-08-01 05:16:35  -1.583333   \n",
       "\n",
       "   SCHEDULED_HDWY  ACTUAL_HDWY  HDWY_DEV  ADJUSTED_EARLY_COUNT  \\\n",
       "0             NaN          NaN       NaN                     0   \n",
       "1             NaN          NaN       NaN                     0   \n",
       "2             NaN          NaN       NaN                     0   \n",
       "3             NaN          NaN       NaN                     0   \n",
       "4             NaN          NaN       NaN                     0   \n",
       "\n",
       "   ADJUSTED_LATE_COUNT  ADJUSTED_ONTIME_COUNT  STOP_CANCELLED  \\\n",
       "0                    0                      1               0   \n",
       "1                    0                      1               0   \n",
       "2                    0                      1               0   \n",
       "3                    0                      1               0   \n",
       "4                    0                      1               0   \n",
       "\n",
       "   PREV_SCHED_STOP_CANCELLED  IS_RELIEF  DWELL_IN_MINS  \\\n",
       "0                        0.0          0       6.500000   \n",
       "1                        0.0          0       0.000000   \n",
       "2                        0.0          0       0.000000   \n",
       "3                        NaN          0       0.000000   \n",
       "4                        0.0          0      12.866666   \n",
       "\n",
       "   SCHEDULED_LAYOVER_MINUTES  \n",
       "0                        NaN  \n",
       "1                        NaN  \n",
       "2                        NaN  \n",
       "3                        NaN  \n",
       "4                        5.0  "
      ]
     },
     "execution_count": 4,
     "metadata": {},
     "output_type": "execute_result"
    }
   ],
   "source": [
    "wego.head()"
   ]
  },
  {
   "cell_type": "markdown",
   "id": "462fb5aa",
   "metadata": {},
   "source": [
    "# Exploration"
   ]
  },
  {
   "cell_type": "code",
   "execution_count": 5,
   "id": "3e64f039",
   "metadata": {},
   "outputs": [
    {
     "data": {
      "text/plain": [
       "Index(['CALENDAR_ID', 'SERVICE_ABBR', 'ADHERENCE_ID', 'DATE', 'ROUTE_ABBR',\n",
       "       'BLOCK_ABBR', 'OPERATOR', 'TRIP_ID', 'OVERLOAD_ID',\n",
       "       'ROUTE_DIRECTION_NAME', 'TIME_POINT_ABBR', 'ROUTE_STOP_SEQUENCE',\n",
       "       'TRIP_EDGE', 'LATITUDE', 'LONGITUDE', 'SCHEDULED_TIME',\n",
       "       'ACTUAL_ARRIVAL_TIME', 'ACTUAL_DEPARTURE_TIME', 'ADHERENCE',\n",
       "       'SCHEDULED_HDWY', 'ACTUAL_HDWY', 'HDWY_DEV', 'ADJUSTED_EARLY_COUNT',\n",
       "       'ADJUSTED_LATE_COUNT', 'ADJUSTED_ONTIME_COUNT', 'STOP_CANCELLED',\n",
       "       'PREV_SCHED_STOP_CANCELLED', 'IS_RELIEF', 'DWELL_IN_MINS',\n",
       "       'SCHEDULED_LAYOVER_MINUTES'],\n",
       "      dtype='object')"
      ]
     },
     "execution_count": 5,
     "metadata": {},
     "output_type": "execute_result"
    }
   ],
   "source": [
    "wego.columns"
   ]
  },
  {
   "cell_type": "code",
   "execution_count": 6,
   "id": "c9a8c55d",
   "metadata": {},
   "outputs": [
    {
     "name": "stdout",
     "output_type": "stream",
     "text": [
      "<class 'pandas.core.frame.DataFrame'>\n",
      "RangeIndex: 350329 entries, 0 to 350328\n",
      "Data columns (total 30 columns):\n",
      " #   Column                     Non-Null Count   Dtype  \n",
      "---  ------                     --------------   -----  \n",
      " 0   CALENDAR_ID                350329 non-null  int64  \n",
      " 1   SERVICE_ABBR               350329 non-null  int64  \n",
      " 2   ADHERENCE_ID               350329 non-null  int64  \n",
      " 3   DATE                       350329 non-null  object \n",
      " 4   ROUTE_ABBR                 350329 non-null  int64  \n",
      " 5   BLOCK_ABBR                 350329 non-null  int64  \n",
      " 6   OPERATOR                   350329 non-null  int64  \n",
      " 7   TRIP_ID                    350329 non-null  int64  \n",
      " 8   OVERLOAD_ID                350329 non-null  int64  \n",
      " 9   ROUTE_DIRECTION_NAME       350329 non-null  object \n",
      " 10  TIME_POINT_ABBR            350329 non-null  object \n",
      " 11  ROUTE_STOP_SEQUENCE        350318 non-null  float64\n",
      " 12  TRIP_EDGE                  350329 non-null  int64  \n",
      " 13  LATITUDE                   350329 non-null  float64\n",
      " 14  LONGITUDE                  350329 non-null  float64\n",
      " 15  SCHEDULED_TIME             350329 non-null  object \n",
      " 16  ACTUAL_ARRIVAL_TIME        338870 non-null  object \n",
      " 17  ACTUAL_DEPARTURE_TIME      338861 non-null  object \n",
      " 18  ADHERENCE                  338861 non-null  float64\n",
      " 19  SCHEDULED_HDWY             274738 non-null  float64\n",
      " 20  ACTUAL_HDWY                266062 non-null  float64\n",
      " 21  HDWY_DEV                   265893 non-null  float64\n",
      " 22  ADJUSTED_EARLY_COUNT       350329 non-null  int64  \n",
      " 23  ADJUSTED_LATE_COUNT        350329 non-null  int64  \n",
      " 24  ADJUSTED_ONTIME_COUNT      350329 non-null  int64  \n",
      " 25  STOP_CANCELLED             350329 non-null  int64  \n",
      " 26  PREV_SCHED_STOP_CANCELLED  280000 non-null  float64\n",
      " 27  IS_RELIEF                  350329 non-null  int64  \n",
      " 28  DWELL_IN_MINS              338858 non-null  float64\n",
      " 29  SCHEDULED_LAYOVER_MINUTES  53102 non-null   float64\n",
      "dtypes: float64(10), int64(14), object(6)\n",
      "memory usage: 80.2+ MB\n"
     ]
    }
   ],
   "source": [
    "wego.info()"
   ]
  },
  {
   "cell_type": "markdown",
   "id": "8a58e506",
   "metadata": {},
   "source": [
    "In the data, the bus route can be identified by its ROUTE_ABBR value.  \n",
    "3: West End  \n",
    "7: Hillsboro  \n",
    "22: Bordeaux  \n",
    "23: Dickerson Pike  \n",
    "50: Charlotte Pike  \n",
    "52: Nolensville Pike  \n",
    "55: Murfreesboro Pike  \n",
    "56: Gallatin Pike  "
   ]
  },
  {
   "cell_type": "code",
   "execution_count": 7,
   "id": "6b05d325",
   "metadata": {},
   "outputs": [
    {
     "data": {
      "text/plain": [
       "ROUTE_ABBR\n",
       "3     47162\n",
       "7     18026\n",
       "22    25959\n",
       "23    42108\n",
       "50    43291\n",
       "52    51819\n",
       "55    61944\n",
       "56    60020\n",
       "Name: count, dtype: int64"
      ]
     },
     "execution_count": 7,
     "metadata": {},
     "output_type": "execute_result"
    }
   ],
   "source": [
    "wego['ROUTE_ABBR'].value_counts().sort_index()"
   ]
  },
  {
   "cell_type": "code",
   "execution_count": 8,
   "id": "be390639",
   "metadata": {},
   "outputs": [
    {
     "data": {
      "text/plain": [
       "SERVICE_ABBR\n",
       "1    279300\n",
       "2     37497\n",
       "3     33532\n",
       "Name: count, dtype: int64"
      ]
     },
     "execution_count": 8,
     "metadata": {},
     "output_type": "execute_result"
    }
   ],
   "source": [
    "wego['SERVICE_ABBR'].value_counts().sort_index()"
   ]
  },
  {
   "cell_type": "code",
   "execution_count": 9,
   "id": "74af1490",
   "metadata": {},
   "outputs": [],
   "source": [
    "#wego['HDWY_DEV']"
   ]
  },
  {
   "cell_type": "code",
   "execution_count": 10,
   "id": "f2048e0a",
   "metadata": {},
   "outputs": [
    {
     "data": {
      "text/plain": [
       "338861"
      ]
     },
     "execution_count": 10,
     "metadata": {},
     "output_type": "execute_result"
    }
   ],
   "source": [
    "wego['ADHERENCE'].count()"
   ]
  },
  {
   "cell_type": "code",
   "execution_count": 11,
   "id": "299948c0",
   "metadata": {},
   "outputs": [
    {
     "data": {
      "text/plain": [
       "88.383333"
      ]
     },
     "execution_count": 11,
     "metadata": {},
     "output_type": "execute_result"
    }
   ],
   "source": [
    "wego['ADHERENCE'].max()"
   ]
  },
  {
   "cell_type": "code",
   "execution_count": 12,
   "id": "c0799f94",
   "metadata": {},
   "outputs": [
    {
     "data": {
      "text/plain": [
       "-3.1887964314276354"
      ]
     },
     "execution_count": 12,
     "metadata": {},
     "output_type": "execute_result"
    }
   ],
   "source": [
    "wego['ADHERENCE'].mean()"
   ]
  },
  {
   "cell_type": "code",
   "execution_count": null,
   "id": "8e0c3d45",
   "metadata": {},
   "outputs": [],
   "source": []
  },
  {
   "cell_type": "code",
   "execution_count": 13,
   "id": "6a67f7e9",
   "metadata": {},
   "outputs": [
    {
     "data": {
      "text/plain": [
       "103162   -948.533333\n",
       "19788    -675.000000\n",
       "340625   -618.166666\n",
       "30377    -542.233333\n",
       "229460   -539.933333\n",
       "106535   -489.316666\n",
       "133942   -480.900000\n",
       "326620   -480.866666\n",
       "229519   -466.366666\n",
       "269889   -400.533333\n",
       "120932   -379.550000\n",
       "308795   -375.233333\n",
       "22974    -373.466666\n",
       "68208    -366.933333\n",
       "229708   -340.966666\n",
       "212919   -330.166666\n",
       "224905   -322.783333\n",
       "265400   -295.466666\n",
       "19876    -283.866666\n",
       "3231     -241.700000\n",
       "129861   -219.900000\n",
       "20536    -194.000000\n",
       "333130   -166.566666\n",
       "209473   -149.816666\n",
       "209474   -144.333333\n",
       "209475   -141.183333\n",
       "209477   -140.066666\n",
       "209478   -140.050000\n",
       "326622   -139.683333\n",
       "209476   -138.800000\n",
       "209479   -137.033333\n",
       "155177   -134.100000\n",
       "3250     -133.950000\n",
       "21295    -133.250000\n",
       "3249     -133.133333\n",
       "53134    -132.883333\n",
       "3251     -132.200000\n",
       "3248     -132.033333\n",
       "21296    -131.900000\n",
       "330228   -128.550000\n",
       "21297    -128.416666\n",
       "330229   -128.100000\n",
       "329793   -126.966666\n",
       "257235   -126.516666\n",
       "257232   -126.466666\n",
       "3246     -126.300000\n",
       "256791   -126.216666\n",
       "329794   -125.900000\n",
       "257224   -125.700000\n",
       "256785   -125.316666\n",
       "256789   -125.183333\n",
       "330227   -125.066666\n",
       "256790   -124.950000\n",
       "256792   -124.733333\n",
       "257233   -124.716666\n",
       "257229   -124.616666\n",
       "3245     -124.533333\n",
       "257234   -124.283333\n",
       "209480   -123.516666\n",
       "3243     -123.416666\n",
       "3244     -123.300000\n",
       "257230   -122.933333\n",
       "256788   -122.883333\n",
       "256784   -122.583333\n",
       "21299    -122.566666\n",
       "256782   -122.483333\n",
       "257236   -122.450000\n",
       "256779   -121.933333\n",
       "257231   -121.900000\n",
       "257225   -121.850000\n",
       "256787   -121.733333\n",
       "256786   -121.516666\n",
       "256783   -121.500000\n",
       "256781   -121.433333\n",
       "330224   -121.050000\n",
       "Name: ADHERENCE, dtype: float64"
      ]
     },
     "execution_count": 13,
     "metadata": {},
     "output_type": "execute_result"
    }
   ],
   "source": [
    "wego['ADHERENCE'].nsmallest(75)"
   ]
  },
  {
   "cell_type": "code",
   "execution_count": 14,
   "id": "bc8f79c9",
   "metadata": {},
   "outputs": [
    {
     "data": {
      "text/plain": [
       "<Axes: ylabel='ADHERENCE'>"
      ]
     },
     "execution_count": 14,
     "metadata": {},
     "output_type": "execute_result"
    },
    {
     "data": {
      "image/png": "[encoded data removed]",
      "text/plain": [
       "<Figure size 640x480 with 1 Axes>"
      ]
     },
     "metadata": {},
     "output_type": "display_data"
    }
   ],
   "source": [
    "sns.boxplot(y=\"ADHERENCE\",\n",
    "                data=wego)"
   ]
  },
  {
   "cell_type": "markdown",
   "id": "d2dfae57",
   "metadata": {},
   "source": [
    "According to boxplot of adherence, most outliers are of the buses running late."
   ]
  },
  {
   "cell_type": "code",
   "execution_count": 15,
   "id": "c8fead33",
   "metadata": {},
   "outputs": [
    {
     "data": {
      "text/plain": [
       "<Axes: ylabel='HDWY_DEV'>"
      ]
     },
     "execution_count": 15,
     "metadata": {},
     "output_type": "execute_result"
    },
    {
     "data": {
      "image/png": "[encoded data removed]",
      "text/plain": [
       "<Figure size 640x480 with 1 Axes>"
      ]
     },
     "metadata": {},
     "output_type": "display_data"
    }
   ],
   "source": [
    "sns.boxplot(y='HDWY_DEV',\n",
    "                data=wego)"
   ]
  },
  {
   "cell_type": "markdown",
   "id": "13684f84",
   "metadata": {},
   "source": [
    "According to boxplot of HDWY_DEV, most outliers are of "
   ]
  },
  {
   "cell_type": "code",
   "execution_count": null,
   "id": "02cad484",
   "metadata": {},
   "outputs": [],
   "source": []
  },
  {
   "cell_type": "markdown",
   "id": "212452b5",
   "metadata": {},
   "source": [
    "Look at percentages of on time vs dataset."
   ]
  },
  {
   "cell_type": "code",
   "execution_count": 16,
   "id": "542ec2f0",
   "metadata": {
    "scrolled": true
   },
   "outputs": [
    {
     "data": {
      "text/plain": [
       "0.7708411236295025"
      ]
     },
     "execution_count": 16,
     "metadata": {},
     "output_type": "execute_result"
    }
   ],
   "source": [
    "wego['ADJUSTED_ONTIME_COUNT'].sum() / wego.shape[0]"
   ]
  },
  {
   "cell_type": "code",
   "execution_count": 17,
   "id": "fc042ae2",
   "metadata": {},
   "outputs": [
    {
     "data": {
      "text/plain": [
       "79.69"
      ]
     },
     "execution_count": 17,
     "metadata": {},
     "output_type": "execute_result"
    }
   ],
   "source": [
    "# Percent of on-time stops - using only tagged rows\n",
    "round((wego['ADJUSTED_ONTIME_COUNT'].sum()) / (wego['ADJUSTED_ONTIME_COUNT'].sum() \n",
    "                                               + wego['ADJUSTED_EARLY_COUNT'].sum() \n",
    "                                               + wego['ADJUSTED_LATE_COUNT'].sum()) * 100, 2)"
   ]
  },
  {
   "cell_type": "markdown",
   "id": "5b4864c5",
   "metadata": {},
   "source": [
    "Look at percentages of early vs dataset."
   ]
  },
  {
   "cell_type": "code",
   "execution_count": 18,
   "id": "c9cae1e6",
   "metadata": {},
   "outputs": [
    {
     "data": {
      "text/plain": [
       "0.027902343225939045"
      ]
     },
     "execution_count": 18,
     "metadata": {},
     "output_type": "execute_result"
    }
   ],
   "source": [
    "wego['ADJUSTED_EARLY_COUNT'].sum() / wego.shape[0]"
   ]
  },
  {
   "cell_type": "code",
   "execution_count": 19,
   "id": "beafd30b",
   "metadata": {},
   "outputs": [
    {
     "data": {
      "text/plain": [
       "2.88"
      ]
     },
     "execution_count": 19,
     "metadata": {},
     "output_type": "execute_result"
    }
   ],
   "source": [
    "# Percent of early - using only tagged rows\n",
    "round((wego['ADJUSTED_EARLY_COUNT'].sum()) / (wego['ADJUSTED_ONTIME_COUNT'].sum() \n",
    "                                               + wego['ADJUSTED_EARLY_COUNT'].sum() \n",
    "                                               + wego['ADJUSTED_LATE_COUNT'].sum()) * 100, 2)"
   ]
  },
  {
   "cell_type": "markdown",
   "id": "fbcf8ced",
   "metadata": {},
   "source": [
    "Look at percentages of late vs dataset."
   ]
  },
  {
   "cell_type": "code",
   "execution_count": 20,
   "id": "752caa39",
   "metadata": {},
   "outputs": [
    {
     "data": {
      "text/plain": [
       "0.16852158970567666"
      ]
     },
     "execution_count": 20,
     "metadata": {},
     "output_type": "execute_result"
    }
   ],
   "source": [
    "wego['ADJUSTED_LATE_COUNT'].sum() / wego.shape[0]"
   ]
  },
  {
   "cell_type": "code",
   "execution_count": 21,
   "id": "c5669b03",
   "metadata": {},
   "outputs": [
    {
     "data": {
      "text/plain": [
       "17.42"
      ]
     },
     "execution_count": 21,
     "metadata": {},
     "output_type": "execute_result"
    }
   ],
   "source": [
    "# Percent of late - using only tagged rows\n",
    "round((wego['ADJUSTED_LATE_COUNT'].sum()) / (wego['ADJUSTED_ONTIME_COUNT'].sum() \n",
    "                                               + wego['ADJUSTED_EARLY_COUNT'].sum() \n",
    "                                               + wego['ADJUSTED_LATE_COUNT'].sum()) * 100, 2)"
   ]
  },
  {
   "cell_type": "code",
   "execution_count": 22,
   "id": "1e6e14f1",
   "metadata": {},
   "outputs": [
    {
     "name": "stdout",
     "output_type": "stream",
     "text": [
      "96.72\n",
      "99.99\n",
      "Correct answer is 99.99\n"
     ]
    }
   ],
   "source": [
    "#Difference in percent toals when excluding NaN values for Late, Early, and On time counts.\n",
    "print(77.08 + 2.79 + 16.85)\n",
    "print(79.69 + 2.88 + 17.42)\n",
    "print(\"Correct answer is 99.99\")"
   ]
  },
  {
   "cell_type": "code",
   "execution_count": null,
   "id": "7f59c65b",
   "metadata": {},
   "outputs": [],
   "source": []
  },
  {
   "cell_type": "code",
   "execution_count": 23,
   "id": "e28c7729",
   "metadata": {},
   "outputs": [],
   "source": [
    "#find rows that do not have a value for adjusted on time, early, or late count.\n",
    "zero_counts = wego[(wego['ADJUSTED_ONTIME_COUNT']==0) & (wego['ADJUSTED_EARLY_COUNT']==0) & (wego['ADJUSTED_LATE_COUNT']==0)]"
   ]
  },
  {
   "cell_type": "code",
   "execution_count": 24,
   "id": "8748895a",
   "metadata": {},
   "outputs": [
    {
     "name": "stdout",
     "output_type": "stream",
     "text": [
      "<class 'pandas.core.frame.DataFrame'>\n",
      "Index: 11468 entries, 39 to 350321\n",
      "Data columns (total 30 columns):\n",
      " #   Column                     Non-Null Count  Dtype  \n",
      "---  ------                     --------------  -----  \n",
      " 0   CALENDAR_ID                11468 non-null  int64  \n",
      " 1   SERVICE_ABBR               11468 non-null  int64  \n",
      " 2   ADHERENCE_ID               11468 non-null  int64  \n",
      " 3   DATE                       11468 non-null  object \n",
      " 4   ROUTE_ABBR                 11468 non-null  int64  \n",
      " 5   BLOCK_ABBR                 11468 non-null  int64  \n",
      " 6   OPERATOR                   11468 non-null  int64  \n",
      " 7   TRIP_ID                    11468 non-null  int64  \n",
      " 8   OVERLOAD_ID                11468 non-null  int64  \n",
      " 9   ROUTE_DIRECTION_NAME       11468 non-null  object \n",
      " 10  TIME_POINT_ABBR            11468 non-null  object \n",
      " 11  ROUTE_STOP_SEQUENCE        11462 non-null  float64\n",
      " 12  TRIP_EDGE                  11468 non-null  int64  \n",
      " 13  LATITUDE                   11468 non-null  float64\n",
      " 14  LONGITUDE                  11468 non-null  float64\n",
      " 15  SCHEDULED_TIME             11468 non-null  object \n",
      " 16  ACTUAL_ARRIVAL_TIME        12 non-null     object \n",
      " 17  ACTUAL_DEPARTURE_TIME      0 non-null      object \n",
      " 18  ADHERENCE                  0 non-null      float64\n",
      " 19  SCHEDULED_HDWY             8626 non-null   float64\n",
      " 20  ACTUAL_HDWY                0 non-null      float64\n",
      " 21  HDWY_DEV                   0 non-null      float64\n",
      " 22  ADJUSTED_EARLY_COUNT       11468 non-null  int64  \n",
      " 23  ADJUSTED_LATE_COUNT        11468 non-null  int64  \n",
      " 24  ADJUSTED_ONTIME_COUNT      11468 non-null  int64  \n",
      " 25  STOP_CANCELLED             11468 non-null  int64  \n",
      " 26  PREV_SCHED_STOP_CANCELLED  8837 non-null   float64\n",
      " 27  IS_RELIEF                  11468 non-null  int64  \n",
      " 28  DWELL_IN_MINS              0 non-null      float64\n",
      " 29  SCHEDULED_LAYOVER_MINUTES  9 non-null      float64\n",
      "dtypes: float64(10), int64(14), object(6)\n",
      "memory usage: 2.7+ MB\n"
     ]
    }
   ],
   "source": [
    "zero_counts.info()"
   ]
  },
  {
   "cell_type": "code",
   "execution_count": 25,
   "id": "ecf4f4f5",
   "metadata": {},
   "outputs": [
    {
     "data": {
      "text/html": [
       "<div>\n",
       "<style scoped>\n",
       "    .dataframe tbody tr th:only-of-type {\n",
       "        vertical-align: middle;\n",
       "    }\n",
       "\n",
       "    .dataframe tbody tr th {\n",
       "        vertical-align: top;\n",
       "    }\n",
       "\n",
       "    .dataframe thead th {\n",
       "        text-align: right;\n",
       "    }\n",
       "</style>\n",
       "<table border=\"1\" class=\"dataframe\">\n",
       "  <thead>\n",
       "    <tr style=\"text-align: right;\">\n",
       "      <th></th>\n",
       "      <th>ADJUSTED_EARLY_COUNT</th>\n",
       "      <th>ADJUSTED_LATE_COUNT</th>\n",
       "      <th>ADJUSTED_ONTIME_COUNT</th>\n",
       "      <th>count</th>\n",
       "    </tr>\n",
       "  </thead>\n",
       "  <tbody>\n",
       "    <tr>\n",
       "      <th>0</th>\n",
       "      <td>0</td>\n",
       "      <td>0</td>\n",
       "      <td>1</td>\n",
       "      <td>270048</td>\n",
       "    </tr>\n",
       "    <tr>\n",
       "      <th>1</th>\n",
       "      <td>0</td>\n",
       "      <td>1</td>\n",
       "      <td>0</td>\n",
       "      <td>59038</td>\n",
       "    </tr>\n",
       "    <tr>\n",
       "      <th>2</th>\n",
       "      <td>0</td>\n",
       "      <td>0</td>\n",
       "      <td>0</td>\n",
       "      <td>11468</td>\n",
       "    </tr>\n",
       "    <tr>\n",
       "      <th>3</th>\n",
       "      <td>1</td>\n",
       "      <td>0</td>\n",
       "      <td>0</td>\n",
       "      <td>9775</td>\n",
       "    </tr>\n",
       "  </tbody>\n",
       "</table>\n",
       "</div>"
      ],
      "text/plain": [
       "   ADJUSTED_EARLY_COUNT  ADJUSTED_LATE_COUNT  ADJUSTED_ONTIME_COUNT   count\n",
       "0                     0                    0                      1  270048\n",
       "1                     0                    1                      0   59038\n",
       "2                     0                    0                      0   11468\n",
       "3                     1                    0                      0    9775"
      ]
     },
     "execution_count": 25,
     "metadata": {},
     "output_type": "execute_result"
    }
   ],
   "source": [
    "wego[['ADJUSTED_EARLY_COUNT', 'ADJUSTED_LATE_COUNT', 'ADJUSTED_ONTIME_COUNT']].value_counts().reset_index()"
   ]
  },
  {
   "cell_type": "code",
   "execution_count": 26,
   "id": "024d7b6e",
   "metadata": {},
   "outputs": [
    {
     "data": {
      "text/html": [
       "<div>\n",
       "<style scoped>\n",
       "    .dataframe tbody tr th:only-of-type {\n",
       "        vertical-align: middle;\n",
       "    }\n",
       "\n",
       "    .dataframe tbody tr th {\n",
       "        vertical-align: top;\n",
       "    }\n",
       "\n",
       "    .dataframe thead th {\n",
       "        text-align: right;\n",
       "    }\n",
       "</style>\n",
       "<table border=\"1\" class=\"dataframe\">\n",
       "  <thead>\n",
       "    <tr style=\"text-align: right;\">\n",
       "      <th></th>\n",
       "      <th>CALENDAR_ID</th>\n",
       "      <th>SERVICE_ABBR</th>\n",
       "      <th>ADHERENCE_ID</th>\n",
       "      <th>DATE</th>\n",
       "      <th>ROUTE_ABBR</th>\n",
       "      <th>BLOCK_ABBR</th>\n",
       "      <th>OPERATOR</th>\n",
       "      <th>TRIP_ID</th>\n",
       "      <th>OVERLOAD_ID</th>\n",
       "      <th>ROUTE_DIRECTION_NAME</th>\n",
       "      <th>TIME_POINT_ABBR</th>\n",
       "      <th>ROUTE_STOP_SEQUENCE</th>\n",
       "      <th>TRIP_EDGE</th>\n",
       "      <th>LATITUDE</th>\n",
       "      <th>LONGITUDE</th>\n",
       "      <th>SCHEDULED_TIME</th>\n",
       "      <th>ACTUAL_ARRIVAL_TIME</th>\n",
       "      <th>ACTUAL_DEPARTURE_TIME</th>\n",
       "      <th>ADHERENCE</th>\n",
       "      <th>SCHEDULED_HDWY</th>\n",
       "      <th>ACTUAL_HDWY</th>\n",
       "      <th>HDWY_DEV</th>\n",
       "      <th>ADJUSTED_EARLY_COUNT</th>\n",
       "      <th>ADJUSTED_LATE_COUNT</th>\n",
       "      <th>ADJUSTED_ONTIME_COUNT</th>\n",
       "      <th>STOP_CANCELLED</th>\n",
       "      <th>PREV_SCHED_STOP_CANCELLED</th>\n",
       "      <th>IS_RELIEF</th>\n",
       "      <th>DWELL_IN_MINS</th>\n",
       "      <th>SCHEDULED_LAYOVER_MINUTES</th>\n",
       "    </tr>\n",
       "  </thead>\n",
       "  <tbody>\n",
       "    <tr>\n",
       "      <th>350249</th>\n",
       "      <td>120230930</td>\n",
       "      <td>2</td>\n",
       "      <td>100406533</td>\n",
       "      <td>2023-09-30</td>\n",
       "      <td>7</td>\n",
       "      <td>701</td>\n",
       "      <td>2531</td>\n",
       "      <td>353393</td>\n",
       "      <td>0</td>\n",
       "      <td>FROM DOWNTOWN</td>\n",
       "      <td>21BK</td>\n",
       "      <td>4.0</td>\n",
       "      <td>0</td>\n",
       "      <td>36.138881</td>\n",
       "      <td>-86.800622</td>\n",
       "      <td>2023-09-30 23:29:00</td>\n",
       "      <td>NaN</td>\n",
       "      <td>NaN</td>\n",
       "      <td>NaN</td>\n",
       "      <td>30.0</td>\n",
       "      <td>NaN</td>\n",
       "      <td>NaN</td>\n",
       "      <td>0</td>\n",
       "      <td>0</td>\n",
       "      <td>0</td>\n",
       "      <td>0</td>\n",
       "      <td>0.0</td>\n",
       "      <td>0</td>\n",
       "      <td>NaN</td>\n",
       "      <td>NaN</td>\n",
       "    </tr>\n",
       "    <tr>\n",
       "      <th>350295</th>\n",
       "      <td>120230930</td>\n",
       "      <td>2</td>\n",
       "      <td>100406581</td>\n",
       "      <td>2023-09-30</td>\n",
       "      <td>7</td>\n",
       "      <td>702</td>\n",
       "      <td>2312</td>\n",
       "      <td>353438</td>\n",
       "      <td>0</td>\n",
       "      <td>TO DOWNTOWN</td>\n",
       "      <td>MCC5_9</td>\n",
       "      <td>3.0</td>\n",
       "      <td>2</td>\n",
       "      <td>36.167091</td>\n",
       "      <td>-86.781923</td>\n",
       "      <td>2023-09-30 16:03:00</td>\n",
       "      <td>NaN</td>\n",
       "      <td>NaN</td>\n",
       "      <td>NaN</td>\n",
       "      <td>NaN</td>\n",
       "      <td>NaN</td>\n",
       "      <td>NaN</td>\n",
       "      <td>0</td>\n",
       "      <td>0</td>\n",
       "      <td>0</td>\n",
       "      <td>0</td>\n",
       "      <td>NaN</td>\n",
       "      <td>0</td>\n",
       "      <td>NaN</td>\n",
       "      <td>NaN</td>\n",
       "    </tr>\n",
       "    <tr>\n",
       "      <th>350313</th>\n",
       "      <td>120230930</td>\n",
       "      <td>2</td>\n",
       "      <td>100406599</td>\n",
       "      <td>2023-09-30</td>\n",
       "      <td>7</td>\n",
       "      <td>702</td>\n",
       "      <td>2312</td>\n",
       "      <td>353444</td>\n",
       "      <td>0</td>\n",
       "      <td>TO DOWNTOWN</td>\n",
       "      <td>MCC5_9</td>\n",
       "      <td>3.0</td>\n",
       "      <td>2</td>\n",
       "      <td>36.167091</td>\n",
       "      <td>-86.781923</td>\n",
       "      <td>2023-09-30 20:33:00</td>\n",
       "      <td>NaN</td>\n",
       "      <td>NaN</td>\n",
       "      <td>NaN</td>\n",
       "      <td>NaN</td>\n",
       "      <td>NaN</td>\n",
       "      <td>NaN</td>\n",
       "      <td>0</td>\n",
       "      <td>0</td>\n",
       "      <td>0</td>\n",
       "      <td>0</td>\n",
       "      <td>NaN</td>\n",
       "      <td>0</td>\n",
       "      <td>NaN</td>\n",
       "      <td>NaN</td>\n",
       "    </tr>\n",
       "    <tr>\n",
       "      <th>350319</th>\n",
       "      <td>120230930</td>\n",
       "      <td>2</td>\n",
       "      <td>100406605</td>\n",
       "      <td>2023-09-30</td>\n",
       "      <td>7</td>\n",
       "      <td>702</td>\n",
       "      <td>2312</td>\n",
       "      <td>353446</td>\n",
       "      <td>0</td>\n",
       "      <td>TO DOWNTOWN</td>\n",
       "      <td>MCC5_9</td>\n",
       "      <td>3.0</td>\n",
       "      <td>2</td>\n",
       "      <td>36.167091</td>\n",
       "      <td>-86.781923</td>\n",
       "      <td>2023-09-30 21:38:00</td>\n",
       "      <td>NaN</td>\n",
       "      <td>NaN</td>\n",
       "      <td>NaN</td>\n",
       "      <td>NaN</td>\n",
       "      <td>NaN</td>\n",
       "      <td>NaN</td>\n",
       "      <td>0</td>\n",
       "      <td>0</td>\n",
       "      <td>0</td>\n",
       "      <td>0</td>\n",
       "      <td>NaN</td>\n",
       "      <td>0</td>\n",
       "      <td>NaN</td>\n",
       "      <td>NaN</td>\n",
       "    </tr>\n",
       "    <tr>\n",
       "      <th>350321</th>\n",
       "      <td>120230930</td>\n",
       "      <td>2</td>\n",
       "      <td>100406607</td>\n",
       "      <td>2023-09-30</td>\n",
       "      <td>7</td>\n",
       "      <td>702</td>\n",
       "      <td>2312</td>\n",
       "      <td>353447</td>\n",
       "      <td>0</td>\n",
       "      <td>FROM DOWNTOWN</td>\n",
       "      <td>21BK</td>\n",
       "      <td>4.0</td>\n",
       "      <td>0</td>\n",
       "      <td>36.138881</td>\n",
       "      <td>-86.800622</td>\n",
       "      <td>2023-09-30 21:59:00</td>\n",
       "      <td>NaN</td>\n",
       "      <td>NaN</td>\n",
       "      <td>NaN</td>\n",
       "      <td>30.0</td>\n",
       "      <td>NaN</td>\n",
       "      <td>NaN</td>\n",
       "      <td>0</td>\n",
       "      <td>0</td>\n",
       "      <td>0</td>\n",
       "      <td>0</td>\n",
       "      <td>0.0</td>\n",
       "      <td>0</td>\n",
       "      <td>NaN</td>\n",
       "      <td>NaN</td>\n",
       "    </tr>\n",
       "  </tbody>\n",
       "</table>\n",
       "</div>"
      ],
      "text/plain": [
       "        CALENDAR_ID  SERVICE_ABBR  ADHERENCE_ID        DATE  ROUTE_ABBR  \\\n",
       "350249    120230930             2     100406533  2023-09-30           7   \n",
       "350295    120230930             2     100406581  2023-09-30           7   \n",
       "350313    120230930             2     100406599  2023-09-30           7   \n",
       "350319    120230930             2     100406605  2023-09-30           7   \n",
       "350321    120230930             2     100406607  2023-09-30           7   \n",
       "\n",
       "        BLOCK_ABBR  OPERATOR  TRIP_ID  OVERLOAD_ID ROUTE_DIRECTION_NAME  \\\n",
       "350249         701      2531   353393            0        FROM DOWNTOWN   \n",
       "350295         702      2312   353438            0          TO DOWNTOWN   \n",
       "350313         702      2312   353444            0          TO DOWNTOWN   \n",
       "350319         702      2312   353446            0          TO DOWNTOWN   \n",
       "350321         702      2312   353447            0        FROM DOWNTOWN   \n",
       "\n",
       "       TIME_POINT_ABBR  ROUTE_STOP_SEQUENCE  TRIP_EDGE   LATITUDE  LONGITUDE  \\\n",
       "350249            21BK                  4.0          0  36.138881 -86.800622   \n",
       "350295          MCC5_9                  3.0          2  36.167091 -86.781923   \n",
       "350313          MCC5_9                  3.0          2  36.167091 -86.781923   \n",
       "350319          MCC5_9                  3.0          2  36.167091 -86.781923   \n",
       "350321            21BK                  4.0          0  36.138881 -86.800622   \n",
       "\n",
       "             SCHEDULED_TIME ACTUAL_ARRIVAL_TIME ACTUAL_DEPARTURE_TIME  \\\n",
       "350249  2023-09-30 23:29:00                 NaN                   NaN   \n",
       "350295  2023-09-30 16:03:00                 NaN                   NaN   \n",
       "350313  2023-09-30 20:33:00                 NaN                   NaN   \n",
       "350319  2023-09-30 21:38:00                 NaN                   NaN   \n",
       "350321  2023-09-30 21:59:00                 NaN                   NaN   \n",
       "\n",
       "        ADHERENCE  SCHEDULED_HDWY  ACTUAL_HDWY  HDWY_DEV  \\\n",
       "350249        NaN            30.0          NaN       NaN   \n",
       "350295        NaN             NaN          NaN       NaN   \n",
       "350313        NaN             NaN          NaN       NaN   \n",
       "350319        NaN             NaN          NaN       NaN   \n",
       "350321        NaN            30.0          NaN       NaN   \n",
       "\n",
       "        ADJUSTED_EARLY_COUNT  ADJUSTED_LATE_COUNT  ADJUSTED_ONTIME_COUNT  \\\n",
       "350249                     0                    0                      0   \n",
       "350295                     0                    0                      0   \n",
       "350313                     0                    0                      0   \n",
       "350319                     0                    0                      0   \n",
       "350321                     0                    0                      0   \n",
       "\n",
       "        STOP_CANCELLED  PREV_SCHED_STOP_CANCELLED  IS_RELIEF  DWELL_IN_MINS  \\\n",
       "350249               0                        0.0          0            NaN   \n",
       "350295               0                        NaN          0            NaN   \n",
       "350313               0                        NaN          0            NaN   \n",
       "350319               0                        NaN          0            NaN   \n",
       "350321               0                        0.0          0            NaN   \n",
       "\n",
       "        SCHEDULED_LAYOVER_MINUTES  \n",
       "350249                        NaN  \n",
       "350295                        NaN  \n",
       "350313                        NaN  \n",
       "350319                        NaN  \n",
       "350321                        NaN  "
      ]
     },
     "execution_count": 26,
     "metadata": {},
     "output_type": "execute_result"
    }
   ],
   "source": [
    "zero_counts.tail()"
   ]
  },
  {
   "cell_type": "code",
   "execution_count": 27,
   "id": "f478ebd0",
   "metadata": {
    "scrolled": true
   },
   "outputs": [
    {
     "data": {
      "text/plain": [
       "133"
      ]
     },
     "execution_count": 27,
     "metadata": {},
     "output_type": "execute_result"
    }
   ],
   "source": [
    "zero_counts[\"IS_RELIEF\"].sum()"
   ]
  },
  {
   "cell_type": "code",
   "execution_count": 28,
   "id": "5fbb198c",
   "metadata": {},
   "outputs": [
    {
     "data": {
      "text/plain": [
       "2479"
      ]
     },
     "execution_count": 28,
     "metadata": {},
     "output_type": "execute_result"
    }
   ],
   "source": [
    "zero_counts['STOP_CANCELLED'].sum()"
   ]
  },
  {
   "cell_type": "code",
   "execution_count": 29,
   "id": "04fa9d93",
   "metadata": {},
   "outputs": [
    {
     "data": {
      "text/plain": [
       "4188"
      ]
     },
     "execution_count": 29,
     "metadata": {},
     "output_type": "execute_result"
    }
   ],
   "source": [
    "wego['IS_RELIEF'].sum()"
   ]
  },
  {
   "cell_type": "code",
   "execution_count": 30,
   "id": "d5431e77",
   "metadata": {},
   "outputs": [
    {
     "data": {
      "text/plain": [
       "5347"
      ]
     },
     "execution_count": 30,
     "metadata": {},
     "output_type": "execute_result"
    }
   ],
   "source": [
    "wego['STOP_CANCELLED'].sum()"
   ]
  },
  {
   "cell_type": "code",
   "execution_count": 31,
   "id": "93c54c5e",
   "metadata": {},
   "outputs": [
    {
     "data": {
      "text/plain": [
       "4254.0"
      ]
     },
     "execution_count": 31,
     "metadata": {},
     "output_type": "execute_result"
    }
   ],
   "source": [
    "wego['PREV_SCHED_STOP_CANCELLED'].sum()"
   ]
  },
  {
   "cell_type": "code",
   "execution_count": 32,
   "id": "ad0a9c34",
   "metadata": {
    "scrolled": true
   },
   "outputs": [
    {
     "data": {
      "text/html": [
       "<div>\n",
       "<style scoped>\n",
       "    .dataframe tbody tr th:only-of-type {\n",
       "        vertical-align: middle;\n",
       "    }\n",
       "\n",
       "    .dataframe tbody tr th {\n",
       "        vertical-align: top;\n",
       "    }\n",
       "\n",
       "    .dataframe thead th {\n",
       "        text-align: right;\n",
       "    }\n",
       "</style>\n",
       "<table border=\"1\" class=\"dataframe\">\n",
       "  <thead>\n",
       "    <tr style=\"text-align: right;\">\n",
       "      <th></th>\n",
       "      <th>ADHERENCE</th>\n",
       "    </tr>\n",
       "  </thead>\n",
       "  <tbody>\n",
       "    <tr>\n",
       "      <th>min</th>\n",
       "      <td>-948.533333</td>\n",
       "    </tr>\n",
       "    <tr>\n",
       "      <th>max</th>\n",
       "      <td>88.383333</td>\n",
       "    </tr>\n",
       "    <tr>\n",
       "      <th>mean</th>\n",
       "      <td>-3.188796</td>\n",
       "    </tr>\n",
       "  </tbody>\n",
       "</table>\n",
       "</div>"
      ],
      "text/plain": [
       "       ADHERENCE\n",
       "min  -948.533333\n",
       "max    88.383333\n",
       "mean   -3.188796"
      ]
     },
     "execution_count": 32,
     "metadata": {},
     "output_type": "execute_result"
    }
   ],
   "source": [
    "wego.agg({'ADHERENCE': ['min','max','mean']})"
   ]
  },
  {
   "cell_type": "markdown",
   "id": "79a2999f",
   "metadata": {},
   "source": [
    "# Clean data "
   ]
  },
  {
   "cell_type": "code",
   "execution_count": 33,
   "id": "cfcc5e8f",
   "metadata": {},
   "outputs": [
    {
     "data": {
      "text/html": [
       "<div>\n",
       "<style scoped>\n",
       "    .dataframe tbody tr th:only-of-type {\n",
       "        vertical-align: middle;\n",
       "    }\n",
       "\n",
       "    .dataframe tbody tr th {\n",
       "        vertical-align: top;\n",
       "    }\n",
       "\n",
       "    .dataframe thead th {\n",
       "        text-align: right;\n",
       "    }\n",
       "</style>\n",
       "<table border=\"1\" class=\"dataframe\">\n",
       "  <thead>\n",
       "    <tr style=\"text-align: right;\">\n",
       "      <th></th>\n",
       "      <th>CALENDAR_ID</th>\n",
       "      <th>SERVICE_ABBR</th>\n",
       "      <th>ADHERENCE_ID</th>\n",
       "      <th>DATE</th>\n",
       "      <th>ROUTE_ABBR</th>\n",
       "      <th>BLOCK_ABBR</th>\n",
       "      <th>OPERATOR</th>\n",
       "      <th>TRIP_ID</th>\n",
       "      <th>OVERLOAD_ID</th>\n",
       "      <th>ROUTE_DIRECTION_NAME</th>\n",
       "      <th>TIME_POINT_ABBR</th>\n",
       "      <th>ROUTE_STOP_SEQUENCE</th>\n",
       "      <th>TRIP_EDGE</th>\n",
       "      <th>LATITUDE</th>\n",
       "      <th>LONGITUDE</th>\n",
       "      <th>SCHEDULED_TIME</th>\n",
       "      <th>ACTUAL_ARRIVAL_TIME</th>\n",
       "      <th>ACTUAL_DEPARTURE_TIME</th>\n",
       "      <th>ADHERENCE</th>\n",
       "      <th>SCHEDULED_HDWY</th>\n",
       "      <th>ACTUAL_HDWY</th>\n",
       "      <th>HDWY_DEV</th>\n",
       "      <th>ADJUSTED_EARLY_COUNT</th>\n",
       "      <th>ADJUSTED_LATE_COUNT</th>\n",
       "      <th>ADJUSTED_ONTIME_COUNT</th>\n",
       "      <th>STOP_CANCELLED</th>\n",
       "      <th>PREV_SCHED_STOP_CANCELLED</th>\n",
       "      <th>IS_RELIEF</th>\n",
       "      <th>DWELL_IN_MINS</th>\n",
       "      <th>SCHEDULED_LAYOVER_MINUTES</th>\n",
       "    </tr>\n",
       "  </thead>\n",
       "  <tbody>\n",
       "    <tr>\n",
       "      <th>270201</th>\n",
       "      <td>120230917</td>\n",
       "      <td>3</td>\n",
       "      <td>100026077</td>\n",
       "      <td>2023-09-17</td>\n",
       "      <td>23</td>\n",
       "      <td>2313</td>\n",
       "      <td>2669</td>\n",
       "      <td>350602</td>\n",
       "      <td>0</td>\n",
       "      <td>TO DOWNTOWN</td>\n",
       "      <td>N1SP</td>\n",
       "      <td>3.0</td>\n",
       "      <td>0</td>\n",
       "      <td>36.175714</td>\n",
       "      <td>-86.774535</td>\n",
       "      <td>2023-09-17 17:06:00</td>\n",
       "      <td>2023-09-17 17:07:10</td>\n",
       "      <td>2023-09-17 17:07:10</td>\n",
       "      <td>-1.166666</td>\n",
       "      <td>25.0</td>\n",
       "      <td>568.833333</td>\n",
       "      <td>543.833333</td>\n",
       "      <td>0</td>\n",
       "      <td>0</td>\n",
       "      <td>1</td>\n",
       "      <td>0</td>\n",
       "      <td>1.0</td>\n",
       "      <td>0</td>\n",
       "      <td>0.0</td>\n",
       "      <td>NaN</td>\n",
       "    </tr>\n",
       "    <tr>\n",
       "      <th>187823</th>\n",
       "      <td>120230902</td>\n",
       "      <td>2</td>\n",
       "      <td>100388178</td>\n",
       "      <td>2023-09-02</td>\n",
       "      <td>23</td>\n",
       "      <td>2311</td>\n",
       "      <td>2221</td>\n",
       "      <td>350442</td>\n",
       "      <td>0</td>\n",
       "      <td>TO DOWNTOWN</td>\n",
       "      <td>N1SP</td>\n",
       "      <td>3.0</td>\n",
       "      <td>0</td>\n",
       "      <td>36.175714</td>\n",
       "      <td>-86.774535</td>\n",
       "      <td>2023-09-02 16:16:00</td>\n",
       "      <td>2023-09-02 16:16:02</td>\n",
       "      <td>2023-09-02 16:16:02</td>\n",
       "      <td>-0.033333</td>\n",
       "      <td>25.0</td>\n",
       "      <td>523.066666</td>\n",
       "      <td>498.066666</td>\n",
       "      <td>0</td>\n",
       "      <td>0</td>\n",
       "      <td>1</td>\n",
       "      <td>1</td>\n",
       "      <td>1.0</td>\n",
       "      <td>0</td>\n",
       "      <td>0.0</td>\n",
       "      <td>NaN</td>\n",
       "    </tr>\n",
       "    <tr>\n",
       "      <th>141314</th>\n",
       "      <td>120230825</td>\n",
       "      <td>1</td>\n",
       "      <td>100168684</td>\n",
       "      <td>2023-08-25</td>\n",
       "      <td>23</td>\n",
       "      <td>2310</td>\n",
       "      <td>3120</td>\n",
       "      <td>350355</td>\n",
       "      <td>0</td>\n",
       "      <td>FROM DOWNTOWN</td>\n",
       "      <td>EDBC</td>\n",
       "      <td>8.0</td>\n",
       "      <td>0</td>\n",
       "      <td>36.231512</td>\n",
       "      <td>-86.780490</td>\n",
       "      <td>2023-08-25 23:44:00</td>\n",
       "      <td>2023-08-27 00:12:48</td>\n",
       "      <td>2023-08-26 00:12:48</td>\n",
       "      <td>-28.800000</td>\n",
       "      <td>30.0</td>\n",
       "      <td>391.033333</td>\n",
       "      <td>361.033333</td>\n",
       "      <td>0</td>\n",
       "      <td>1</td>\n",
       "      <td>0</td>\n",
       "      <td>0</td>\n",
       "      <td>1.0</td>\n",
       "      <td>0</td>\n",
       "      <td>0.0</td>\n",
       "      <td>NaN</td>\n",
       "    </tr>\n",
       "    <tr>\n",
       "      <th>227462</th>\n",
       "      <td>120230909</td>\n",
       "      <td>2</td>\n",
       "      <td>100580899</td>\n",
       "      <td>2023-09-09</td>\n",
       "      <td>52</td>\n",
       "      <td>5212</td>\n",
       "      <td>2138</td>\n",
       "      <td>352236</td>\n",
       "      <td>1</td>\n",
       "      <td>FROM DOWNTOWN</td>\n",
       "      <td>HCKP</td>\n",
       "      <td>9.0</td>\n",
       "      <td>0</td>\n",
       "      <td>36.048934</td>\n",
       "      <td>-86.713854</td>\n",
       "      <td>2023-09-10 00:27:00</td>\n",
       "      <td>2023-09-12 00:35:35</td>\n",
       "      <td>2023-09-11 00:35:35</td>\n",
       "      <td>-8.583333</td>\n",
       "      <td>29.0</td>\n",
       "      <td>284.783333</td>\n",
       "      <td>255.783333</td>\n",
       "      <td>0</td>\n",
       "      <td>1</td>\n",
       "      <td>0</td>\n",
       "      <td>0</td>\n",
       "      <td>1.0</td>\n",
       "      <td>0</td>\n",
       "      <td>0.0</td>\n",
       "      <td>NaN</td>\n",
       "    </tr>\n",
       "    <tr>\n",
       "      <th>226</th>\n",
       "      <td>120230801</td>\n",
       "      <td>1</td>\n",
       "      <td>99458120</td>\n",
       "      <td>2023-08-01</td>\n",
       "      <td>22</td>\n",
       "      <td>2202</td>\n",
       "      <td>1190</td>\n",
       "      <td>345297</td>\n",
       "      <td>0</td>\n",
       "      <td>TO DOWNTOWN</td>\n",
       "      <td>YGKG</td>\n",
       "      <td>7.0</td>\n",
       "      <td>0</td>\n",
       "      <td>36.203239</td>\n",
       "      <td>-86.840636</td>\n",
       "      <td>2023-08-01 10:02:00</td>\n",
       "      <td>2023-08-01 10:03:38</td>\n",
       "      <td>2023-08-01 10:03:38</td>\n",
       "      <td>-1.633333</td>\n",
       "      <td>45.0</td>\n",
       "      <td>226.816666</td>\n",
       "      <td>181.816666</td>\n",
       "      <td>0</td>\n",
       "      <td>0</td>\n",
       "      <td>1</td>\n",
       "      <td>1</td>\n",
       "      <td>1.0</td>\n",
       "      <td>0</td>\n",
       "      <td>0.0</td>\n",
       "      <td>NaN</td>\n",
       "    </tr>\n",
       "  </tbody>\n",
       "</table>\n",
       "</div>"
      ],
      "text/plain": [
       "        CALENDAR_ID  SERVICE_ABBR  ADHERENCE_ID        DATE  ROUTE_ABBR  \\\n",
       "270201    120230917             3     100026077  2023-09-17          23   \n",
       "187823    120230902             2     100388178  2023-09-02          23   \n",
       "141314    120230825             1     100168684  2023-08-25          23   \n",
       "227462    120230909             2     100580899  2023-09-09          52   \n",
       "226       120230801             1      99458120  2023-08-01          22   \n",
       "\n",
       "        BLOCK_ABBR  OPERATOR  TRIP_ID  OVERLOAD_ID ROUTE_DIRECTION_NAME  \\\n",
       "270201        2313      2669   350602            0          TO DOWNTOWN   \n",
       "187823        2311      2221   350442            0          TO DOWNTOWN   \n",
       "141314        2310      3120   350355            0        FROM DOWNTOWN   \n",
       "227462        5212      2138   352236            1        FROM DOWNTOWN   \n",
       "226           2202      1190   345297            0          TO DOWNTOWN   \n",
       "\n",
       "       TIME_POINT_ABBR  ROUTE_STOP_SEQUENCE  TRIP_EDGE   LATITUDE  LONGITUDE  \\\n",
       "270201            N1SP                  3.0          0  36.175714 -86.774535   \n",
       "187823            N1SP                  3.0          0  36.175714 -86.774535   \n",
       "141314            EDBC                  8.0          0  36.231512 -86.780490   \n",
       "227462            HCKP                  9.0          0  36.048934 -86.713854   \n",
       "226               YGKG                  7.0          0  36.203239 -86.840636   \n",
       "\n",
       "             SCHEDULED_TIME  ACTUAL_ARRIVAL_TIME ACTUAL_DEPARTURE_TIME  \\\n",
       "270201  2023-09-17 17:06:00  2023-09-17 17:07:10   2023-09-17 17:07:10   \n",
       "187823  2023-09-02 16:16:00  2023-09-02 16:16:02   2023-09-02 16:16:02   \n",
       "141314  2023-08-25 23:44:00  2023-08-27 00:12:48   2023-08-26 00:12:48   \n",
       "227462  2023-09-10 00:27:00  2023-09-12 00:35:35   2023-09-11 00:35:35   \n",
       "226     2023-08-01 10:02:00  2023-08-01 10:03:38   2023-08-01 10:03:38   \n",
       "\n",
       "        ADHERENCE  SCHEDULED_HDWY  ACTUAL_HDWY    HDWY_DEV  \\\n",
       "270201  -1.166666            25.0   568.833333  543.833333   \n",
       "187823  -0.033333            25.0   523.066666  498.066666   \n",
       "141314 -28.800000            30.0   391.033333  361.033333   \n",
       "227462  -8.583333            29.0   284.783333  255.783333   \n",
       "226     -1.633333            45.0   226.816666  181.816666   \n",
       "\n",
       "        ADJUSTED_EARLY_COUNT  ADJUSTED_LATE_COUNT  ADJUSTED_ONTIME_COUNT  \\\n",
       "270201                     0                    0                      1   \n",
       "187823                     0                    0                      1   \n",
       "141314                     0                    1                      0   \n",
       "227462                     0                    1                      0   \n",
       "226                        0                    0                      1   \n",
       "\n",
       "        STOP_CANCELLED  PREV_SCHED_STOP_CANCELLED  IS_RELIEF  DWELL_IN_MINS  \\\n",
       "270201               0                        1.0          0            0.0   \n",
       "187823               1                        1.0          0            0.0   \n",
       "141314               0                        1.0          0            0.0   \n",
       "227462               0                        1.0          0            0.0   \n",
       "226                  1                        1.0          0            0.0   \n",
       "\n",
       "        SCHEDULED_LAYOVER_MINUTES  \n",
       "270201                        NaN  \n",
       "187823                        NaN  \n",
       "141314                        NaN  \n",
       "227462                        NaN  \n",
       "226                           NaN  "
      ]
     },
     "execution_count": 33,
     "metadata": {},
     "output_type": "execute_result"
    }
   ],
   "source": [
    "wego[wego['PREV_SCHED_STOP_CANCELLED']>=1].sort_values('HDWY_DEV',ascending=False).head()"
   ]
  },
  {
   "cell_type": "code",
   "execution_count": 34,
   "id": "4ddf4bef",
   "metadata": {},
   "outputs": [],
   "source": [
    "#removing rows where prev sched stop cancelled is marked.\n",
    "wego = wego[wego['PREV_SCHED_STOP_CANCELLED']!=1]"
   ]
  },
  {
   "cell_type": "code",
   "execution_count": 35,
   "id": "61af3293",
   "metadata": {},
   "outputs": [],
   "source": [
    "#removing rows where SCHEDULED_HDWY = 0.00 which caused infinite values.\n",
    "wego = wego[wego['SCHEDULED_HDWY']!=0.00]"
   ]
  },
  {
   "cell_type": "markdown",
   "id": "f7bc0ead",
   "metadata": {},
   "source": [
    "df = df.loc[~((df['col1'] == 'A') & (df['col2'] > 6))]  \n",
    "~ negates and keeps rows that don't meet the criteria."
   ]
  },
  {
   "cell_type": "code",
   "execution_count": 36,
   "id": "f58be089",
   "metadata": {},
   "outputs": [],
   "source": [
    "#removing nan rows where ontime, early, and late counts are all = 0.\n",
    "wego_clean = wego.loc[~((wego['ADJUSTED_ONTIME_COUNT']==0) & (wego['ADJUSTED_EARLY_COUNT']==0) & (wego['ADJUSTED_LATE_COUNT']==0))]"
   ]
  },
  {
   "cell_type": "code",
   "execution_count": 37,
   "id": "c2b1300f",
   "metadata": {},
   "outputs": [],
   "source": [
    "#getting clean adherence and hdwy_dev to use in percentile calculations.\n",
    "adherence = wego_clean['ADHERENCE']\n",
    "adherence_cleaned = adherence.dropna()\n",
    "hdwy_dev = wego_clean['HDWY_DEV']\n",
    "hdwy_dev_cleaned = hdwy_dev.dropna()"
   ]
  },
  {
   "cell_type": "code",
   "execution_count": 38,
   "id": "b5ddcf74",
   "metadata": {},
   "outputs": [
    {
     "name": "stdout",
     "output_type": "stream",
     "text": [
      "-57.04575\n",
      "9.463832695001242\n"
     ]
    }
   ],
   "source": [
    "#find the 1st and 99th percentile of adherence.\n",
    "adherence_1 = np.percentile(adherence_cleaned,0.1)\n",
    "adherence_99 = np.percentile(adherence_cleaned,99.9)\n",
    "print(adherence_1)\n",
    "print(adherence_99)"
   ]
  },
  {
   "cell_type": "code",
   "execution_count": 39,
   "id": "01172b15",
   "metadata": {},
   "outputs": [
    {
     "name": "stdout",
     "output_type": "stream",
     "text": [
      "-21.626300526\n",
      "56.439450000000946\n"
     ]
    }
   ],
   "source": [
    "#find the 1st and 99th percentile of hdwy_dev\n",
    "hdwy_dev_1 = np.percentile(hdwy_dev_cleaned,0.1)\n",
    "hdwy_dev_99 = np.percentile(hdwy_dev_cleaned,99.9)\n",
    "print(hdwy_dev_1)\n",
    "print(hdwy_dev_99)"
   ]
  },
  {
   "cell_type": "code",
   "execution_count": 40,
   "id": "ae024132",
   "metadata": {},
   "outputs": [
    {
     "name": "stdout",
     "output_type": "stream",
     "text": [
      "<class 'pandas.core.frame.DataFrame'>\n",
      "Index: 335086 entries, 0 to 350328\n",
      "Data columns (total 30 columns):\n",
      " #   Column                     Non-Null Count   Dtype  \n",
      "---  ------                     --------------   -----  \n",
      " 0   CALENDAR_ID                335086 non-null  int64  \n",
      " 1   SERVICE_ABBR               335086 non-null  int64  \n",
      " 2   ADHERENCE_ID               335086 non-null  int64  \n",
      " 3   DATE                       335086 non-null  object \n",
      " 4   ROUTE_ABBR                 335086 non-null  int64  \n",
      " 5   BLOCK_ABBR                 335086 non-null  int64  \n",
      " 6   OPERATOR                   335086 non-null  int64  \n",
      " 7   TRIP_ID                    335086 non-null  int64  \n",
      " 8   OVERLOAD_ID                335086 non-null  int64  \n",
      " 9   ROUTE_DIRECTION_NAME       335086 non-null  object \n",
      " 10  TIME_POINT_ABBR            335086 non-null  object \n",
      " 11  ROUTE_STOP_SEQUENCE        335081 non-null  float64\n",
      " 12  TRIP_EDGE                  335086 non-null  int64  \n",
      " 13  LATITUDE                   335086 non-null  float64\n",
      " 14  LONGITUDE                  335086 non-null  float64\n",
      " 15  SCHEDULED_TIME             335086 non-null  object \n",
      " 16  ACTUAL_ARRIVAL_TIME        335083 non-null  object \n",
      " 17  ACTUAL_DEPARTURE_TIME      335086 non-null  object \n",
      " 18  ADHERENCE                  335086 non-null  float64\n",
      " 19  SCHEDULED_HDWY             262357 non-null  float64\n",
      " 20  ACTUAL_HDWY                262381 non-null  float64\n",
      " 21  HDWY_DEV                   262212 non-null  float64\n",
      " 22  ADJUSTED_EARLY_COUNT       335086 non-null  int64  \n",
      " 23  ADJUSTED_LATE_COUNT        335086 non-null  int64  \n",
      " 24  ADJUSTED_ONTIME_COUNT      335086 non-null  int64  \n",
      " 25  STOP_CANCELLED             335086 non-null  int64  \n",
      " 26  PREV_SCHED_STOP_CANCELLED  267388 non-null  float64\n",
      " 27  IS_RELIEF                  335086 non-null  int64  \n",
      " 28  DWELL_IN_MINS              335083 non-null  float64\n",
      " 29  SCHEDULED_LAYOVER_MINUTES  52245 non-null   float64\n",
      "dtypes: float64(10), int64(14), object(6)\n",
      "memory usage: 79.3+ MB\n"
     ]
    }
   ],
   "source": [
    "wego_clean.info()"
   ]
  },
  {
   "cell_type": "markdown",
   "id": "b43b523d",
   "metadata": {},
   "source": [
    "Next need to remove values outside of the percentile ranges of adherence and hdwy."
   ]
  },
  {
   "cell_type": "code",
   "execution_count": 41,
   "id": "69a7bff0",
   "metadata": {},
   "outputs": [],
   "source": [
    "wego_clean = wego_clean.drop(wego_clean[wego_clean.ADHERENCE < adherence_1].index)\n",
    "wego_clean = wego_clean.drop(wego_clean[wego_clean.ADHERENCE > adherence_99].index)\n",
    "wego_clean = wego_clean.drop(wego_clean[wego_clean.HDWY_DEV < hdwy_dev_1].index)\n",
    "wego_clean = wego_clean.drop(wego_clean[wego_clean.HDWY_DEV > hdwy_dev_99].index)"
   ]
  },
  {
   "cell_type": "code",
   "execution_count": null,
   "id": "dd1c59eb",
   "metadata": {},
   "outputs": [],
   "source": []
  },
  {
   "cell_type": "code",
   "execution_count": 42,
   "id": "3aefc308",
   "metadata": {},
   "outputs": [
    {
     "name": "stdout",
     "output_type": "stream",
     "text": [
      "<class 'pandas.core.frame.DataFrame'>\n",
      "Index: 333924 entries, 0 to 350328\n",
      "Data columns (total 30 columns):\n",
      " #   Column                     Non-Null Count   Dtype  \n",
      "---  ------                     --------------   -----  \n",
      " 0   CALENDAR_ID                333924 non-null  int64  \n",
      " 1   SERVICE_ABBR               333924 non-null  int64  \n",
      " 2   ADHERENCE_ID               333924 non-null  int64  \n",
      " 3   DATE                       333924 non-null  object \n",
      " 4   ROUTE_ABBR                 333924 non-null  int64  \n",
      " 5   BLOCK_ABBR                 333924 non-null  int64  \n",
      " 6   OPERATOR                   333924 non-null  int64  \n",
      " 7   TRIP_ID                    333924 non-null  int64  \n",
      " 8   OVERLOAD_ID                333924 non-null  int64  \n",
      " 9   ROUTE_DIRECTION_NAME       333924 non-null  object \n",
      " 10  TIME_POINT_ABBR            333924 non-null  object \n",
      " 11  ROUTE_STOP_SEQUENCE        333919 non-null  float64\n",
      " 12  TRIP_EDGE                  333924 non-null  int64  \n",
      " 13  LATITUDE                   333924 non-null  float64\n",
      " 14  LONGITUDE                  333924 non-null  float64\n",
      " 15  SCHEDULED_TIME             333924 non-null  object \n",
      " 16  ACTUAL_ARRIVAL_TIME        333922 non-null  object \n",
      " 17  ACTUAL_DEPARTURE_TIME      333924 non-null  object \n",
      " 18  ADHERENCE                  333924 non-null  float64\n",
      " 19  SCHEDULED_HDWY             261425 non-null  float64\n",
      " 20  ACTUAL_HDWY                261453 non-null  float64\n",
      " 21  HDWY_DEV                   261285 non-null  float64\n",
      " 22  ADJUSTED_EARLY_COUNT       333924 non-null  int64  \n",
      " 23  ADJUSTED_LATE_COUNT        333924 non-null  int64  \n",
      " 24  ADJUSTED_ONTIME_COUNT      333924 non-null  int64  \n",
      " 25  STOP_CANCELLED             333924 non-null  int64  \n",
      " 26  PREV_SCHED_STOP_CANCELLED  266446 non-null  float64\n",
      " 27  IS_RELIEF                  333924 non-null  int64  \n",
      " 28  DWELL_IN_MINS              333922 non-null  float64\n",
      " 29  SCHEDULED_LAYOVER_MINUTES  52066 non-null   float64\n",
      "dtypes: float64(10), int64(14), object(6)\n",
      "memory usage: 79.0+ MB\n"
     ]
    }
   ],
   "source": [
    "wego_clean.info()"
   ]
  },
  {
   "cell_type": "markdown",
   "id": "40abde63",
   "metadata": {},
   "source": [
    "# Q1 What is the overall on-time performance, and what do the overall distributions of adherence and headway deviation look like? "
   ]
  },
  {
   "cell_type": "code",
   "execution_count": 43,
   "id": "ca5966d4",
   "metadata": {},
   "outputs": [
    {
     "data": {
      "text/plain": [
       "79.9"
      ]
     },
     "execution_count": 43,
     "metadata": {},
     "output_type": "execute_result"
    }
   ],
   "source": [
    "# Percent of on-time stops - using only tagged rows in clean data set\n",
    "round((wego_clean['ADJUSTED_ONTIME_COUNT'].sum()) / (wego_clean['ADJUSTED_ONTIME_COUNT'].sum() \n",
    "                                               + wego_clean['ADJUSTED_EARLY_COUNT'].sum() \n",
    "                                               + wego_clean['ADJUSTED_LATE_COUNT'].sum()) * 100, 2)"
   ]
  },
  {
   "cell_type": "code",
   "execution_count": 129,
   "id": "ed8802a3",
   "metadata": {},
   "outputs": [
    {
     "data": {
      "text/plain": [
       "79.9"
      ]
     },
     "execution_count": 129,
     "metadata": {},
     "output_type": "execute_result"
    }
   ],
   "source": [
    "#shorter code for same answer.\n",
    "round((wego_clean\n",
    " ['ADJUSTED_ONTIME_COUNT']\n",
    " .mean()\n",
    ")*100,2)"
   ]
  },
  {
   "cell_type": "code",
   "execution_count": 130,
   "id": "e821522c",
   "metadata": {},
   "outputs": [
    {
     "data": {
      "text/plain": [
       "2.83"
      ]
     },
     "execution_count": 130,
     "metadata": {},
     "output_type": "execute_result"
    }
   ],
   "source": [
    "# Percent of early count\n",
    "round((wego_clean\n",
    " ['ADJUSTED_EARLY_COUNT']\n",
    " .mean()\n",
    ")*100,2)"
   ]
  },
  {
   "cell_type": "code",
   "execution_count": 131,
   "id": "0dea81c7",
   "metadata": {},
   "outputs": [
    {
     "data": {
      "text/plain": [
       "17.27"
      ]
     },
     "execution_count": 131,
     "metadata": {},
     "output_type": "execute_result"
    }
   ],
   "source": [
    "# Percent of late count\n",
    "round((wego_clean\n",
    " ['ADJUSTED_LATE_COUNT']\n",
    " .mean()\n",
    ")*100,2)"
   ]
  },
  {
   "cell_type": "markdown",
   "id": "2ce56941",
   "metadata": {},
   "source": [
    "On-time performance shows that the busses are on time 79.76% of the time."
   ]
  },
  {
   "cell_type": "code",
   "execution_count": null,
   "id": "34f61f58",
   "metadata": {},
   "outputs": [],
   "source": []
  },
  {
   "cell_type": "code",
   "execution_count": 47,
   "id": "94e5cf66",
   "metadata": {},
   "outputs": [
    {
     "data": {
      "image/png": "[encoded data removed]",
      "text/plain": [
       "<Figure size 640x480 with 1 Axes>"
      ]
     },
     "metadata": {},
     "output_type": "display_data"
    }
   ],
   "source": [
    "plt.hist(wego_clean[\"ADHERENCE\"], bins=10, range=(-35,10) )\n",
    "plt.xlabel(\"Values\")\n",
    "plt.ylabel(\"Frequency\")\n",
    "plt.title(\"ADHERENCE\")\n",
    "plt.show()"
   ]
  },
  {
   "cell_type": "code",
   "execution_count": 48,
   "id": "1132ed38",
   "metadata": {
    "scrolled": true
   },
   "outputs": [
    {
     "data": {
      "image/png": "[encoded data removed]",
      "text/plain": [
       "<Figure size 640x480 with 1 Axes>"
      ]
     },
     "metadata": {},
     "output_type": "display_data"
    }
   ],
   "source": [
    "plt.hist(wego_clean[\"HDWY_DEV\"], bins=10, range=(-35,40) )\n",
    "plt.xlabel(\"Values\")\n",
    "plt.ylabel(\"Frequency\")\n",
    "plt.title(\"HDWY DEVIATION\")\n",
    "plt.show()"
   ]
  },
  {
   "cell_type": "markdown",
   "id": "ebc425e8",
   "metadata": {},
   "source": []
  },
  {
   "cell_type": "markdown",
   "id": "80f2e416",
   "metadata": {},
   "source": [
    "# Create additional HDWY category columns: HDWY_DEV_Percentage, BUNCHING, GAPPING, NORMAL_HDWY"
   ]
  },
  {
   "cell_type": "code",
   "execution_count": 49,
   "id": "eaa267cb",
   "metadata": {},
   "outputs": [],
   "source": [
    "wego_clean['HDWY_DEV_PERCENTAGE'] = wego_clean['HDWY_DEV'] / wego_clean['SCHEDULED_HDWY'] *100"
   ]
  },
  {
   "cell_type": "code",
   "execution_count": 50,
   "id": "eb6fd67e",
   "metadata": {},
   "outputs": [
    {
     "data": {
      "text/plain": [
       "-100.0"
      ]
     },
     "execution_count": 50,
     "metadata": {},
     "output_type": "execute_result"
    }
   ],
   "source": [
    "wego_clean['HDWY_DEV_PERCENTAGE'].min()"
   ]
  },
  {
   "cell_type": "code",
   "execution_count": 51,
   "id": "9fe77d63",
   "metadata": {},
   "outputs": [
    {
     "data": {
      "image/png": "[encoded data removed]",
      "text/plain": [
       "<Figure size 640x480 with 1 Axes>"
      ]
     },
     "metadata": {},
     "output_type": "display_data"
    }
   ],
   "source": [
    "#checking to make sure deviation percentages make sense.\n",
    "plt.hist(wego_clean[\"HDWY_DEV_PERCENTAGE\"], bins=40, range=(-150,150) )\n",
    "plt.xlabel(\"Values\")\n",
    "plt.ylabel(\"Frequency\")\n",
    "plt.title(\"HDWY DEVIATION_PERCENTAGE\")\n",
    "plt.show()"
   ]
  },
  {
   "cell_type": "code",
   "execution_count": 53,
   "id": "165b0182",
   "metadata": {},
   "outputs": [],
   "source": [
    "#create BUNCHING column and set condition to 1 if less than -50\n",
    "wego_clean['BUNCHING'] = np.where(wego_clean['HDWY_DEV_PERCENTAGE'] \n",
    "                       < -50, '1','0')"
   ]
  },
  {
   "cell_type": "code",
   "execution_count": 54,
   "id": "ad43b2d1",
   "metadata": {},
   "outputs": [
    {
     "data": {
      "text/plain": [
       "BUNCHING\n",
       "0    316682\n",
       "1     17242\n",
       "Name: count, dtype: int64"
      ]
     },
     "execution_count": 54,
     "metadata": {},
     "output_type": "execute_result"
    }
   ],
   "source": [
    "wego_clean['BUNCHING'].value_counts()"
   ]
  },
  {
   "cell_type": "code",
   "execution_count": null,
   "id": "b0c297f7",
   "metadata": {},
   "outputs": [],
   "source": []
  },
  {
   "cell_type": "code",
   "execution_count": 55,
   "id": "29d58571",
   "metadata": {},
   "outputs": [],
   "source": [
    "#create GAPPING column and set condition to 1 if greater than 50\n",
    "wego_clean['GAPPING'] = np.where(wego_clean['HDWY_DEV_PERCENTAGE'] \n",
    "                       > 50, '1','0')"
   ]
  },
  {
   "cell_type": "code",
   "execution_count": 56,
   "id": "5dd434e9",
   "metadata": {},
   "outputs": [
    {
     "data": {
      "text/plain": [
       "GAPPING\n",
       "0    313362\n",
       "1     20562\n",
       "Name: count, dtype: int64"
      ]
     },
     "execution_count": 56,
     "metadata": {},
     "output_type": "execute_result"
    }
   ],
   "source": [
    "wego_clean['GAPPING'].value_counts()"
   ]
  },
  {
   "cell_type": "code",
   "execution_count": null,
   "id": "1a95ef13",
   "metadata": {},
   "outputs": [],
   "source": []
  },
  {
   "cell_type": "code",
   "execution_count": 57,
   "id": "4ea60273",
   "metadata": {},
   "outputs": [],
   "source": [
    "#create NORMAL_HDWY column and set condition to 1 if >= than -50 and <= 50.\n",
    "wego_clean['NORMAL_HDWY'] = np.where((wego_clean['HDWY_DEV_PERCENTAGE'] \n",
    "                       >= -50)&(wego_clean['HDWY_DEV_PERCENTAGE'] \n",
    "                       <= 50), '1','0')"
   ]
  },
  {
   "cell_type": "code",
   "execution_count": 58,
   "id": "c1182b64",
   "metadata": {},
   "outputs": [
    {
     "data": {
      "text/plain": [
       "NORMAL_HDWY\n",
       "1    223481\n",
       "0    110443\n",
       "Name: count, dtype: int64"
      ]
     },
     "execution_count": 58,
     "metadata": {},
     "output_type": "execute_result"
    }
   ],
   "source": [
    "wego_clean['NORMAL_HDWY'].value_counts()"
   ]
  },
  {
   "cell_type": "code",
   "execution_count": 59,
   "id": "489f0a39",
   "metadata": {},
   "outputs": [],
   "source": [
    "#create HDWY_NULL column and set condition to 1 if >= than -50 and <= 50.\n",
    "wego_clean['HDWY_NULL'] = np.where(wego_clean['HDWY_DEV_PERCENTAGE'].isna()==True,'1','0')"
   ]
  },
  {
   "cell_type": "code",
   "execution_count": 60,
   "id": "76e4a159",
   "metadata": {
    "scrolled": true
   },
   "outputs": [
    {
     "data": {
      "text/html": [
       "<div>\n",
       "<style scoped>\n",
       "    .dataframe tbody tr th:only-of-type {\n",
       "        vertical-align: middle;\n",
       "    }\n",
       "\n",
       "    .dataframe tbody tr th {\n",
       "        vertical-align: top;\n",
       "    }\n",
       "\n",
       "    .dataframe thead th {\n",
       "        text-align: right;\n",
       "    }\n",
       "</style>\n",
       "<table border=\"1\" class=\"dataframe\">\n",
       "  <thead>\n",
       "    <tr style=\"text-align: right;\">\n",
       "      <th></th>\n",
       "      <th>BUNCHING</th>\n",
       "      <th>GAPPING</th>\n",
       "      <th>NORMAL_HDWY</th>\n",
       "      <th>HDWY_NULL</th>\n",
       "      <th>count</th>\n",
       "    </tr>\n",
       "  </thead>\n",
       "  <tbody>\n",
       "    <tr>\n",
       "      <th>0</th>\n",
       "      <td>1</td>\n",
       "      <td>0</td>\n",
       "      <td>0</td>\n",
       "      <td>0</td>\n",
       "      <td>17242</td>\n",
       "    </tr>\n",
       "    <tr>\n",
       "      <th>1</th>\n",
       "      <td>0</td>\n",
       "      <td>1</td>\n",
       "      <td>0</td>\n",
       "      <td>0</td>\n",
       "      <td>20562</td>\n",
       "    </tr>\n",
       "    <tr>\n",
       "      <th>2</th>\n",
       "      <td>0</td>\n",
       "      <td>0</td>\n",
       "      <td>0</td>\n",
       "      <td>1</td>\n",
       "      <td>72639</td>\n",
       "    </tr>\n",
       "    <tr>\n",
       "      <th>3</th>\n",
       "      <td>0</td>\n",
       "      <td>0</td>\n",
       "      <td>1</td>\n",
       "      <td>0</td>\n",
       "      <td>223481</td>\n",
       "    </tr>\n",
       "  </tbody>\n",
       "</table>\n",
       "</div>"
      ],
      "text/plain": [
       "  BUNCHING GAPPING NORMAL_HDWY HDWY_NULL   count\n",
       "0        1       0           0         0   17242\n",
       "1        0       1           0         0   20562\n",
       "2        0       0           0         1   72639\n",
       "3        0       0           1         0  223481"
      ]
     },
     "execution_count": 60,
     "metadata": {},
     "output_type": "execute_result"
    }
   ],
   "source": [
    "wego_clean[['BUNCHING','GAPPING','NORMAL_HDWY','HDWY_NULL']].value_counts().sort_values().reset_index()"
   ]
  },
  {
   "cell_type": "code",
   "execution_count": null,
   "id": "12f35dc9",
   "metadata": {},
   "outputs": [],
   "source": [
    "#convert data types for bunching, gapping, and normal_hdwy from objects to floats.\n",
    "wego_clean = wego_clean.astype({'BUNCHING': float, 'GAPPING': float, 'NORMAL_HDWY': float, 'HDWY_NULL': float})"
   ]
  },
  {
   "cell_type": "code",
   "execution_count": 155,
   "id": "2c297ce1",
   "metadata": {},
   "outputs": [],
   "source": [
    "#dropping where SCHEDULED_HDWY = NaN, which causes BUNCHING GAPPING and NORMAL_HDWY to not add up to 100%.\n",
    "wego_hdwy = wego_clean.dropna(subset=['SCHEDULED_HDWY'])"
   ]
  },
  {
   "cell_type": "code",
   "execution_count": null,
   "id": "4c981261",
   "metadata": {},
   "outputs": [],
   "source": []
  },
  {
   "cell_type": "markdown",
   "id": "c513409e",
   "metadata": {},
   "source": [
    "# Q2 How does direction of travel, route, or location affect the headway and on-time performance?"
   ]
  },
  {
   "cell_type": "code",
   "execution_count": 63,
   "id": "e816ff32",
   "metadata": {},
   "outputs": [
    {
     "data": {
      "text/plain": [
       "ROUTE_DIRECTION_NAME\n",
       "FROM DOWNTOWN    176991\n",
       "TO DOWNTOWN      156933\n",
       "Name: count, dtype: int64"
      ]
     },
     "execution_count": 63,
     "metadata": {},
     "output_type": "execute_result"
    }
   ],
   "source": [
    "wego_clean.ROUTE_DIRECTION_NAME.value_counts()"
   ]
  },
  {
   "cell_type": "code",
   "execution_count": 64,
   "id": "1eecd800",
   "metadata": {},
   "outputs": [],
   "source": [
    "#create from down town and to downtown \n",
    "wego_from_downtown = wego_clean[wego_clean['ROUTE_DIRECTION_NAME'] == 'FROM DOWNTOWN']\n",
    "wego_to_downtown = wego_clean[wego_clean['ROUTE_DIRECTION_NAME'] == 'TO DOWNTOWN']"
   ]
  },
  {
   "cell_type": "code",
   "execution_count": 156,
   "id": "b89f6c11",
   "metadata": {},
   "outputs": [],
   "source": [
    "trip_direction_ontime = wego_clean.groupby('ROUTE_DIRECTION_NAME')[['ADJUSTED_ONTIME_COUNT','ADJUSTED_EARLY_COUNT','ADJUSTED_LATE_COUNT']].mean()"
   ]
  },
  {
   "cell_type": "code",
   "execution_count": 157,
   "id": "77b1bd09",
   "metadata": {
    "scrolled": false
   },
   "outputs": [
    {
     "data": {
      "text/html": [
       "<div>\n",
       "<style scoped>\n",
       "    .dataframe tbody tr th:only-of-type {\n",
       "        vertical-align: middle;\n",
       "    }\n",
       "\n",
       "    .dataframe tbody tr th {\n",
       "        vertical-align: top;\n",
       "    }\n",
       "\n",
       "    .dataframe thead th {\n",
       "        text-align: right;\n",
       "    }\n",
       "</style>\n",
       "<table border=\"1\" class=\"dataframe\">\n",
       "  <thead>\n",
       "    <tr style=\"text-align: right;\">\n",
       "      <th></th>\n",
       "      <th>ADJUSTED_ONTIME_COUNT</th>\n",
       "      <th>ADJUSTED_EARLY_COUNT</th>\n",
       "      <th>ADJUSTED_LATE_COUNT</th>\n",
       "    </tr>\n",
       "    <tr>\n",
       "      <th>ROUTE_DIRECTION_NAME</th>\n",
       "      <th></th>\n",
       "      <th></th>\n",
       "      <th></th>\n",
       "    </tr>\n",
       "  </thead>\n",
       "  <tbody>\n",
       "    <tr>\n",
       "      <th>FROM DOWNTOWN</th>\n",
       "      <td>0.752236</td>\n",
       "      <td>0.028877</td>\n",
       "      <td>0.218887</td>\n",
       "    </tr>\n",
       "    <tr>\n",
       "      <th>TO DOWNTOWN</th>\n",
       "      <td>0.851701</td>\n",
       "      <td>0.027585</td>\n",
       "      <td>0.120714</td>\n",
       "    </tr>\n",
       "  </tbody>\n",
       "</table>\n",
       "</div>"
      ],
      "text/plain": [
       "                      ADJUSTED_ONTIME_COUNT  ADJUSTED_EARLY_COUNT  \\\n",
       "ROUTE_DIRECTION_NAME                                                \n",
       "FROM DOWNTOWN                      0.752236              0.028877   \n",
       "TO DOWNTOWN                        0.851701              0.027585   \n",
       "\n",
       "                      ADJUSTED_LATE_COUNT  \n",
       "ROUTE_DIRECTION_NAME                       \n",
       "FROM DOWNTOWN                    0.218887  \n",
       "TO DOWNTOWN                      0.120714  "
      ]
     },
     "execution_count": 157,
     "metadata": {},
     "output_type": "execute_result"
    }
   ],
   "source": [
    "trip_direction_ontime"
   ]
  },
  {
   "cell_type": "markdown",
   "id": "dbe8615e",
   "metadata": {},
   "source": [
    "From Downtown has an ontime percentage of 75.2% and To Downtown has an 85.2%."
   ]
  },
  {
   "cell_type": "markdown",
   "id": "41f034ae",
   "metadata": {},
   "source": [
    "Look at histograms for to and from downtown."
   ]
  },
  {
   "cell_type": "code",
   "execution_count": 65,
   "id": "8fb75e9a",
   "metadata": {
    "scrolled": true
   },
   "outputs": [
    {
     "data": {
      "image/png": "[encoded data removed]",
      "text/plain": [
       "<Figure size 640x480 with 1 Axes>"
      ]
     },
     "metadata": {},
     "output_type": "display_data"
    }
   ],
   "source": [
    "plt.hist(wego_from_downtown[\"HDWY_DEV_PERCENTAGE\"], bins=40, range=(-150,150) )\n",
    "plt.xlabel(\"Values\")\n",
    "plt.ylabel(\"Frequency\")\n",
    "plt.title(\"HDWY DEVIATION PERCENTAGE FROM DOWNTOWN\")\n",
    "plt.show()"
   ]
  },
  {
   "cell_type": "code",
   "execution_count": 66,
   "id": "9cd67202",
   "metadata": {},
   "outputs": [
    {
     "data": {
      "image/png": "[encoded data removed]",
      "text/plain": [
       "<Figure size 640x480 with 1 Axes>"
      ]
     },
     "metadata": {},
     "output_type": "display_data"
    }
   ],
   "source": [
    "plt.hist(wego_to_downtown[\"HDWY_DEV_PERCENTAGE\"], bins=40, range=(-150,150) )\n",
    "plt.xlabel(\"Values\")\n",
    "plt.ylabel(\"Frequency\")\n",
    "plt.title(\"HDWY DEVIATION PERCENTAGE TO DOWNTOWN\")\n",
    "plt.show()"
   ]
  },
  {
   "cell_type": "code",
   "execution_count": 159,
   "id": "85187a85",
   "metadata": {
    "scrolled": true
   },
   "outputs": [
    {
     "data": {
      "text/html": [
       "<div>\n",
       "<style scoped>\n",
       "    .dataframe tbody tr th:only-of-type {\n",
       "        vertical-align: middle;\n",
       "    }\n",
       "\n",
       "    .dataframe tbody tr th {\n",
       "        vertical-align: top;\n",
       "    }\n",
       "\n",
       "    .dataframe thead th {\n",
       "        text-align: right;\n",
       "    }\n",
       "</style>\n",
       "<table border=\"1\" class=\"dataframe\">\n",
       "  <thead>\n",
       "    <tr style=\"text-align: right;\">\n",
       "      <th></th>\n",
       "      <th>NORMAL_HDWY</th>\n",
       "      <th>GAPPING</th>\n",
       "      <th>BUNCHING</th>\n",
       "    </tr>\n",
       "    <tr>\n",
       "      <th>ROUTE_DIRECTION_NAME</th>\n",
       "      <th></th>\n",
       "      <th></th>\n",
       "      <th></th>\n",
       "    </tr>\n",
       "  </thead>\n",
       "  <tbody>\n",
       "    <tr>\n",
       "      <th>FROM DOWNTOWN</th>\n",
       "      <td>0.825684</td>\n",
       "      <td>0.093118</td>\n",
       "      <td>0.080660</td>\n",
       "    </tr>\n",
       "    <tr>\n",
       "      <th>TO DOWNTOWN</th>\n",
       "      <td>0.888115</td>\n",
       "      <td>0.062164</td>\n",
       "      <td>0.049189</td>\n",
       "    </tr>\n",
       "  </tbody>\n",
       "</table>\n",
       "</div>"
      ],
      "text/plain": [
       "                      NORMAL_HDWY   GAPPING  BUNCHING\n",
       "ROUTE_DIRECTION_NAME                                 \n",
       "FROM DOWNTOWN            0.825684  0.093118  0.080660\n",
       "TO DOWNTOWN              0.888115  0.062164  0.049189"
      ]
     },
     "execution_count": 159,
     "metadata": {},
     "output_type": "execute_result"
    }
   ],
   "source": [
    "trip_direction_hdwy = wego_hdwy.groupby('ROUTE_DIRECTION_NAME')[['NORMAL_HDWY','GAPPING','BUNCHING']].mean()\n",
    "trip_direction_hdwy"
   ]
  },
  {
   "cell_type": "code",
   "execution_count": 154,
   "id": "b0ee7825",
   "metadata": {
    "scrolled": true
   },
   "outputs": [
    {
     "data": {
      "text/html": [
       "<div>\n",
       "<style scoped>\n",
       "    .dataframe tbody tr th:only-of-type {\n",
       "        vertical-align: middle;\n",
       "    }\n",
       "\n",
       "    .dataframe tbody tr th {\n",
       "        vertical-align: top;\n",
       "    }\n",
       "\n",
       "    .dataframe thead th {\n",
       "        text-align: right;\n",
       "    }\n",
       "</style>\n",
       "<table border=\"1\" class=\"dataframe\">\n",
       "  <thead>\n",
       "    <tr style=\"text-align: right;\">\n",
       "      <th></th>\n",
       "      <th>NORMAL_HDWY</th>\n",
       "      <th>GAPPING</th>\n",
       "      <th>BUNCHING</th>\n",
       "    </tr>\n",
       "    <tr>\n",
       "      <th>ROUTE_ABBR</th>\n",
       "      <th></th>\n",
       "      <th></th>\n",
       "      <th></th>\n",
       "    </tr>\n",
       "  </thead>\n",
       "  <tbody>\n",
       "    <tr>\n",
       "      <th>3</th>\n",
       "      <td>0.864669</td>\n",
       "      <td>0.076727</td>\n",
       "      <td>0.058078</td>\n",
       "    </tr>\n",
       "    <tr>\n",
       "      <th>7</th>\n",
       "      <td>0.912330</td>\n",
       "      <td>0.050273</td>\n",
       "      <td>0.037396</td>\n",
       "    </tr>\n",
       "    <tr>\n",
       "      <th>22</th>\n",
       "      <td>0.939642</td>\n",
       "      <td>0.041508</td>\n",
       "      <td>0.017771</td>\n",
       "    </tr>\n",
       "    <tr>\n",
       "      <th>23</th>\n",
       "      <td>0.914219</td>\n",
       "      <td>0.063451</td>\n",
       "      <td>0.021686</td>\n",
       "    </tr>\n",
       "    <tr>\n",
       "      <th>50</th>\n",
       "      <td>0.933656</td>\n",
       "      <td>0.036569</td>\n",
       "      <td>0.029454</td>\n",
       "    </tr>\n",
       "    <tr>\n",
       "      <th>52</th>\n",
       "      <td>0.837162</td>\n",
       "      <td>0.089238</td>\n",
       "      <td>0.071920</td>\n",
       "    </tr>\n",
       "    <tr>\n",
       "      <th>55</th>\n",
       "      <td>0.741523</td>\n",
       "      <td>0.127037</td>\n",
       "      <td>0.131419</td>\n",
       "    </tr>\n",
       "    <tr>\n",
       "      <th>56</th>\n",
       "      <td>0.844897</td>\n",
       "      <td>0.080051</td>\n",
       "      <td>0.074884</td>\n",
       "    </tr>\n",
       "  </tbody>\n",
       "</table>\n",
       "</div>"
      ],
      "text/plain": [
       "            NORMAL_HDWY   GAPPING  BUNCHING\n",
       "ROUTE_ABBR                                 \n",
       "3              0.864669  0.076727  0.058078\n",
       "7              0.912330  0.050273  0.037396\n",
       "22             0.939642  0.041508  0.017771\n",
       "23             0.914219  0.063451  0.021686\n",
       "50             0.933656  0.036569  0.029454\n",
       "52             0.837162  0.089238  0.071920\n",
       "55             0.741523  0.127037  0.131419\n",
       "56             0.844897  0.080051  0.074884"
      ]
     },
     "execution_count": 154,
     "metadata": {},
     "output_type": "execute_result"
    }
   ],
   "source": [
    "#Percentage of HDWY by route.\n",
    "(wego_hdwy\n",
    " .groupby('ROUTE_ABBR')\n",
    " [['NORMAL_HDWY','GAPPING','BUNCHING']]\n",
    " .mean()\n",
    ")"
   ]
  },
  {
   "cell_type": "code",
   "execution_count": 162,
   "id": "d3be0c65",
   "metadata": {},
   "outputs": [
    {
     "data": {
      "text/html": [
       "<div>\n",
       "<style scoped>\n",
       "    .dataframe tbody tr th:only-of-type {\n",
       "        vertical-align: middle;\n",
       "    }\n",
       "\n",
       "    .dataframe tbody tr th {\n",
       "        vertical-align: top;\n",
       "    }\n",
       "\n",
       "    .dataframe thead th {\n",
       "        text-align: right;\n",
       "    }\n",
       "</style>\n",
       "<table border=\"1\" class=\"dataframe\">\n",
       "  <thead>\n",
       "    <tr style=\"text-align: right;\">\n",
       "      <th></th>\n",
       "      <th>ADJUSTED_ONTIME_COUNT</th>\n",
       "      <th>ADJUSTED_EARLY_COUNT</th>\n",
       "      <th>ADJUSTED_LATE_COUNT</th>\n",
       "    </tr>\n",
       "    <tr>\n",
       "      <th>ROUTE_ABBR</th>\n",
       "      <th></th>\n",
       "      <th></th>\n",
       "      <th></th>\n",
       "    </tr>\n",
       "  </thead>\n",
       "  <tbody>\n",
       "    <tr>\n",
       "      <th>3</th>\n",
       "      <td>0.760399</td>\n",
       "      <td>0.029886</td>\n",
       "      <td>0.209715</td>\n",
       "    </tr>\n",
       "    <tr>\n",
       "      <th>7</th>\n",
       "      <td>0.779921</td>\n",
       "      <td>0.022055</td>\n",
       "      <td>0.198024</td>\n",
       "    </tr>\n",
       "    <tr>\n",
       "      <th>22</th>\n",
       "      <td>0.892930</td>\n",
       "      <td>0.025353</td>\n",
       "      <td>0.081716</td>\n",
       "    </tr>\n",
       "    <tr>\n",
       "      <th>23</th>\n",
       "      <td>0.887926</td>\n",
       "      <td>0.031579</td>\n",
       "      <td>0.080495</td>\n",
       "    </tr>\n",
       "    <tr>\n",
       "      <th>50</th>\n",
       "      <td>0.853307</td>\n",
       "      <td>0.027919</td>\n",
       "      <td>0.118774</td>\n",
       "    </tr>\n",
       "    <tr>\n",
       "      <th>52</th>\n",
       "      <td>0.769609</td>\n",
       "      <td>0.030679</td>\n",
       "      <td>0.199712</td>\n",
       "    </tr>\n",
       "    <tr>\n",
       "      <th>55</th>\n",
       "      <td>0.700198</td>\n",
       "      <td>0.025224</td>\n",
       "      <td>0.274579</td>\n",
       "    </tr>\n",
       "    <tr>\n",
       "      <th>56</th>\n",
       "      <td>0.822441</td>\n",
       "      <td>0.029173</td>\n",
       "      <td>0.148385</td>\n",
       "    </tr>\n",
       "  </tbody>\n",
       "</table>\n",
       "</div>"
      ],
      "text/plain": [
       "            ADJUSTED_ONTIME_COUNT  ADJUSTED_EARLY_COUNT  ADJUSTED_LATE_COUNT\n",
       "ROUTE_ABBR                                                                  \n",
       "3                        0.760399              0.029886             0.209715\n",
       "7                        0.779921              0.022055             0.198024\n",
       "22                       0.892930              0.025353             0.081716\n",
       "23                       0.887926              0.031579             0.080495\n",
       "50                       0.853307              0.027919             0.118774\n",
       "52                       0.769609              0.030679             0.199712\n",
       "55                       0.700198              0.025224             0.274579\n",
       "56                       0.822441              0.029173             0.148385"
      ]
     },
     "execution_count": 162,
     "metadata": {},
     "output_type": "execute_result"
    }
   ],
   "source": [
    "#Percentage of ontime by route.\n",
    "(wego_clean\n",
    " .groupby('ROUTE_ABBR')\n",
    " [['ADJUSTED_ONTIME_COUNT','ADJUSTED_EARLY_COUNT','ADJUSTED_LATE_COUNT']]\n",
    " .mean()\n",
    ")"
   ]
  },
  {
   "cell_type": "code",
   "execution_count": 77,
   "id": "3b16b375",
   "metadata": {
    "scrolled": true
   },
   "outputs": [
    {
     "data": {
      "text/html": [
       "<div>\n",
       "<style scoped>\n",
       "    .dataframe tbody tr th:only-of-type {\n",
       "        vertical-align: middle;\n",
       "    }\n",
       "\n",
       "    .dataframe tbody tr th {\n",
       "        vertical-align: top;\n",
       "    }\n",
       "\n",
       "    .dataframe thead th {\n",
       "        text-align: right;\n",
       "    }\n",
       "</style>\n",
       "<table border=\"1\" class=\"dataframe\">\n",
       "  <thead>\n",
       "    <tr style=\"text-align: right;\">\n",
       "      <th></th>\n",
       "      <th>HeadwayDeviation</th>\n",
       "      <th>Adherence</th>\n",
       "    </tr>\n",
       "    <tr>\n",
       "      <th>ROUTE_ABBR</th>\n",
       "      <th></th>\n",
       "      <th></th>\n",
       "    </tr>\n",
       "  </thead>\n",
       "  <tbody>\n",
       "    <tr>\n",
       "      <th>3</th>\n",
       "      <td>0.54</td>\n",
       "      <td>-3.71</td>\n",
       "    </tr>\n",
       "    <tr>\n",
       "      <th>7</th>\n",
       "      <td>0.33</td>\n",
       "      <td>-3.48</td>\n",
       "    </tr>\n",
       "    <tr>\n",
       "      <th>22</th>\n",
       "      <td>0.57</td>\n",
       "      <td>-1.07</td>\n",
       "    </tr>\n",
       "    <tr>\n",
       "      <th>23</th>\n",
       "      <td>0.82</td>\n",
       "      <td>-1.64</td>\n",
       "    </tr>\n",
       "    <tr>\n",
       "      <th>50</th>\n",
       "      <td>0.17</td>\n",
       "      <td>-2.42</td>\n",
       "    </tr>\n",
       "    <tr>\n",
       "      <th>52</th>\n",
       "      <td>0.71</td>\n",
       "      <td>-3.73</td>\n",
       "    </tr>\n",
       "    <tr>\n",
       "      <th>55</th>\n",
       "      <td>0.19</td>\n",
       "      <td>-4.62</td>\n",
       "    </tr>\n",
       "    <tr>\n",
       "      <th>56</th>\n",
       "      <td>0.12</td>\n",
       "      <td>-2.65</td>\n",
       "    </tr>\n",
       "  </tbody>\n",
       "</table>\n",
       "</div>"
      ],
      "text/plain": [
       "            HeadwayDeviation  Adherence\n",
       "ROUTE_ABBR                             \n",
       "3                       0.54      -3.71\n",
       "7                       0.33      -3.48\n",
       "22                      0.57      -1.07\n",
       "23                      0.82      -1.64\n",
       "50                      0.17      -2.42\n",
       "52                      0.71      -3.73\n",
       "55                      0.19      -4.62\n",
       "56                      0.12      -2.65"
      ]
     },
     "execution_count": 77,
     "metadata": {},
     "output_type": "execute_result"
    }
   ],
   "source": [
    "round(wego_clean.groupby(by='ROUTE_ABBR').agg(HeadwayDeviation=('HDWY_DEV', 'mean'), Adherence=('ADHERENCE', 'mean')),2)"
   ]
  },
  {
   "cell_type": "markdown",
   "id": "6ec46064",
   "metadata": {},
   "source": [
    "Route 22 had the highest ontime performance."
   ]
  },
  {
   "cell_type": "code",
   "execution_count": null,
   "id": "163e2c44",
   "metadata": {},
   "outputs": [],
   "source": []
  },
  {
   "cell_type": "markdown",
   "id": "b7923537",
   "metadata": {},
   "source": [
    "# Q3 How does time of day or day of week affect headway and on-time performance?"
   ]
  },
  {
   "cell_type": "markdown",
   "id": "4c9bbb79",
   "metadata": {},
   "source": [
    "Convert SCHEDULED_TIME to datetime format."
   ]
  },
  {
   "cell_type": "code",
   "execution_count": 89,
   "id": "4baf1b14",
   "metadata": {},
   "outputs": [],
   "source": [
    "wego_clean['DATE_TIME'] = pd.to_datetime(wego_clean['SCHEDULED_TIME'])"
   ]
  },
  {
   "cell_type": "markdown",
   "id": "4768a878",
   "metadata": {},
   "source": [
    "Add columns for month, day, hour, day_name."
   ]
  },
  {
   "cell_type": "code",
   "execution_count": 90,
   "id": "cb605b62",
   "metadata": {},
   "outputs": [],
   "source": [
    "wego_clean['MONTH'] = wego_clean['DATE_TIME'].dt.month\n",
    "wego_clean['DAY'] = wego_clean['DATE_TIME'].dt.day\n",
    "wego_clean['HOUR'] = wego_clean['DATE_TIME'].dt.hour\n",
    "wego_clean['DAY_NAME'] = wego_clean['DATE_TIME'].dt.day_name()"
   ]
  },
  {
   "cell_type": "code",
   "execution_count": 94,
   "id": "0b490349",
   "metadata": {
    "scrolled": false
   },
   "outputs": [
    {
     "data": {
      "text/plain": [
       "<Axes: xlabel='HOUR', ylabel='ADJUSTED_ONTIME_COUNT'>"
      ]
     },
     "execution_count": 94,
     "metadata": {},
     "output_type": "execute_result"
    },
    {
     "data": {
      "image/png": "[encoded data removed]",
      "text/plain": [
       "<Figure size 640x480 with 1 Axes>"
      ]
     },
     "metadata": {},
     "output_type": "display_data"
    }
   ],
   "source": [
    "sns.barplot(wego_clean, x='HOUR', y='ADJUSTED_ONTIME_COUNT')"
   ]
  },
  {
   "cell_type": "code",
   "execution_count": 95,
   "id": "c4db43bd",
   "metadata": {
    "scrolled": false
   },
   "outputs": [
    {
     "data": {
      "text/plain": [
       "<Axes: xlabel='DAY_NAME', ylabel='ADJUSTED_ONTIME_COUNT'>"
      ]
     },
     "execution_count": 95,
     "metadata": {},
     "output_type": "execute_result"
    },
    {
     "data": {
      "image/png": "[encoded data removed]",
      "text/plain": [
       "<Figure size 640x480 with 1 Axes>"
      ]
     },
     "metadata": {},
     "output_type": "display_data"
    }
   ],
   "source": [
    "sns.barplot(wego_clean, x='DAY_NAME', y='ADJUSTED_ONTIME_COUNT')"
   ]
  },
  {
   "cell_type": "code",
   "execution_count": 121,
   "id": "80547ce5",
   "metadata": {},
   "outputs": [
    {
     "data": {
      "text/plain": [
       "<Axes: xlabel='DAY_NAME', ylabel='ADJUSTED_ONTIME_COUNT'>"
      ]
     },
     "execution_count": 121,
     "metadata": {},
     "output_type": "execute_result"
    },
    {
     "data": {
      "image/png": "[encoded data removed]",
      "text/plain": [
       "<Figure size 640x480 with 1 Axes>"
      ]
     },
     "metadata": {},
     "output_type": "display_data"
    }
   ],
   "source": [
    "sns.barplot(wego_hdwy, x='DAY_NAME', y='ADJUSTED_ONTIME_COUNT')"
   ]
  },
  {
   "cell_type": "code",
   "execution_count": 163,
   "id": "c8f5c8f3",
   "metadata": {},
   "outputs": [
    {
     "data": {
      "text/html": [
       "<div>\n",
       "<style scoped>\n",
       "    .dataframe tbody tr th:only-of-type {\n",
       "        vertical-align: middle;\n",
       "    }\n",
       "\n",
       "    .dataframe tbody tr th {\n",
       "        vertical-align: top;\n",
       "    }\n",
       "\n",
       "    .dataframe thead th {\n",
       "        text-align: right;\n",
       "    }\n",
       "</style>\n",
       "<table border=\"1\" class=\"dataframe\">\n",
       "  <thead>\n",
       "    <tr style=\"text-align: right;\">\n",
       "      <th></th>\n",
       "      <th>ADJUSTED_ONTIME_COUNT</th>\n",
       "      <th>ADJUSTED_EARLY_COUNT</th>\n",
       "      <th>ADJUSTED_LATE_COUNT</th>\n",
       "    </tr>\n",
       "    <tr>\n",
       "      <th>DAY_NAME</th>\n",
       "      <th></th>\n",
       "      <th></th>\n",
       "      <th></th>\n",
       "    </tr>\n",
       "  </thead>\n",
       "  <tbody>\n",
       "    <tr>\n",
       "      <th>Friday</th>\n",
       "      <td>0.756604</td>\n",
       "      <td>0.027943</td>\n",
       "      <td>0.215453</td>\n",
       "    </tr>\n",
       "    <tr>\n",
       "      <th>Monday</th>\n",
       "      <td>0.841206</td>\n",
       "      <td>0.033269</td>\n",
       "      <td>0.125525</td>\n",
       "    </tr>\n",
       "    <tr>\n",
       "      <th>Saturday</th>\n",
       "      <td>0.797629</td>\n",
       "      <td>0.021667</td>\n",
       "      <td>0.180705</td>\n",
       "    </tr>\n",
       "    <tr>\n",
       "      <th>Sunday</th>\n",
       "      <td>0.846369</td>\n",
       "      <td>0.030194</td>\n",
       "      <td>0.123437</td>\n",
       "    </tr>\n",
       "    <tr>\n",
       "      <th>Thursday</th>\n",
       "      <td>0.784857</td>\n",
       "      <td>0.027551</td>\n",
       "      <td>0.187592</td>\n",
       "    </tr>\n",
       "    <tr>\n",
       "      <th>Tuesday</th>\n",
       "      <td>0.803493</td>\n",
       "      <td>0.027927</td>\n",
       "      <td>0.168580</td>\n",
       "    </tr>\n",
       "    <tr>\n",
       "      <th>Wednesday</th>\n",
       "      <td>0.791478</td>\n",
       "      <td>0.028685</td>\n",
       "      <td>0.179837</td>\n",
       "    </tr>\n",
       "  </tbody>\n",
       "</table>\n",
       "</div>"
      ],
      "text/plain": [
       "           ADJUSTED_ONTIME_COUNT  ADJUSTED_EARLY_COUNT  ADJUSTED_LATE_COUNT\n",
       "DAY_NAME                                                                   \n",
       "Friday                  0.756604              0.027943             0.215453\n",
       "Monday                  0.841206              0.033269             0.125525\n",
       "Saturday                0.797629              0.021667             0.180705\n",
       "Sunday                  0.846369              0.030194             0.123437\n",
       "Thursday                0.784857              0.027551             0.187592\n",
       "Tuesday                 0.803493              0.027927             0.168580\n",
       "Wednesday               0.791478              0.028685             0.179837"
      ]
     },
     "execution_count": 163,
     "metadata": {},
     "output_type": "execute_result"
    }
   ],
   "source": [
    "#Percentage of on time by day.\n",
    "(wego_clean\n",
    " .groupby('DAY_NAME')\n",
    " [['ADJUSTED_ONTIME_COUNT','ADJUSTED_EARLY_COUNT','ADJUSTED_LATE_COUNT']]\n",
    " .mean()\n",
    ")"
   ]
  },
  {
   "cell_type": "code",
   "execution_count": 165,
   "id": "1e6843f7",
   "metadata": {},
   "outputs": [
    {
     "data": {
      "text/html": [
       "<div>\n",
       "<style scoped>\n",
       "    .dataframe tbody tr th:only-of-type {\n",
       "        vertical-align: middle;\n",
       "    }\n",
       "\n",
       "    .dataframe tbody tr th {\n",
       "        vertical-align: top;\n",
       "    }\n",
       "\n",
       "    .dataframe thead th {\n",
       "        text-align: right;\n",
       "    }\n",
       "</style>\n",
       "<table border=\"1\" class=\"dataframe\">\n",
       "  <thead>\n",
       "    <tr style=\"text-align: right;\">\n",
       "      <th></th>\n",
       "      <th>NORMAL_HDWY</th>\n",
       "      <th>GAPPING</th>\n",
       "      <th>BUNCHING</th>\n",
       "    </tr>\n",
       "    <tr>\n",
       "      <th>DAY_NAME</th>\n",
       "      <th></th>\n",
       "      <th></th>\n",
       "      <th></th>\n",
       "    </tr>\n",
       "  </thead>\n",
       "  <tbody>\n",
       "    <tr>\n",
       "      <th>Friday</th>\n",
       "      <td>0.803842</td>\n",
       "      <td>0.105631</td>\n",
       "      <td>0.089947</td>\n",
       "    </tr>\n",
       "    <tr>\n",
       "      <th>Monday</th>\n",
       "      <td>0.875584</td>\n",
       "      <td>0.064922</td>\n",
       "      <td>0.058707</td>\n",
       "    </tr>\n",
       "    <tr>\n",
       "      <th>Saturday</th>\n",
       "      <td>0.923848</td>\n",
       "      <td>0.044617</td>\n",
       "      <td>0.031391</td>\n",
       "    </tr>\n",
       "    <tr>\n",
       "      <th>Sunday</th>\n",
       "      <td>0.938135</td>\n",
       "      <td>0.040806</td>\n",
       "      <td>0.020109</td>\n",
       "    </tr>\n",
       "    <tr>\n",
       "      <th>Thursday</th>\n",
       "      <td>0.828317</td>\n",
       "      <td>0.093102</td>\n",
       "      <td>0.078052</td>\n",
       "    </tr>\n",
       "    <tr>\n",
       "      <th>Tuesday</th>\n",
       "      <td>0.844974</td>\n",
       "      <td>0.083271</td>\n",
       "      <td>0.071391</td>\n",
       "    </tr>\n",
       "    <tr>\n",
       "      <th>Wednesday</th>\n",
       "      <td>0.838261</td>\n",
       "      <td>0.085299</td>\n",
       "      <td>0.075942</td>\n",
       "    </tr>\n",
       "  </tbody>\n",
       "</table>\n",
       "</div>"
      ],
      "text/plain": [
       "           NORMAL_HDWY   GAPPING  BUNCHING\n",
       "DAY_NAME                                  \n",
       "Friday        0.803842  0.105631  0.089947\n",
       "Monday        0.875584  0.064922  0.058707\n",
       "Saturday      0.923848  0.044617  0.031391\n",
       "Sunday        0.938135  0.040806  0.020109\n",
       "Thursday      0.828317  0.093102  0.078052\n",
       "Tuesday       0.844974  0.083271  0.071391\n",
       "Wednesday     0.838261  0.085299  0.075942"
      ]
     },
     "execution_count": 165,
     "metadata": {},
     "output_type": "execute_result"
    }
   ],
   "source": [
    "#Percentage of HDWY by day.\n",
    "(wego_hdwy\n",
    " .groupby('DAY_NAME')\n",
    " [['NORMAL_HDWY','GAPPING','BUNCHING']]\n",
    " .mean()\n",
    ")"
   ]
  },
  {
   "cell_type": "code",
   "execution_count": 166,
   "id": "6a8f204e",
   "metadata": {},
   "outputs": [
    {
     "data": {
      "text/html": [
       "<div>\n",
       "<style scoped>\n",
       "    .dataframe tbody tr th:only-of-type {\n",
       "        vertical-align: middle;\n",
       "    }\n",
       "\n",
       "    .dataframe tbody tr th {\n",
       "        vertical-align: top;\n",
       "    }\n",
       "\n",
       "    .dataframe thead th {\n",
       "        text-align: right;\n",
       "    }\n",
       "</style>\n",
       "<table border=\"1\" class=\"dataframe\">\n",
       "  <thead>\n",
       "    <tr style=\"text-align: right;\">\n",
       "      <th></th>\n",
       "      <th>ADJUSTED_ONTIME_COUNT</th>\n",
       "      <th>ADJUSTED_EARLY_COUNT</th>\n",
       "      <th>ADJUSTED_LATE_COUNT</th>\n",
       "    </tr>\n",
       "    <tr>\n",
       "      <th>HOUR</th>\n",
       "      <th></th>\n",
       "      <th></th>\n",
       "      <th></th>\n",
       "    </tr>\n",
       "  </thead>\n",
       "  <tbody>\n",
       "    <tr>\n",
       "      <th>0</th>\n",
       "      <td>0.718494</td>\n",
       "      <td>0.088371</td>\n",
       "      <td>0.193135</td>\n",
       "    </tr>\n",
       "    <tr>\n",
       "      <th>1</th>\n",
       "      <td>0.513514</td>\n",
       "      <td>0.234234</td>\n",
       "      <td>0.252252</td>\n",
       "    </tr>\n",
       "    <tr>\n",
       "      <th>4</th>\n",
       "      <td>0.936574</td>\n",
       "      <td>0.040901</td>\n",
       "      <td>0.022525</td>\n",
       "    </tr>\n",
       "    <tr>\n",
       "      <th>5</th>\n",
       "      <td>0.923647</td>\n",
       "      <td>0.035571</td>\n",
       "      <td>0.040782</td>\n",
       "    </tr>\n",
       "    <tr>\n",
       "      <th>6</th>\n",
       "      <td>0.900309</td>\n",
       "      <td>0.027122</td>\n",
       "      <td>0.072569</td>\n",
       "    </tr>\n",
       "    <tr>\n",
       "      <th>7</th>\n",
       "      <td>0.812881</td>\n",
       "      <td>0.023713</td>\n",
       "      <td>0.163407</td>\n",
       "    </tr>\n",
       "    <tr>\n",
       "      <th>8</th>\n",
       "      <td>0.758470</td>\n",
       "      <td>0.019079</td>\n",
       "      <td>0.222452</td>\n",
       "    </tr>\n",
       "    <tr>\n",
       "      <th>9</th>\n",
       "      <td>0.839944</td>\n",
       "      <td>0.028553</td>\n",
       "      <td>0.131504</td>\n",
       "    </tr>\n",
       "    <tr>\n",
       "      <th>10</th>\n",
       "      <td>0.858531</td>\n",
       "      <td>0.036677</td>\n",
       "      <td>0.104792</td>\n",
       "    </tr>\n",
       "    <tr>\n",
       "      <th>11</th>\n",
       "      <td>0.859309</td>\n",
       "      <td>0.028098</td>\n",
       "      <td>0.112593</td>\n",
       "    </tr>\n",
       "    <tr>\n",
       "      <th>12</th>\n",
       "      <td>0.830587</td>\n",
       "      <td>0.027392</td>\n",
       "      <td>0.142020</td>\n",
       "    </tr>\n",
       "    <tr>\n",
       "      <th>13</th>\n",
       "      <td>0.830175</td>\n",
       "      <td>0.028371</td>\n",
       "      <td>0.141453</td>\n",
       "    </tr>\n",
       "    <tr>\n",
       "      <th>14</th>\n",
       "      <td>0.787897</td>\n",
       "      <td>0.027458</td>\n",
       "      <td>0.184645</td>\n",
       "    </tr>\n",
       "    <tr>\n",
       "      <th>15</th>\n",
       "      <td>0.724335</td>\n",
       "      <td>0.031759</td>\n",
       "      <td>0.243906</td>\n",
       "    </tr>\n",
       "    <tr>\n",
       "      <th>16</th>\n",
       "      <td>0.702222</td>\n",
       "      <td>0.025991</td>\n",
       "      <td>0.271787</td>\n",
       "    </tr>\n",
       "    <tr>\n",
       "      <th>17</th>\n",
       "      <td>0.697740</td>\n",
       "      <td>0.031187</td>\n",
       "      <td>0.271072</td>\n",
       "    </tr>\n",
       "    <tr>\n",
       "      <th>18</th>\n",
       "      <td>0.738546</td>\n",
       "      <td>0.029542</td>\n",
       "      <td>0.231912</td>\n",
       "    </tr>\n",
       "    <tr>\n",
       "      <th>19</th>\n",
       "      <td>0.751259</td>\n",
       "      <td>0.017214</td>\n",
       "      <td>0.231527</td>\n",
       "    </tr>\n",
       "    <tr>\n",
       "      <th>20</th>\n",
       "      <td>0.792086</td>\n",
       "      <td>0.020363</td>\n",
       "      <td>0.187552</td>\n",
       "    </tr>\n",
       "    <tr>\n",
       "      <th>21</th>\n",
       "      <td>0.832581</td>\n",
       "      <td>0.022385</td>\n",
       "      <td>0.145034</td>\n",
       "    </tr>\n",
       "    <tr>\n",
       "      <th>22</th>\n",
       "      <td>0.845590</td>\n",
       "      <td>0.025057</td>\n",
       "      <td>0.129353</td>\n",
       "    </tr>\n",
       "    <tr>\n",
       "      <th>23</th>\n",
       "      <td>0.782333</td>\n",
       "      <td>0.035000</td>\n",
       "      <td>0.182667</td>\n",
       "    </tr>\n",
       "  </tbody>\n",
       "</table>\n",
       "</div>"
      ],
      "text/plain": [
       "      ADJUSTED_ONTIME_COUNT  ADJUSTED_EARLY_COUNT  ADJUSTED_LATE_COUNT\n",
       "HOUR                                                                  \n",
       "0                  0.718494              0.088371             0.193135\n",
       "1                  0.513514              0.234234             0.252252\n",
       "4                  0.936574              0.040901             0.022525\n",
       "5                  0.923647              0.035571             0.040782\n",
       "6                  0.900309              0.027122             0.072569\n",
       "7                  0.812881              0.023713             0.163407\n",
       "8                  0.758470              0.019079             0.222452\n",
       "9                  0.839944              0.028553             0.131504\n",
       "10                 0.858531              0.036677             0.104792\n",
       "11                 0.859309              0.028098             0.112593\n",
       "12                 0.830587              0.027392             0.142020\n",
       "13                 0.830175              0.028371             0.141453\n",
       "14                 0.787897              0.027458             0.184645\n",
       "15                 0.724335              0.031759             0.243906\n",
       "16                 0.702222              0.025991             0.271787\n",
       "17                 0.697740              0.031187             0.271072\n",
       "18                 0.738546              0.029542             0.231912\n",
       "19                 0.751259              0.017214             0.231527\n",
       "20                 0.792086              0.020363             0.187552\n",
       "21                 0.832581              0.022385             0.145034\n",
       "22                 0.845590              0.025057             0.129353\n",
       "23                 0.782333              0.035000             0.182667"
      ]
     },
     "execution_count": 166,
     "metadata": {},
     "output_type": "execute_result"
    }
   ],
   "source": [
    "#Percentage of on time by hour.\n",
    "(wego_clean\n",
    " .groupby('HOUR')\n",
    " [['ADJUSTED_ONTIME_COUNT','ADJUSTED_EARLY_COUNT','ADJUSTED_LATE_COUNT']]\n",
    " .mean()\n",
    ")"
   ]
  },
  {
   "cell_type": "code",
   "execution_count": 167,
   "id": "c418bdfd",
   "metadata": {},
   "outputs": [
    {
     "data": {
      "text/html": [
       "<div>\n",
       "<style scoped>\n",
       "    .dataframe tbody tr th:only-of-type {\n",
       "        vertical-align: middle;\n",
       "    }\n",
       "\n",
       "    .dataframe tbody tr th {\n",
       "        vertical-align: top;\n",
       "    }\n",
       "\n",
       "    .dataframe thead th {\n",
       "        text-align: right;\n",
       "    }\n",
       "</style>\n",
       "<table border=\"1\" class=\"dataframe\">\n",
       "  <thead>\n",
       "    <tr style=\"text-align: right;\">\n",
       "      <th></th>\n",
       "      <th>NORMAL_HDWY</th>\n",
       "      <th>GAPPING</th>\n",
       "      <th>BUNCHING</th>\n",
       "    </tr>\n",
       "    <tr>\n",
       "      <th>HOUR</th>\n",
       "      <th></th>\n",
       "      <th></th>\n",
       "      <th></th>\n",
       "    </tr>\n",
       "  </thead>\n",
       "  <tbody>\n",
       "    <tr>\n",
       "      <th>0</th>\n",
       "      <td>0.920796</td>\n",
       "      <td>0.043919</td>\n",
       "      <td>0.035285</td>\n",
       "    </tr>\n",
       "    <tr>\n",
       "      <th>1</th>\n",
       "      <td>0.571429</td>\n",
       "      <td>0.285714</td>\n",
       "      <td>0.142857</td>\n",
       "    </tr>\n",
       "    <tr>\n",
       "      <th>4</th>\n",
       "      <td>0.992095</td>\n",
       "      <td>0.000000</td>\n",
       "      <td>0.000000</td>\n",
       "    </tr>\n",
       "    <tr>\n",
       "      <th>5</th>\n",
       "      <td>0.949796</td>\n",
       "      <td>0.026459</td>\n",
       "      <td>0.015265</td>\n",
       "    </tr>\n",
       "    <tr>\n",
       "      <th>6</th>\n",
       "      <td>0.908585</td>\n",
       "      <td>0.052387</td>\n",
       "      <td>0.036540</td>\n",
       "    </tr>\n",
       "    <tr>\n",
       "      <th>7</th>\n",
       "      <td>0.849268</td>\n",
       "      <td>0.087487</td>\n",
       "      <td>0.061585</td>\n",
       "    </tr>\n",
       "    <tr>\n",
       "      <th>8</th>\n",
       "      <td>0.814355</td>\n",
       "      <td>0.092575</td>\n",
       "      <td>0.092575</td>\n",
       "    </tr>\n",
       "    <tr>\n",
       "      <th>9</th>\n",
       "      <td>0.863352</td>\n",
       "      <td>0.068605</td>\n",
       "      <td>0.068043</td>\n",
       "    </tr>\n",
       "    <tr>\n",
       "      <th>10</th>\n",
       "      <td>0.877571</td>\n",
       "      <td>0.066786</td>\n",
       "      <td>0.055644</td>\n",
       "    </tr>\n",
       "    <tr>\n",
       "      <th>11</th>\n",
       "      <td>0.889896</td>\n",
       "      <td>0.061866</td>\n",
       "      <td>0.048238</td>\n",
       "    </tr>\n",
       "    <tr>\n",
       "      <th>12</th>\n",
       "      <td>0.864235</td>\n",
       "      <td>0.075481</td>\n",
       "      <td>0.060030</td>\n",
       "    </tr>\n",
       "    <tr>\n",
       "      <th>13</th>\n",
       "      <td>0.869726</td>\n",
       "      <td>0.073538</td>\n",
       "      <td>0.056736</td>\n",
       "    </tr>\n",
       "    <tr>\n",
       "      <th>14</th>\n",
       "      <td>0.839531</td>\n",
       "      <td>0.089163</td>\n",
       "      <td>0.071306</td>\n",
       "    </tr>\n",
       "    <tr>\n",
       "      <th>15</th>\n",
       "      <td>0.770426</td>\n",
       "      <td>0.125362</td>\n",
       "      <td>0.103858</td>\n",
       "    </tr>\n",
       "    <tr>\n",
       "      <th>16</th>\n",
       "      <td>0.757186</td>\n",
       "      <td>0.123356</td>\n",
       "      <td>0.119400</td>\n",
       "    </tr>\n",
       "    <tr>\n",
       "      <th>17</th>\n",
       "      <td>0.761528</td>\n",
       "      <td>0.115007</td>\n",
       "      <td>0.123403</td>\n",
       "    </tr>\n",
       "    <tr>\n",
       "      <th>18</th>\n",
       "      <td>0.810856</td>\n",
       "      <td>0.098957</td>\n",
       "      <td>0.090112</td>\n",
       "    </tr>\n",
       "    <tr>\n",
       "      <th>19</th>\n",
       "      <td>0.884936</td>\n",
       "      <td>0.065291</td>\n",
       "      <td>0.049773</td>\n",
       "    </tr>\n",
       "    <tr>\n",
       "      <th>20</th>\n",
       "      <td>0.923077</td>\n",
       "      <td>0.046968</td>\n",
       "      <td>0.029851</td>\n",
       "    </tr>\n",
       "    <tr>\n",
       "      <th>21</th>\n",
       "      <td>0.947181</td>\n",
       "      <td>0.035680</td>\n",
       "      <td>0.017139</td>\n",
       "    </tr>\n",
       "    <tr>\n",
       "      <th>22</th>\n",
       "      <td>0.947752</td>\n",
       "      <td>0.038930</td>\n",
       "      <td>0.013318</td>\n",
       "    </tr>\n",
       "    <tr>\n",
       "      <th>23</th>\n",
       "      <td>0.931828</td>\n",
       "      <td>0.049164</td>\n",
       "      <td>0.019008</td>\n",
       "    </tr>\n",
       "  </tbody>\n",
       "</table>\n",
       "</div>"
      ],
      "text/plain": [
       "      NORMAL_HDWY   GAPPING  BUNCHING\n",
       "HOUR                                 \n",
       "0        0.920796  0.043919  0.035285\n",
       "1        0.571429  0.285714  0.142857\n",
       "4        0.992095  0.000000  0.000000\n",
       "5        0.949796  0.026459  0.015265\n",
       "6        0.908585  0.052387  0.036540\n",
       "7        0.849268  0.087487  0.061585\n",
       "8        0.814355  0.092575  0.092575\n",
       "9        0.863352  0.068605  0.068043\n",
       "10       0.877571  0.066786  0.055644\n",
       "11       0.889896  0.061866  0.048238\n",
       "12       0.864235  0.075481  0.060030\n",
       "13       0.869726  0.073538  0.056736\n",
       "14       0.839531  0.089163  0.071306\n",
       "15       0.770426  0.125362  0.103858\n",
       "16       0.757186  0.123356  0.119400\n",
       "17       0.761528  0.115007  0.123403\n",
       "18       0.810856  0.098957  0.090112\n",
       "19       0.884936  0.065291  0.049773\n",
       "20       0.923077  0.046968  0.029851\n",
       "21       0.947181  0.035680  0.017139\n",
       "22       0.947752  0.038930  0.013318\n",
       "23       0.931828  0.049164  0.019008"
      ]
     },
     "execution_count": 167,
     "metadata": {},
     "output_type": "execute_result"
    }
   ],
   "source": [
    "#Percentage of HDWY by hour.\n",
    "(wego_hdwy\n",
    " .groupby('HOUR')\n",
    " [['NORMAL_HDWY','GAPPING','BUNCHING']]\n",
    " .mean()\n",
    ")"
   ]
  },
  {
   "cell_type": "markdown",
   "id": "e6bcb7ed",
   "metadata": {},
   "source": [
    "# ANSWER: "
   ]
  },
  {
   "cell_type": "code",
   "execution_count": null,
   "id": "5ec89e0f",
   "metadata": {},
   "outputs": [],
   "source": []
  },
  {
   "cell_type": "markdown",
   "id": "951b1a1b",
   "metadata": {},
   "source": [
    "# Q4. How much of a factor does the driver have on headway and on-time performance? The driver is indicated by the OPERATOR variable."
   ]
  },
  {
   "cell_type": "code",
   "execution_count": 168,
   "id": "2242e338",
   "metadata": {},
   "outputs": [
    {
     "name": "stdout",
     "output_type": "stream",
     "text": [
      "<class 'pandas.core.frame.DataFrame'>\n",
      "Index: 333924 entries, 0 to 350328\n",
      "Data columns (total 40 columns):\n",
      " #   Column                     Non-Null Count   Dtype         \n",
      "---  ------                     --------------   -----         \n",
      " 0   CALENDAR_ID                333924 non-null  int64         \n",
      " 1   SERVICE_ABBR               333924 non-null  int64         \n",
      " 2   ADHERENCE_ID               333924 non-null  int64         \n",
      " 3   DATE                       333924 non-null  object        \n",
      " 4   ROUTE_ABBR                 333924 non-null  int64         \n",
      " 5   BLOCK_ABBR                 333924 non-null  int64         \n",
      " 6   OPERATOR                   333924 non-null  int64         \n",
      " 7   TRIP_ID                    333924 non-null  int64         \n",
      " 8   OVERLOAD_ID                333924 non-null  int64         \n",
      " 9   ROUTE_DIRECTION_NAME       333924 non-null  object        \n",
      " 10  TIME_POINT_ABBR            333924 non-null  object        \n",
      " 11  ROUTE_STOP_SEQUENCE        333919 non-null  float64       \n",
      " 12  TRIP_EDGE                  333924 non-null  int64         \n",
      " 13  LATITUDE                   333924 non-null  float64       \n",
      " 14  LONGITUDE                  333924 non-null  float64       \n",
      " 15  SCHEDULED_TIME             333924 non-null  object        \n",
      " 16  ACTUAL_ARRIVAL_TIME        333922 non-null  object        \n",
      " 17  ACTUAL_DEPARTURE_TIME      333924 non-null  object        \n",
      " 18  ADHERENCE                  333924 non-null  float64       \n",
      " 19  SCHEDULED_HDWY             261425 non-null  float64       \n",
      " 20  ACTUAL_HDWY                261453 non-null  float64       \n",
      " 21  HDWY_DEV                   261285 non-null  float64       \n",
      " 22  ADJUSTED_EARLY_COUNT       333924 non-null  int64         \n",
      " 23  ADJUSTED_LATE_COUNT        333924 non-null  int64         \n",
      " 24  ADJUSTED_ONTIME_COUNT      333924 non-null  int64         \n",
      " 25  STOP_CANCELLED             333924 non-null  int64         \n",
      " 26  PREV_SCHED_STOP_CANCELLED  266446 non-null  float64       \n",
      " 27  IS_RELIEF                  333924 non-null  int64         \n",
      " 28  DWELL_IN_MINS              333922 non-null  float64       \n",
      " 29  SCHEDULED_LAYOVER_MINUTES  52066 non-null   float64       \n",
      " 30  HDWY_DEV_PERCENTAGE        261285 non-null  float64       \n",
      " 31  BUNCHING                   333924 non-null  float64       \n",
      " 32  GAPPING                    333924 non-null  float64       \n",
      " 33  NORMAL_HDWY                333924 non-null  float64       \n",
      " 34  HDWY_NULL                  333924 non-null  float64       \n",
      " 35  DATE_TIME                  333924 non-null  datetime64[ns]\n",
      " 36  MONTH                      333924 non-null  int32         \n",
      " 37  DAY                        333924 non-null  int32         \n",
      " 38  HOUR                       333924 non-null  int32         \n",
      " 39  DAY_NAME                   333924 non-null  object        \n",
      "dtypes: datetime64[ns](1), float64(15), int32(3), int64(14), object(7)\n",
      "memory usage: 100.6+ MB\n"
     ]
    }
   ],
   "source": [
    "wego_clean.info()"
   ]
  },
  {
   "cell_type": "code",
   "execution_count": 171,
   "id": "6e72f6ef",
   "metadata": {},
   "outputs": [
    {
     "data": {
      "text/plain": [
       "array([1040, 2374, 2689, 1617, 2427, 1892, 1190, 1222, 2355, 2125, 2649,\n",
       "       1761, 1893, 2041, 1170, 1823, 1198, 1147,  522, 2603,  409, 2958,\n",
       "       2088, 2348, 2706, 1368, 3100, 2529, 1237, 1992, 2059, 2441, 1204,\n",
       "        326, 2177,  559, 2963, 1948, 2230, 1703, 2569, 2055, 2675, 2752,\n",
       "        517, 2586, 2623,  907, 1682, 1619, 1133,  659, 1266, 1623, 1938,\n",
       "       1410, 1705, 1927, 1391, 2629,  304,  357, 2500, 2112, 1505, 1904,\n",
       "       1052, 1800, 2253, 1489, 1542, 2624, 2062,  359, 1582, 2428,  332,\n",
       "       2967, 3016, 2760, 2584, 1206, 2399, 3124, 2109, 1208, 3012, 1361,\n",
       "       2990, 1650, 1359,  611, 1590, 2832, 2560,  520, 2371, 1175, 2200,\n",
       "       1352, 2714, 1500, 2817, 3096, 1958, 2458, 1601, 1343, 2217, 1866,\n",
       "       2987, 1372, 2792, 1330, 2733, 1713, 1406, 2780,  471, 2638, 1780,\n",
       "       1177, 2221, 1743,  572, 2400,  341, 2312,  778, 2697,  723, 2324,\n",
       "       2164, 2618, 2563, 2809, 2448, 1762, 1401, 2352,  414, 2357, 2545,\n",
       "       2306, 3088, 3015, 2703,  624, 1566, 2040, 3103, 1736, 2765, 2610,\n",
       "       3013, 1379, 3127, 2549, 3090, 1730, 3087, 3035, 3144, 2479, 3128,\n",
       "       2954, 1865, 1914, 2793, 2207, 1277, 2505, 1717, 2783, 1598, 2161,\n",
       "       2001, 2630, 1997, 2585, 2335, 1922, 1716, 1842, 2246, 2594, 2600,\n",
       "       3093, 1788, 2972, 2512, 2254, 2969, 3079, 2356, 3101, 1782, 1814,\n",
       "       2590, 1848, 3020, 2547, 3064, 1792, 2764, 3099, 2821, 3031, 1824,\n",
       "       3001, 1603, 1251, 2053, 2978, 1389, 2580, 3102, 2943, 2976, 2762,\n",
       "       2362, 2151, 2127, 1815, 2530, 2962, 1419, 2747,  785, 2531, 2138,\n",
       "       2779, 2497, 2751, 1078, 2669, 2440, 2876, 3098, 1838, 2642, 1797,\n",
       "       1457, 2432, 3122, 2534, 2322, 2368, 1394, 2424, 3027, 2693, 3129,\n",
       "       2103, 2126, 2102, 2567, 2573,  329, 1867, 2012, 1202, 2228, 2694,\n",
       "        379, 2546, 2321, 2082, 1377, 1593, 1305,  623, 3134, 2423, 2033,\n",
       "        653, 2662, 1016, 3080, 2435, 3126, 2577, 1763, 3116, 1621, 3120,\n",
       "       2982, 1606, 2639, 1597, 1984, 2313, 3140, 1524, 1915,  465, 3142,\n",
       "       2332, 2137, 3138,   56, 2459, 3118, 1596, 1362, 1880, 2989,  301,\n",
       "        235, 2503, 2178, 2493, 2294, 1363,    0, 1673, 1706, 3156, 1742,\n",
       "       2464, 2784, 3149, 3077, 2338,  244, 2256,  473, 2646, 2309, 2472,\n",
       "       2094, 3165, 1889, 2494, 1845, 3173, 2377,  375, 3166, 2029],\n",
       "      dtype=int64)"
      ]
     },
     "execution_count": 171,
     "metadata": {},
     "output_type": "execute_result"
    }
   ],
   "source": [
    "wego_clean.OPERATOR.unique()"
   ]
  },
  {
   "cell_type": "code",
   "execution_count": 178,
   "id": "55fe9e05",
   "metadata": {},
   "outputs": [
    {
     "data": {
      "text/plain": [
       "OPERATOR\n",
       "1266    2814\n",
       "1147    2679\n",
       "1133    2602\n",
       "2352    2542\n",
       "2424    2472\n",
       "304     2423\n",
       "2399    2405\n",
       "1927    2387\n",
       "409     2364\n",
       "332     2357\n",
       "2246    2346\n",
       "2760    2330\n",
       "1762    2318\n",
       "1368    2318\n",
       "1650    2292\n",
       "1410    2275\n",
       "2733    2247\n",
       "2706    2236\n",
       "379     2219\n",
       "1566    2199\n",
       "2780    2172\n",
       "1582    2169\n",
       "1623    2168\n",
       "520     2129\n",
       "1761    2122\n",
       "1170    2120\n",
       "326     2113\n",
       "1204    2105\n",
       "1824    2103\n",
       "1823    2079\n",
       "1590    2077\n",
       "1914    2076\n",
       "1401    2058\n",
       "2109    2055\n",
       "329     2042\n",
       "559     2023\n",
       "3031    2008\n",
       "1237    1993\n",
       "2088    1964\n",
       "2638    1957\n",
       "2062    1952\n",
       "1372    1940\n",
       "2001    1939\n",
       "3090    1937\n",
       "659     1903\n",
       "2990    1898\n",
       "2630    1894\n",
       "2164    1884\n",
       "1361    1860\n",
       "1992    1856\n",
       "3064    1852\n",
       "2012    1842\n",
       "2053    1829\n",
       "1343    1828\n",
       "1208    1816\n",
       "522     1813\n",
       "1788    1781\n",
       "1500    1768\n",
       "517     1763\n",
       "1190    1756\n",
       "2082    1753\n",
       "1792    1748\n",
       "1052    1734\n",
       "1040    1725\n",
       "2793    1722\n",
       "1177    1716\n",
       "2055    1698\n",
       "1352    1685\n",
       "2374    1674\n",
       "1222    1660\n",
       "1893    1659\n",
       "1617    1650\n",
       "785     1634\n",
       "1800    1618\n",
       "2567    1616\n",
       "778     1590\n",
       "1305    1584\n",
       "1682    1573\n",
       "357     1558\n",
       "2112    1545\n",
       "1948    1544\n",
       "2041    1543\n",
       "1359    1541\n",
       "2200    1541\n",
       "2161    1535\n",
       "2832    1535\n",
       "2963    1525\n",
       "2765    1519\n",
       "1717    1486\n",
       "2040    1455\n",
       "1842    1455\n",
       "2500    1439\n",
       "2324    1433\n",
       "1330    1429\n",
       "414     1428\n",
       "2967    1421\n",
       "2321    1418\n",
       "1763    1411\n",
       "2371    1410\n",
       "2356    1400\n",
       "1892    1385\n",
       "2127    1385\n",
       "1736    1383\n",
       "1542    1369\n",
       "2792    1366\n",
       "1277    1365\n",
       "2689    1346\n",
       "2783    1339\n",
       "3087    1339\n",
       "3079    1325\n",
       "2458    1317\n",
       "2217    1307\n",
       "3013    1297\n",
       "1958    1290\n",
       "1379    1274\n",
       "2312    1271\n",
       "1703    1267\n",
       "2610    1266\n",
       "1489    1259\n",
       "723     1254\n",
       "1457    1254\n",
       "3122    1242\n",
       "3101    1237\n",
       "2306    1234\n",
       "1394    1232\n",
       "1593    1227\n",
       "1866    1216\n",
       "2969    1213\n",
       "1997    1185\n",
       "2230    1177\n",
       "2529    1173\n",
       "341     1163\n",
       "2059    1161\n",
       "2512    1146\n",
       "2697    1140\n",
       "359     1139\n",
       "1601    1133\n",
       "1206    1121\n",
       "2348    1107\n",
       "611     1106\n",
       "1865    1104\n",
       "2357    1095\n",
       "2972    1085\n",
       "1175    1080\n",
       "2675    1071\n",
       "2752    1068\n",
       "2505    1067\n",
       "2560    1065\n",
       "2322    1062\n",
       "2177    1051\n",
       "2649    1047\n",
       "3016    1037\n",
       "624     1034\n",
       "2547    1006\n",
       "2978    1003\n",
       "2876     999\n",
       "1251     994\n",
       "3096     986\n",
       "1713     975\n",
       "1505     956\n",
       "2440     951\n",
       "2549     945\n",
       "3012     933\n",
       "2623     931\n",
       "2594     929\n",
       "1619     926\n",
       "3129     920\n",
       "2335     918\n",
       "2958     896\n",
       "572      893\n",
       "2033     877\n",
       "1904     876\n",
       "2580     870\n",
       "3099     851\n",
       "1815     851\n",
       "2545     838\n",
       "2954     836\n",
       "1202     834\n",
       "3140     832\n",
       "1782     825\n",
       "2534     807\n",
       "2624     807\n",
       "2138     805\n",
       "2459     803\n",
       "2629     800\n",
       "3100     799\n",
       "3093     793\n",
       "471      793\n",
       "2207     777\n",
       "2427     777\n",
       "3128     774\n",
       "1797     769\n",
       "1419     768\n",
       "1673     767\n",
       "2962     767\n",
       "3020     766\n",
       "1743     763\n",
       "1598     754\n",
       "2585     754\n",
       "1814     736\n",
       "2703     730\n",
       "2254     719\n",
       "2590     715\n",
       "2714     715\n",
       "1716     715\n",
       "2976     710\n",
       "3126     706\n",
       "3124     689\n",
       "2102     686\n",
       "3015     681\n",
       "1391     663\n",
       "2151     662\n",
       "3120     660\n",
       "2584     660\n",
       "2817     658\n",
       "1730     652\n",
       "2125     651\n",
       "2603     638\n",
       "2448     632\n",
       "3144     627\n",
       "2642     627\n",
       "2764     625\n",
       "1848     622\n",
       "2531     620\n",
       "1705     617\n",
       "3142     617\n",
       "2586     609\n",
       "2362     608\n",
       "2221     596\n",
       "2751     590\n",
       "2441     587\n",
       "907      587\n",
       "2103     579\n",
       "2821     553\n",
       "1603     526\n",
       "2569     522\n",
       "2355     521\n",
       "2368     521\n",
       "3001     502\n",
       "2669     488\n",
       "1524     476\n",
       "3102     473\n",
       "2428     470\n",
       "2503     470\n",
       "2747     467\n",
       "2694     455\n",
       "2809     445\n",
       "3098     443\n",
       "2563     429\n",
       "3116     425\n",
       "2573     402\n",
       "2943     392\n",
       "1780     389\n",
       "1915     384\n",
       "1867     380\n",
       "2577     371\n",
       "2497     356\n",
       "2762     340\n",
       "1984     326\n",
       "2228     314\n",
       "1838     304\n",
       "3027     304\n",
       "1078     291\n",
       "3156     290\n",
       "2479     289\n",
       "1406     288\n",
       "2600     283\n",
       "3138     280\n",
       "1742     273\n",
       "3088     266\n",
       "1597     258\n",
       "2432     231\n",
       "2987     217\n",
       "2639     201\n",
       "1889     200\n",
       "2693     182\n",
       "653      173\n",
       "2546     173\n",
       "1621     152\n",
       "2779     144\n",
       "3035     124\n",
       "1016     115\n",
       "2662     109\n",
       "2400     108\n",
       "1198     107\n",
       "1922     107\n",
       "2178     104\n",
       "3103      96\n",
       "3149      87\n",
       "2618      83\n",
       "2253      80\n",
       "1938      66\n",
       "1880      62\n",
       "1377      60\n",
       "2530      59\n",
       "2423      54\n",
       "2493      54\n",
       "1845      54\n",
       "1362      54\n",
       "1363      45\n",
       "2294      45\n",
       "3134      44\n",
       "623       44\n",
       "1706      44\n",
       "2784      43\n",
       "2464      42\n",
       "2029      42\n",
       "2126      42\n",
       "1389      41\n",
       "2309      39\n",
       "301       37\n",
       "2494      36\n",
       "2094      36\n",
       "3166      35\n",
       "3165      32\n",
       "2646      31\n",
       "2332      28\n",
       "2338      27\n",
       "244       25\n",
       "1596      24\n",
       "3118      24\n",
       "2982      24\n",
       "2472      23\n",
       "3080      20\n",
       "3173      20\n",
       "2137      20\n",
       "3127      19\n",
       "2989      18\n",
       "465       18\n",
       "1606      17\n",
       "2435      15\n",
       "3077      12\n",
       "375       12\n",
       "2313      10\n",
       "235       10\n",
       "2377       9\n",
       "2256       6\n",
       "56         3\n",
       "0          1\n",
       "473        1\n",
       "Name: count, dtype: int64"
      ]
     },
     "execution_count": 178,
     "metadata": {},
     "output_type": "execute_result"
    }
   ],
   "source": [
    "wego_clean['OPERATOR'].value_counts()"
   ]
  },
  {
   "cell_type": "code",
   "execution_count": 185,
   "id": "85ae5b69",
   "metadata": {},
   "outputs": [
    {
     "data": {
      "text/plain": [
       "CALENDAR_ID                  2814\n",
       "SERVICE_ABBR                 2814\n",
       "ADHERENCE_ID                 2814\n",
       "DATE                         2814\n",
       "ROUTE_ABBR                   2814\n",
       "BLOCK_ABBR                   2814\n",
       "OPERATOR                     2814\n",
       "TRIP_ID                      2814\n",
       "OVERLOAD_ID                  2814\n",
       "ROUTE_DIRECTION_NAME         2814\n",
       "TIME_POINT_ABBR              2814\n",
       "ROUTE_STOP_SEQUENCE          2814\n",
       "TRIP_EDGE                    2814\n",
       "LATITUDE                     2814\n",
       "LONGITUDE                    2814\n",
       "SCHEDULED_TIME               2814\n",
       "ACTUAL_ARRIVAL_TIME          2814\n",
       "ACTUAL_DEPARTURE_TIME        2814\n",
       "ADHERENCE                    2814\n",
       "SCHEDULED_HDWY               2340\n",
       "ACTUAL_HDWY                  2340\n",
       "HDWY_DEV                     2340\n",
       "ADJUSTED_EARLY_COUNT         2814\n",
       "ADJUSTED_LATE_COUNT          2814\n",
       "ADJUSTED_ONTIME_COUNT        2814\n",
       "STOP_CANCELLED               2814\n",
       "PREV_SCHED_STOP_CANCELLED    2340\n",
       "IS_RELIEF                    2814\n",
       "DWELL_IN_MINS                2814\n",
       "SCHEDULED_LAYOVER_MINUTES     425\n",
       "HDWY_DEV_PERCENTAGE          2340\n",
       "BUNCHING                     2814\n",
       "GAPPING                      2814\n",
       "NORMAL_HDWY                  2814\n",
       "HDWY_NULL                    2814\n",
       "DATE_TIME                    2814\n",
       "MONTH                        2814\n",
       "DAY                          2814\n",
       "HOUR                         2814\n",
       "DAY_NAME                     2814\n",
       "dtype: int64"
      ]
     },
     "execution_count": 185,
     "metadata": {},
     "output_type": "execute_result"
    }
   ],
   "source": [
    "operator_1266 = wego_clean[wego_clean['OPERATOR']==1266]\n",
    "operator_1266.count()"
   ]
  },
  {
   "cell_type": "code",
   "execution_count": null,
   "id": "eb167833",
   "metadata": {},
   "outputs": [],
   "source": []
  }
 ],
 "metadata": {
  "kernelspec": {
   "display_name": "Python 3 (ipykernel)",
   "language": "python",
   "name": "python3"
  },
  "language_info": {
   "codemirror_mode": {
    "name": "ipython",
    "version": 3
   },
   "file_extension": ".py",
   "mimetype": "text/x-python",
   "name": "python",
   "nbconvert_exporter": "python",
   "pygments_lexer": "ipython3",
   "version": "3.11.7"
  }
 },
 "nbformat": 4,
 "nbformat_minor": 5
}
