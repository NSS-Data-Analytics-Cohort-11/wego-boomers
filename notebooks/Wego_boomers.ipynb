{
 "cells": [
  {
   "cell_type": "code",
   "execution_count": 3,
   "id": "ef53b438",
   "metadata": {},
   "outputs": [],
   "source": [
    "import pandas as pd\n",
    "import numpy as np\n",
    "import matplotlib.pyplot as plt\n",
    "import seaborn as sns"
   ]
  },
  {
   "cell_type": "code",
   "execution_count": 4,
   "id": "0d22c32e",
   "metadata": {},
   "outputs": [
    {
     "name": "stdout",
     "output_type": "stream",
     "text": [
      "<class 'pandas.core.frame.DataFrame'>\n",
      "RangeIndex: 350329 entries, 0 to 350328\n",
      "Data columns (total 30 columns):\n",
      " #   Column                     Non-Null Count   Dtype  \n",
      "---  ------                     --------------   -----  \n",
      " 0   CALENDAR_ID                350329 non-null  int64  \n",
      " 1   SERVICE_ABBR               350329 non-null  int64  \n",
      " 2   ADHERENCE_ID               350329 non-null  int64  \n",
      " 3   DATE                       350329 non-null  object \n",
      " 4   ROUTE_ABBR                 350329 non-null  int64  \n",
      " 5   BLOCK_ABBR                 350329 non-null  int64  \n",
      " 6   OPERATOR                   350329 non-null  int64  \n",
      " 7   TRIP_ID                    350329 non-null  int64  \n",
      " 8   OVERLOAD_ID                350329 non-null  int64  \n",
      " 9   ROUTE_DIRECTION_NAME       350329 non-null  object \n",
      " 10  TIME_POINT_ABBR            350329 non-null  object \n",
      " 11  ROUTE_STOP_SEQUENCE        350318 non-null  float64\n",
      " 12  TRIP_EDGE                  350329 non-null  int64  \n",
      " 13  LATITUDE                   350329 non-null  float64\n",
      " 14  LONGITUDE                  350329 non-null  float64\n",
      " 15  SCHEDULED_TIME             350329 non-null  object \n",
      " 16  ACTUAL_ARRIVAL_TIME        338870 non-null  object \n",
      " 17  ACTUAL_DEPARTURE_TIME      338861 non-null  object \n",
      " 18  ADHERENCE                  338861 non-null  float64\n",
      " 19  SCHEDULED_HDWY             274738 non-null  float64\n",
      " 20  ACTUAL_HDWY                266062 non-null  float64\n",
      " 21  HDWY_DEV                   265893 non-null  float64\n",
      " 22  ADJUSTED_EARLY_COUNT       350329 non-null  int64  \n",
      " 23  ADJUSTED_LATE_COUNT        350329 non-null  int64  \n",
      " 24  ADJUSTED_ONTIME_COUNT      350329 non-null  int64  \n",
      " 25  STOP_CANCELLED             350329 non-null  int64  \n",
      " 26  PREV_SCHED_STOP_CANCELLED  280000 non-null  float64\n",
      " 27  IS_RELIEF                  350329 non-null  int64  \n",
      " 28  DWELL_IN_MINS              338858 non-null  float64\n",
      " 29  SCHEDULED_LAYOVER_MINUTES  53102 non-null   float64\n",
      "dtypes: float64(10), int64(14), object(6)\n",
      "memory usage: 80.2+ MB\n"
     ]
    }
   ],
   "source": [
    "wego = pd.read_csv(\"../data/Headway Data, 8-1-2023 to 9-30-2023.csv\")\n",
    "\n",
    "wego.info()"
   ]
  },
  {
   "cell_type": "code",
   "execution_count": 5,
   "id": "3328cd97",
   "metadata": {},
   "outputs": [],
   "source": [
    "#show all the columns\n",
    "pd.set_option('display.max_columns', None)\n",
    "pd.set_option('display.max_rows', None)"
   ]
  },
  {
   "cell_type": "code",
   "execution_count": 6,
   "id": "8aa9361f",
   "metadata": {},
   "outputs": [
    {
     "data": {
      "text/html": [
       "<div>\n",
       "<style scoped>\n",
       "    .dataframe tbody tr th:only-of-type {\n",
       "        vertical-align: middle;\n",
       "    }\n",
       "\n",
       "    .dataframe tbody tr th {\n",
       "        vertical-align: top;\n",
       "    }\n",
       "\n",
       "    .dataframe thead th {\n",
       "        text-align: right;\n",
       "    }\n",
       "</style>\n",
       "<table border=\"1\" class=\"dataframe\">\n",
       "  <thead>\n",
       "    <tr style=\"text-align: right;\">\n",
       "      <th></th>\n",
       "      <th>CALENDAR_ID</th>\n",
       "      <th>SERVICE_ABBR</th>\n",
       "      <th>ADHERENCE_ID</th>\n",
       "      <th>DATE</th>\n",
       "      <th>ROUTE_ABBR</th>\n",
       "      <th>BLOCK_ABBR</th>\n",
       "      <th>OPERATOR</th>\n",
       "      <th>TRIP_ID</th>\n",
       "      <th>OVERLOAD_ID</th>\n",
       "      <th>ROUTE_DIRECTION_NAME</th>\n",
       "      <th>TIME_POINT_ABBR</th>\n",
       "      <th>ROUTE_STOP_SEQUENCE</th>\n",
       "      <th>TRIP_EDGE</th>\n",
       "      <th>LATITUDE</th>\n",
       "      <th>LONGITUDE</th>\n",
       "      <th>SCHEDULED_TIME</th>\n",
       "      <th>ACTUAL_ARRIVAL_TIME</th>\n",
       "      <th>ACTUAL_DEPARTURE_TIME</th>\n",
       "      <th>ADHERENCE</th>\n",
       "      <th>SCHEDULED_HDWY</th>\n",
       "      <th>ACTUAL_HDWY</th>\n",
       "      <th>HDWY_DEV</th>\n",
       "      <th>ADJUSTED_EARLY_COUNT</th>\n",
       "      <th>ADJUSTED_LATE_COUNT</th>\n",
       "      <th>ADJUSTED_ONTIME_COUNT</th>\n",
       "      <th>STOP_CANCELLED</th>\n",
       "      <th>PREV_SCHED_STOP_CANCELLED</th>\n",
       "      <th>IS_RELIEF</th>\n",
       "      <th>DWELL_IN_MINS</th>\n",
       "      <th>SCHEDULED_LAYOVER_MINUTES</th>\n",
       "    </tr>\n",
       "  </thead>\n",
       "  <tbody>\n",
       "    <tr>\n",
       "      <th>0</th>\n",
       "      <td>120230801</td>\n",
       "      <td>1</td>\n",
       "      <td>99457890</td>\n",
       "      <td>2023-08-01</td>\n",
       "      <td>22</td>\n",
       "      <td>2200</td>\n",
       "      <td>1040</td>\n",
       "      <td>345104</td>\n",
       "      <td>0</td>\n",
       "      <td>TO DOWNTOWN</td>\n",
       "      <td>MHSP</td>\n",
       "      <td>14.0</td>\n",
       "      <td>1</td>\n",
       "      <td>36.181248</td>\n",
       "      <td>-86.847705</td>\n",
       "      <td>2023-08-01 04:42:00</td>\n",
       "      <td>2023-08-01 04:37:38</td>\n",
       "      <td>2023-08-01 04:44:08</td>\n",
       "      <td>-2.133333</td>\n",
       "      <td>NaN</td>\n",
       "      <td>NaN</td>\n",
       "      <td>NaN</td>\n",
       "      <td>0</td>\n",
       "      <td>0</td>\n",
       "      <td>1</td>\n",
       "      <td>0</td>\n",
       "      <td>0.0</td>\n",
       "      <td>0</td>\n",
       "      <td>6.500000</td>\n",
       "      <td>NaN</td>\n",
       "    </tr>\n",
       "    <tr>\n",
       "      <th>1</th>\n",
       "      <td>120230801</td>\n",
       "      <td>1</td>\n",
       "      <td>99457891</td>\n",
       "      <td>2023-08-01</td>\n",
       "      <td>22</td>\n",
       "      <td>2200</td>\n",
       "      <td>1040</td>\n",
       "      <td>345104</td>\n",
       "      <td>0</td>\n",
       "      <td>TO DOWNTOWN</td>\n",
       "      <td>ELIZ</td>\n",
       "      <td>10.0</td>\n",
       "      <td>0</td>\n",
       "      <td>36.193454</td>\n",
       "      <td>-86.839981</td>\n",
       "      <td>2023-08-01 04:46:00</td>\n",
       "      <td>2023-08-01 04:48:27</td>\n",
       "      <td>2023-08-01 04:48:27</td>\n",
       "      <td>-2.450000</td>\n",
       "      <td>NaN</td>\n",
       "      <td>NaN</td>\n",
       "      <td>NaN</td>\n",
       "      <td>0</td>\n",
       "      <td>0</td>\n",
       "      <td>1</td>\n",
       "      <td>0</td>\n",
       "      <td>0.0</td>\n",
       "      <td>0</td>\n",
       "      <td>0.000000</td>\n",
       "      <td>NaN</td>\n",
       "    </tr>\n",
       "    <tr>\n",
       "      <th>2</th>\n",
       "      <td>120230801</td>\n",
       "      <td>1</td>\n",
       "      <td>99457892</td>\n",
       "      <td>2023-08-01</td>\n",
       "      <td>22</td>\n",
       "      <td>2200</td>\n",
       "      <td>1040</td>\n",
       "      <td>345104</td>\n",
       "      <td>0</td>\n",
       "      <td>TO DOWNTOWN</td>\n",
       "      <td>CV23</td>\n",
       "      <td>5.0</td>\n",
       "      <td>0</td>\n",
       "      <td>36.182177</td>\n",
       "      <td>-86.814445</td>\n",
       "      <td>2023-08-01 04:54:00</td>\n",
       "      <td>2023-08-01 04:54:56</td>\n",
       "      <td>2023-08-01 04:54:56</td>\n",
       "      <td>-0.933333</td>\n",
       "      <td>NaN</td>\n",
       "      <td>NaN</td>\n",
       "      <td>NaN</td>\n",
       "      <td>0</td>\n",
       "      <td>0</td>\n",
       "      <td>1</td>\n",
       "      <td>0</td>\n",
       "      <td>0.0</td>\n",
       "      <td>0</td>\n",
       "      <td>0.000000</td>\n",
       "      <td>NaN</td>\n",
       "    </tr>\n",
       "    <tr>\n",
       "      <th>3</th>\n",
       "      <td>120230801</td>\n",
       "      <td>1</td>\n",
       "      <td>99457893</td>\n",
       "      <td>2023-08-01</td>\n",
       "      <td>22</td>\n",
       "      <td>2200</td>\n",
       "      <td>1040</td>\n",
       "      <td>345104</td>\n",
       "      <td>0</td>\n",
       "      <td>TO DOWNTOWN</td>\n",
       "      <td>MCC5_10</td>\n",
       "      <td>1.0</td>\n",
       "      <td>2</td>\n",
       "      <td>36.167091</td>\n",
       "      <td>-86.781923</td>\n",
       "      <td>2023-08-01 05:10:00</td>\n",
       "      <td>2023-08-01 05:03:43</td>\n",
       "      <td>2023-08-01 05:03:43</td>\n",
       "      <td>6.283333</td>\n",
       "      <td>NaN</td>\n",
       "      <td>NaN</td>\n",
       "      <td>NaN</td>\n",
       "      <td>0</td>\n",
       "      <td>0</td>\n",
       "      <td>1</td>\n",
       "      <td>0</td>\n",
       "      <td>NaN</td>\n",
       "      <td>0</td>\n",
       "      <td>0.000000</td>\n",
       "      <td>NaN</td>\n",
       "    </tr>\n",
       "    <tr>\n",
       "      <th>4</th>\n",
       "      <td>120230801</td>\n",
       "      <td>1</td>\n",
       "      <td>99457894</td>\n",
       "      <td>2023-08-01</td>\n",
       "      <td>22</td>\n",
       "      <td>2200</td>\n",
       "      <td>1040</td>\n",
       "      <td>345105</td>\n",
       "      <td>0</td>\n",
       "      <td>FROM DOWNTOWN</td>\n",
       "      <td>MCC5_10</td>\n",
       "      <td>1.0</td>\n",
       "      <td>1</td>\n",
       "      <td>36.167091</td>\n",
       "      <td>-86.781923</td>\n",
       "      <td>2023-08-01 05:15:00</td>\n",
       "      <td>2023-08-01 05:03:43</td>\n",
       "      <td>2023-08-01 05:16:35</td>\n",
       "      <td>-1.583333</td>\n",
       "      <td>NaN</td>\n",
       "      <td>NaN</td>\n",
       "      <td>NaN</td>\n",
       "      <td>0</td>\n",
       "      <td>0</td>\n",
       "      <td>1</td>\n",
       "      <td>0</td>\n",
       "      <td>0.0</td>\n",
       "      <td>0</td>\n",
       "      <td>12.866666</td>\n",
       "      <td>5.0</td>\n",
       "    </tr>\n",
       "  </tbody>\n",
       "</table>\n",
       "</div>"
      ],
      "text/plain": [
       "   CALENDAR_ID  SERVICE_ABBR  ADHERENCE_ID        DATE  ROUTE_ABBR  \\\n",
       "0    120230801             1      99457890  2023-08-01          22   \n",
       "1    120230801             1      99457891  2023-08-01          22   \n",
       "2    120230801             1      99457892  2023-08-01          22   \n",
       "3    120230801             1      99457893  2023-08-01          22   \n",
       "4    120230801             1      99457894  2023-08-01          22   \n",
       "\n",
       "   BLOCK_ABBR  OPERATOR  TRIP_ID  OVERLOAD_ID ROUTE_DIRECTION_NAME  \\\n",
       "0        2200      1040   345104            0          TO DOWNTOWN   \n",
       "1        2200      1040   345104            0          TO DOWNTOWN   \n",
       "2        2200      1040   345104            0          TO DOWNTOWN   \n",
       "3        2200      1040   345104            0          TO DOWNTOWN   \n",
       "4        2200      1040   345105            0        FROM DOWNTOWN   \n",
       "\n",
       "  TIME_POINT_ABBR  ROUTE_STOP_SEQUENCE  TRIP_EDGE   LATITUDE  LONGITUDE  \\\n",
       "0            MHSP                 14.0          1  36.181248 -86.847705   \n",
       "1            ELIZ                 10.0          0  36.193454 -86.839981   \n",
       "2            CV23                  5.0          0  36.182177 -86.814445   \n",
       "3         MCC5_10                  1.0          2  36.167091 -86.781923   \n",
       "4         MCC5_10                  1.0          1  36.167091 -86.781923   \n",
       "\n",
       "        SCHEDULED_TIME  ACTUAL_ARRIVAL_TIME ACTUAL_DEPARTURE_TIME  ADHERENCE  \\\n",
       "0  2023-08-01 04:42:00  2023-08-01 04:37:38   2023-08-01 04:44:08  -2.133333   \n",
       "1  2023-08-01 04:46:00  2023-08-01 04:48:27   2023-08-01 04:48:27  -2.450000   \n",
       "2  2023-08-01 04:54:00  2023-08-01 04:54:56   2023-08-01 04:54:56  -0.933333   \n",
       "3  2023-08-01 05:10:00  2023-08-01 05:03:43   2023-08-01 05:03:43   6.283333   \n",
       "4  2023-08-01 05:15:00  2023-08-01 05:03:43   2023-08-01 05:16:35  -1.583333   \n",
       "\n",
       "   SCHEDULED_HDWY  ACTUAL_HDWY  HDWY_DEV  ADJUSTED_EARLY_COUNT  \\\n",
       "0             NaN          NaN       NaN                     0   \n",
       "1             NaN          NaN       NaN                     0   \n",
       "2             NaN          NaN       NaN                     0   \n",
       "3             NaN          NaN       NaN                     0   \n",
       "4             NaN          NaN       NaN                     0   \n",
       "\n",
       "   ADJUSTED_LATE_COUNT  ADJUSTED_ONTIME_COUNT  STOP_CANCELLED  \\\n",
       "0                    0                      1               0   \n",
       "1                    0                      1               0   \n",
       "2                    0                      1               0   \n",
       "3                    0                      1               0   \n",
       "4                    0                      1               0   \n",
       "\n",
       "   PREV_SCHED_STOP_CANCELLED  IS_RELIEF  DWELL_IN_MINS  \\\n",
       "0                        0.0          0       6.500000   \n",
       "1                        0.0          0       0.000000   \n",
       "2                        0.0          0       0.000000   \n",
       "3                        NaN          0       0.000000   \n",
       "4                        0.0          0      12.866666   \n",
       "\n",
       "   SCHEDULED_LAYOVER_MINUTES  \n",
       "0                        NaN  \n",
       "1                        NaN  \n",
       "2                        NaN  \n",
       "3                        NaN  \n",
       "4                        5.0  "
      ]
     },
     "execution_count": 6,
     "metadata": {},
     "output_type": "execute_result"
    }
   ],
   "source": [
    "wego.head()"
   ]
  },
  {
   "cell_type": "code",
   "execution_count": 7,
   "id": "e095fb21",
   "metadata": {},
   "outputs": [
    {
     "data": {
      "text/plain": [
       "ADJUSTED_ONTIME_COUNT\n",
       "1    270048\n",
       "0     80281\n",
       "Name: count, dtype: int64"
      ]
     },
     "execution_count": 7,
     "metadata": {},
     "output_type": "execute_result"
    }
   ],
   "source": [
    "#calculate percentage of ontime value =1 div by all rows\n",
    "\n",
    "wego['ADJUSTED_ONTIME_COUNT'].value_counts()"
   ]
  },
  {
   "cell_type": "code",
   "execution_count": 8,
   "id": "b7790d37",
   "metadata": {},
   "outputs": [
    {
     "data": {
      "text/plain": [
       "0.7708411236295025"
      ]
     },
     "execution_count": 8,
     "metadata": {},
     "output_type": "execute_result"
    }
   ],
   "source": [
    "#77 percent of the buses arrived on time\n",
    "270048/(270048+80281)"
   ]
  },
  {
   "cell_type": "code",
   "execution_count": 9,
   "id": "975ca82b",
   "metadata": {},
   "outputs": [
    {
     "data": {
      "text/plain": [
       "PREV_SCHED_STOP_CANCELLED\n",
       "0.0    275746\n",
       "1.0      4254\n",
       "Name: count, dtype: int64"
      ]
     },
     "execution_count": 9,
     "metadata": {},
     "output_type": "execute_result"
    }
   ],
   "source": [
    "wego['PREV_SCHED_STOP_CANCELLED'].value_counts()"
   ]
  },
  {
   "cell_type": "code",
   "execution_count": 10,
   "id": "8a74ff21",
   "metadata": {},
   "outputs": [
    {
     "data": {
      "text/html": [
       "<div>\n",
       "<style scoped>\n",
       "    .dataframe tbody tr th:only-of-type {\n",
       "        vertical-align: middle;\n",
       "    }\n",
       "\n",
       "    .dataframe tbody tr th {\n",
       "        vertical-align: top;\n",
       "    }\n",
       "\n",
       "    .dataframe thead th {\n",
       "        text-align: right;\n",
       "    }\n",
       "</style>\n",
       "<table border=\"1\" class=\"dataframe\">\n",
       "  <thead>\n",
       "    <tr style=\"text-align: right;\">\n",
       "      <th></th>\n",
       "      <th>ADJUSTED_EARLY_COUNT</th>\n",
       "      <th>ADJUSTED_LATE_COUNT</th>\n",
       "      <th>ADJUSTED_ONTIME_COUNT</th>\n",
       "      <th>count</th>\n",
       "    </tr>\n",
       "  </thead>\n",
       "  <tbody>\n",
       "    <tr>\n",
       "      <th>0</th>\n",
       "      <td>0</td>\n",
       "      <td>0</td>\n",
       "      <td>1</td>\n",
       "      <td>270048</td>\n",
       "    </tr>\n",
       "    <tr>\n",
       "      <th>1</th>\n",
       "      <td>0</td>\n",
       "      <td>1</td>\n",
       "      <td>0</td>\n",
       "      <td>59038</td>\n",
       "    </tr>\n",
       "    <tr>\n",
       "      <th>2</th>\n",
       "      <td>0</td>\n",
       "      <td>0</td>\n",
       "      <td>0</td>\n",
       "      <td>11468</td>\n",
       "    </tr>\n",
       "    <tr>\n",
       "      <th>3</th>\n",
       "      <td>1</td>\n",
       "      <td>0</td>\n",
       "      <td>0</td>\n",
       "      <td>9775</td>\n",
       "    </tr>\n",
       "  </tbody>\n",
       "</table>\n",
       "</div>"
      ],
      "text/plain": [
       "   ADJUSTED_EARLY_COUNT  ADJUSTED_LATE_COUNT  ADJUSTED_ONTIME_COUNT   count\n",
       "0                     0                    0                      1  270048\n",
       "1                     0                    1                      0   59038\n",
       "2                     0                    0                      0   11468\n",
       "3                     1                    0                      0    9775"
      ]
     },
     "execution_count": 10,
     "metadata": {},
     "output_type": "execute_result"
    }
   ],
   "source": [
    "#Count the values that each row occurs\n",
    "adjcounts= wego[['ADJUSTED_EARLY_COUNT', 'ADJUSTED_LATE_COUNT', \n",
    "                        'ADJUSTED_ONTIME_COUNT']].value_counts().reset_index()\n",
    "adjcounts"
   ]
  },
  {
   "cell_type": "code",
   "execution_count": 11,
   "id": "c7978c29",
   "metadata": {},
   "outputs": [
    {
     "data": {
      "text/plain": [
       "0.7969285341187095"
      ]
     },
     "execution_count": 11,
     "metadata": {},
     "output_type": "execute_result"
    }
   ],
   "source": [
    "#percentage of ontime trips\n",
    "((adjcounts['count'].loc[0])/(adjcounts['count']\n",
    "                              .loc[0]+adjcounts['count']\n",
    "                           .loc[1]+adjcounts['count'].loc[3]))\n",
    "\n",
    "\n",
    "# ALt# Percent of on-time stops - using only tagged rows\n",
    "# round((wego['ADJUSTED_ONTIME_COUNT'].sum()) / (wego['ADJUSTED_ONTIME_COUNT'].sum() \n",
    "#                                                + wego['ADJUSTED_EARLY_COUNT'].sum() \n",
    "#                                                + wego['ADJUSTED_LATE_COUNT'].sum()) * 100, 2)"
   ]
  },
  {
   "cell_type": "code",
   "execution_count": 29,
   "id": "74a0e477",
   "metadata": {},
   "outputs": [
    {
     "data": {
      "image/png": "[encoded data removed]",
      "text/plain": [
       "<Figure size 640x480 with 1 Axes>"
      ]
     },
     "metadata": {},
     "output_type": "display_data"
    }
   ],
   "source": [
    "plt.hist(x=wego['ADHERENCE'],bins=10)  #, y= wego['HDWY_DEV'])\n",
    "plt.show()"
   ]
  },
  {
   "cell_type": "code",
   "execution_count": 30,
   "id": "9b2f546e",
   "metadata": {},
   "outputs": [
    {
     "data": {
      "text/plain": [
       "<Axes: xlabel='HDWY_DEV'>"
      ]
     },
     "execution_count": 30,
     "metadata": {},
     "output_type": "execute_result"
    },
    {
     "data": {
      "image/png": "[encoded data removed]",
      "text/plain": [
       "<Figure size 640x480 with 1 Axes>"
      ]
     },
     "metadata": {},
     "output_type": "display_data"
    }
   ],
   "source": [
    "sns.boxplot(x='HDWY_DEV', data=wego)"
   ]
  },
  {
   "cell_type": "code",
   "execution_count": 31,
   "id": "3cfb56f2",
   "metadata": {},
   "outputs": [
    {
     "data": {
      "text/plain": [
       "<Axes: xlabel='ADHERENCE'>"
      ]
     },
     "execution_count": 31,
     "metadata": {},
     "output_type": "execute_result"
    },
    {
     "data": {
      "image/png": "[encoded data removed]",
      "text/plain": [
       "<Figure size 640x480 with 1 Axes>"
      ]
     },
     "metadata": {},
     "output_type": "display_data"
    }
   ],
   "source": [
    "sns.boxplot(x='ADHERENCE', data=wego)"
   ]
  },
  {
   "cell_type": "code",
   "execution_count": 32,
   "id": "f4b4ac9e",
   "metadata": {},
   "outputs": [],
   "source": [
    "#sns.displot(data=wego[\"ADHERENCE\"], kde=True)\n",
    "#sns.violinplot(data=wego,x=wego[\"ADHERENCE\"])"
   ]
  },
  {
   "cell_type": "code",
   "execution_count": 33,
   "id": "2ce809b1",
   "metadata": {},
   "outputs": [
    {
     "data": {
      "text/plain": [
       "IS_RELIEF\n",
       "0    346141\n",
       "1      4188\n",
       "Name: count, dtype: int64"
      ]
     },
     "execution_count": 33,
     "metadata": {},
     "output_type": "execute_result"
    }
   ],
   "source": [
    "wego['IS_RELIEF'].value_counts()"
   ]
  },
  {
   "cell_type": "code",
   "execution_count": 2,
   "id": "014ae570",
   "metadata": {},
   "outputs": [
    {
     "ename": "NameError",
     "evalue": "name 'wego' is not defined",
     "output_type": "error",
     "traceback": [
      "\u001b[1;31m---------------------------------------------------------------------------\u001b[0m",
      "\u001b[1;31mNameError\u001b[0m                                 Traceback (most recent call last)",
      "Cell \u001b[1;32mIn[2], line 2\u001b[0m\n\u001b[0;32m      1\u001b[0m \u001b[38;5;66;03m#add scheduled column value is 1\u001b[39;00m\n\u001b[1;32m----> 2\u001b[0m ontime \u001b[38;5;241m=\u001b[39m wego[wego[\u001b[38;5;124m'\u001b[39m\u001b[38;5;124mADJUSTED_ONTIME_COUNT\u001b[39m\u001b[38;5;124m'\u001b[39m]\u001b[38;5;241m==\u001b[39m\u001b[38;5;241m1\u001b[39m]\u001b[38;5;241m&\u001b[39m ontime\n\u001b[0;32m      3\u001b[0m head()\n",
      "\u001b[1;31mNameError\u001b[0m: name 'wego' is not defined"
     ]
    }
   ],
   "source": [
    "#add scheduled column value is 1\n",
    "ontime = wego[wego['ADJUSTED_ONTIME_COUNT']==1]& ontime\n",
    "head()"
   ]
  },
  {
   "cell_type": "code",
   "execution_count": 37,
   "id": "5bc9153f",
   "metadata": {},
   "outputs": [
    {
     "data": {
      "text/html": [
       "<div>\n",
       "<style scoped>\n",
       "    .dataframe tbody tr th:only-of-type {\n",
       "        vertical-align: middle;\n",
       "    }\n",
       "\n",
       "    .dataframe tbody tr th {\n",
       "        vertical-align: top;\n",
       "    }\n",
       "\n",
       "    .dataframe thead th {\n",
       "        text-align: right;\n",
       "    }\n",
       "</style>\n",
       "<table border=\"1\" class=\"dataframe\">\n",
       "  <thead>\n",
       "    <tr style=\"text-align: right;\">\n",
       "      <th></th>\n",
       "      <th>ADHERENCE</th>\n",
       "    </tr>\n",
       "  </thead>\n",
       "  <tbody>\n",
       "    <tr>\n",
       "      <th>min</th>\n",
       "      <td>-948.533333</td>\n",
       "    </tr>\n",
       "    <tr>\n",
       "      <th>max</th>\n",
       "      <td>88.383333</td>\n",
       "    </tr>\n",
       "    <tr>\n",
       "      <th>mean</th>\n",
       "      <td>-3.188796</td>\n",
       "    </tr>\n",
       "  </tbody>\n",
       "</table>\n",
       "</div>"
      ],
      "text/plain": [
       "       ADHERENCE\n",
       "min  -948.533333\n",
       "max    88.383333\n",
       "mean   -3.188796"
      ]
     },
     "execution_count": 37,
     "metadata": {},
     "output_type": "execute_result"
    }
   ],
   "source": [
    "#wego['ADHERENCE'].agg(min, max)\n",
    "wego.agg({'ADHERENCE': ['min','max','mean']})"
   ]
  },
  {
   "cell_type": "code",
   "execution_count": 38,
   "id": "9623899c",
   "metadata": {},
   "outputs": [
    {
     "data": {
      "text/plain": [
       "88.383333"
      ]
     },
     "execution_count": 38,
     "metadata": {},
     "output_type": "execute_result"
    }
   ],
   "source": [
    "wego['ADHERENCE'].max()"
   ]
  },
  {
   "cell_type": "code",
   "execution_count": 39,
   "id": "43e3ddbd",
   "metadata": {},
   "outputs": [
    {
     "data": {
      "image/png": "[encoded data removed]",
      "text/plain": [
       "<Figure size 640x480 with 1 Axes>"
      ]
     },
     "metadata": {},
     "output_type": "display_data"
    }
   ],
   "source": [
    "plt.hist(x=wego['ADHERENCE'],bins=40, range=(-50, 15))  #, y= wego['HDWY_DEV'])\n",
    "plt.show()"
   ]
  },
  {
   "cell_type": "code",
   "execution_count": 40,
   "id": "044c5146",
   "metadata": {},
   "outputs": [
    {
     "data": {
      "text/plain": [
       "(4254, 30)"
      ]
     },
     "execution_count": 40,
     "metadata": {},
     "output_type": "execute_result"
    }
   ],
   "source": [
    "#trim cancelled = 1 and headway great\n",
    "sced = wego[wego['PREV_SCHED_STOP_CANCELLED']==1]\n",
    "#sced\n",
    "adsort= sced.sort_values(['ACTUAL_HDWY'])\n",
    "adsort.shape"
   ]
  },
  {
   "cell_type": "code",
   "execution_count": 41,
   "id": "05763ef3",
   "metadata": {},
   "outputs": [
    {
     "data": {
      "text/plain": [
       "(346075, 30)"
      ]
     },
     "execution_count": 41,
     "metadata": {},
     "output_type": "execute_result"
    }
   ],
   "source": [
    "wego2 = wego[wego['PREV_SCHED_STOP_CANCELLED']!=1]\n",
    "wego2.shape"
   ]
  },
  {
   "cell_type": "code",
   "execution_count": 42,
   "id": "b94066e0",
   "metadata": {},
   "outputs": [
    {
     "name": "stdout",
     "output_type": "stream",
     "text": [
      "-21.624767162\n",
      "56.43715000000084\n"
     ]
    }
   ],
   "source": [
    "#percentile cleaning\n",
    "headway =wego2['HDWY_DEV']\n",
    "headway2 = headway.dropna()\n",
    "headwaydev_1= np.percentile(headway2,.1)\n",
    "headwaydev_99=np.percentile(headway2,99.9)\n",
    "\n",
    "print(headwaydev_1)\n",
    "print(headwaydev_99)"
   ]
  },
  {
   "cell_type": "code",
   "execution_count": 43,
   "id": "ef29ce99",
   "metadata": {},
   "outputs": [
    {
     "data": {
      "text/plain": [
       "(269, 30)"
      ]
     },
     "execution_count": 43,
     "metadata": {},
     "output_type": "execute_result"
    }
   ],
   "source": [
    "wego3= wego2[wego2['HDWY_DEV']>=56]\n",
    "\n",
    "wego3.shape"
   ]
  },
  {
   "cell_type": "code",
   "execution_count": 44,
   "id": "34cae52b",
   "metadata": {},
   "outputs": [],
   "source": [
    "#Cleaned wego data removed PREV_SCHED_STOP_CANCELLED = 1 and Where early, late and on-time = 0"
   ]
  },
  {
   "cell_type": "code",
   "execution_count": 45,
   "id": "a0f8d3ec",
   "metadata": {},
   "outputs": [
    {
     "data": {
      "text/plain": [
       "(335191, 30)"
      ]
     },
     "execution_count": 45,
     "metadata": {},
     "output_type": "execute_result"
    }
   ],
   "source": [
    "#df.drop(df[(df['col_1'] == 1.0) & (df['col_2'] == 0.0)].index)\n",
    "\n",
    "wego4 = wego2.drop(wego2[(wego2.ADJUSTED_EARLY_COUNT==0)& (wego2.ADJUSTED_LATE_COUNT==0) & \n",
    "                        (wego2.ADJUSTED_ONTIME_COUNT==0)].index)\n",
    "\n",
    "wego4.shape"
   ]
  },
  {
   "cell_type": "code",
   "execution_count": 46,
   "id": "ec658ae6",
   "metadata": {},
   "outputs": [
    {
     "data": {
      "text/plain": [
       "ADJUSTED_ONTIME_COUNT\n",
       "1    267312\n",
       "0     67879\n",
       "Name: count, dtype: int64"
      ]
     },
     "execution_count": 46,
     "metadata": {},
     "output_type": "execute_result"
    }
   ],
   "source": [
    "wego4['ADJUSTED_ONTIME_COUNT'].value_counts()"
   ]
  },
  {
   "cell_type": "code",
   "execution_count": 47,
   "id": "e49f7f7b",
   "metadata": {},
   "outputs": [
    {
     "data": {
      "text/html": [
       "<div>\n",
       "<style scoped>\n",
       "    .dataframe tbody tr th:only-of-type {\n",
       "        vertical-align: middle;\n",
       "    }\n",
       "\n",
       "    .dataframe tbody tr th {\n",
       "        vertical-align: top;\n",
       "    }\n",
       "\n",
       "    .dataframe thead th {\n",
       "        text-align: right;\n",
       "    }\n",
       "</style>\n",
       "<table border=\"1\" class=\"dataframe\">\n",
       "  <thead>\n",
       "    <tr style=\"text-align: right;\">\n",
       "      <th></th>\n",
       "      <th>ADJUSTED_EARLY_COUNT</th>\n",
       "      <th>ADJUSTED_LATE_COUNT</th>\n",
       "      <th>ADJUSTED_ONTIME_COUNT</th>\n",
       "      <th>count</th>\n",
       "    </tr>\n",
       "  </thead>\n",
       "  <tbody>\n",
       "    <tr>\n",
       "      <th>0</th>\n",
       "      <td>0</td>\n",
       "      <td>0</td>\n",
       "      <td>1</td>\n",
       "      <td>267312</td>\n",
       "    </tr>\n",
       "    <tr>\n",
       "      <th>1</th>\n",
       "      <td>0</td>\n",
       "      <td>1</td>\n",
       "      <td>0</td>\n",
       "      <td>58183</td>\n",
       "    </tr>\n",
       "    <tr>\n",
       "      <th>2</th>\n",
       "      <td>1</td>\n",
       "      <td>0</td>\n",
       "      <td>0</td>\n",
       "      <td>9696</td>\n",
       "    </tr>\n",
       "  </tbody>\n",
       "</table>\n",
       "</div>"
      ],
      "text/plain": [
       "   ADJUSTED_EARLY_COUNT  ADJUSTED_LATE_COUNT  ADJUSTED_ONTIME_COUNT   count\n",
       "0                     0                    0                      1  267312\n",
       "1                     0                    1                      0   58183\n",
       "2                     1                    0                      0    9696"
      ]
     },
     "execution_count": 47,
     "metadata": {},
     "output_type": "execute_result"
    }
   ],
   "source": [
    "adjcounts2= wego4[['ADJUSTED_EARLY_COUNT', 'ADJUSTED_LATE_COUNT', \n",
    "                        'ADJUSTED_ONTIME_COUNT']].value_counts().reset_index()\n",
    "adjcounts2"
   ]
  },
  {
   "cell_type": "code",
   "execution_count": 48,
   "id": "48f8b7d5",
   "metadata": {},
   "outputs": [
    {
     "data": {
      "text/plain": [
       "0.7974915794278487"
      ]
     },
     "execution_count": 48,
     "metadata": {},
     "output_type": "execute_result"
    }
   ],
   "source": [
    "# On-time performance\n",
    "\n",
    "267312/(267312+58183+9696)"
   ]
  },
  {
   "cell_type": "code",
   "execution_count": 49,
   "id": "5fd423c3",
   "metadata": {},
   "outputs": [],
   "source": [
    "#Buses are on-time 80 percent of the time"
   ]
  },
  {
   "cell_type": "code",
   "execution_count": 50,
   "id": "ac35bd29",
   "metadata": {},
   "outputs": [
    {
     "name": "stdout",
     "output_type": "stream",
     "text": [
      "-21.624767162\n",
      "56.43715000000084\n"
     ]
    }
   ],
   "source": [
    "#percentile cleaning\n",
    "headwy =wego4['HDWY_DEV']\n",
    "headwy2 = headwy.dropna()\n",
    "headwydev_1= np.percentile(headwy2,.1)\n",
    "headwydev_99=np.percentile(headwy2,99.9)\n",
    "\n",
    "print(headwydev_1)\n",
    "print(headwydev_99)"
   ]
  },
  {
   "cell_type": "code",
   "execution_count": 51,
   "id": "fbd1c738",
   "metadata": {},
   "outputs": [
    {
     "name": "stdout",
     "output_type": "stream",
     "text": [
      "-57.040499999999994\n",
      "9.466666\n"
     ]
    }
   ],
   "source": [
    "#percentile cleaning\n",
    "adhe =wego4['ADHERENCE']\n",
    "adhe_1= np.percentile(adhe,.1)\n",
    "adhe_99=np.percentile(adhe,99.9)\n",
    "\n",
    "print(adhe_1)\n",
    "print(adhe_99)"
   ]
  },
  {
   "cell_type": "code",
   "execution_count": 52,
   "id": "fa954e2c",
   "metadata": {},
   "outputs": [
    {
     "data": {
      "text/plain": [
       "(334031, 30)"
      ]
     },
     "execution_count": 52,
     "metadata": {},
     "output_type": "execute_result"
    }
   ],
   "source": [
    "wego5 = wego4.drop(wego4[wego4.ADHERENCE < adhe_1].index)\n",
    "wego6 = wego5.drop(wego5[wego5.ADHERENCE > adhe_99].index)\n",
    "wego7 = wego6.drop(wego6[wego6.HDWY_DEV < headwydev_1].index)\n",
    "wego8 = wego7.drop(wego7[wego7.HDWY_DEV > headwydev_99].index)\n",
    "wego8.shape"
   ]
  },
  {
   "cell_type": "code",
   "execution_count": 54,
   "id": "f614030c",
   "metadata": {},
   "outputs": [],
   "source": [
    "# wegos=wego8\n",
    "# wego"
   ]
  },
  {
   "cell_type": "code",
   "execution_count": 55,
   "id": "5ae7a9a4",
   "metadata": {},
   "outputs": [],
   "source": [
    "adjusted_counts = wego8[['ADJUSTED_EARLY_COUNT', 'ADJUSTED_LATE_COUNT', 'ADJUSTED_ONTIME_COUNT']].value_counts().reset_index()"
   ]
  },
  {
   "cell_type": "code",
   "execution_count": 56,
   "id": "e8c60f18",
   "metadata": {},
   "outputs": [
    {
     "data": {
      "text/html": [
       "<div>\n",
       "<style scoped>\n",
       "    .dataframe tbody tr th:only-of-type {\n",
       "        vertical-align: middle;\n",
       "    }\n",
       "\n",
       "    .dataframe tbody tr th {\n",
       "        vertical-align: top;\n",
       "    }\n",
       "\n",
       "    .dataframe thead th {\n",
       "        text-align: right;\n",
       "    }\n",
       "</style>\n",
       "<table border=\"1\" class=\"dataframe\">\n",
       "  <thead>\n",
       "    <tr style=\"text-align: right;\">\n",
       "      <th></th>\n",
       "      <th>ADJUSTED_EARLY_COUNT</th>\n",
       "      <th>ADJUSTED_LATE_COUNT</th>\n",
       "      <th>ADJUSTED_ONTIME_COUNT</th>\n",
       "      <th>count</th>\n",
       "    </tr>\n",
       "  </thead>\n",
       "  <tbody>\n",
       "    <tr>\n",
       "      <th>0</th>\n",
       "      <td>0</td>\n",
       "      <td>0</td>\n",
       "      <td>1</td>\n",
       "      <td>266891</td>\n",
       "    </tr>\n",
       "    <tr>\n",
       "      <th>1</th>\n",
       "      <td>0</td>\n",
       "      <td>1</td>\n",
       "      <td>0</td>\n",
       "      <td>57690</td>\n",
       "    </tr>\n",
       "    <tr>\n",
       "      <th>2</th>\n",
       "      <td>1</td>\n",
       "      <td>0</td>\n",
       "      <td>0</td>\n",
       "      <td>9450</td>\n",
       "    </tr>\n",
       "  </tbody>\n",
       "</table>\n",
       "</div>"
      ],
      "text/plain": [
       "   ADJUSTED_EARLY_COUNT  ADJUSTED_LATE_COUNT  ADJUSTED_ONTIME_COUNT   count\n",
       "0                     0                    0                      1  266891\n",
       "1                     0                    1                      0   57690\n",
       "2                     1                    0                      0    9450"
      ]
     },
     "execution_count": 56,
     "metadata": {},
     "output_type": "execute_result"
    }
   ],
   "source": [
    "adjusted_counts"
   ]
  },
  {
   "cell_type": "code",
   "execution_count": 57,
   "id": "d70252bb",
   "metadata": {},
   "outputs": [
    {
     "data": {
      "text/plain": [
       "0.7990006915525805"
      ]
     },
     "execution_count": 57,
     "metadata": {},
     "output_type": "execute_result"
    }
   ],
   "source": [
    "#On-time\n",
    "266891/(266891+57690+9450)"
   ]
  },
  {
   "cell_type": "code",
   "execution_count": 58,
   "id": "2493e950",
   "metadata": {},
   "outputs": [
    {
     "data": {
      "text/plain": [
       "0.028290787382009453"
      ]
     },
     "execution_count": 58,
     "metadata": {},
     "output_type": "execute_result"
    }
   ],
   "source": [
    "#Early\n",
    "9450/(266891+57690+9450)"
   ]
  },
  {
   "cell_type": "code",
   "execution_count": 59,
   "id": "461823c0",
   "metadata": {},
   "outputs": [
    {
     "data": {
      "text/plain": [
       "0.1727085210654101"
      ]
     },
     "execution_count": 59,
     "metadata": {},
     "output_type": "execute_result"
    }
   ],
   "source": [
    "#Late\n",
    "57690/(266891+57690+9450)"
   ]
  },
  {
   "cell_type": "code",
   "execution_count": null,
   "id": "0aa82bc5",
   "metadata": {},
   "outputs": [],
   "source": [
    "headway, bunching,  normal "
   ]
  },
  {
   "cell_type": "code",
   "execution_count": null,
   "id": "03c52a0e",
   "metadata": {},
   "outputs": [],
   "source": []
  },
  {
   "cell_type": "code",
   "execution_count": null,
   "id": "54ddaa7e",
   "metadata": {},
   "outputs": [],
   "source": []
  }
 ],
 "metadata": {
  "kernelspec": {
   "display_name": "Python 3 (ipykernel)",
   "language": "python",
   "name": "python3"
  },
  "language_info": {
   "codemirror_mode": {
    "name": "ipython",
    "version": 3
   },
   "file_extension": ".py",
   "mimetype": "text/x-python",
   "name": "python",
   "nbconvert_exporter": "python",
   "pygments_lexer": "ipython3",
   "version": "3.11.7"
  }
 },
 "nbformat": 4,
 "nbformat_minor": 5
}
