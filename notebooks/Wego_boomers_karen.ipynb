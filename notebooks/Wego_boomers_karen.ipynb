{
 "cells": [
  {
   "cell_type": "code",
   "execution_count": 1,
   "id": "ef53b438",
   "metadata": {},
   "outputs": [],
   "source": [
    "import pandas as pd\n",
    "import numpy as np\n",
    "import matplotlib.pyplot as plt\n",
    "import seaborn as sns"
   ]
  },
  {
   "cell_type": "code",
   "execution_count": 2,
   "id": "0d22c32e",
   "metadata": {},
   "outputs": [
    {
     "name": "stdout",
     "output_type": "stream",
     "text": [
      "<class 'pandas.core.frame.DataFrame'>\n",
      "RangeIndex: 350329 entries, 0 to 350328\n",
      "Data columns (total 30 columns):\n",
      " #   Column                     Non-Null Count   Dtype  \n",
      "---  ------                     --------------   -----  \n",
      " 0   CALENDAR_ID                350329 non-null  int64  \n",
      " 1   SERVICE_ABBR               350329 non-null  int64  \n",
      " 2   ADHERENCE_ID               350329 non-null  int64  \n",
      " 3   DATE                       350329 non-null  object \n",
      " 4   ROUTE_ABBR                 350329 non-null  int64  \n",
      " 5   BLOCK_ABBR                 350329 non-null  int64  \n",
      " 6   OPERATOR                   350329 non-null  int64  \n",
      " 7   TRIP_ID                    350329 non-null  int64  \n",
      " 8   OVERLOAD_ID                350329 non-null  int64  \n",
      " 9   ROUTE_DIRECTION_NAME       350329 non-null  object \n",
      " 10  TIME_POINT_ABBR            350329 non-null  object \n",
      " 11  ROUTE_STOP_SEQUENCE        350318 non-null  float64\n",
      " 12  TRIP_EDGE                  350329 non-null  int64  \n",
      " 13  LATITUDE                   350329 non-null  float64\n",
      " 14  LONGITUDE                  350329 non-null  float64\n",
      " 15  SCHEDULED_TIME             350329 non-null  object \n",
      " 16  ACTUAL_ARRIVAL_TIME        338870 non-null  object \n",
      " 17  ACTUAL_DEPARTURE_TIME      338861 non-null  object \n",
      " 18  ADHERENCE                  338861 non-null  float64\n",
      " 19  SCHEDULED_HDWY             274738 non-null  float64\n",
      " 20  ACTUAL_HDWY                266062 non-null  float64\n",
      " 21  HDWY_DEV                   265893 non-null  float64\n",
      " 22  ADJUSTED_EARLY_COUNT       350329 non-null  int64  \n",
      " 23  ADJUSTED_LATE_COUNT        350329 non-null  int64  \n",
      " 24  ADJUSTED_ONTIME_COUNT      350329 non-null  int64  \n",
      " 25  STOP_CANCELLED             350329 non-null  int64  \n",
      " 26  PREV_SCHED_STOP_CANCELLED  280000 non-null  float64\n",
      " 27  IS_RELIEF                  350329 non-null  int64  \n",
      " 28  DWELL_IN_MINS              338858 non-null  float64\n",
      " 29  SCHEDULED_LAYOVER_MINUTES  53102 non-null   float64\n",
      "dtypes: float64(10), int64(14), object(6)\n",
      "memory usage: 80.2+ MB\n"
     ]
    }
   ],
   "source": [
    "wego = pd.read_csv(\"../data/Headway Data, 8-1-2023 to 9-30-2023.csv\")\n",
    "\n",
    "wego.info()"
   ]
  },
  {
   "cell_type": "code",
   "execution_count": 3,
   "id": "8aa9361f",
   "metadata": {},
   "outputs": [
    {
     "data": {
      "text/html": [
       "<div>\n",
       "<style scoped>\n",
       "    .dataframe tbody tr th:only-of-type {\n",
       "        vertical-align: middle;\n",
       "    }\n",
       "\n",
       "    .dataframe tbody tr th {\n",
       "        vertical-align: top;\n",
       "    }\n",
       "\n",
       "    .dataframe thead th {\n",
       "        text-align: right;\n",
       "    }\n",
       "</style>\n",
       "<table border=\"1\" class=\"dataframe\">\n",
       "  <thead>\n",
       "    <tr style=\"text-align: right;\">\n",
       "      <th></th>\n",
       "      <th>CALENDAR_ID</th>\n",
       "      <th>SERVICE_ABBR</th>\n",
       "      <th>ADHERENCE_ID</th>\n",
       "      <th>DATE</th>\n",
       "      <th>ROUTE_ABBR</th>\n",
       "      <th>BLOCK_ABBR</th>\n",
       "      <th>OPERATOR</th>\n",
       "      <th>TRIP_ID</th>\n",
       "      <th>OVERLOAD_ID</th>\n",
       "      <th>ROUTE_DIRECTION_NAME</th>\n",
       "      <th>...</th>\n",
       "      <th>ACTUAL_HDWY</th>\n",
       "      <th>HDWY_DEV</th>\n",
       "      <th>ADJUSTED_EARLY_COUNT</th>\n",
       "      <th>ADJUSTED_LATE_COUNT</th>\n",
       "      <th>ADJUSTED_ONTIME_COUNT</th>\n",
       "      <th>STOP_CANCELLED</th>\n",
       "      <th>PREV_SCHED_STOP_CANCELLED</th>\n",
       "      <th>IS_RELIEF</th>\n",
       "      <th>DWELL_IN_MINS</th>\n",
       "      <th>SCHEDULED_LAYOVER_MINUTES</th>\n",
       "    </tr>\n",
       "  </thead>\n",
       "  <tbody>\n",
       "    <tr>\n",
       "      <th>0</th>\n",
       "      <td>120230801</td>\n",
       "      <td>1</td>\n",
       "      <td>99457890</td>\n",
       "      <td>2023-08-01</td>\n",
       "      <td>22</td>\n",
       "      <td>2200</td>\n",
       "      <td>1040</td>\n",
       "      <td>345104</td>\n",
       "      <td>0</td>\n",
       "      <td>TO DOWNTOWN</td>\n",
       "      <td>...</td>\n",
       "      <td>NaN</td>\n",
       "      <td>NaN</td>\n",
       "      <td>0</td>\n",
       "      <td>0</td>\n",
       "      <td>1</td>\n",
       "      <td>0</td>\n",
       "      <td>0.0</td>\n",
       "      <td>0</td>\n",
       "      <td>6.500000</td>\n",
       "      <td>NaN</td>\n",
       "    </tr>\n",
       "    <tr>\n",
       "      <th>1</th>\n",
       "      <td>120230801</td>\n",
       "      <td>1</td>\n",
       "      <td>99457891</td>\n",
       "      <td>2023-08-01</td>\n",
       "      <td>22</td>\n",
       "      <td>2200</td>\n",
       "      <td>1040</td>\n",
       "      <td>345104</td>\n",
       "      <td>0</td>\n",
       "      <td>TO DOWNTOWN</td>\n",
       "      <td>...</td>\n",
       "      <td>NaN</td>\n",
       "      <td>NaN</td>\n",
       "      <td>0</td>\n",
       "      <td>0</td>\n",
       "      <td>1</td>\n",
       "      <td>0</td>\n",
       "      <td>0.0</td>\n",
       "      <td>0</td>\n",
       "      <td>0.000000</td>\n",
       "      <td>NaN</td>\n",
       "    </tr>\n",
       "    <tr>\n",
       "      <th>2</th>\n",
       "      <td>120230801</td>\n",
       "      <td>1</td>\n",
       "      <td>99457892</td>\n",
       "      <td>2023-08-01</td>\n",
       "      <td>22</td>\n",
       "      <td>2200</td>\n",
       "      <td>1040</td>\n",
       "      <td>345104</td>\n",
       "      <td>0</td>\n",
       "      <td>TO DOWNTOWN</td>\n",
       "      <td>...</td>\n",
       "      <td>NaN</td>\n",
       "      <td>NaN</td>\n",
       "      <td>0</td>\n",
       "      <td>0</td>\n",
       "      <td>1</td>\n",
       "      <td>0</td>\n",
       "      <td>0.0</td>\n",
       "      <td>0</td>\n",
       "      <td>0.000000</td>\n",
       "      <td>NaN</td>\n",
       "    </tr>\n",
       "    <tr>\n",
       "      <th>3</th>\n",
       "      <td>120230801</td>\n",
       "      <td>1</td>\n",
       "      <td>99457893</td>\n",
       "      <td>2023-08-01</td>\n",
       "      <td>22</td>\n",
       "      <td>2200</td>\n",
       "      <td>1040</td>\n",
       "      <td>345104</td>\n",
       "      <td>0</td>\n",
       "      <td>TO DOWNTOWN</td>\n",
       "      <td>...</td>\n",
       "      <td>NaN</td>\n",
       "      <td>NaN</td>\n",
       "      <td>0</td>\n",
       "      <td>0</td>\n",
       "      <td>1</td>\n",
       "      <td>0</td>\n",
       "      <td>NaN</td>\n",
       "      <td>0</td>\n",
       "      <td>0.000000</td>\n",
       "      <td>NaN</td>\n",
       "    </tr>\n",
       "    <tr>\n",
       "      <th>4</th>\n",
       "      <td>120230801</td>\n",
       "      <td>1</td>\n",
       "      <td>99457894</td>\n",
       "      <td>2023-08-01</td>\n",
       "      <td>22</td>\n",
       "      <td>2200</td>\n",
       "      <td>1040</td>\n",
       "      <td>345105</td>\n",
       "      <td>0</td>\n",
       "      <td>FROM DOWNTOWN</td>\n",
       "      <td>...</td>\n",
       "      <td>NaN</td>\n",
       "      <td>NaN</td>\n",
       "      <td>0</td>\n",
       "      <td>0</td>\n",
       "      <td>1</td>\n",
       "      <td>0</td>\n",
       "      <td>0.0</td>\n",
       "      <td>0</td>\n",
       "      <td>12.866666</td>\n",
       "      <td>5.0</td>\n",
       "    </tr>\n",
       "  </tbody>\n",
       "</table>\n",
       "<p>5 rows × 30 columns</p>\n",
       "</div>"
      ],
      "text/plain": [
       "   CALENDAR_ID  SERVICE_ABBR  ADHERENCE_ID        DATE  ROUTE_ABBR  \\\n",
       "0    120230801             1      99457890  2023-08-01          22   \n",
       "1    120230801             1      99457891  2023-08-01          22   \n",
       "2    120230801             1      99457892  2023-08-01          22   \n",
       "3    120230801             1      99457893  2023-08-01          22   \n",
       "4    120230801             1      99457894  2023-08-01          22   \n",
       "\n",
       "   BLOCK_ABBR  OPERATOR  TRIP_ID  OVERLOAD_ID ROUTE_DIRECTION_NAME  ...  \\\n",
       "0        2200      1040   345104            0          TO DOWNTOWN  ...   \n",
       "1        2200      1040   345104            0          TO DOWNTOWN  ...   \n",
       "2        2200      1040   345104            0          TO DOWNTOWN  ...   \n",
       "3        2200      1040   345104            0          TO DOWNTOWN  ...   \n",
       "4        2200      1040   345105            0        FROM DOWNTOWN  ...   \n",
       "\n",
       "  ACTUAL_HDWY  HDWY_DEV  ADJUSTED_EARLY_COUNT  ADJUSTED_LATE_COUNT  \\\n",
       "0         NaN       NaN                     0                    0   \n",
       "1         NaN       NaN                     0                    0   \n",
       "2         NaN       NaN                     0                    0   \n",
       "3         NaN       NaN                     0                    0   \n",
       "4         NaN       NaN                     0                    0   \n",
       "\n",
       "   ADJUSTED_ONTIME_COUNT STOP_CANCELLED PREV_SCHED_STOP_CANCELLED IS_RELIEF  \\\n",
       "0                      1              0                       0.0         0   \n",
       "1                      1              0                       0.0         0   \n",
       "2                      1              0                       0.0         0   \n",
       "3                      1              0                       NaN         0   \n",
       "4                      1              0                       0.0         0   \n",
       "\n",
       "   DWELL_IN_MINS  SCHEDULED_LAYOVER_MINUTES  \n",
       "0       6.500000                        NaN  \n",
       "1       0.000000                        NaN  \n",
       "2       0.000000                        NaN  \n",
       "3       0.000000                        NaN  \n",
       "4      12.866666                        5.0  \n",
       "\n",
       "[5 rows x 30 columns]"
      ]
     },
     "execution_count": 3,
     "metadata": {},
     "output_type": "execute_result"
    }
   ],
   "source": [
    "wego.head()"
   ]
  },
  {
   "cell_type": "markdown",
   "id": "f1c98a49",
   "metadata": {},
   "source": [
    "Route"
   ]
  },
  {
   "cell_type": "code",
   "execution_count": 4,
   "id": "c69447a9",
   "metadata": {},
   "outputs": [
    {
     "name": "stdout",
     "output_type": "stream",
     "text": [
      "<class 'pandas.core.frame.DataFrame'>\n",
      "RangeIndex: 350329 entries, 0 to 350328\n",
      "Data columns (total 30 columns):\n",
      " #   Column                     Non-Null Count   Dtype  \n",
      "---  ------                     --------------   -----  \n",
      " 0   CALENDAR_ID                350329 non-null  int64  \n",
      " 1   SERVICE_ABBR               350329 non-null  int64  \n",
      " 2   ADHERENCE_ID               350329 non-null  int64  \n",
      " 3   DATE                       350329 non-null  object \n",
      " 4   ROUTE_ABBR                 350329 non-null  int64  \n",
      " 5   BLOCK_ABBR                 350329 non-null  int64  \n",
      " 6   OPERATOR                   350329 non-null  int64  \n",
      " 7   TRIP_ID                    350329 non-null  int64  \n",
      " 8   OVERLOAD_ID                350329 non-null  int64  \n",
      " 9   ROUTE_DIRECTION_NAME       350329 non-null  object \n",
      " 10  TIME_POINT_ABBR            350329 non-null  object \n",
      " 11  ROUTE_STOP_SEQUENCE        350318 non-null  float64\n",
      " 12  TRIP_EDGE                  350329 non-null  int64  \n",
      " 13  LATITUDE                   350329 non-null  float64\n",
      " 14  LONGITUDE                  350329 non-null  float64\n",
      " 15  SCHEDULED_TIME             350329 non-null  object \n",
      " 16  ACTUAL_ARRIVAL_TIME        338870 non-null  object \n",
      " 17  ACTUAL_DEPARTURE_TIME      338861 non-null  object \n",
      " 18  ADHERENCE                  338861 non-null  float64\n",
      " 19  SCHEDULED_HDWY             274738 non-null  float64\n",
      " 20  ACTUAL_HDWY                266062 non-null  float64\n",
      " 21  HDWY_DEV                   265893 non-null  float64\n",
      " 22  ADJUSTED_EARLY_COUNT       350329 non-null  int64  \n",
      " 23  ADJUSTED_LATE_COUNT        350329 non-null  int64  \n",
      " 24  ADJUSTED_ONTIME_COUNT      350329 non-null  int64  \n",
      " 25  STOP_CANCELLED             350329 non-null  int64  \n",
      " 26  PREV_SCHED_STOP_CANCELLED  280000 non-null  float64\n",
      " 27  IS_RELIEF                  350329 non-null  int64  \n",
      " 28  DWELL_IN_MINS              338858 non-null  float64\n",
      " 29  SCHEDULED_LAYOVER_MINUTES  53102 non-null   float64\n",
      "dtypes: float64(10), int64(14), object(6)\n",
      "memory usage: 80.2+ MB\n"
     ]
    }
   ],
   "source": [
    "wego.info()"
   ]
  },
  {
   "cell_type": "code",
   "execution_count": 5,
   "id": "89aeeef3",
   "metadata": {},
   "outputs": [
    {
     "data": {
      "text/plain": [
       "ROUTE_ABBR\n",
       "3     47162\n",
       "7     18026\n",
       "22    25959\n",
       "23    42108\n",
       "50    43291\n",
       "52    51819\n",
       "55    61944\n",
       "56    60020\n",
       "Name: count, dtype: int64"
      ]
     },
     "execution_count": 5,
     "metadata": {},
     "output_type": "execute_result"
    }
   ],
   "source": [
    "wego['ROUTE_ABBR'].value_counts().sort_index()"
   ]
  },
  {
   "cell_type": "code",
   "execution_count": 6,
   "id": "e81b045b",
   "metadata": {},
   "outputs": [],
   "source": [
    "adherence_count = wego['ADHERENCE'].count()\n",
    "adherence_max = wego['ADHERENCE'].max()\n",
    "adherence_mean = wego['ADHERENCE'].mean()"
   ]
  },
  {
   "cell_type": "code",
   "execution_count": 7,
   "id": "8e450580",
   "metadata": {},
   "outputs": [],
   "source": [
    "adherence_count_m = {\n",
    "    'Statistic': ['Count', 'Max', 'Mean'],\n",
    "    'Value': [adherence_count, adherence_max, adherence_mean]\n",
    "}"
   ]
  },
  {
   "cell_type": "code",
   "execution_count": 8,
   "id": "1de91524",
   "metadata": {},
   "outputs": [],
   "source": [
    "result_df = pd.DataFrame(adherence_count_m)"
   ]
  },
  {
   "cell_type": "code",
   "execution_count": 9,
   "id": "9bf70ebf",
   "metadata": {},
   "outputs": [
    {
     "name": "stdout",
     "output_type": "stream",
     "text": [
      "  Statistic          Value\n",
      "0     Count  338861.000000\n",
      "1       Max      88.383333\n",
      "2      Mean      -3.188796\n"
     ]
    }
   ],
   "source": [
    "print(result_df)"
   ]
  },
  {
   "cell_type": "code",
   "execution_count": 10,
   "id": "daf77510",
   "metadata": {},
   "outputs": [
    {
     "data": {
      "text/plain": [
       "Index(['CALENDAR_ID', 'SERVICE_ABBR', 'ADHERENCE_ID', 'DATE', 'ROUTE_ABBR',\n",
       "       'BLOCK_ABBR', 'OPERATOR', 'TRIP_ID', 'OVERLOAD_ID',\n",
       "       'ROUTE_DIRECTION_NAME', 'TIME_POINT_ABBR', 'ROUTE_STOP_SEQUENCE',\n",
       "       'TRIP_EDGE', 'LATITUDE', 'LONGITUDE', 'SCHEDULED_TIME',\n",
       "       'ACTUAL_ARRIVAL_TIME', 'ACTUAL_DEPARTURE_TIME', 'ADHERENCE',\n",
       "       'SCHEDULED_HDWY', 'ACTUAL_HDWY', 'HDWY_DEV', 'ADJUSTED_EARLY_COUNT',\n",
       "       'ADJUSTED_LATE_COUNT', 'ADJUSTED_ONTIME_COUNT', 'STOP_CANCELLED',\n",
       "       'PREV_SCHED_STOP_CANCELLED', 'IS_RELIEF', 'DWELL_IN_MINS',\n",
       "       'SCHEDULED_LAYOVER_MINUTES'],\n",
       "      dtype='object')"
      ]
     },
     "execution_count": 10,
     "metadata": {},
     "output_type": "execute_result"
    }
   ],
   "source": [
    "wego.columns"
   ]
  },
  {
   "cell_type": "code",
   "execution_count": 11,
   "id": "ac06deab",
   "metadata": {},
   "outputs": [
    {
     "data": {
      "text/plain": [
       "79.69"
      ]
     },
     "execution_count": 11,
     "metadata": {},
     "output_type": "execute_result"
    }
   ],
   "source": [
    "# Percent of on-time stops - using only tagged rows\n",
    "round((wego['ADJUSTED_ONTIME_COUNT'].sum()) / (wego['ADJUSTED_ONTIME_COUNT'].sum() \n",
    "                                               + wego['ADJUSTED_EARLY_COUNT'].sum() \n",
    "                                               + wego['ADJUSTED_LATE_COUNT'].sum()) * 100, 2)"
   ]
  },
  {
   "cell_type": "code",
   "execution_count": 12,
   "id": "88b47b3f",
   "metadata": {},
   "outputs": [
    {
     "data": {
      "text/plain": [
       "2.88"
      ]
     },
     "execution_count": 12,
     "metadata": {},
     "output_type": "execute_result"
    }
   ],
   "source": [
    "# Percent of early - using only tagged rows\n",
    "round((wego['ADJUSTED_EARLY_COUNT'].sum()) / (wego['ADJUSTED_ONTIME_COUNT'].sum() \n",
    "                                               + wego['ADJUSTED_EARLY_COUNT'].sum() \n",
    "                                               + wego['ADJUSTED_LATE_COUNT'].sum()) * 100, 2)"
   ]
  },
  {
   "cell_type": "code",
   "execution_count": 13,
   "id": "57f8ea62",
   "metadata": {},
   "outputs": [
    {
     "data": {
      "text/plain": [
       "0.7708411236295025"
      ]
     },
     "execution_count": 13,
     "metadata": {},
     "output_type": "execute_result"
    }
   ],
   "source": [
    "wego['ADJUSTED_ONTIME_COUNT'].sum() / wego.shape[0]"
   ]
  },
  {
   "cell_type": "code",
   "execution_count": 14,
   "id": "a55c2075",
   "metadata": {},
   "outputs": [
    {
     "data": {
      "text/plain": [
       "0.027902343225939045"
      ]
     },
     "execution_count": 14,
     "metadata": {},
     "output_type": "execute_result"
    }
   ],
   "source": [
    "wego['ADJUSTED_EARLY_COUNT'].sum() / wego.shape[0]"
   ]
  },
  {
   "cell_type": "code",
   "execution_count": 15,
   "id": "cdb21e06",
   "metadata": {},
   "outputs": [],
   "source": [
    "#find rows that do not have a value for adjusted on time, early, or late count.\n",
    "zero_counts = wego[(wego['ADJUSTED_ONTIME_COUNT']==0) & (wego['ADJUSTED_EARLY_COUNT']==0) & (wego['ADJUSTED_LATE_COUNT']==0)]"
   ]
  },
  {
   "cell_type": "code",
   "execution_count": 16,
   "id": "0a008241",
   "metadata": {},
   "outputs": [
    {
     "data": {
      "text/html": [
       "<div>\n",
       "<style scoped>\n",
       "    .dataframe tbody tr th:only-of-type {\n",
       "        vertical-align: middle;\n",
       "    }\n",
       "\n",
       "    .dataframe tbody tr th {\n",
       "        vertical-align: top;\n",
       "    }\n",
       "\n",
       "    .dataframe thead th {\n",
       "        text-align: right;\n",
       "    }\n",
       "</style>\n",
       "<table border=\"1\" class=\"dataframe\">\n",
       "  <thead>\n",
       "    <tr style=\"text-align: right;\">\n",
       "      <th></th>\n",
       "      <th>ADJUSTED_EARLY_COUNT</th>\n",
       "      <th>ADJUSTED_LATE_COUNT</th>\n",
       "      <th>ADJUSTED_ONTIME_COUNT</th>\n",
       "      <th>count</th>\n",
       "    </tr>\n",
       "  </thead>\n",
       "  <tbody>\n",
       "    <tr>\n",
       "      <th>0</th>\n",
       "      <td>0</td>\n",
       "      <td>0</td>\n",
       "      <td>1</td>\n",
       "      <td>270048</td>\n",
       "    </tr>\n",
       "    <tr>\n",
       "      <th>1</th>\n",
       "      <td>0</td>\n",
       "      <td>1</td>\n",
       "      <td>0</td>\n",
       "      <td>59038</td>\n",
       "    </tr>\n",
       "    <tr>\n",
       "      <th>2</th>\n",
       "      <td>0</td>\n",
       "      <td>0</td>\n",
       "      <td>0</td>\n",
       "      <td>11468</td>\n",
       "    </tr>\n",
       "    <tr>\n",
       "      <th>3</th>\n",
       "      <td>1</td>\n",
       "      <td>0</td>\n",
       "      <td>0</td>\n",
       "      <td>9775</td>\n",
       "    </tr>\n",
       "  </tbody>\n",
       "</table>\n",
       "</div>"
      ],
      "text/plain": [
       "   ADJUSTED_EARLY_COUNT  ADJUSTED_LATE_COUNT  ADJUSTED_ONTIME_COUNT   count\n",
       "0                     0                    0                      1  270048\n",
       "1                     0                    1                      0   59038\n",
       "2                     0                    0                      0   11468\n",
       "3                     1                    0                      0    9775"
      ]
     },
     "execution_count": 16,
     "metadata": {},
     "output_type": "execute_result"
    }
   ],
   "source": [
    "wego[['ADJUSTED_EARLY_COUNT', 'ADJUSTED_LATE_COUNT', 'ADJUSTED_ONTIME_COUNT']].value_counts().reset_index()"
   ]
  },
  {
   "cell_type": "code",
   "execution_count": 17,
   "id": "1a0afd67",
   "metadata": {},
   "outputs": [
    {
     "data": {
      "text/html": [
       "<div>\n",
       "<style scoped>\n",
       "    .dataframe tbody tr th:only-of-type {\n",
       "        vertical-align: middle;\n",
       "    }\n",
       "\n",
       "    .dataframe tbody tr th {\n",
       "        vertical-align: top;\n",
       "    }\n",
       "\n",
       "    .dataframe thead th {\n",
       "        text-align: right;\n",
       "    }\n",
       "</style>\n",
       "<table border=\"1\" class=\"dataframe\">\n",
       "  <thead>\n",
       "    <tr style=\"text-align: right;\">\n",
       "      <th></th>\n",
       "      <th>CALENDAR_ID</th>\n",
       "      <th>SERVICE_ABBR</th>\n",
       "      <th>ADHERENCE_ID</th>\n",
       "      <th>DATE</th>\n",
       "      <th>ROUTE_ABBR</th>\n",
       "      <th>BLOCK_ABBR</th>\n",
       "      <th>OPERATOR</th>\n",
       "      <th>TRIP_ID</th>\n",
       "      <th>OVERLOAD_ID</th>\n",
       "      <th>ROUTE_DIRECTION_NAME</th>\n",
       "      <th>...</th>\n",
       "      <th>ACTUAL_HDWY</th>\n",
       "      <th>HDWY_DEV</th>\n",
       "      <th>ADJUSTED_EARLY_COUNT</th>\n",
       "      <th>ADJUSTED_LATE_COUNT</th>\n",
       "      <th>ADJUSTED_ONTIME_COUNT</th>\n",
       "      <th>STOP_CANCELLED</th>\n",
       "      <th>PREV_SCHED_STOP_CANCELLED</th>\n",
       "      <th>IS_RELIEF</th>\n",
       "      <th>DWELL_IN_MINS</th>\n",
       "      <th>SCHEDULED_LAYOVER_MINUTES</th>\n",
       "    </tr>\n",
       "  </thead>\n",
       "  <tbody>\n",
       "    <tr>\n",
       "      <th>350249</th>\n",
       "      <td>120230930</td>\n",
       "      <td>2</td>\n",
       "      <td>100406533</td>\n",
       "      <td>2023-09-30</td>\n",
       "      <td>7</td>\n",
       "      <td>701</td>\n",
       "      <td>2531</td>\n",
       "      <td>353393</td>\n",
       "      <td>0</td>\n",
       "      <td>FROM DOWNTOWN</td>\n",
       "      <td>...</td>\n",
       "      <td>NaN</td>\n",
       "      <td>NaN</td>\n",
       "      <td>0</td>\n",
       "      <td>0</td>\n",
       "      <td>0</td>\n",
       "      <td>0</td>\n",
       "      <td>0.0</td>\n",
       "      <td>0</td>\n",
       "      <td>NaN</td>\n",
       "      <td>NaN</td>\n",
       "    </tr>\n",
       "    <tr>\n",
       "      <th>350295</th>\n",
       "      <td>120230930</td>\n",
       "      <td>2</td>\n",
       "      <td>100406581</td>\n",
       "      <td>2023-09-30</td>\n",
       "      <td>7</td>\n",
       "      <td>702</td>\n",
       "      <td>2312</td>\n",
       "      <td>353438</td>\n",
       "      <td>0</td>\n",
       "      <td>TO DOWNTOWN</td>\n",
       "      <td>...</td>\n",
       "      <td>NaN</td>\n",
       "      <td>NaN</td>\n",
       "      <td>0</td>\n",
       "      <td>0</td>\n",
       "      <td>0</td>\n",
       "      <td>0</td>\n",
       "      <td>NaN</td>\n",
       "      <td>0</td>\n",
       "      <td>NaN</td>\n",
       "      <td>NaN</td>\n",
       "    </tr>\n",
       "    <tr>\n",
       "      <th>350313</th>\n",
       "      <td>120230930</td>\n",
       "      <td>2</td>\n",
       "      <td>100406599</td>\n",
       "      <td>2023-09-30</td>\n",
       "      <td>7</td>\n",
       "      <td>702</td>\n",
       "      <td>2312</td>\n",
       "      <td>353444</td>\n",
       "      <td>0</td>\n",
       "      <td>TO DOWNTOWN</td>\n",
       "      <td>...</td>\n",
       "      <td>NaN</td>\n",
       "      <td>NaN</td>\n",
       "      <td>0</td>\n",
       "      <td>0</td>\n",
       "      <td>0</td>\n",
       "      <td>0</td>\n",
       "      <td>NaN</td>\n",
       "      <td>0</td>\n",
       "      <td>NaN</td>\n",
       "      <td>NaN</td>\n",
       "    </tr>\n",
       "    <tr>\n",
       "      <th>350319</th>\n",
       "      <td>120230930</td>\n",
       "      <td>2</td>\n",
       "      <td>100406605</td>\n",
       "      <td>2023-09-30</td>\n",
       "      <td>7</td>\n",
       "      <td>702</td>\n",
       "      <td>2312</td>\n",
       "      <td>353446</td>\n",
       "      <td>0</td>\n",
       "      <td>TO DOWNTOWN</td>\n",
       "      <td>...</td>\n",
       "      <td>NaN</td>\n",
       "      <td>NaN</td>\n",
       "      <td>0</td>\n",
       "      <td>0</td>\n",
       "      <td>0</td>\n",
       "      <td>0</td>\n",
       "      <td>NaN</td>\n",
       "      <td>0</td>\n",
       "      <td>NaN</td>\n",
       "      <td>NaN</td>\n",
       "    </tr>\n",
       "    <tr>\n",
       "      <th>350321</th>\n",
       "      <td>120230930</td>\n",
       "      <td>2</td>\n",
       "      <td>100406607</td>\n",
       "      <td>2023-09-30</td>\n",
       "      <td>7</td>\n",
       "      <td>702</td>\n",
       "      <td>2312</td>\n",
       "      <td>353447</td>\n",
       "      <td>0</td>\n",
       "      <td>FROM DOWNTOWN</td>\n",
       "      <td>...</td>\n",
       "      <td>NaN</td>\n",
       "      <td>NaN</td>\n",
       "      <td>0</td>\n",
       "      <td>0</td>\n",
       "      <td>0</td>\n",
       "      <td>0</td>\n",
       "      <td>0.0</td>\n",
       "      <td>0</td>\n",
       "      <td>NaN</td>\n",
       "      <td>NaN</td>\n",
       "    </tr>\n",
       "  </tbody>\n",
       "</table>\n",
       "<p>5 rows × 30 columns</p>\n",
       "</div>"
      ],
      "text/plain": [
       "        CALENDAR_ID  SERVICE_ABBR  ADHERENCE_ID        DATE  ROUTE_ABBR  \\\n",
       "350249    120230930             2     100406533  2023-09-30           7   \n",
       "350295    120230930             2     100406581  2023-09-30           7   \n",
       "350313    120230930             2     100406599  2023-09-30           7   \n",
       "350319    120230930             2     100406605  2023-09-30           7   \n",
       "350321    120230930             2     100406607  2023-09-30           7   \n",
       "\n",
       "        BLOCK_ABBR  OPERATOR  TRIP_ID  OVERLOAD_ID ROUTE_DIRECTION_NAME  ...  \\\n",
       "350249         701      2531   353393            0        FROM DOWNTOWN  ...   \n",
       "350295         702      2312   353438            0          TO DOWNTOWN  ...   \n",
       "350313         702      2312   353444            0          TO DOWNTOWN  ...   \n",
       "350319         702      2312   353446            0          TO DOWNTOWN  ...   \n",
       "350321         702      2312   353447            0        FROM DOWNTOWN  ...   \n",
       "\n",
       "       ACTUAL_HDWY  HDWY_DEV  ADJUSTED_EARLY_COUNT  ADJUSTED_LATE_COUNT  \\\n",
       "350249         NaN       NaN                     0                    0   \n",
       "350295         NaN       NaN                     0                    0   \n",
       "350313         NaN       NaN                     0                    0   \n",
       "350319         NaN       NaN                     0                    0   \n",
       "350321         NaN       NaN                     0                    0   \n",
       "\n",
       "        ADJUSTED_ONTIME_COUNT STOP_CANCELLED PREV_SCHED_STOP_CANCELLED  \\\n",
       "350249                      0              0                       0.0   \n",
       "350295                      0              0                       NaN   \n",
       "350313                      0              0                       NaN   \n",
       "350319                      0              0                       NaN   \n",
       "350321                      0              0                       0.0   \n",
       "\n",
       "       IS_RELIEF  DWELL_IN_MINS  SCHEDULED_LAYOVER_MINUTES  \n",
       "350249         0            NaN                        NaN  \n",
       "350295         0            NaN                        NaN  \n",
       "350313         0            NaN                        NaN  \n",
       "350319         0            NaN                        NaN  \n",
       "350321         0            NaN                        NaN  \n",
       "\n",
       "[5 rows x 30 columns]"
      ]
     },
     "execution_count": 17,
     "metadata": {},
     "output_type": "execute_result"
    }
   ],
   "source": [
    "zero_counts.tail()"
   ]
  },
  {
   "cell_type": "code",
   "execution_count": 18,
   "id": "028eb908",
   "metadata": {},
   "outputs": [
    {
     "data": {
      "text/html": [
       "<div>\n",
       "<style scoped>\n",
       "    .dataframe tbody tr th:only-of-type {\n",
       "        vertical-align: middle;\n",
       "    }\n",
       "\n",
       "    .dataframe tbody tr th {\n",
       "        vertical-align: top;\n",
       "    }\n",
       "\n",
       "    .dataframe thead th {\n",
       "        text-align: right;\n",
       "    }\n",
       "</style>\n",
       "<table border=\"1\" class=\"dataframe\">\n",
       "  <thead>\n",
       "    <tr style=\"text-align: right;\">\n",
       "      <th></th>\n",
       "      <th>ADHERENCE</th>\n",
       "    </tr>\n",
       "  </thead>\n",
       "  <tbody>\n",
       "    <tr>\n",
       "      <th>min</th>\n",
       "      <td>-948.533333</td>\n",
       "    </tr>\n",
       "    <tr>\n",
       "      <th>max</th>\n",
       "      <td>88.383333</td>\n",
       "    </tr>\n",
       "    <tr>\n",
       "      <th>mean</th>\n",
       "      <td>-3.188796</td>\n",
       "    </tr>\n",
       "  </tbody>\n",
       "</table>\n",
       "</div>"
      ],
      "text/plain": [
       "       ADHERENCE\n",
       "min  -948.533333\n",
       "max    88.383333\n",
       "mean   -3.188796"
      ]
     },
     "execution_count": 18,
     "metadata": {},
     "output_type": "execute_result"
    }
   ],
   "source": [
    "wego.agg({'ADHERENCE': ['min','max','mean']})"
   ]
  },
  {
   "cell_type": "code",
   "execution_count": 19,
   "id": "c6e85d7a",
   "metadata": {},
   "outputs": [
    {
     "data": {
      "text/html": [
       "<div>\n",
       "<style scoped>\n",
       "    .dataframe tbody tr th:only-of-type {\n",
       "        vertical-align: middle;\n",
       "    }\n",
       "\n",
       "    .dataframe tbody tr th {\n",
       "        vertical-align: top;\n",
       "    }\n",
       "\n",
       "    .dataframe thead th {\n",
       "        text-align: right;\n",
       "    }\n",
       "</style>\n",
       "<table border=\"1\" class=\"dataframe\">\n",
       "  <thead>\n",
       "    <tr style=\"text-align: right;\">\n",
       "      <th></th>\n",
       "      <th>CALENDAR_ID</th>\n",
       "      <th>SERVICE_ABBR</th>\n",
       "      <th>ADHERENCE_ID</th>\n",
       "      <th>DATE</th>\n",
       "      <th>ROUTE_ABBR</th>\n",
       "      <th>BLOCK_ABBR</th>\n",
       "      <th>OPERATOR</th>\n",
       "      <th>TRIP_ID</th>\n",
       "      <th>OVERLOAD_ID</th>\n",
       "      <th>ROUTE_DIRECTION_NAME</th>\n",
       "      <th>...</th>\n",
       "      <th>ACTUAL_HDWY</th>\n",
       "      <th>HDWY_DEV</th>\n",
       "      <th>ADJUSTED_EARLY_COUNT</th>\n",
       "      <th>ADJUSTED_LATE_COUNT</th>\n",
       "      <th>ADJUSTED_ONTIME_COUNT</th>\n",
       "      <th>STOP_CANCELLED</th>\n",
       "      <th>PREV_SCHED_STOP_CANCELLED</th>\n",
       "      <th>IS_RELIEF</th>\n",
       "      <th>DWELL_IN_MINS</th>\n",
       "      <th>SCHEDULED_LAYOVER_MINUTES</th>\n",
       "    </tr>\n",
       "  </thead>\n",
       "  <tbody>\n",
       "    <tr>\n",
       "      <th>270201</th>\n",
       "      <td>120230917</td>\n",
       "      <td>3</td>\n",
       "      <td>100026077</td>\n",
       "      <td>2023-09-17</td>\n",
       "      <td>23</td>\n",
       "      <td>2313</td>\n",
       "      <td>2669</td>\n",
       "      <td>350602</td>\n",
       "      <td>0</td>\n",
       "      <td>TO DOWNTOWN</td>\n",
       "      <td>...</td>\n",
       "      <td>568.833333</td>\n",
       "      <td>543.833333</td>\n",
       "      <td>0</td>\n",
       "      <td>0</td>\n",
       "      <td>1</td>\n",
       "      <td>0</td>\n",
       "      <td>1.0</td>\n",
       "      <td>0</td>\n",
       "      <td>0.0</td>\n",
       "      <td>NaN</td>\n",
       "    </tr>\n",
       "    <tr>\n",
       "      <th>187823</th>\n",
       "      <td>120230902</td>\n",
       "      <td>2</td>\n",
       "      <td>100388178</td>\n",
       "      <td>2023-09-02</td>\n",
       "      <td>23</td>\n",
       "      <td>2311</td>\n",
       "      <td>2221</td>\n",
       "      <td>350442</td>\n",
       "      <td>0</td>\n",
       "      <td>TO DOWNTOWN</td>\n",
       "      <td>...</td>\n",
       "      <td>523.066666</td>\n",
       "      <td>498.066666</td>\n",
       "      <td>0</td>\n",
       "      <td>0</td>\n",
       "      <td>1</td>\n",
       "      <td>1</td>\n",
       "      <td>1.0</td>\n",
       "      <td>0</td>\n",
       "      <td>0.0</td>\n",
       "      <td>NaN</td>\n",
       "    </tr>\n",
       "    <tr>\n",
       "      <th>141314</th>\n",
       "      <td>120230825</td>\n",
       "      <td>1</td>\n",
       "      <td>100168684</td>\n",
       "      <td>2023-08-25</td>\n",
       "      <td>23</td>\n",
       "      <td>2310</td>\n",
       "      <td>3120</td>\n",
       "      <td>350355</td>\n",
       "      <td>0</td>\n",
       "      <td>FROM DOWNTOWN</td>\n",
       "      <td>...</td>\n",
       "      <td>391.033333</td>\n",
       "      <td>361.033333</td>\n",
       "      <td>0</td>\n",
       "      <td>1</td>\n",
       "      <td>0</td>\n",
       "      <td>0</td>\n",
       "      <td>1.0</td>\n",
       "      <td>0</td>\n",
       "      <td>0.0</td>\n",
       "      <td>NaN</td>\n",
       "    </tr>\n",
       "    <tr>\n",
       "      <th>227462</th>\n",
       "      <td>120230909</td>\n",
       "      <td>2</td>\n",
       "      <td>100580899</td>\n",
       "      <td>2023-09-09</td>\n",
       "      <td>52</td>\n",
       "      <td>5212</td>\n",
       "      <td>2138</td>\n",
       "      <td>352236</td>\n",
       "      <td>1</td>\n",
       "      <td>FROM DOWNTOWN</td>\n",
       "      <td>...</td>\n",
       "      <td>284.783333</td>\n",
       "      <td>255.783333</td>\n",
       "      <td>0</td>\n",
       "      <td>1</td>\n",
       "      <td>0</td>\n",
       "      <td>0</td>\n",
       "      <td>1.0</td>\n",
       "      <td>0</td>\n",
       "      <td>0.0</td>\n",
       "      <td>NaN</td>\n",
       "    </tr>\n",
       "    <tr>\n",
       "      <th>226</th>\n",
       "      <td>120230801</td>\n",
       "      <td>1</td>\n",
       "      <td>99458120</td>\n",
       "      <td>2023-08-01</td>\n",
       "      <td>22</td>\n",
       "      <td>2202</td>\n",
       "      <td>1190</td>\n",
       "      <td>345297</td>\n",
       "      <td>0</td>\n",
       "      <td>TO DOWNTOWN</td>\n",
       "      <td>...</td>\n",
       "      <td>226.816666</td>\n",
       "      <td>181.816666</td>\n",
       "      <td>0</td>\n",
       "      <td>0</td>\n",
       "      <td>1</td>\n",
       "      <td>1</td>\n",
       "      <td>1.0</td>\n",
       "      <td>0</td>\n",
       "      <td>0.0</td>\n",
       "      <td>NaN</td>\n",
       "    </tr>\n",
       "  </tbody>\n",
       "</table>\n",
       "<p>5 rows × 30 columns</p>\n",
       "</div>"
      ],
      "text/plain": [
       "        CALENDAR_ID  SERVICE_ABBR  ADHERENCE_ID        DATE  ROUTE_ABBR  \\\n",
       "270201    120230917             3     100026077  2023-09-17          23   \n",
       "187823    120230902             2     100388178  2023-09-02          23   \n",
       "141314    120230825             1     100168684  2023-08-25          23   \n",
       "227462    120230909             2     100580899  2023-09-09          52   \n",
       "226       120230801             1      99458120  2023-08-01          22   \n",
       "\n",
       "        BLOCK_ABBR  OPERATOR  TRIP_ID  OVERLOAD_ID ROUTE_DIRECTION_NAME  ...  \\\n",
       "270201        2313      2669   350602            0          TO DOWNTOWN  ...   \n",
       "187823        2311      2221   350442            0          TO DOWNTOWN  ...   \n",
       "141314        2310      3120   350355            0        FROM DOWNTOWN  ...   \n",
       "227462        5212      2138   352236            1        FROM DOWNTOWN  ...   \n",
       "226           2202      1190   345297            0          TO DOWNTOWN  ...   \n",
       "\n",
       "       ACTUAL_HDWY    HDWY_DEV  ADJUSTED_EARLY_COUNT  ADJUSTED_LATE_COUNT  \\\n",
       "270201  568.833333  543.833333                     0                    0   \n",
       "187823  523.066666  498.066666                     0                    0   \n",
       "141314  391.033333  361.033333                     0                    1   \n",
       "227462  284.783333  255.783333                     0                    1   \n",
       "226     226.816666  181.816666                     0                    0   \n",
       "\n",
       "        ADJUSTED_ONTIME_COUNT STOP_CANCELLED PREV_SCHED_STOP_CANCELLED  \\\n",
       "270201                      1              0                       1.0   \n",
       "187823                      1              1                       1.0   \n",
       "141314                      0              0                       1.0   \n",
       "227462                      0              0                       1.0   \n",
       "226                         1              1                       1.0   \n",
       "\n",
       "       IS_RELIEF  DWELL_IN_MINS  SCHEDULED_LAYOVER_MINUTES  \n",
       "270201         0            0.0                        NaN  \n",
       "187823         0            0.0                        NaN  \n",
       "141314         0            0.0                        NaN  \n",
       "227462         0            0.0                        NaN  \n",
       "226            0            0.0                        NaN  \n",
       "\n",
       "[5 rows x 30 columns]"
      ]
     },
     "execution_count": 19,
     "metadata": {},
     "output_type": "execute_result"
    }
   ],
   "source": [
    "wego[wego['PREV_SCHED_STOP_CANCELLED']>=1].sort_values('HDWY_DEV',ascending=False).head()"
   ]
  },
  {
   "cell_type": "code",
   "execution_count": 20,
   "id": "02cbdd17",
   "metadata": {},
   "outputs": [],
   "source": [
    "#removing rows where prev sched stop cancelled is marked.\n",
    "wego = wego[wego['PREV_SCHED_STOP_CANCELLED']!=1]"
   ]
  },
  {
   "cell_type": "code",
   "execution_count": 21,
   "id": "125f31bf",
   "metadata": {},
   "outputs": [],
   "source": [
    "#removing rows where SCHEDULED_HDWY = 0.00 which caused infinite values.\n",
    "wego = wego[wego['SCHEDULED_HDWY']!=0.00]"
   ]
  },
  {
   "cell_type": "code",
   "execution_count": 22,
   "id": "3624d223",
   "metadata": {},
   "outputs": [],
   "source": [
    "#removing nan rows where ontime, early, and late counts are all = 0.\n",
    "wego_new= wego.loc[~((wego['ADJUSTED_ONTIME_COUNT']==0) & (wego['ADJUSTED_EARLY_COUNT']==0) & (wego['ADJUSTED_LATE_COUNT']==0))]"
   ]
  },
  {
   "cell_type": "code",
   "execution_count": 23,
   "id": "03839b7f",
   "metadata": {},
   "outputs": [],
   "source": [
    "#getting clean adherence and hdwy_dev to use in percentile calculations.\n",
    "adherence = wego_new['ADHERENCE']\n",
    "adherence_cleaned = adherence.dropna()\n",
    "hdwy_dev = wego_new['HDWY_DEV']\n",
    "hdwy_dev_cleaned = hdwy_dev.dropna()"
   ]
  },
  {
   "cell_type": "code",
   "execution_count": 24,
   "id": "b809134e",
   "metadata": {},
   "outputs": [
    {
     "name": "stdout",
     "output_type": "stream",
     "text": [
      "-57.04575\n",
      "9.463832695001242\n"
     ]
    }
   ],
   "source": [
    "#find the 1st and 99th percentile of adherence.\n",
    "adherence_1 = np.percentile(adherence_cleaned,0.1)\n",
    "adherence_99 = np.percentile(adherence_cleaned,99.9)\n",
    "print(adherence_1)\n",
    "print(adherence_99)"
   ]
  },
  {
   "cell_type": "code",
   "execution_count": 25,
   "id": "6bbe52cc",
   "metadata": {},
   "outputs": [
    {
     "name": "stdout",
     "output_type": "stream",
     "text": [
      "-21.626300526\n",
      "56.439450000000946\n"
     ]
    }
   ],
   "source": [
    "#find the 1st and 99th percentile of hdwy_dev\n",
    "hdwy_dev_1 = np.percentile(hdwy_dev_cleaned,0.1)\n",
    "hdwy_dev_99 = np.percentile(hdwy_dev_cleaned,99.9)\n",
    "print(hdwy_dev_1)\n",
    "print(hdwy_dev_99)"
   ]
  },
  {
   "cell_type": "code",
   "execution_count": null,
   "id": "812a770d",
   "metadata": {},
   "outputs": [],
   "source": []
  },
  {
   "cell_type": "code",
   "execution_count": 26,
   "id": "10e936da",
   "metadata": {},
   "outputs": [],
   "source": [
    "wego_new = wego_new.drop(wego_new[wego_new.ADHERENCE < adherence_1].index)\n",
    "wego_new = wego_new.drop(wego_new[wego_new.ADHERENCE > adherence_99].index)\n",
    "wego_new = wego_new.drop(wego_new[wego_new.HDWY_DEV < hdwy_dev_1].index)\n",
    "wego_new = wego_new.drop(wego_new[wego_new.HDWY_DEV > hdwy_dev_99].index)"
   ]
  },
  {
   "cell_type": "markdown",
   "id": "045464b5",
   "metadata": {},
   "source": [
    "## Question 1.\n",
    "What is the overall on-time performance, and what do the overall distributions of adherence and headway deviation look like?"
   ]
  },
  {
   "cell_type": "code",
   "execution_count": 27,
   "id": "4ca917cb",
   "metadata": {},
   "outputs": [
    {
     "data": {
      "text/plain": [
       "79.9"
      ]
     },
     "execution_count": 27,
     "metadata": {},
     "output_type": "execute_result"
    }
   ],
   "source": [
    "# Percent of on-time stops - using only tagged rows in clean data set\n",
    "round((wego_new['ADJUSTED_ONTIME_COUNT'].sum()) / (wego_new['ADJUSTED_ONTIME_COUNT'].sum() \n",
    "                                               + wego_new['ADJUSTED_EARLY_COUNT'].sum() \n",
    "                                               + wego_new['ADJUSTED_LATE_COUNT'].sum()) * 100, 2)"
   ]
  },
  {
   "cell_type": "code",
   "execution_count": 28,
   "id": "747840ef",
   "metadata": {},
   "outputs": [
    {
     "data": {
      "text/plain": [
       "79.9"
      ]
     },
     "execution_count": 28,
     "metadata": {},
     "output_type": "execute_result"
    }
   ],
   "source": [
    "#shorter code for same answer.\n",
    "round((wego_new\n",
    " ['ADJUSTED_ONTIME_COUNT']\n",
    " .mean()\n",
    ")*100,2)"
   ]
  },
  {
   "cell_type": "code",
   "execution_count": 29,
   "id": "f2f76d9b",
   "metadata": {},
   "outputs": [
    {
     "data": {
      "text/plain": [
       "2.83"
      ]
     },
     "execution_count": 29,
     "metadata": {},
     "output_type": "execute_result"
    }
   ],
   "source": [
    "# Percent of early count\n",
    "round((wego_new\n",
    " ['ADJUSTED_EARLY_COUNT']\n",
    " .mean()\n",
    ")*100,2)"
   ]
  },
  {
   "cell_type": "code",
   "execution_count": 30,
   "id": "d2194fe6",
   "metadata": {},
   "outputs": [
    {
     "data": {
      "text/plain": [
       "17.27"
      ]
     },
     "execution_count": 30,
     "metadata": {},
     "output_type": "execute_result"
    }
   ],
   "source": [
    "# Percent of late count\n",
    "round((wego_new\n",
    " ['ADJUSTED_LATE_COUNT']\n",
    " .mean()\n",
    ")*100,2)\n",
    "\n",
    "\n",
    "\n",
    "#On-time performance shows that the busses are on time 79.76% of the time."
   ]
  },
  {
   "cell_type": "code",
   "execution_count": 55,
   "id": "52f29cb1",
   "metadata": {},
   "outputs": [
    {
     "data": {
      "image/png": "[encoded data removed]",
      "text/plain": [
       "<Figure size 2000x1000 with 2 Axes>"
      ]
     },
     "metadata": {},
     "output_type": "display_data"
    }
   ],
   "source": [
    "fig, axes = plt.subplots(nrows=1, ncols=2, figsize=(20, 10))  # 1 row, 2 columns\n",
    "\n",
    "# Adherence\n",
    "axes[0].hist(wego_new[\"ADHERENCE\"], bins=10, range=(-30, 20), color='orchid')\n",
    "axes[0].set_xlabel(\"Adherence Times\")\n",
    "axes[0].set_ylabel(\"Frequency\")\n",
    "axes[0].set_title(\"ADHERENCE\")\n",
    "\n",
    "# HDWY Deviation\n",
    "axes[1].hist(wego_new[\"HDWY_DEV\"], bins=10, range=(-30, 20), color='steelblue')\n",
    "axes[1].set_xlabel(\"Adherence Times\")\n",
    "axes[1].set_ylabel(\"Frequency\")\n",
    "axes[1].set_title(\"HDWY DEVIATION\")\n",
    "\n",
    "plt.tight_layout()\n",
    "\n",
    "plt.show()"
   ]
  },
  {
   "cell_type": "code",
   "execution_count": 31,
   "id": "250c7052",
   "metadata": {},
   "outputs": [],
   "source": [
    "# xlabel(\"Values\")\n",
    "# plt.ylabel(\"Frequency\")\n",
    "# plt.title(\"HDWY DEVIATION\")\n",
    "# plt.show()\n",
    "\n",
    "# plt.hist(wego_clean[\"ADHERENCE\"], bins=10, range=(-35,10) )\n",
    "# plt.xlabel(\"Values\")\n",
    "# plt.ylabel(\"Frequency\")\n",
    "# plt.title(\"ADHERENCE\")\n",
    "# plt.show()\n",
    "\n",
    "# plt.hist(wego_clean[\"HDWY_DEV\"], bins=10, range=(-35,40) )\n",
    "# plt.show()"
   ]
  },
  {
   "cell_type": "code",
   "execution_count": 52,
   "id": "c73ccd90",
   "metadata": {},
   "outputs": [
    {
     "data": {
      "image/png": "[encoded data removed]",
      "text/plain": [
       "<Figure size 640x480 with 1 Axes>"
      ]
     },
     "metadata": {},
     "output_type": "display_data"
    }
   ],
   "source": [
    "plt.hist(wego.ADHERENCE, bins=40, range=(-35, 10), color='MediumSeaGreen')\n",
    "plt.title('WeGo Adherence Times')\n",
    "plt.xlabel('Adherence Times')\n",
    "plt.ylabel('Frequency')\n",
    "plt.show()"
   ]
  },
  {
   "cell_type": "code",
   "execution_count": 58,
   "id": "401e7e18",
   "metadata": {},
   "outputs": [
    {
     "data": {
      "image/png": "[encoded data removed]",
      "text/plain": [
       "<Figure size 640x480 with 1 Axes>"
      ]
     },
     "metadata": {},
     "output_type": "display_data"
    }
   ],
   "source": [
    "# Headway distribution - removing non-visible outliers\n",
    "plt.hist(wego.HDWY_DEV, bins=40, range=(-25, 35), color= 'MediumVioletRed')\n",
    "plt.title('WeGo Headway Times')\n",
    "plt.xlabel('Headway Times')\n",
    "plt.ylabel('Frequency')\n",
    "plt.show() "
   ]
  },
  {
   "cell_type": "code",
   "execution_count": 36,
   "id": "374abb8e",
   "metadata": {},
   "outputs": [],
   "source": [
    "# fig, axes = plt.subplots(nrows=1, ncols=2, figsize=(10, 6))  # 1 row, 2 columns\n",
    "\n",
    "# # Adherence\n",
    "# axes[0].plot(wego_new[\"ADHERENCE\"], color='skyblue')\n",
    "# axes[0].set_xlabel(\"Index\")\n",
    "# axes[0].set_ylabel(\"Values\")\n",
    "# axes[0].set_title(\"ADHERENCE\")\n",
    "\n",
    "# # HDWY Deviation\n",
    "# axes[1].plot(wego_new[\"HDWY_DEV\"], color='skyblue')\n",
    "# axes[1].set_xlabel(\"Index\")\n",
    "# axes[1].set_ylabel(\"Values\")\n",
    "# axes[1].set_title(\"HDWY DEVIATION\")\n",
    " \n",
    "# plt.tight_layout()\n",
    "\n",
    "# plt.show()"
   ]
  },
  {
   "cell_type": "code",
   "execution_count": 56,
   "id": "4ce5f8b0",
   "metadata": {},
   "outputs": [],
   "source": [
    "# sns.boxplot(x=wego.ADHERENCE)\n",
    "# plt.title('WeGo Adherence Times - Box Plot')\n",
    "# plt.xlabel('Adherence Times')\n",
    "# plt.show()"
   ]
  },
  {
   "cell_type": "code",
   "execution_count": 57,
   "id": "c9227806",
   "metadata": {},
   "outputs": [],
   "source": [
    "# sns.violinplot(x=wego.ADHERENCE)\n",
    "# plt.title('WeGo Adherence Times - Violin Plot')\n",
    "# plt.xlabel('Adherence Times')\n",
    "# plt.show()"
   ]
  },
  {
   "cell_type": "code",
   "execution_count": 37,
   "id": "da2d8a32",
   "metadata": {},
   "outputs": [],
   "source": [
    "#Create additional HDWY category columns: HDWY_DEV_Percentage, BUNCHING, GAPPING, NORMAL_HDWY"
   ]
  },
  {
   "cell_type": "code",
   "execution_count": 38,
   "id": "16d8c278",
   "metadata": {},
   "outputs": [],
   "source": [
    "wego_new['HDWY_DEV_PERCENTAGE'] = wego_new['HDWY_DEV'] / wego_new['SCHEDULED_HDWY'] *100"
   ]
  },
  {
   "cell_type": "code",
   "execution_count": 39,
   "id": "ebccc26a",
   "metadata": {},
   "outputs": [
    {
     "data": {
      "text/plain": [
       "-100.0"
      ]
     },
     "execution_count": 39,
     "metadata": {},
     "output_type": "execute_result"
    }
   ],
   "source": [
    "wego_new['HDWY_DEV_PERCENTAGE'].min()"
   ]
  },
  {
   "cell_type": "code",
   "execution_count": 40,
   "id": "c63a44f1",
   "metadata": {},
   "outputs": [],
   "source": [
    "#create BUNCHING column and set condition to 1 if less than -50\n",
    "wego_new['BUNCHING'] = np.where(wego_new['HDWY_DEV_PERCENTAGE'] \n",
    "                       < -50, '1','0')"
   ]
  },
  {
   "cell_type": "code",
   "execution_count": 41,
   "id": "1b85a651",
   "metadata": {},
   "outputs": [
    {
     "data": {
      "text/plain": [
       "BUNCHING\n",
       "0    316682\n",
       "1     17242\n",
       "Name: count, dtype: int64"
      ]
     },
     "execution_count": 41,
     "metadata": {},
     "output_type": "execute_result"
    }
   ],
   "source": [
    "wego_new['BUNCHING'].value_counts()"
   ]
  },
  {
   "cell_type": "code",
   "execution_count": 42,
   "id": "2dc556ab",
   "metadata": {},
   "outputs": [],
   "source": [
    "#create GAPPING column and set condition to 1 if greater than 50\n",
    "wego_new['GAPPING'] = np.where(wego_new['HDWY_DEV_PERCENTAGE'] \n",
    "                       > 50, '1','0')"
   ]
  },
  {
   "cell_type": "code",
   "execution_count": 43,
   "id": "89ea448e",
   "metadata": {},
   "outputs": [
    {
     "data": {
      "text/plain": [
       "GAPPING\n",
       "0    313362\n",
       "1     20562\n",
       "Name: count, dtype: int64"
      ]
     },
     "execution_count": 43,
     "metadata": {},
     "output_type": "execute_result"
    }
   ],
   "source": [
    "wego_new['GAPPING'].value_counts()"
   ]
  },
  {
   "cell_type": "code",
   "execution_count": 44,
   "id": "4d8b77d4",
   "metadata": {},
   "outputs": [],
   "source": [
    "#create NORMAL_HDWY column and set condition to 1 if >= than -50 and <= 50.\n",
    "wego_new['NORMAL_HDWY'] = np.where((wego_new['HDWY_DEV_PERCENTAGE'] \n",
    "                       >= -50)&(wego_new['HDWY_DEV_PERCENTAGE'] \n",
    "                       <= 50), '1','0')"
   ]
  },
  {
   "cell_type": "code",
   "execution_count": 45,
   "id": "591f0c55",
   "metadata": {},
   "outputs": [
    {
     "data": {
      "text/plain": [
       "NORMAL_HDWY\n",
       "1    223481\n",
       "0    110443\n",
       "Name: count, dtype: int64"
      ]
     },
     "execution_count": 45,
     "metadata": {},
     "output_type": "execute_result"
    }
   ],
   "source": [
    "wego_new['NORMAL_HDWY'].value_counts()"
   ]
  },
  {
   "cell_type": "code",
   "execution_count": 46,
   "id": "efd70023",
   "metadata": {},
   "outputs": [],
   "source": [
    "#create HDWY_NULL column and set condition to 1 if >= than -50 and <= 50.\n",
    "wego_new['HDWY_NULL'] = np.where(wego_new['HDWY_DEV_PERCENTAGE'].isna()==True,'1','0')"
   ]
  },
  {
   "cell_type": "code",
   "execution_count": 47,
   "id": "69c4a30d",
   "metadata": {},
   "outputs": [
    {
     "data": {
      "text/html": [
       "<div>\n",
       "<style scoped>\n",
       "    .dataframe tbody tr th:only-of-type {\n",
       "        vertical-align: middle;\n",
       "    }\n",
       "\n",
       "    .dataframe tbody tr th {\n",
       "        vertical-align: top;\n",
       "    }\n",
       "\n",
       "    .dataframe thead th {\n",
       "        text-align: right;\n",
       "    }\n",
       "</style>\n",
       "<table border=\"1\" class=\"dataframe\">\n",
       "  <thead>\n",
       "    <tr style=\"text-align: right;\">\n",
       "      <th></th>\n",
       "      <th>BUNCHING</th>\n",
       "      <th>GAPPING</th>\n",
       "      <th>NORMAL_HDWY</th>\n",
       "      <th>HDWY_NULL</th>\n",
       "      <th>count</th>\n",
       "    </tr>\n",
       "  </thead>\n",
       "  <tbody>\n",
       "    <tr>\n",
       "      <th>0</th>\n",
       "      <td>1</td>\n",
       "      <td>0</td>\n",
       "      <td>0</td>\n",
       "      <td>0</td>\n",
       "      <td>17242</td>\n",
       "    </tr>\n",
       "    <tr>\n",
       "      <th>1</th>\n",
       "      <td>0</td>\n",
       "      <td>1</td>\n",
       "      <td>0</td>\n",
       "      <td>0</td>\n",
       "      <td>20562</td>\n",
       "    </tr>\n",
       "    <tr>\n",
       "      <th>2</th>\n",
       "      <td>0</td>\n",
       "      <td>0</td>\n",
       "      <td>0</td>\n",
       "      <td>1</td>\n",
       "      <td>72639</td>\n",
       "    </tr>\n",
       "    <tr>\n",
       "      <th>3</th>\n",
       "      <td>0</td>\n",
       "      <td>0</td>\n",
       "      <td>1</td>\n",
       "      <td>0</td>\n",
       "      <td>223481</td>\n",
       "    </tr>\n",
       "  </tbody>\n",
       "</table>\n",
       "</div>"
      ],
      "text/plain": [
       "  BUNCHING GAPPING NORMAL_HDWY HDWY_NULL   count\n",
       "0        1       0           0         0   17242\n",
       "1        0       1           0         0   20562\n",
       "2        0       0           0         1   72639\n",
       "3        0       0           1         0  223481"
      ]
     },
     "execution_count": 47,
     "metadata": {},
     "output_type": "execute_result"
    }
   ],
   "source": [
    "wego_new[['BUNCHING','GAPPING','NORMAL_HDWY','HDWY_NULL']].value_counts().sort_values().reset_index()"
   ]
  },
  {
   "cell_type": "code",
   "execution_count": 48,
   "id": "69ed7c35",
   "metadata": {},
   "outputs": [],
   "source": [
    "#convert data types for bunching, gapping, and normal_hdwy from objects to floats.\n",
    "wego_new = wego_new.astype({'BUNCHING': float, 'GAPPING': float, 'NORMAL_HDWY': float, 'HDWY_NULL': float})"
   ]
  },
  {
   "cell_type": "code",
   "execution_count": 49,
   "id": "5aff3765",
   "metadata": {},
   "outputs": [],
   "source": [
    "#dropping where SCHEDULED_HDWY = NaN, which causes BUNCHING GAPPING and NORMAL_HDWY to not add up to 100%.\n",
    "wego_hdwy = wego_new.dropna(subset=['SCHEDULED_HDWY'])"
   ]
  },
  {
   "cell_type": "markdown",
   "id": "e58461df",
   "metadata": {},
   "source": [
    "## Question 2.\n",
    "How does direction of travel, route, or location affect the headway and on-time performance?"
   ]
  },
  {
   "cell_type": "code",
   "execution_count": 46,
   "id": "f71bc920",
   "metadata": {},
   "outputs": [
    {
     "data": {
      "text/plain": [
       "ROUTE_DIRECTION_NAME\n",
       "FROM DOWNTOWN    176991\n",
       "TO DOWNTOWN      156933\n",
       "Name: count, dtype: int64"
      ]
     },
     "execution_count": 46,
     "metadata": {},
     "output_type": "execute_result"
    }
   ],
   "source": [
    "wego_new.ROUTE_DIRECTION_NAME.value_counts()"
   ]
  },
  {
   "cell_type": "code",
   "execution_count": 47,
   "id": "b10621b7",
   "metadata": {},
   "outputs": [],
   "source": [
    "#create from down town and to downtown \n",
    "wego_from_downtown = wego_new[wego_new['ROUTE_DIRECTION_NAME'] == 'FROM DOWNTOWN']\n",
    "wego_to_downtown = wego_new[wego_new['ROUTE_DIRECTION_NAME'] == 'TO DOWNTOWN']"
   ]
  },
  {
   "cell_type": "code",
   "execution_count": 48,
   "id": "36bdb5fd",
   "metadata": {},
   "outputs": [],
   "source": [
    "trip_direction_ontime = wego_new.groupby('ROUTE_DIRECTION_NAME')[['ADJUSTED_ONTIME_COUNT','ADJUSTED_EARLY_COUNT','ADJUSTED_LATE_COUNT']].mean()"
   ]
  },
  {
   "cell_type": "code",
   "execution_count": 49,
   "id": "68b0b674",
   "metadata": {},
   "outputs": [
    {
     "data": {
      "text/html": [
       "<div>\n",
       "<style scoped>\n",
       "    .dataframe tbody tr th:only-of-type {\n",
       "        vertical-align: middle;\n",
       "    }\n",
       "\n",
       "    .dataframe tbody tr th {\n",
       "        vertical-align: top;\n",
       "    }\n",
       "\n",
       "    .dataframe thead th {\n",
       "        text-align: right;\n",
       "    }\n",
       "</style>\n",
       "<table border=\"1\" class=\"dataframe\">\n",
       "  <thead>\n",
       "    <tr style=\"text-align: right;\">\n",
       "      <th></th>\n",
       "      <th>ADJUSTED_ONTIME_COUNT</th>\n",
       "      <th>ADJUSTED_EARLY_COUNT</th>\n",
       "      <th>ADJUSTED_LATE_COUNT</th>\n",
       "    </tr>\n",
       "    <tr>\n",
       "      <th>ROUTE_DIRECTION_NAME</th>\n",
       "      <th></th>\n",
       "      <th></th>\n",
       "      <th></th>\n",
       "    </tr>\n",
       "  </thead>\n",
       "  <tbody>\n",
       "    <tr>\n",
       "      <th>FROM DOWNTOWN</th>\n",
       "      <td>0.752236</td>\n",
       "      <td>0.028877</td>\n",
       "      <td>0.218887</td>\n",
       "    </tr>\n",
       "    <tr>\n",
       "      <th>TO DOWNTOWN</th>\n",
       "      <td>0.851701</td>\n",
       "      <td>0.027585</td>\n",
       "      <td>0.120714</td>\n",
       "    </tr>\n",
       "  </tbody>\n",
       "</table>\n",
       "</div>"
      ],
      "text/plain": [
       "                      ADJUSTED_ONTIME_COUNT  ADJUSTED_EARLY_COUNT  \\\n",
       "ROUTE_DIRECTION_NAME                                                \n",
       "FROM DOWNTOWN                      0.752236              0.028877   \n",
       "TO DOWNTOWN                        0.851701              0.027585   \n",
       "\n",
       "                      ADJUSTED_LATE_COUNT  \n",
       "ROUTE_DIRECTION_NAME                       \n",
       "FROM DOWNTOWN                    0.218887  \n",
       "TO DOWNTOWN                      0.120714  "
      ]
     },
     "execution_count": 49,
     "metadata": {},
     "output_type": "execute_result"
    }
   ],
   "source": [
    "trip_direction_ontime"
   ]
  },
  {
   "cell_type": "code",
   "execution_count": 50,
   "id": "ecc3572d",
   "metadata": {},
   "outputs": [
    {
     "data": {
      "image/png": "[encoded data removed]",
      "text/plain": [
       "<Figure size 1400x600 with 2 Axes>"
      ]
     },
     "metadata": {},
     "output_type": "display_data"
    }
   ],
   "source": [
    "fig, axes = plt.subplots(nrows=1, ncols=2, figsize=(14, 6))  # 1 row, 2 columns\n",
    "\n",
    "axes[0].hist(wego_from_downtown[\"HDWY_DEV_PERCENTAGE\"], bins=40, range=(-150, 150), color='skyblue')\n",
    "axes[0].set_xlabel(\"Values\")\n",
    "axes[0].set_ylabel(\"Frequency\")\n",
    "axes[0].set_title(\"HDWY DEVIATION PERCENTAGE FROM DOWNTOWN\")\n",
    "\n",
    "axes[1].hist(wego_to_downtown[\"HDWY_DEV_PERCENTAGE\"], bins=40, range=(-150, 150), color='skyblue')\n",
    "axes[1].set_xlabel(\"Values\")\n",
    "axes[1].set_ylabel(\"Frequency\")\n",
    "axes[1].set_title(\"HDWY DEVIATION PERCENTAGE TO DOWNTOWN\")\n",
    "\n",
    "plt.tight_layout()\n",
    "\n",
    "plt.show()"
   ]
  },
  {
   "cell_type": "code",
   "execution_count": 51,
   "id": "097e7e9e",
   "metadata": {},
   "outputs": [
    {
     "data": {
      "text/html": [
       "<div>\n",
       "<style scoped>\n",
       "    .dataframe tbody tr th:only-of-type {\n",
       "        vertical-align: middle;\n",
       "    }\n",
       "\n",
       "    .dataframe tbody tr th {\n",
       "        vertical-align: top;\n",
       "    }\n",
       "\n",
       "    .dataframe thead th {\n",
       "        text-align: right;\n",
       "    }\n",
       "</style>\n",
       "<table border=\"1\" class=\"dataframe\">\n",
       "  <thead>\n",
       "    <tr style=\"text-align: right;\">\n",
       "      <th></th>\n",
       "      <th>NORMAL_HDWY</th>\n",
       "      <th>GAPPING</th>\n",
       "      <th>BUNCHING</th>\n",
       "    </tr>\n",
       "    <tr>\n",
       "      <th>ROUTE_DIRECTION_NAME</th>\n",
       "      <th></th>\n",
       "      <th></th>\n",
       "      <th></th>\n",
       "    </tr>\n",
       "  </thead>\n",
       "  <tbody>\n",
       "    <tr>\n",
       "      <th>FROM DOWNTOWN</th>\n",
       "      <td>0.825684</td>\n",
       "      <td>0.093118</td>\n",
       "      <td>0.080660</td>\n",
       "    </tr>\n",
       "    <tr>\n",
       "      <th>TO DOWNTOWN</th>\n",
       "      <td>0.888115</td>\n",
       "      <td>0.062164</td>\n",
       "      <td>0.049189</td>\n",
       "    </tr>\n",
       "  </tbody>\n",
       "</table>\n",
       "</div>"
      ],
      "text/plain": [
       "                      NORMAL_HDWY   GAPPING  BUNCHING\n",
       "ROUTE_DIRECTION_NAME                                 \n",
       "FROM DOWNTOWN            0.825684  0.093118  0.080660\n",
       "TO DOWNTOWN              0.888115  0.062164  0.049189"
      ]
     },
     "execution_count": 51,
     "metadata": {},
     "output_type": "execute_result"
    }
   ],
   "source": [
    "trip_direction_hdwy = wego_hdwy.groupby('ROUTE_DIRECTION_NAME')[['NORMAL_HDWY','GAPPING','BUNCHING']].mean()\n",
    "trip_direction_hdwy"
   ]
  },
  {
   "cell_type": "code",
   "execution_count": 52,
   "id": "52e8d1fb",
   "metadata": {},
   "outputs": [
    {
     "data": {
      "text/html": [
       "<div>\n",
       "<style scoped>\n",
       "    .dataframe tbody tr th:only-of-type {\n",
       "        vertical-align: middle;\n",
       "    }\n",
       "\n",
       "    .dataframe tbody tr th {\n",
       "        vertical-align: top;\n",
       "    }\n",
       "\n",
       "    .dataframe thead th {\n",
       "        text-align: right;\n",
       "    }\n",
       "</style>\n",
       "<table border=\"1\" class=\"dataframe\">\n",
       "  <thead>\n",
       "    <tr style=\"text-align: right;\">\n",
       "      <th></th>\n",
       "      <th>NORMAL_HDWY</th>\n",
       "      <th>GAPPING</th>\n",
       "      <th>BUNCHING</th>\n",
       "    </tr>\n",
       "    <tr>\n",
       "      <th>ROUTE_ABBR</th>\n",
       "      <th></th>\n",
       "      <th></th>\n",
       "      <th></th>\n",
       "    </tr>\n",
       "  </thead>\n",
       "  <tbody>\n",
       "    <tr>\n",
       "      <th>3</th>\n",
       "      <td>0.864669</td>\n",
       "      <td>0.076727</td>\n",
       "      <td>0.058078</td>\n",
       "    </tr>\n",
       "    <tr>\n",
       "      <th>7</th>\n",
       "      <td>0.912330</td>\n",
       "      <td>0.050273</td>\n",
       "      <td>0.037396</td>\n",
       "    </tr>\n",
       "    <tr>\n",
       "      <th>22</th>\n",
       "      <td>0.939642</td>\n",
       "      <td>0.041508</td>\n",
       "      <td>0.017771</td>\n",
       "    </tr>\n",
       "    <tr>\n",
       "      <th>23</th>\n",
       "      <td>0.914219</td>\n",
       "      <td>0.063451</td>\n",
       "      <td>0.021686</td>\n",
       "    </tr>\n",
       "    <tr>\n",
       "      <th>50</th>\n",
       "      <td>0.933656</td>\n",
       "      <td>0.036569</td>\n",
       "      <td>0.029454</td>\n",
       "    </tr>\n",
       "    <tr>\n",
       "      <th>52</th>\n",
       "      <td>0.837162</td>\n",
       "      <td>0.089238</td>\n",
       "      <td>0.071920</td>\n",
       "    </tr>\n",
       "    <tr>\n",
       "      <th>55</th>\n",
       "      <td>0.741523</td>\n",
       "      <td>0.127037</td>\n",
       "      <td>0.131419</td>\n",
       "    </tr>\n",
       "    <tr>\n",
       "      <th>56</th>\n",
       "      <td>0.844897</td>\n",
       "      <td>0.080051</td>\n",
       "      <td>0.074884</td>\n",
       "    </tr>\n",
       "  </tbody>\n",
       "</table>\n",
       "</div>"
      ],
      "text/plain": [
       "            NORMAL_HDWY   GAPPING  BUNCHING\n",
       "ROUTE_ABBR                                 \n",
       "3              0.864669  0.076727  0.058078\n",
       "7              0.912330  0.050273  0.037396\n",
       "22             0.939642  0.041508  0.017771\n",
       "23             0.914219  0.063451  0.021686\n",
       "50             0.933656  0.036569  0.029454\n",
       "52             0.837162  0.089238  0.071920\n",
       "55             0.741523  0.127037  0.131419\n",
       "56             0.844897  0.080051  0.074884"
      ]
     },
     "execution_count": 52,
     "metadata": {},
     "output_type": "execute_result"
    }
   ],
   "source": [
    "#Percentage of HDWY by route.\n",
    "(wego_hdwy\n",
    " .groupby('ROUTE_ABBR')\n",
    " [['NORMAL_HDWY','GAPPING','BUNCHING']]\n",
    " .mean()\n",
    ")"
   ]
  },
  {
   "cell_type": "code",
   "execution_count": 53,
   "id": "d208f28d",
   "metadata": {
    "scrolled": true
   },
   "outputs": [
    {
     "data": {
      "text/html": [
       "<div>\n",
       "<style scoped>\n",
       "    .dataframe tbody tr th:only-of-type {\n",
       "        vertical-align: middle;\n",
       "    }\n",
       "\n",
       "    .dataframe tbody tr th {\n",
       "        vertical-align: top;\n",
       "    }\n",
       "\n",
       "    .dataframe thead th {\n",
       "        text-align: right;\n",
       "    }\n",
       "</style>\n",
       "<table border=\"1\" class=\"dataframe\">\n",
       "  <thead>\n",
       "    <tr style=\"text-align: right;\">\n",
       "      <th></th>\n",
       "      <th>ADJUSTED_ONTIME_COUNT</th>\n",
       "      <th>ADJUSTED_EARLY_COUNT</th>\n",
       "      <th>ADJUSTED_LATE_COUNT</th>\n",
       "    </tr>\n",
       "    <tr>\n",
       "      <th>ROUTE_ABBR</th>\n",
       "      <th></th>\n",
       "      <th></th>\n",
       "      <th></th>\n",
       "    </tr>\n",
       "  </thead>\n",
       "  <tbody>\n",
       "    <tr>\n",
       "      <th>3</th>\n",
       "      <td>0.760399</td>\n",
       "      <td>0.029886</td>\n",
       "      <td>0.209715</td>\n",
       "    </tr>\n",
       "    <tr>\n",
       "      <th>7</th>\n",
       "      <td>0.779921</td>\n",
       "      <td>0.022055</td>\n",
       "      <td>0.198024</td>\n",
       "    </tr>\n",
       "    <tr>\n",
       "      <th>22</th>\n",
       "      <td>0.892930</td>\n",
       "      <td>0.025353</td>\n",
       "      <td>0.081716</td>\n",
       "    </tr>\n",
       "    <tr>\n",
       "      <th>23</th>\n",
       "      <td>0.887926</td>\n",
       "      <td>0.031579</td>\n",
       "      <td>0.080495</td>\n",
       "    </tr>\n",
       "    <tr>\n",
       "      <th>50</th>\n",
       "      <td>0.853307</td>\n",
       "      <td>0.027919</td>\n",
       "      <td>0.118774</td>\n",
       "    </tr>\n",
       "    <tr>\n",
       "      <th>52</th>\n",
       "      <td>0.769609</td>\n",
       "      <td>0.030679</td>\n",
       "      <td>0.199712</td>\n",
       "    </tr>\n",
       "    <tr>\n",
       "      <th>55</th>\n",
       "      <td>0.700198</td>\n",
       "      <td>0.025224</td>\n",
       "      <td>0.274579</td>\n",
       "    </tr>\n",
       "    <tr>\n",
       "      <th>56</th>\n",
       "      <td>0.822441</td>\n",
       "      <td>0.029173</td>\n",
       "      <td>0.148385</td>\n",
       "    </tr>\n",
       "  </tbody>\n",
       "</table>\n",
       "</div>"
      ],
      "text/plain": [
       "            ADJUSTED_ONTIME_COUNT  ADJUSTED_EARLY_COUNT  ADJUSTED_LATE_COUNT\n",
       "ROUTE_ABBR                                                                  \n",
       "3                        0.760399              0.029886             0.209715\n",
       "7                        0.779921              0.022055             0.198024\n",
       "22                       0.892930              0.025353             0.081716\n",
       "23                       0.887926              0.031579             0.080495\n",
       "50                       0.853307              0.027919             0.118774\n",
       "52                       0.769609              0.030679             0.199712\n",
       "55                       0.700198              0.025224             0.274579\n",
       "56                       0.822441              0.029173             0.148385"
      ]
     },
     "execution_count": 53,
     "metadata": {},
     "output_type": "execute_result"
    }
   ],
   "source": [
    "#Percentage of ontime by route.\n",
    "(wego_new\n",
    " .groupby('ROUTE_ABBR')\n",
    " [['ADJUSTED_ONTIME_COUNT','ADJUSTED_EARLY_COUNT','ADJUSTED_LATE_COUNT']]\n",
    " .mean()\n",
    ")"
   ]
  },
  {
   "cell_type": "code",
   "execution_count": 54,
   "id": "309447e3",
   "metadata": {},
   "outputs": [
    {
     "data": {
      "text/html": [
       "<div>\n",
       "<style scoped>\n",
       "    .dataframe tbody tr th:only-of-type {\n",
       "        vertical-align: middle;\n",
       "    }\n",
       "\n",
       "    .dataframe tbody tr th {\n",
       "        vertical-align: top;\n",
       "    }\n",
       "\n",
       "    .dataframe thead th {\n",
       "        text-align: right;\n",
       "    }\n",
       "</style>\n",
       "<table border=\"1\" class=\"dataframe\">\n",
       "  <thead>\n",
       "    <tr style=\"text-align: right;\">\n",
       "      <th></th>\n",
       "      <th>HeadwayDeviation</th>\n",
       "      <th>Adherence</th>\n",
       "    </tr>\n",
       "    <tr>\n",
       "      <th>ROUTE_ABBR</th>\n",
       "      <th></th>\n",
       "      <th></th>\n",
       "    </tr>\n",
       "  </thead>\n",
       "  <tbody>\n",
       "    <tr>\n",
       "      <th>3</th>\n",
       "      <td>0.54</td>\n",
       "      <td>-3.71</td>\n",
       "    </tr>\n",
       "    <tr>\n",
       "      <th>7</th>\n",
       "      <td>0.33</td>\n",
       "      <td>-3.48</td>\n",
       "    </tr>\n",
       "    <tr>\n",
       "      <th>22</th>\n",
       "      <td>0.57</td>\n",
       "      <td>-1.07</td>\n",
       "    </tr>\n",
       "    <tr>\n",
       "      <th>23</th>\n",
       "      <td>0.82</td>\n",
       "      <td>-1.64</td>\n",
       "    </tr>\n",
       "    <tr>\n",
       "      <th>50</th>\n",
       "      <td>0.17</td>\n",
       "      <td>-2.42</td>\n",
       "    </tr>\n",
       "    <tr>\n",
       "      <th>52</th>\n",
       "      <td>0.71</td>\n",
       "      <td>-3.73</td>\n",
       "    </tr>\n",
       "    <tr>\n",
       "      <th>55</th>\n",
       "      <td>0.19</td>\n",
       "      <td>-4.62</td>\n",
       "    </tr>\n",
       "    <tr>\n",
       "      <th>56</th>\n",
       "      <td>0.12</td>\n",
       "      <td>-2.65</td>\n",
       "    </tr>\n",
       "  </tbody>\n",
       "</table>\n",
       "</div>"
      ],
      "text/plain": [
       "            HeadwayDeviation  Adherence\n",
       "ROUTE_ABBR                             \n",
       "3                       0.54      -3.71\n",
       "7                       0.33      -3.48\n",
       "22                      0.57      -1.07\n",
       "23                      0.82      -1.64\n",
       "50                      0.17      -2.42\n",
       "52                      0.71      -3.73\n",
       "55                      0.19      -4.62\n",
       "56                      0.12      -2.65"
      ]
     },
     "execution_count": 54,
     "metadata": {},
     "output_type": "execute_result"
    }
   ],
   "source": [
    "round(wego_new.groupby(by='ROUTE_ABBR').agg(HeadwayDeviation=('HDWY_DEV', 'mean'), Adherence=('ADHERENCE', 'mean')),2)"
   ]
  },
  {
   "cell_type": "code",
   "execution_count": null,
   "id": "bb295afa",
   "metadata": {},
   "outputs": [],
   "source": []
  },
  {
   "cell_type": "markdown",
   "id": "49e9cfb8",
   "metadata": {},
   "source": [
    "## Question 3.\n",
    "How does time of day or day of week affect headway and on-time performance?"
   ]
  },
  {
   "cell_type": "code",
   "execution_count": 55,
   "id": "45a6bde5",
   "metadata": {},
   "outputs": [],
   "source": [
    "wego_new['DATE_TIME'] = pd.to_datetime(wego_new['SCHEDULED_TIME'])"
   ]
  },
  {
   "cell_type": "code",
   "execution_count": 56,
   "id": "7306b40b",
   "metadata": {},
   "outputs": [],
   "source": [
    "wego_new['MONTH'] = wego_new['DATE_TIME'].dt.month\n",
    "wego_new['DAY'] = wego_new['DATE_TIME'].dt.day\n",
    "wego_new['HOUR'] = wego_new['DATE_TIME'].dt.hour\n",
    "wego_new['DAY_NAME'] = wego_new['DATE_TIME'].dt.day_name()"
   ]
  },
  {
   "cell_type": "code",
   "execution_count": 57,
   "id": "8e9991f4",
   "metadata": {},
   "outputs": [
    {
     "data": {
      "image/png": "[encoded data removed]",
      "text/plain": [
       "<Figure size 1000x600 with 1 Axes>"
      ]
     },
     "metadata": {},
     "output_type": "display_data"
    }
   ],
   "source": [
    "color = 'skyblue'  \n",
    "\n",
    "plt.figure(figsize=(10, 6))  \n",
    "sns.barplot(data=wego_new, x='HOUR', y='ADJUSTED_ONTIME_COUNT', color=color)\n",
    "\n",
    "plt.xlabel(\"Hour\")\n",
    "plt.ylabel(\"Adjusted On-time Count\")\n",
    "plt.title(\"Adjusted On-time Count by Hour\")\n",
    "\n",
    "plt.show() "
   ]
  },
  {
   "cell_type": "code",
   "execution_count": 58,
   "id": "bc1e1a9c",
   "metadata": {},
   "outputs": [
    {
     "data": {
      "image/png": "[encoded data removed]",
      "text/plain": [
       "<Figure size 1000x600 with 1 Axes>"
      ]
     },
     "metadata": {},
     "output_type": "display_data"
    }
   ],
   "source": [
    "color = 'skyblue'  \n",
    "\n",
    "plt.figure(figsize=(10, 6)) \n",
    "sns.barplot(data=wego_new, x='DAY_NAME', y='ADJUSTED_ONTIME_COUNT', color=color)\n",
    "\n",
    "plt.xlabel(\"Day of the Week\")\n",
    "plt.ylabel(\"Adjusted On-time Count\")\n",
    "plt.title(\"Adjusted On-time Count by Day of the Week\")\n",
    "\n",
    "plt.show()"
   ]
  },
  {
   "cell_type": "code",
   "execution_count": 59,
   "id": "29777207",
   "metadata": {},
   "outputs": [
    {
     "data": {
      "text/html": [
       "<div>\n",
       "<style scoped>\n",
       "    .dataframe tbody tr th:only-of-type {\n",
       "        vertical-align: middle;\n",
       "    }\n",
       "\n",
       "    .dataframe tbody tr th {\n",
       "        vertical-align: top;\n",
       "    }\n",
       "\n",
       "    .dataframe thead th {\n",
       "        text-align: right;\n",
       "    }\n",
       "</style>\n",
       "<table border=\"1\" class=\"dataframe\">\n",
       "  <thead>\n",
       "    <tr style=\"text-align: right;\">\n",
       "      <th></th>\n",
       "      <th>ADJUSTED_ONTIME_COUNT</th>\n",
       "      <th>ADJUSTED_EARLY_COUNT</th>\n",
       "      <th>ADJUSTED_LATE_COUNT</th>\n",
       "    </tr>\n",
       "    <tr>\n",
       "      <th>DAY_NAME</th>\n",
       "      <th></th>\n",
       "      <th></th>\n",
       "      <th></th>\n",
       "    </tr>\n",
       "  </thead>\n",
       "  <tbody>\n",
       "    <tr>\n",
       "      <th>Friday</th>\n",
       "      <td>0.756604</td>\n",
       "      <td>0.027943</td>\n",
       "      <td>0.215453</td>\n",
       "    </tr>\n",
       "    <tr>\n",
       "      <th>Monday</th>\n",
       "      <td>0.841206</td>\n",
       "      <td>0.033269</td>\n",
       "      <td>0.125525</td>\n",
       "    </tr>\n",
       "    <tr>\n",
       "      <th>Saturday</th>\n",
       "      <td>0.797629</td>\n",
       "      <td>0.021667</td>\n",
       "      <td>0.180705</td>\n",
       "    </tr>\n",
       "    <tr>\n",
       "      <th>Sunday</th>\n",
       "      <td>0.846369</td>\n",
       "      <td>0.030194</td>\n",
       "      <td>0.123437</td>\n",
       "    </tr>\n",
       "    <tr>\n",
       "      <th>Thursday</th>\n",
       "      <td>0.784857</td>\n",
       "      <td>0.027551</td>\n",
       "      <td>0.187592</td>\n",
       "    </tr>\n",
       "    <tr>\n",
       "      <th>Tuesday</th>\n",
       "      <td>0.803493</td>\n",
       "      <td>0.027927</td>\n",
       "      <td>0.168580</td>\n",
       "    </tr>\n",
       "    <tr>\n",
       "      <th>Wednesday</th>\n",
       "      <td>0.791478</td>\n",
       "      <td>0.028685</td>\n",
       "      <td>0.179837</td>\n",
       "    </tr>\n",
       "  </tbody>\n",
       "</table>\n",
       "</div>"
      ],
      "text/plain": [
       "           ADJUSTED_ONTIME_COUNT  ADJUSTED_EARLY_COUNT  ADJUSTED_LATE_COUNT\n",
       "DAY_NAME                                                                   \n",
       "Friday                  0.756604              0.027943             0.215453\n",
       "Monday                  0.841206              0.033269             0.125525\n",
       "Saturday                0.797629              0.021667             0.180705\n",
       "Sunday                  0.846369              0.030194             0.123437\n",
       "Thursday                0.784857              0.027551             0.187592\n",
       "Tuesday                 0.803493              0.027927             0.168580\n",
       "Wednesday               0.791478              0.028685             0.179837"
      ]
     },
     "execution_count": 59,
     "metadata": {},
     "output_type": "execute_result"
    }
   ],
   "source": [
    "#Percentage of on time by day.\n",
    "(wego_new\n",
    " .groupby(wego_new['DAY_NAME'])\n",
    " [['ADJUSTED_ONTIME_COUNT','ADJUSTED_EARLY_COUNT','ADJUSTED_LATE_COUNT']]\n",
    " .mean()\n",
    ")"
   ]
  },
  {
   "cell_type": "code",
   "execution_count": 60,
   "id": "94ddb5fa",
   "metadata": {},
   "outputs": [
    {
     "data": {
      "text/html": [
       "<div>\n",
       "<style scoped>\n",
       "    .dataframe tbody tr th:only-of-type {\n",
       "        vertical-align: middle;\n",
       "    }\n",
       "\n",
       "    .dataframe tbody tr th {\n",
       "        vertical-align: top;\n",
       "    }\n",
       "\n",
       "    .dataframe thead th {\n",
       "        text-align: right;\n",
       "    }\n",
       "</style>\n",
       "<table border=\"1\" class=\"dataframe\">\n",
       "  <thead>\n",
       "    <tr style=\"text-align: right;\">\n",
       "      <th></th>\n",
       "      <th>NORMAL_HDWY</th>\n",
       "      <th>GAPPING</th>\n",
       "      <th>BUNCHING</th>\n",
       "    </tr>\n",
       "    <tr>\n",
       "      <th>DAY_NAME</th>\n",
       "      <th></th>\n",
       "      <th></th>\n",
       "      <th></th>\n",
       "    </tr>\n",
       "  </thead>\n",
       "  <tbody>\n",
       "    <tr>\n",
       "      <th>Friday</th>\n",
       "      <td>0.803842</td>\n",
       "      <td>0.105631</td>\n",
       "      <td>0.089947</td>\n",
       "    </tr>\n",
       "    <tr>\n",
       "      <th>Monday</th>\n",
       "      <td>0.875584</td>\n",
       "      <td>0.064922</td>\n",
       "      <td>0.058707</td>\n",
       "    </tr>\n",
       "    <tr>\n",
       "      <th>Saturday</th>\n",
       "      <td>0.923848</td>\n",
       "      <td>0.044617</td>\n",
       "      <td>0.031391</td>\n",
       "    </tr>\n",
       "    <tr>\n",
       "      <th>Sunday</th>\n",
       "      <td>0.938135</td>\n",
       "      <td>0.040806</td>\n",
       "      <td>0.020109</td>\n",
       "    </tr>\n",
       "    <tr>\n",
       "      <th>Thursday</th>\n",
       "      <td>0.828317</td>\n",
       "      <td>0.093102</td>\n",
       "      <td>0.078052</td>\n",
       "    </tr>\n",
       "    <tr>\n",
       "      <th>Tuesday</th>\n",
       "      <td>0.844974</td>\n",
       "      <td>0.083271</td>\n",
       "      <td>0.071391</td>\n",
       "    </tr>\n",
       "    <tr>\n",
       "      <th>Wednesday</th>\n",
       "      <td>0.838261</td>\n",
       "      <td>0.085299</td>\n",
       "      <td>0.075942</td>\n",
       "    </tr>\n",
       "  </tbody>\n",
       "</table>\n",
       "</div>"
      ],
      "text/plain": [
       "           NORMAL_HDWY   GAPPING  BUNCHING\n",
       "DAY_NAME                                  \n",
       "Friday        0.803842  0.105631  0.089947\n",
       "Monday        0.875584  0.064922  0.058707\n",
       "Saturday      0.923848  0.044617  0.031391\n",
       "Sunday        0.938135  0.040806  0.020109\n",
       "Thursday      0.828317  0.093102  0.078052\n",
       "Tuesday       0.844974  0.083271  0.071391\n",
       "Wednesday     0.838261  0.085299  0.075942"
      ]
     },
     "execution_count": 60,
     "metadata": {},
     "output_type": "execute_result"
    }
   ],
   "source": [
    "#Percentage of HDWY by day\n",
    "(wego_hdwy\n",
    " .groupby (wego_new['DAY_NAME'])\n",
    " [['NORMAL_HDWY','GAPPING','BUNCHING']]\n",
    " .mean()\n",
    ")"
   ]
  },
  {
   "cell_type": "code",
   "execution_count": 61,
   "id": "d9b2db42",
   "metadata": {},
   "outputs": [],
   "source": [
    "# print(wego_hdwy.head())"
   ]
  },
  {
   "cell_type": "code",
   "execution_count": 62,
   "id": "3fbd94cf",
   "metadata": {},
   "outputs": [],
   "source": [
    "# print(wego_hdwy.columns)"
   ]
  },
  {
   "cell_type": "code",
   "execution_count": 63,
   "id": "b56bb820",
   "metadata": {},
   "outputs": [
    {
     "data": {
      "text/html": [
       "<div>\n",
       "<style scoped>\n",
       "    .dataframe tbody tr th:only-of-type {\n",
       "        vertical-align: middle;\n",
       "    }\n",
       "\n",
       "    .dataframe tbody tr th {\n",
       "        vertical-align: top;\n",
       "    }\n",
       "\n",
       "    .dataframe thead th {\n",
       "        text-align: right;\n",
       "    }\n",
       "</style>\n",
       "<table border=\"1\" class=\"dataframe\">\n",
       "  <thead>\n",
       "    <tr style=\"text-align: right;\">\n",
       "      <th></th>\n",
       "      <th>ADJUSTED_ONTIME_COUNT</th>\n",
       "      <th>ADJUSTED_EARLY_COUNT</th>\n",
       "      <th>ADJUSTED_LATE_COUNT</th>\n",
       "    </tr>\n",
       "    <tr>\n",
       "      <th>HOUR</th>\n",
       "      <th></th>\n",
       "      <th></th>\n",
       "      <th></th>\n",
       "    </tr>\n",
       "  </thead>\n",
       "  <tbody>\n",
       "    <tr>\n",
       "      <th>0</th>\n",
       "      <td>0.718494</td>\n",
       "      <td>0.088371</td>\n",
       "      <td>0.193135</td>\n",
       "    </tr>\n",
       "    <tr>\n",
       "      <th>1</th>\n",
       "      <td>0.513514</td>\n",
       "      <td>0.234234</td>\n",
       "      <td>0.252252</td>\n",
       "    </tr>\n",
       "    <tr>\n",
       "      <th>4</th>\n",
       "      <td>0.936574</td>\n",
       "      <td>0.040901</td>\n",
       "      <td>0.022525</td>\n",
       "    </tr>\n",
       "    <tr>\n",
       "      <th>5</th>\n",
       "      <td>0.923647</td>\n",
       "      <td>0.035571</td>\n",
       "      <td>0.040782</td>\n",
       "    </tr>\n",
       "    <tr>\n",
       "      <th>6</th>\n",
       "      <td>0.900309</td>\n",
       "      <td>0.027122</td>\n",
       "      <td>0.072569</td>\n",
       "    </tr>\n",
       "    <tr>\n",
       "      <th>7</th>\n",
       "      <td>0.812881</td>\n",
       "      <td>0.023713</td>\n",
       "      <td>0.163407</td>\n",
       "    </tr>\n",
       "    <tr>\n",
       "      <th>8</th>\n",
       "      <td>0.758470</td>\n",
       "      <td>0.019079</td>\n",
       "      <td>0.222452</td>\n",
       "    </tr>\n",
       "    <tr>\n",
       "      <th>9</th>\n",
       "      <td>0.839944</td>\n",
       "      <td>0.028553</td>\n",
       "      <td>0.131504</td>\n",
       "    </tr>\n",
       "    <tr>\n",
       "      <th>10</th>\n",
       "      <td>0.858531</td>\n",
       "      <td>0.036677</td>\n",
       "      <td>0.104792</td>\n",
       "    </tr>\n",
       "    <tr>\n",
       "      <th>11</th>\n",
       "      <td>0.859309</td>\n",
       "      <td>0.028098</td>\n",
       "      <td>0.112593</td>\n",
       "    </tr>\n",
       "    <tr>\n",
       "      <th>12</th>\n",
       "      <td>0.830587</td>\n",
       "      <td>0.027392</td>\n",
       "      <td>0.142020</td>\n",
       "    </tr>\n",
       "    <tr>\n",
       "      <th>13</th>\n",
       "      <td>0.830175</td>\n",
       "      <td>0.028371</td>\n",
       "      <td>0.141453</td>\n",
       "    </tr>\n",
       "    <tr>\n",
       "      <th>14</th>\n",
       "      <td>0.787897</td>\n",
       "      <td>0.027458</td>\n",
       "      <td>0.184645</td>\n",
       "    </tr>\n",
       "    <tr>\n",
       "      <th>15</th>\n",
       "      <td>0.724335</td>\n",
       "      <td>0.031759</td>\n",
       "      <td>0.243906</td>\n",
       "    </tr>\n",
       "    <tr>\n",
       "      <th>16</th>\n",
       "      <td>0.702222</td>\n",
       "      <td>0.025991</td>\n",
       "      <td>0.271787</td>\n",
       "    </tr>\n",
       "    <tr>\n",
       "      <th>17</th>\n",
       "      <td>0.697740</td>\n",
       "      <td>0.031187</td>\n",
       "      <td>0.271072</td>\n",
       "    </tr>\n",
       "    <tr>\n",
       "      <th>18</th>\n",
       "      <td>0.738546</td>\n",
       "      <td>0.029542</td>\n",
       "      <td>0.231912</td>\n",
       "    </tr>\n",
       "    <tr>\n",
       "      <th>19</th>\n",
       "      <td>0.751259</td>\n",
       "      <td>0.017214</td>\n",
       "      <td>0.231527</td>\n",
       "    </tr>\n",
       "    <tr>\n",
       "      <th>20</th>\n",
       "      <td>0.792086</td>\n",
       "      <td>0.020363</td>\n",
       "      <td>0.187552</td>\n",
       "    </tr>\n",
       "    <tr>\n",
       "      <th>21</th>\n",
       "      <td>0.832581</td>\n",
       "      <td>0.022385</td>\n",
       "      <td>0.145034</td>\n",
       "    </tr>\n",
       "    <tr>\n",
       "      <th>22</th>\n",
       "      <td>0.845590</td>\n",
       "      <td>0.025057</td>\n",
       "      <td>0.129353</td>\n",
       "    </tr>\n",
       "    <tr>\n",
       "      <th>23</th>\n",
       "      <td>0.782333</td>\n",
       "      <td>0.035000</td>\n",
       "      <td>0.182667</td>\n",
       "    </tr>\n",
       "  </tbody>\n",
       "</table>\n",
       "</div>"
      ],
      "text/plain": [
       "      ADJUSTED_ONTIME_COUNT  ADJUSTED_EARLY_COUNT  ADJUSTED_LATE_COUNT\n",
       "HOUR                                                                  \n",
       "0                  0.718494              0.088371             0.193135\n",
       "1                  0.513514              0.234234             0.252252\n",
       "4                  0.936574              0.040901             0.022525\n",
       "5                  0.923647              0.035571             0.040782\n",
       "6                  0.900309              0.027122             0.072569\n",
       "7                  0.812881              0.023713             0.163407\n",
       "8                  0.758470              0.019079             0.222452\n",
       "9                  0.839944              0.028553             0.131504\n",
       "10                 0.858531              0.036677             0.104792\n",
       "11                 0.859309              0.028098             0.112593\n",
       "12                 0.830587              0.027392             0.142020\n",
       "13                 0.830175              0.028371             0.141453\n",
       "14                 0.787897              0.027458             0.184645\n",
       "15                 0.724335              0.031759             0.243906\n",
       "16                 0.702222              0.025991             0.271787\n",
       "17                 0.697740              0.031187             0.271072\n",
       "18                 0.738546              0.029542             0.231912\n",
       "19                 0.751259              0.017214             0.231527\n",
       "20                 0.792086              0.020363             0.187552\n",
       "21                 0.832581              0.022385             0.145034\n",
       "22                 0.845590              0.025057             0.129353\n",
       "23                 0.782333              0.035000             0.182667"
      ]
     },
     "execution_count": 63,
     "metadata": {},
     "output_type": "execute_result"
    }
   ],
   "source": [
    "#Percentage of on time by hour\n",
    "(wego_new\n",
    " .groupby('HOUR')\n",
    " [['ADJUSTED_ONTIME_COUNT','ADJUSTED_EARLY_COUNT','ADJUSTED_LATE_COUNT']]\n",
    " .mean()\n",
    ")"
   ]
  },
  {
   "cell_type": "code",
   "execution_count": 64,
   "id": "14fde8ed",
   "metadata": {},
   "outputs": [
    {
     "data": {
      "text/html": [
       "<div>\n",
       "<style scoped>\n",
       "    .dataframe tbody tr th:only-of-type {\n",
       "        vertical-align: middle;\n",
       "    }\n",
       "\n",
       "    .dataframe tbody tr th {\n",
       "        vertical-align: top;\n",
       "    }\n",
       "\n",
       "    .dataframe thead th {\n",
       "        text-align: right;\n",
       "    }\n",
       "</style>\n",
       "<table border=\"1\" class=\"dataframe\">\n",
       "  <thead>\n",
       "    <tr style=\"text-align: right;\">\n",
       "      <th></th>\n",
       "      <th>NORMAL_HDWY</th>\n",
       "      <th>GAPPING</th>\n",
       "      <th>BUNCHING</th>\n",
       "    </tr>\n",
       "    <tr>\n",
       "      <th>HOUR</th>\n",
       "      <th></th>\n",
       "      <th></th>\n",
       "      <th></th>\n",
       "    </tr>\n",
       "  </thead>\n",
       "  <tbody>\n",
       "    <tr>\n",
       "      <th>0</th>\n",
       "      <td>0.920796</td>\n",
       "      <td>0.043919</td>\n",
       "      <td>0.035285</td>\n",
       "    </tr>\n",
       "    <tr>\n",
       "      <th>1</th>\n",
       "      <td>0.571429</td>\n",
       "      <td>0.285714</td>\n",
       "      <td>0.142857</td>\n",
       "    </tr>\n",
       "    <tr>\n",
       "      <th>4</th>\n",
       "      <td>0.992095</td>\n",
       "      <td>0.000000</td>\n",
       "      <td>0.000000</td>\n",
       "    </tr>\n",
       "    <tr>\n",
       "      <th>5</th>\n",
       "      <td>0.949796</td>\n",
       "      <td>0.026459</td>\n",
       "      <td>0.015265</td>\n",
       "    </tr>\n",
       "    <tr>\n",
       "      <th>6</th>\n",
       "      <td>0.908585</td>\n",
       "      <td>0.052387</td>\n",
       "      <td>0.036540</td>\n",
       "    </tr>\n",
       "    <tr>\n",
       "      <th>7</th>\n",
       "      <td>0.849268</td>\n",
       "      <td>0.087487</td>\n",
       "      <td>0.061585</td>\n",
       "    </tr>\n",
       "    <tr>\n",
       "      <th>8</th>\n",
       "      <td>0.814355</td>\n",
       "      <td>0.092575</td>\n",
       "      <td>0.092575</td>\n",
       "    </tr>\n",
       "    <tr>\n",
       "      <th>9</th>\n",
       "      <td>0.863352</td>\n",
       "      <td>0.068605</td>\n",
       "      <td>0.068043</td>\n",
       "    </tr>\n",
       "    <tr>\n",
       "      <th>10</th>\n",
       "      <td>0.877571</td>\n",
       "      <td>0.066786</td>\n",
       "      <td>0.055644</td>\n",
       "    </tr>\n",
       "    <tr>\n",
       "      <th>11</th>\n",
       "      <td>0.889896</td>\n",
       "      <td>0.061866</td>\n",
       "      <td>0.048238</td>\n",
       "    </tr>\n",
       "    <tr>\n",
       "      <th>12</th>\n",
       "      <td>0.864235</td>\n",
       "      <td>0.075481</td>\n",
       "      <td>0.060030</td>\n",
       "    </tr>\n",
       "    <tr>\n",
       "      <th>13</th>\n",
       "      <td>0.869726</td>\n",
       "      <td>0.073538</td>\n",
       "      <td>0.056736</td>\n",
       "    </tr>\n",
       "    <tr>\n",
       "      <th>14</th>\n",
       "      <td>0.839531</td>\n",
       "      <td>0.089163</td>\n",
       "      <td>0.071306</td>\n",
       "    </tr>\n",
       "    <tr>\n",
       "      <th>15</th>\n",
       "      <td>0.770426</td>\n",
       "      <td>0.125362</td>\n",
       "      <td>0.103858</td>\n",
       "    </tr>\n",
       "    <tr>\n",
       "      <th>16</th>\n",
       "      <td>0.757186</td>\n",
       "      <td>0.123356</td>\n",
       "      <td>0.119400</td>\n",
       "    </tr>\n",
       "    <tr>\n",
       "      <th>17</th>\n",
       "      <td>0.761528</td>\n",
       "      <td>0.115007</td>\n",
       "      <td>0.123403</td>\n",
       "    </tr>\n",
       "    <tr>\n",
       "      <th>18</th>\n",
       "      <td>0.810856</td>\n",
       "      <td>0.098957</td>\n",
       "      <td>0.090112</td>\n",
       "    </tr>\n",
       "    <tr>\n",
       "      <th>19</th>\n",
       "      <td>0.884936</td>\n",
       "      <td>0.065291</td>\n",
       "      <td>0.049773</td>\n",
       "    </tr>\n",
       "    <tr>\n",
       "      <th>20</th>\n",
       "      <td>0.923077</td>\n",
       "      <td>0.046968</td>\n",
       "      <td>0.029851</td>\n",
       "    </tr>\n",
       "    <tr>\n",
       "      <th>21</th>\n",
       "      <td>0.947181</td>\n",
       "      <td>0.035680</td>\n",
       "      <td>0.017139</td>\n",
       "    </tr>\n",
       "    <tr>\n",
       "      <th>22</th>\n",
       "      <td>0.947752</td>\n",
       "      <td>0.038930</td>\n",
       "      <td>0.013318</td>\n",
       "    </tr>\n",
       "    <tr>\n",
       "      <th>23</th>\n",
       "      <td>0.931828</td>\n",
       "      <td>0.049164</td>\n",
       "      <td>0.019008</td>\n",
       "    </tr>\n",
       "  </tbody>\n",
       "</table>\n",
       "</div>"
      ],
      "text/plain": [
       "      NORMAL_HDWY   GAPPING  BUNCHING\n",
       "HOUR                                 \n",
       "0        0.920796  0.043919  0.035285\n",
       "1        0.571429  0.285714  0.142857\n",
       "4        0.992095  0.000000  0.000000\n",
       "5        0.949796  0.026459  0.015265\n",
       "6        0.908585  0.052387  0.036540\n",
       "7        0.849268  0.087487  0.061585\n",
       "8        0.814355  0.092575  0.092575\n",
       "9        0.863352  0.068605  0.068043\n",
       "10       0.877571  0.066786  0.055644\n",
       "11       0.889896  0.061866  0.048238\n",
       "12       0.864235  0.075481  0.060030\n",
       "13       0.869726  0.073538  0.056736\n",
       "14       0.839531  0.089163  0.071306\n",
       "15       0.770426  0.125362  0.103858\n",
       "16       0.757186  0.123356  0.119400\n",
       "17       0.761528  0.115007  0.123403\n",
       "18       0.810856  0.098957  0.090112\n",
       "19       0.884936  0.065291  0.049773\n",
       "20       0.923077  0.046968  0.029851\n",
       "21       0.947181  0.035680  0.017139\n",
       "22       0.947752  0.038930  0.013318\n",
       "23       0.931828  0.049164  0.019008"
      ]
     },
     "execution_count": 64,
     "metadata": {},
     "output_type": "execute_result"
    }
   ],
   "source": [
    "#Percentage of HDWY by hour\n",
    "(wego_hdwy\n",
    " .groupby(wego_new['HOUR'])\n",
    " [['NORMAL_HDWY','GAPPING','BUNCHING']]\n",
    " .mean()\n",
    ")"
   ]
  },
  {
   "cell_type": "code",
   "execution_count": null,
   "id": "5a96f243",
   "metadata": {},
   "outputs": [],
   "source": []
  },
  {
   "cell_type": "markdown",
   "id": "3b7f1038",
   "metadata": {},
   "source": [
    "## Question 4.\n",
    "How much of a factor does the driver have on headway and on-time performance? The driver is indicated by the OPERATOR variable."
   ]
  },
  {
   "cell_type": "code",
   "execution_count": 65,
   "id": "19484eb7",
   "metadata": {},
   "outputs": [
    {
     "data": {
      "text/plain": [
       "array([1040, 2374, 2689, 1617, 2427, 1892, 1190, 1222, 2355, 2125, 2649,\n",
       "       1761, 1893, 2041, 1170, 1823, 1198, 1147,  522, 2603,  409, 2958,\n",
       "       2088, 2348, 2706, 1368, 3100, 2529, 1237, 1992, 2059, 2441, 1204,\n",
       "        326, 2177,  559, 2963, 1948, 2230, 1703, 2569, 2055, 2675, 2752,\n",
       "        517, 2586, 2623,  907, 1682, 1619, 1133,  659, 1266, 1623, 1938,\n",
       "       1410, 1705, 1927, 1391, 2629,  304,  357, 2500, 2112, 1505, 1904,\n",
       "       1052, 1800, 2253, 1489, 1542, 2624, 2062,  359, 1582, 2428,  332,\n",
       "       2967, 3016, 2760, 2584, 1206, 2399, 3124, 2109, 1208, 3012, 1361,\n",
       "       2990, 1650, 1359,  611, 1590, 2832, 2560,  520, 2371, 1175, 2200,\n",
       "       1352, 2714, 1500, 2817, 3096, 1958, 2458, 1601, 1343, 2217, 1866,\n",
       "       2987, 1372, 2792, 1330, 2733, 1713, 1406, 2780,  471, 2638, 1780,\n",
       "       1177, 2221, 1743,  572, 2400,  341, 2312,  778, 2697,  723, 2324,\n",
       "       2164, 2618, 2563, 2809, 2448, 1762, 1401, 2352,  414, 2357, 2545,\n",
       "       2306, 3088, 3015, 2703,  624, 1566, 2040, 3103, 1736, 2765, 2610,\n",
       "       3013, 1379, 3127, 2549, 3090, 1730, 3087, 3035, 3144, 2479, 3128,\n",
       "       2954, 1865, 1914, 2793, 2207, 1277, 2505, 1717, 2783, 1598, 2161,\n",
       "       2001, 2630, 1997, 2585, 2335, 1922, 1716, 1842, 2246, 2594, 2600,\n",
       "       3093, 1788, 2972, 2512, 2254, 2969, 3079, 2356, 3101, 1782, 1814,\n",
       "       2590, 1848, 3020, 2547, 3064, 1792, 2764, 3099, 2821, 3031, 1824,\n",
       "       3001, 1603, 1251, 2053, 2978, 1389, 2580, 3102, 2943, 2976, 2762,\n",
       "       2362, 2151, 2127, 1815, 2530, 2962, 1419, 2747,  785, 2531, 2138,\n",
       "       2779, 2497, 2751, 1078, 2669, 2440, 2876, 3098, 1838, 2642, 1797,\n",
       "       1457, 2432, 3122, 2534, 2322, 2368, 1394, 2424, 3027, 2693, 3129,\n",
       "       2103, 2126, 2102, 2567, 2573,  329, 1867, 2012, 1202, 2228, 2694,\n",
       "        379, 2546, 2321, 2082, 1377, 1593, 1305,  623, 3134, 2423, 2033,\n",
       "        653, 2662, 1016, 3080, 2435, 3126, 2577, 1763, 3116, 1621, 3120,\n",
       "       2982, 1606, 2639, 1597, 1984, 2313, 3140, 1524, 1915,  465, 3142,\n",
       "       2332, 2137, 3138,   56, 2459, 3118, 1596, 1362, 1880, 2989,  301,\n",
       "        235, 2503, 2178, 2493, 2294, 1363,    0, 1673, 1706, 3156, 1742,\n",
       "       2464, 2784, 3149, 3077, 2338,  244, 2256,  473, 2646, 2309, 2472,\n",
       "       2094, 3165, 1889, 2494, 1845, 3173, 2377,  375, 3166, 2029],\n",
       "      dtype=int64)"
      ]
     },
     "execution_count": 65,
     "metadata": {},
     "output_type": "execute_result"
    }
   ],
   "source": [
    "wego_new.OPERATOR.unique()"
   ]
  },
  {
   "cell_type": "code",
   "execution_count": 66,
   "id": "99632a41",
   "metadata": {},
   "outputs": [
    {
     "data": {
      "text/plain": [
       "OPERATOR\n",
       "1266    2814\n",
       "1147    2679\n",
       "1133    2602\n",
       "2352    2542\n",
       "2424    2472\n",
       "        ... \n",
       "2377       9\n",
       "2256       6\n",
       "56         3\n",
       "0          1\n",
       "473        1\n",
       "Name: count, Length: 340, dtype: int64"
      ]
     },
     "execution_count": 66,
     "metadata": {},
     "output_type": "execute_result"
    }
   ],
   "source": [
    "wego_new['OPERATOR'].value_counts()"
   ]
  },
  {
   "cell_type": "code",
   "execution_count": 67,
   "id": "fa7ad7c9",
   "metadata": {},
   "outputs": [
    {
     "data": {
      "text/plain": [
       "CALENDAR_ID                  2814\n",
       "SERVICE_ABBR                 2814\n",
       "ADHERENCE_ID                 2814\n",
       "DATE                         2814\n",
       "ROUTE_ABBR                   2814\n",
       "BLOCK_ABBR                   2814\n",
       "OPERATOR                     2814\n",
       "TRIP_ID                      2814\n",
       "OVERLOAD_ID                  2814\n",
       "ROUTE_DIRECTION_NAME         2814\n",
       "TIME_POINT_ABBR              2814\n",
       "ROUTE_STOP_SEQUENCE          2814\n",
       "TRIP_EDGE                    2814\n",
       "LATITUDE                     2814\n",
       "LONGITUDE                    2814\n",
       "SCHEDULED_TIME               2814\n",
       "ACTUAL_ARRIVAL_TIME          2814\n",
       "ACTUAL_DEPARTURE_TIME        2814\n",
       "ADHERENCE                    2814\n",
       "SCHEDULED_HDWY               2340\n",
       "ACTUAL_HDWY                  2340\n",
       "HDWY_DEV                     2340\n",
       "ADJUSTED_EARLY_COUNT         2814\n",
       "ADJUSTED_LATE_COUNT          2814\n",
       "ADJUSTED_ONTIME_COUNT        2814\n",
       "STOP_CANCELLED               2814\n",
       "PREV_SCHED_STOP_CANCELLED    2340\n",
       "IS_RELIEF                    2814\n",
       "DWELL_IN_MINS                2814\n",
       "SCHEDULED_LAYOVER_MINUTES     425\n",
       "HDWY_DEV_PERCENTAGE          2340\n",
       "BUNCHING                     2814\n",
       "GAPPING                      2814\n",
       "NORMAL_HDWY                  2814\n",
       "HDWY_NULL                    2814\n",
       "DATE_TIME                    2814\n",
       "MONTH                        2814\n",
       "DAY                          2814\n",
       "HOUR                         2814\n",
       "DAY_NAME                     2814\n",
       "dtype: int64"
      ]
     },
     "execution_count": 67,
     "metadata": {},
     "output_type": "execute_result"
    }
   ],
   "source": [
    "operator_1266 = wego_new[wego_new['OPERATOR']==1266]\n",
    "operator_1266.count()"
   ]
  },
  {
   "cell_type": "code",
   "execution_count": 70,
   "id": "23cf9a8c",
   "metadata": {},
   "outputs": [],
   "source": [
    "#Getting unique trip and operator\n",
    "unique_trips = wego[['TRIP_ID', 'CALENDAR_ID', 'OPERATOR']].drop_duplicates()\n"
   ]
  },
  {
   "cell_type": "code",
   "execution_count": 71,
   "id": "f5c90f07",
   "metadata": {},
   "outputs": [
    {
     "data": {
      "text/html": [
       "<div>\n",
       "<style scoped>\n",
       "    .dataframe tbody tr th:only-of-type {\n",
       "        vertical-align: middle;\n",
       "    }\n",
       "\n",
       "    .dataframe tbody tr th {\n",
       "        vertical-align: top;\n",
       "    }\n",
       "\n",
       "    .dataframe thead th {\n",
       "        text-align: right;\n",
       "    }\n",
       "</style>\n",
       "<table border=\"1\" class=\"dataframe\">\n",
       "  <thead>\n",
       "    <tr style=\"text-align: right;\">\n",
       "      <th></th>\n",
       "      <th>OPERATOR</th>\n",
       "      <th>Number_of_Trips</th>\n",
       "    </tr>\n",
       "  </thead>\n",
       "  <tbody>\n",
       "    <tr>\n",
       "      <th>106</th>\n",
       "      <td>1762</td>\n",
       "      <td>803</td>\n",
       "    </tr>\n",
       "    <tr>\n",
       "      <th>105</th>\n",
       "      <td>1761</td>\n",
       "      <td>738</td>\n",
       "    </tr>\n",
       "    <tr>\n",
       "      <th>164</th>\n",
       "      <td>2164</td>\n",
       "      <td>574</td>\n",
       "    </tr>\n",
       "    <tr>\n",
       "      <th>13</th>\n",
       "      <td>379</td>\n",
       "      <td>553</td>\n",
       "    </tr>\n",
       "    <tr>\n",
       "      <th>189</th>\n",
       "      <td>2352</td>\n",
       "      <td>548</td>\n",
       "    </tr>\n",
       "    <tr>\n",
       "      <th>...</th>\n",
       "      <td>...</td>\n",
       "      <td>...</td>\n",
       "    </tr>\n",
       "    <tr>\n",
       "      <th>12</th>\n",
       "      <td>375</td>\n",
       "      <td>2</td>\n",
       "    </tr>\n",
       "    <tr>\n",
       "      <th>1</th>\n",
       "      <td>56</td>\n",
       "      <td>2</td>\n",
       "    </tr>\n",
       "    <tr>\n",
       "      <th>176</th>\n",
       "      <td>2256</td>\n",
       "      <td>2</td>\n",
       "    </tr>\n",
       "    <tr>\n",
       "      <th>18</th>\n",
       "      <td>473</td>\n",
       "      <td>1</td>\n",
       "    </tr>\n",
       "    <tr>\n",
       "      <th>0</th>\n",
       "      <td>0</td>\n",
       "      <td>1</td>\n",
       "    </tr>\n",
       "  </tbody>\n",
       "</table>\n",
       "<p>340 rows × 2 columns</p>\n",
       "</div>"
      ],
      "text/plain": [
       "     OPERATOR  Number_of_Trips\n",
       "106      1762              803\n",
       "105      1761              738\n",
       "164      2164              574\n",
       "13        379              553\n",
       "189      2352              548\n",
       "..        ...              ...\n",
       "12        375                2\n",
       "1          56                2\n",
       "176      2256                2\n",
       "18        473                1\n",
       "0           0                1\n",
       "\n",
       "[340 rows x 2 columns]"
      ]
     },
     "execution_count": 71,
     "metadata": {},
     "output_type": "execute_result"
    }
   ],
   "source": [
    "# Grouping by operator to view # trips\n",
    "operator_trip_counts = unique_trips.groupby('OPERATOR').size().reset_index(name='Number_of_Trips')\n",
    "operator_trip_counts.sort_values('Number_of_Trips', ascending=False)"
   ]
  },
  {
   "cell_type": "code",
   "execution_count": null,
   "id": "011bb51a",
   "metadata": {},
   "outputs": [],
   "source": []
  }
 ],
 "metadata": {
  "kernelspec": {
   "display_name": "Python 3 (ipykernel)",
   "language": "python",
   "name": "python3"
  },
  "language_info": {
   "codemirror_mode": {
    "name": "ipython",
    "version": 3
   },
   "file_extension": ".py",
   "mimetype": "text/x-python",
   "name": "python",
   "nbconvert_exporter": "python",
   "pygments_lexer": "ipython3",
   "version": "3.11.7"
  }
 },
 "nbformat": 4,
 "nbformat_minor": 5
}
