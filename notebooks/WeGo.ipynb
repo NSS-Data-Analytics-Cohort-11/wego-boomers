{
 "cells": [
  {
   "cell_type": "code",
   "execution_count": 1,
   "id": "e37dbebb",
   "metadata": {},
   "outputs": [],
   "source": [
    "import pandas as pd\n",
    "import numpy as np\n",
    "from matplotlib import pyplot as plt\n",
    "from scipy import stats"
   ]
  },
  {
   "cell_type": "code",
   "execution_count": 2,
   "id": "4672081a",
   "metadata": {},
   "outputs": [],
   "source": [
    "pd.set_option('display.max_columns', None)"
   ]
  },
  {
   "cell_type": "code",
   "execution_count": 39,
   "id": "24ea3c89",
   "metadata": {},
   "outputs": [],
   "source": [
    "# Reading in the csv\n",
    "wego = pd.read_csv(\"../data/wego.csv\")"
   ]
  },
  {
   "cell_type": "code",
   "execution_count": 54,
   "id": "4128d454",
   "metadata": {},
   "outputs": [
    {
     "data": {
      "text/html": [
       "<div>\n",
       "<style scoped>\n",
       "    .dataframe tbody tr th:only-of-type {\n",
       "        vertical-align: middle;\n",
       "    }\n",
       "\n",
       "    .dataframe tbody tr th {\n",
       "        vertical-align: top;\n",
       "    }\n",
       "\n",
       "    .dataframe thead th {\n",
       "        text-align: right;\n",
       "    }\n",
       "</style>\n",
       "<table border=\"1\" class=\"dataframe\">\n",
       "  <thead>\n",
       "    <tr style=\"text-align: right;\">\n",
       "      <th></th>\n",
       "      <th>HDWY_DEV</th>\n",
       "      <th>HEADWAY_DEV_PERC</th>\n",
       "    </tr>\n",
       "  </thead>\n",
       "  <tbody>\n",
       "    <tr>\n",
       "      <th>7</th>\n",
       "      <td>2.666666</td>\n",
       "      <td>7.619046</td>\n",
       "    </tr>\n",
       "    <tr>\n",
       "      <th>8</th>\n",
       "      <td>1.966666</td>\n",
       "      <td>5.619046</td>\n",
       "    </tr>\n",
       "    <tr>\n",
       "      <th>9</th>\n",
       "      <td>-0.483334</td>\n",
       "      <td>-3.222227</td>\n",
       "    </tr>\n",
       "    <tr>\n",
       "      <th>11</th>\n",
       "      <td>-2.166667</td>\n",
       "      <td>-14.444447</td>\n",
       "    </tr>\n",
       "    <tr>\n",
       "      <th>12</th>\n",
       "      <td>-3.883334</td>\n",
       "      <td>-25.888893</td>\n",
       "    </tr>\n",
       "  </tbody>\n",
       "</table>\n",
       "</div>"
      ],
      "text/plain": [
       "    HDWY_DEV  HEADWAY_DEV_PERC\n",
       "7   2.666666          7.619046\n",
       "8   1.966666          5.619046\n",
       "9  -0.483334         -3.222227\n",
       "11 -2.166667        -14.444447\n",
       "12 -3.883334        -25.888893"
      ]
     },
     "execution_count": 54,
     "metadata": {},
     "output_type": "execute_result"
    }
   ],
   "source": [
    "# Adding headway deviation percentage column\n",
    "wego['HEADWAY_DEV_PERC'] = wego.HDWY_DEV/wego.SCHEDULED_HDWY*100\n",
    "wego[['HDWY_DEV','HEADWAY_DEV_PERC']].head()"
   ]
  },
  {
   "cell_type": "code",
   "execution_count": null,
   "id": "68ac5672",
   "metadata": {},
   "outputs": [],
   "source": [
    "# Adding columns to indicate if headway was normal, bunching, or gapping"
   ]
  },
  {
   "cell_type": "code",
   "execution_count": 49,
   "id": "1899a5a1",
   "metadata": {},
   "outputs": [
    {
     "data": {
      "text/html": [
       "<div>\n",
       "<style scoped>\n",
       "    .dataframe tbody tr th:only-of-type {\n",
       "        vertical-align: middle;\n",
       "    }\n",
       "\n",
       "    .dataframe tbody tr th {\n",
       "        vertical-align: top;\n",
       "    }\n",
       "\n",
       "    .dataframe thead th {\n",
       "        text-align: right;\n",
       "    }\n",
       "</style>\n",
       "<table border=\"1\" class=\"dataframe\">\n",
       "  <thead>\n",
       "    <tr style=\"text-align: right;\">\n",
       "      <th></th>\n",
       "      <th>ADJUSTED_EARLY_COUNT</th>\n",
       "      <th>ADJUSTED_LATE_COUNT</th>\n",
       "      <th>ADJUSTED_ONTIME_COUNT</th>\n",
       "      <th>count</th>\n",
       "    </tr>\n",
       "  </thead>\n",
       "  <tbody>\n",
       "    <tr>\n",
       "      <th>0</th>\n",
       "      <td>0</td>\n",
       "      <td>0</td>\n",
       "      <td>1</td>\n",
       "      <td>208280</td>\n",
       "    </tr>\n",
       "    <tr>\n",
       "      <th>1</th>\n",
       "      <td>0</td>\n",
       "      <td>1</td>\n",
       "      <td>0</td>\n",
       "      <td>44800</td>\n",
       "    </tr>\n",
       "    <tr>\n",
       "      <th>2</th>\n",
       "      <td>1</td>\n",
       "      <td>0</td>\n",
       "      <td>0</td>\n",
       "      <td>8652</td>\n",
       "    </tr>\n",
       "  </tbody>\n",
       "</table>\n",
       "</div>"
      ],
      "text/plain": [
       "   ADJUSTED_EARLY_COUNT  ADJUSTED_LATE_COUNT  ADJUSTED_ONTIME_COUNT   count\n",
       "0                     0                    0                      1  208280\n",
       "1                     0                    1                      0   44800\n",
       "2                     1                    0                      0    8652"
      ]
     },
     "execution_count": 49,
     "metadata": {},
     "output_type": "execute_result"
    }
   ],
   "source": [
    "# adjusted_counts = wego[['ADJUSTED_EARLY_COUNT', 'ADJUSTED_LATE_COUNT', 'ADJUSTED_ONTIME_COUNT']].value_counts().reset_index()\n",
    "# adjusted_counts"
   ]
  },
  {
   "cell_type": "code",
   "execution_count": 41,
   "id": "73e6b7c9",
   "metadata": {
    "scrolled": true
   },
   "outputs": [],
   "source": [
    "# Remove rows where all adjusted counts are 0 - they're mostly NaN values in all columns.\n",
    "wego = wego.loc[~ ((wego['ADJUSTED_EARLY_COUNT'] == 0) &\n",
    "             (wego['ADJUSTED_ONTIME_COUNT'] == 0) &\n",
    "             (wego['ADJUSTED_LATE_COUNT'] == 0)) ]"
   ]
  },
  {
   "cell_type": "code",
   "execution_count": 42,
   "id": "1257f326",
   "metadata": {},
   "outputs": [
    {
     "data": {
      "text/plain": [
       "(338861, 30)"
      ]
     },
     "execution_count": 42,
     "metadata": {},
     "output_type": "execute_result"
    }
   ],
   "source": [
    "wego.shape"
   ]
  },
  {
   "cell_type": "code",
   "execution_count": 43,
   "id": "4bd8a526",
   "metadata": {},
   "outputs": [],
   "source": [
    "# Remove rows where the previously scheduled stop was cancelled.\n",
    "wego = wego[wego['PREV_SCHED_STOP_CANCELLED'] != 1.0]"
   ]
  },
  {
   "cell_type": "code",
   "execution_count": 45,
   "id": "5cc53373",
   "metadata": {},
   "outputs": [
    {
     "data": {
      "text/plain": [
       "(335191, 30)"
      ]
     },
     "execution_count": 45,
     "metadata": {},
     "output_type": "execute_result"
    }
   ],
   "source": [
    "wego.shape"
   ]
  },
  {
   "cell_type": "code",
   "execution_count": 47,
   "id": "b8841713",
   "metadata": {},
   "outputs": [
    {
     "data": {
      "text/plain": [
       "(261732, 30)"
      ]
     },
     "execution_count": 47,
     "metadata": {},
     "output_type": "execute_result"
    }
   ],
   "source": [
    "wego.shape"
   ]
  },
  {
   "cell_type": "code",
   "execution_count": 30,
   "id": "64c009a9",
   "metadata": {},
   "outputs": [
    {
     "name": "stdout",
     "output_type": "stream",
     "text": [
      "-57.040499999999994\n",
      "9.466666\n"
     ]
    }
   ],
   "source": [
    "# Removing adherence outliers 670\n",
    "adherence = wego['ADHERENCE']\n",
    "\n",
    "adherence_cleaned = adherence.dropna()\n",
    "\n",
    "adherence_1 = np.percentile(adherence_cleaned, .1)\n",
    "adherence_99 = np.percentile(adherence_cleaned, 99.9)\n",
    "\n",
    "wego = wego[(wego['ADHERENCE'] >= adherence_1) & (wego['ADHERENCE'] <= adherence_99)]\n",
    "\n",
    "# Print the results\n",
    "print(adherence_1)\n",
    "print(adherence_99)"
   ]
  },
  {
   "cell_type": "code",
   "execution_count": 31,
   "id": "1267f6b8",
   "metadata": {},
   "outputs": [
    {
     "data": {
      "text/plain": [
       "(334521, 30)"
      ]
     },
     "execution_count": 31,
     "metadata": {},
     "output_type": "execute_result"
    }
   ],
   "source": [
    "wego.shape"
   ]
  },
  {
   "cell_type": "code",
   "execution_count": 34,
   "id": "dc370c33",
   "metadata": {},
   "outputs": [
    {
     "name": "stdout",
     "output_type": "stream",
     "text": [
      "-21.2\n",
      "54.80226600000289\n"
     ]
    }
   ],
   "source": [
    "# Testing R's code\n",
    "\n",
    "# headwy =wego['HDWY_DEV'].dropna()\n",
    "# headwydev_1= np.percentile(headwy,.1)\n",
    "# headwydev_99=np.percentile(headwy,99.9)\n",
    "\n",
    "# print(headwydev_1)\n",
    "# print(headwydev_99)"
   ]
  },
  {
   "cell_type": "code",
   "execution_count": 46,
   "id": "e61b7f8f",
   "metadata": {},
   "outputs": [
    {
     "name": "stdout",
     "output_type": "stream",
     "text": [
      "-21.624767162\n",
      "56.43715000000084\n"
     ]
    }
   ],
   "source": [
    "#Removing headway outliers 73,220\n",
    "################# Too many! Problem solving this\n",
    "headway = wego['HDWY_DEV']\n",
    "\n",
    "headway_cleaned = headway.dropna()\n",
    "\n",
    "headway_1 = np.percentile(headway_cleaned, .1)\n",
    "headway_99 = np.percentile(headway_cleaned, 99.9)\n",
    "\n",
    "wego = wego[(wego['HDWY_DEV'] >= headway_1) & (wego['HDWY_DEV'] <= headway_99)]\n",
    "\n",
    "# Print the results\n",
    "print(headway_1)\n",
    "print(headway_99)"
   ]
  },
  {
   "cell_type": "code",
   "execution_count": 11,
   "id": "bd2976e0",
   "metadata": {},
   "outputs": [
    {
     "data": {
      "text/plain": [
       "7     2.666666\n",
       "8     1.966666\n",
       "9    -0.483334\n",
       "11   -2.166667\n",
       "12   -3.883334\n",
       "Name: HDWY_DEV, dtype: float64"
      ]
     },
     "execution_count": 11,
     "metadata": {},
     "output_type": "execute_result"
    }
   ],
   "source": [
    "wego['HDWY_DEV'].head()"
   ]
  },
  {
   "cell_type": "code",
   "execution_count": 12,
   "id": "2f740473",
   "metadata": {},
   "outputs": [
    {
     "data": {
      "text/plain": [
       "-21.2"
      ]
     },
     "execution_count": 12,
     "metadata": {},
     "output_type": "execute_result"
    }
   ],
   "source": [
    "np.percentile(headway_cleaned, .1)"
   ]
  },
  {
   "cell_type": "code",
   "execution_count": 13,
   "id": "039d90bb",
   "metadata": {},
   "outputs": [
    {
     "data": {
      "text/html": [
       "<div>\n",
       "<style scoped>\n",
       "    .dataframe tbody tr th:only-of-type {\n",
       "        vertical-align: middle;\n",
       "    }\n",
       "\n",
       "    .dataframe tbody tr th {\n",
       "        vertical-align: top;\n",
       "    }\n",
       "\n",
       "    .dataframe thead th {\n",
       "        text-align: right;\n",
       "    }\n",
       "</style>\n",
       "<table border=\"1\" class=\"dataframe\">\n",
       "  <thead>\n",
       "    <tr style=\"text-align: right;\">\n",
       "      <th></th>\n",
       "      <th>CALENDAR_ID</th>\n",
       "      <th>SERVICE_ABBR</th>\n",
       "      <th>ADHERENCE_ID</th>\n",
       "      <th>DATE</th>\n",
       "      <th>ROUTE_ABBR</th>\n",
       "      <th>BLOCK_ABBR</th>\n",
       "      <th>OPERATOR</th>\n",
       "      <th>TRIP_ID</th>\n",
       "      <th>OVERLOAD_ID</th>\n",
       "      <th>ROUTE_DIRECTION_NAME</th>\n",
       "      <th>TIME_POINT_ABBR</th>\n",
       "      <th>ROUTE_STOP_SEQUENCE</th>\n",
       "      <th>TRIP_EDGE</th>\n",
       "      <th>LATITUDE</th>\n",
       "      <th>LONGITUDE</th>\n",
       "      <th>SCHEDULED_TIME</th>\n",
       "      <th>ACTUAL_ARRIVAL_TIME</th>\n",
       "      <th>ACTUAL_DEPARTURE_TIME</th>\n",
       "      <th>ADHERENCE</th>\n",
       "      <th>SCHEDULED_HDWY</th>\n",
       "      <th>ACTUAL_HDWY</th>\n",
       "      <th>HDWY_DEV</th>\n",
       "      <th>ADJUSTED_EARLY_COUNT</th>\n",
       "      <th>ADJUSTED_LATE_COUNT</th>\n",
       "      <th>ADJUSTED_ONTIME_COUNT</th>\n",
       "      <th>STOP_CANCELLED</th>\n",
       "      <th>PREV_SCHED_STOP_CANCELLED</th>\n",
       "      <th>IS_RELIEF</th>\n",
       "      <th>DWELL_IN_MINS</th>\n",
       "      <th>SCHEDULED_LAYOVER_MINUTES</th>\n",
       "    </tr>\n",
       "  </thead>\n",
       "  <tbody>\n",
       "    <tr>\n",
       "      <th>7</th>\n",
       "      <td>120230801</td>\n",
       "      <td>1</td>\n",
       "      <td>99457897</td>\n",
       "      <td>2023-08-01</td>\n",
       "      <td>22</td>\n",
       "      <td>2200</td>\n",
       "      <td>1040</td>\n",
       "      <td>345106</td>\n",
       "      <td>0</td>\n",
       "      <td>TO DOWNTOWN</td>\n",
       "      <td>MHSP</td>\n",
       "      <td>14.0</td>\n",
       "      <td>1</td>\n",
       "      <td>36.181248</td>\n",
       "      <td>-86.847705</td>\n",
       "      <td>2023-08-01 05:42:00</td>\n",
       "      <td>2023-08-01 05:30:30</td>\n",
       "      <td>2023-08-01 05:43:43</td>\n",
       "      <td>-1.716666</td>\n",
       "      <td>35.0</td>\n",
       "      <td>37.666666</td>\n",
       "      <td>2.666666</td>\n",
       "      <td>0</td>\n",
       "      <td>0</td>\n",
       "      <td>1</td>\n",
       "      <td>0</td>\n",
       "      <td>0.0</td>\n",
       "      <td>0</td>\n",
       "      <td>13.216666</td>\n",
       "      <td>10.0</td>\n",
       "    </tr>\n",
       "    <tr>\n",
       "      <th>8</th>\n",
       "      <td>120230801</td>\n",
       "      <td>1</td>\n",
       "      <td>99457898</td>\n",
       "      <td>2023-08-01</td>\n",
       "      <td>22</td>\n",
       "      <td>2200</td>\n",
       "      <td>1040</td>\n",
       "      <td>345106</td>\n",
       "      <td>0</td>\n",
       "      <td>TO DOWNTOWN</td>\n",
       "      <td>ELIZ</td>\n",
       "      <td>10.0</td>\n",
       "      <td>0</td>\n",
       "      <td>36.193454</td>\n",
       "      <td>-86.839981</td>\n",
       "      <td>2023-08-01 05:46:00</td>\n",
       "      <td>2023-08-01 05:47:55</td>\n",
       "      <td>2023-08-01 05:47:55</td>\n",
       "      <td>-1.916666</td>\n",
       "      <td>35.0</td>\n",
       "      <td>36.966666</td>\n",
       "      <td>1.966666</td>\n",
       "      <td>0</td>\n",
       "      <td>0</td>\n",
       "      <td>1</td>\n",
       "      <td>0</td>\n",
       "      <td>0.0</td>\n",
       "      <td>0</td>\n",
       "      <td>0.000000</td>\n",
       "      <td>NaN</td>\n",
       "    </tr>\n",
       "    <tr>\n",
       "      <th>9</th>\n",
       "      <td>120230801</td>\n",
       "      <td>1</td>\n",
       "      <td>99457899</td>\n",
       "      <td>2023-08-01</td>\n",
       "      <td>22</td>\n",
       "      <td>2200</td>\n",
       "      <td>1040</td>\n",
       "      <td>345106</td>\n",
       "      <td>0</td>\n",
       "      <td>TO DOWNTOWN</td>\n",
       "      <td>CV23</td>\n",
       "      <td>5.0</td>\n",
       "      <td>0</td>\n",
       "      <td>36.182177</td>\n",
       "      <td>-86.814445</td>\n",
       "      <td>2023-08-01 05:54:00</td>\n",
       "      <td>2023-08-01 05:54:11</td>\n",
       "      <td>2023-08-01 05:54:11</td>\n",
       "      <td>-0.183333</td>\n",
       "      <td>15.0</td>\n",
       "      <td>14.516666</td>\n",
       "      <td>-0.483334</td>\n",
       "      <td>0</td>\n",
       "      <td>0</td>\n",
       "      <td>1</td>\n",
       "      <td>0</td>\n",
       "      <td>0.0</td>\n",
       "      <td>0</td>\n",
       "      <td>0.000000</td>\n",
       "      <td>NaN</td>\n",
       "    </tr>\n",
       "    <tr>\n",
       "      <th>11</th>\n",
       "      <td>120230801</td>\n",
       "      <td>1</td>\n",
       "      <td>99457901</td>\n",
       "      <td>2023-08-01</td>\n",
       "      <td>22</td>\n",
       "      <td>2200</td>\n",
       "      <td>1040</td>\n",
       "      <td>345107</td>\n",
       "      <td>0</td>\n",
       "      <td>FROM DOWNTOWN</td>\n",
       "      <td>MCC5_10</td>\n",
       "      <td>1.0</td>\n",
       "      <td>1</td>\n",
       "      <td>36.167091</td>\n",
       "      <td>-86.781923</td>\n",
       "      <td>2023-08-01 06:15:00</td>\n",
       "      <td>2023-08-01 06:05:31</td>\n",
       "      <td>2023-08-01 06:16:19</td>\n",
       "      <td>-1.316666</td>\n",
       "      <td>15.0</td>\n",
       "      <td>12.833333</td>\n",
       "      <td>-2.166667</td>\n",
       "      <td>0</td>\n",
       "      <td>0</td>\n",
       "      <td>1</td>\n",
       "      <td>0</td>\n",
       "      <td>0.0</td>\n",
       "      <td>0</td>\n",
       "      <td>10.800000</td>\n",
       "      <td>5.0</td>\n",
       "    </tr>\n",
       "    <tr>\n",
       "      <th>12</th>\n",
       "      <td>120230801</td>\n",
       "      <td>1</td>\n",
       "      <td>99457902</td>\n",
       "      <td>2023-08-01</td>\n",
       "      <td>22</td>\n",
       "      <td>2200</td>\n",
       "      <td>1040</td>\n",
       "      <td>345107</td>\n",
       "      <td>0</td>\n",
       "      <td>FROM DOWNTOWN</td>\n",
       "      <td>CV23</td>\n",
       "      <td>5.0</td>\n",
       "      <td>0</td>\n",
       "      <td>36.183480</td>\n",
       "      <td>-86.814220</td>\n",
       "      <td>2023-08-01 06:25:00</td>\n",
       "      <td>2023-08-01 06:23:30</td>\n",
       "      <td>2023-08-01 06:23:30</td>\n",
       "      <td>1.500000</td>\n",
       "      <td>15.0</td>\n",
       "      <td>11.116666</td>\n",
       "      <td>-3.883334</td>\n",
       "      <td>1</td>\n",
       "      <td>0</td>\n",
       "      <td>0</td>\n",
       "      <td>0</td>\n",
       "      <td>0.0</td>\n",
       "      <td>0</td>\n",
       "      <td>0.000000</td>\n",
       "      <td>NaN</td>\n",
       "    </tr>\n",
       "    <tr>\n",
       "      <th>...</th>\n",
       "      <td>...</td>\n",
       "      <td>...</td>\n",
       "      <td>...</td>\n",
       "      <td>...</td>\n",
       "      <td>...</td>\n",
       "      <td>...</td>\n",
       "      <td>...</td>\n",
       "      <td>...</td>\n",
       "      <td>...</td>\n",
       "      <td>...</td>\n",
       "      <td>...</td>\n",
       "      <td>...</td>\n",
       "      <td>...</td>\n",
       "      <td>...</td>\n",
       "      <td>...</td>\n",
       "      <td>...</td>\n",
       "      <td>...</td>\n",
       "      <td>...</td>\n",
       "      <td>...</td>\n",
       "      <td>...</td>\n",
       "      <td>...</td>\n",
       "      <td>...</td>\n",
       "      <td>...</td>\n",
       "      <td>...</td>\n",
       "      <td>...</td>\n",
       "      <td>...</td>\n",
       "      <td>...</td>\n",
       "      <td>...</td>\n",
       "      <td>...</td>\n",
       "      <td>...</td>\n",
       "    </tr>\n",
       "    <tr>\n",
       "      <th>350320</th>\n",
       "      <td>120230930</td>\n",
       "      <td>2</td>\n",
       "      <td>100406606</td>\n",
       "      <td>2023-09-30</td>\n",
       "      <td>7</td>\n",
       "      <td>702</td>\n",
       "      <td>2312</td>\n",
       "      <td>353447</td>\n",
       "      <td>0</td>\n",
       "      <td>FROM DOWNTOWN</td>\n",
       "      <td>MCC5_9</td>\n",
       "      <td>3.0</td>\n",
       "      <td>1</td>\n",
       "      <td>36.167091</td>\n",
       "      <td>-86.781923</td>\n",
       "      <td>2023-09-30 21:45:00</td>\n",
       "      <td>2023-09-30 21:43:52</td>\n",
       "      <td>2023-09-30 21:50:54</td>\n",
       "      <td>-5.900000</td>\n",
       "      <td>30.0</td>\n",
       "      <td>36.716666</td>\n",
       "      <td>6.716666</td>\n",
       "      <td>0</td>\n",
       "      <td>0</td>\n",
       "      <td>1</td>\n",
       "      <td>0</td>\n",
       "      <td>0.0</td>\n",
       "      <td>0</td>\n",
       "      <td>7.033333</td>\n",
       "      <td>NaN</td>\n",
       "    </tr>\n",
       "    <tr>\n",
       "      <th>350323</th>\n",
       "      <td>120230930</td>\n",
       "      <td>2</td>\n",
       "      <td>100406609</td>\n",
       "      <td>2023-09-30</td>\n",
       "      <td>7</td>\n",
       "      <td>702</td>\n",
       "      <td>2312</td>\n",
       "      <td>353448</td>\n",
       "      <td>0</td>\n",
       "      <td>TO DOWNTOWN</td>\n",
       "      <td>HBHS</td>\n",
       "      <td>5.0</td>\n",
       "      <td>1</td>\n",
       "      <td>36.107575</td>\n",
       "      <td>-86.812719</td>\n",
       "      <td>2023-09-30 22:16:00</td>\n",
       "      <td>2023-09-30 22:22:39</td>\n",
       "      <td>2023-09-30 22:24:37</td>\n",
       "      <td>-8.616666</td>\n",
       "      <td>30.0</td>\n",
       "      <td>34.916666</td>\n",
       "      <td>4.916666</td>\n",
       "      <td>0</td>\n",
       "      <td>1</td>\n",
       "      <td>0</td>\n",
       "      <td>0</td>\n",
       "      <td>0.0</td>\n",
       "      <td>0</td>\n",
       "      <td>1.966666</td>\n",
       "      <td>5.0</td>\n",
       "    </tr>\n",
       "    <tr>\n",
       "      <th>350324</th>\n",
       "      <td>120230930</td>\n",
       "      <td>2</td>\n",
       "      <td>100406610</td>\n",
       "      <td>2023-09-30</td>\n",
       "      <td>7</td>\n",
       "      <td>702</td>\n",
       "      <td>2312</td>\n",
       "      <td>353448</td>\n",
       "      <td>0</td>\n",
       "      <td>TO DOWNTOWN</td>\n",
       "      <td>21BK</td>\n",
       "      <td>4.0</td>\n",
       "      <td>0</td>\n",
       "      <td>36.138372</td>\n",
       "      <td>-86.800622</td>\n",
       "      <td>2023-09-30 22:23:00</td>\n",
       "      <td>2023-09-30 22:31:26</td>\n",
       "      <td>2023-09-30 22:31:26</td>\n",
       "      <td>-8.433333</td>\n",
       "      <td>30.0</td>\n",
       "      <td>35.266666</td>\n",
       "      <td>5.266666</td>\n",
       "      <td>0</td>\n",
       "      <td>1</td>\n",
       "      <td>0</td>\n",
       "      <td>0</td>\n",
       "      <td>0.0</td>\n",
       "      <td>0</td>\n",
       "      <td>0.000000</td>\n",
       "      <td>NaN</td>\n",
       "    </tr>\n",
       "    <tr>\n",
       "      <th>350326</th>\n",
       "      <td>120230930</td>\n",
       "      <td>2</td>\n",
       "      <td>100406612</td>\n",
       "      <td>2023-09-30</td>\n",
       "      <td>7</td>\n",
       "      <td>702</td>\n",
       "      <td>2312</td>\n",
       "      <td>353449</td>\n",
       "      <td>0</td>\n",
       "      <td>FROM DOWNTOWN</td>\n",
       "      <td>MCC5_9</td>\n",
       "      <td>3.0</td>\n",
       "      <td>1</td>\n",
       "      <td>36.167091</td>\n",
       "      <td>-86.781923</td>\n",
       "      <td>2023-09-30 22:45:00</td>\n",
       "      <td>2023-09-30 22:49:19</td>\n",
       "      <td>2023-09-30 22:49:19</td>\n",
       "      <td>-4.316666</td>\n",
       "      <td>30.0</td>\n",
       "      <td>31.866666</td>\n",
       "      <td>1.866666</td>\n",
       "      <td>0</td>\n",
       "      <td>0</td>\n",
       "      <td>1</td>\n",
       "      <td>0</td>\n",
       "      <td>0.0</td>\n",
       "      <td>0</td>\n",
       "      <td>0.000000</td>\n",
       "      <td>NaN</td>\n",
       "    </tr>\n",
       "    <tr>\n",
       "      <th>350327</th>\n",
       "      <td>120230930</td>\n",
       "      <td>2</td>\n",
       "      <td>100406613</td>\n",
       "      <td>2023-09-30</td>\n",
       "      <td>7</td>\n",
       "      <td>702</td>\n",
       "      <td>2312</td>\n",
       "      <td>353449</td>\n",
       "      <td>0</td>\n",
       "      <td>FROM DOWNTOWN</td>\n",
       "      <td>21BK</td>\n",
       "      <td>4.0</td>\n",
       "      <td>0</td>\n",
       "      <td>36.138881</td>\n",
       "      <td>-86.800622</td>\n",
       "      <td>2023-09-30 22:59:00</td>\n",
       "      <td>2023-09-30 23:21:05</td>\n",
       "      <td>2023-09-30 23:21:05</td>\n",
       "      <td>-22.083333</td>\n",
       "      <td>30.0</td>\n",
       "      <td>47.500000</td>\n",
       "      <td>17.500000</td>\n",
       "      <td>0</td>\n",
       "      <td>1</td>\n",
       "      <td>0</td>\n",
       "      <td>0</td>\n",
       "      <td>0.0</td>\n",
       "      <td>0</td>\n",
       "      <td>0.000000</td>\n",
       "      <td>NaN</td>\n",
       "    </tr>\n",
       "  </tbody>\n",
       "</table>\n",
       "<p>261301 rows × 30 columns</p>\n",
       "</div>"
      ],
      "text/plain": [
       "        CALENDAR_ID  SERVICE_ABBR  ADHERENCE_ID        DATE  ROUTE_ABBR  \\\n",
       "7         120230801             1      99457897  2023-08-01          22   \n",
       "8         120230801             1      99457898  2023-08-01          22   \n",
       "9         120230801             1      99457899  2023-08-01          22   \n",
       "11        120230801             1      99457901  2023-08-01          22   \n",
       "12        120230801             1      99457902  2023-08-01          22   \n",
       "...             ...           ...           ...         ...         ...   \n",
       "350320    120230930             2     100406606  2023-09-30           7   \n",
       "350323    120230930             2     100406609  2023-09-30           7   \n",
       "350324    120230930             2     100406610  2023-09-30           7   \n",
       "350326    120230930             2     100406612  2023-09-30           7   \n",
       "350327    120230930             2     100406613  2023-09-30           7   \n",
       "\n",
       "        BLOCK_ABBR  OPERATOR  TRIP_ID  OVERLOAD_ID ROUTE_DIRECTION_NAME  \\\n",
       "7             2200      1040   345106            0          TO DOWNTOWN   \n",
       "8             2200      1040   345106            0          TO DOWNTOWN   \n",
       "9             2200      1040   345106            0          TO DOWNTOWN   \n",
       "11            2200      1040   345107            0        FROM DOWNTOWN   \n",
       "12            2200      1040   345107            0        FROM DOWNTOWN   \n",
       "...            ...       ...      ...          ...                  ...   \n",
       "350320         702      2312   353447            0        FROM DOWNTOWN   \n",
       "350323         702      2312   353448            0          TO DOWNTOWN   \n",
       "350324         702      2312   353448            0          TO DOWNTOWN   \n",
       "350326         702      2312   353449            0        FROM DOWNTOWN   \n",
       "350327         702      2312   353449            0        FROM DOWNTOWN   \n",
       "\n",
       "       TIME_POINT_ABBR  ROUTE_STOP_SEQUENCE  TRIP_EDGE   LATITUDE  LONGITUDE  \\\n",
       "7                 MHSP                 14.0          1  36.181248 -86.847705   \n",
       "8                 ELIZ                 10.0          0  36.193454 -86.839981   \n",
       "9                 CV23                  5.0          0  36.182177 -86.814445   \n",
       "11             MCC5_10                  1.0          1  36.167091 -86.781923   \n",
       "12                CV23                  5.0          0  36.183480 -86.814220   \n",
       "...                ...                  ...        ...        ...        ...   \n",
       "350320          MCC5_9                  3.0          1  36.167091 -86.781923   \n",
       "350323            HBHS                  5.0          1  36.107575 -86.812719   \n",
       "350324            21BK                  4.0          0  36.138372 -86.800622   \n",
       "350326          MCC5_9                  3.0          1  36.167091 -86.781923   \n",
       "350327            21BK                  4.0          0  36.138881 -86.800622   \n",
       "\n",
       "             SCHEDULED_TIME  ACTUAL_ARRIVAL_TIME ACTUAL_DEPARTURE_TIME  \\\n",
       "7       2023-08-01 05:42:00  2023-08-01 05:30:30   2023-08-01 05:43:43   \n",
       "8       2023-08-01 05:46:00  2023-08-01 05:47:55   2023-08-01 05:47:55   \n",
       "9       2023-08-01 05:54:00  2023-08-01 05:54:11   2023-08-01 05:54:11   \n",
       "11      2023-08-01 06:15:00  2023-08-01 06:05:31   2023-08-01 06:16:19   \n",
       "12      2023-08-01 06:25:00  2023-08-01 06:23:30   2023-08-01 06:23:30   \n",
       "...                     ...                  ...                   ...   \n",
       "350320  2023-09-30 21:45:00  2023-09-30 21:43:52   2023-09-30 21:50:54   \n",
       "350323  2023-09-30 22:16:00  2023-09-30 22:22:39   2023-09-30 22:24:37   \n",
       "350324  2023-09-30 22:23:00  2023-09-30 22:31:26   2023-09-30 22:31:26   \n",
       "350326  2023-09-30 22:45:00  2023-09-30 22:49:19   2023-09-30 22:49:19   \n",
       "350327  2023-09-30 22:59:00  2023-09-30 23:21:05   2023-09-30 23:21:05   \n",
       "\n",
       "        ADHERENCE  SCHEDULED_HDWY  ACTUAL_HDWY   HDWY_DEV  \\\n",
       "7       -1.716666            35.0    37.666666   2.666666   \n",
       "8       -1.916666            35.0    36.966666   1.966666   \n",
       "9       -0.183333            15.0    14.516666  -0.483334   \n",
       "11      -1.316666            15.0    12.833333  -2.166667   \n",
       "12       1.500000            15.0    11.116666  -3.883334   \n",
       "...           ...             ...          ...        ...   \n",
       "350320  -5.900000            30.0    36.716666   6.716666   \n",
       "350323  -8.616666            30.0    34.916666   4.916666   \n",
       "350324  -8.433333            30.0    35.266666   5.266666   \n",
       "350326  -4.316666            30.0    31.866666   1.866666   \n",
       "350327 -22.083333            30.0    47.500000  17.500000   \n",
       "\n",
       "        ADJUSTED_EARLY_COUNT  ADJUSTED_LATE_COUNT  ADJUSTED_ONTIME_COUNT  \\\n",
       "7                          0                    0                      1   \n",
       "8                          0                    0                      1   \n",
       "9                          0                    0                      1   \n",
       "11                         0                    0                      1   \n",
       "12                         1                    0                      0   \n",
       "...                      ...                  ...                    ...   \n",
       "350320                     0                    0                      1   \n",
       "350323                     0                    1                      0   \n",
       "350324                     0                    1                      0   \n",
       "350326                     0                    0                      1   \n",
       "350327                     0                    1                      0   \n",
       "\n",
       "        STOP_CANCELLED  PREV_SCHED_STOP_CANCELLED  IS_RELIEF  DWELL_IN_MINS  \\\n",
       "7                    0                        0.0          0      13.216666   \n",
       "8                    0                        0.0          0       0.000000   \n",
       "9                    0                        0.0          0       0.000000   \n",
       "11                   0                        0.0          0      10.800000   \n",
       "12                   0                        0.0          0       0.000000   \n",
       "...                ...                        ...        ...            ...   \n",
       "350320               0                        0.0          0       7.033333   \n",
       "350323               0                        0.0          0       1.966666   \n",
       "350324               0                        0.0          0       0.000000   \n",
       "350326               0                        0.0          0       0.000000   \n",
       "350327               0                        0.0          0       0.000000   \n",
       "\n",
       "        SCHEDULED_LAYOVER_MINUTES  \n",
       "7                            10.0  \n",
       "8                             NaN  \n",
       "9                             NaN  \n",
       "11                            5.0  \n",
       "12                            NaN  \n",
       "...                           ...  \n",
       "350320                        NaN  \n",
       "350323                        5.0  \n",
       "350324                        NaN  \n",
       "350326                        NaN  \n",
       "350327                        NaN  \n",
       "\n",
       "[261301 rows x 30 columns]"
      ]
     },
     "execution_count": 13,
     "metadata": {},
     "output_type": "execute_result"
    }
   ],
   "source": [
    "# 334k\n",
    "wego"
   ]
  },
  {
   "cell_type": "markdown",
   "id": "d3e473e4",
   "metadata": {},
   "source": [
    "# Q1\n",
    "### What is the overall on-time performance, and what do the overall distributions of adherence and headway deviation look like?"
   ]
  },
  {
   "cell_type": "code",
   "execution_count": 14,
   "id": "ae77a8a6",
   "metadata": {},
   "outputs": [
    {
     "data": {
      "text/plain": [
       "79.7"
      ]
     },
     "execution_count": 14,
     "metadata": {},
     "output_type": "execute_result"
    }
   ],
   "source": [
    "# Percent of on-time stops\n",
    "round((wego['ADJUSTED_ONTIME_COUNT'].sum()) / (wego.shape[0]) * 100, 2)"
   ]
  },
  {
   "cell_type": "code",
   "execution_count": 22,
   "id": "ed66cdce",
   "metadata": {},
   "outputs": [
    {
     "data": {
      "text/plain": [
       "2.79"
      ]
     },
     "execution_count": 22,
     "metadata": {},
     "output_type": "execute_result"
    }
   ],
   "source": [
    "# Percent of early stops\n",
    "round((wego['ADJUSTED_EARLY_COUNT'].sum()) / (wego.shape[0]) * 100, 2)"
   ]
  },
  {
   "cell_type": "code",
   "execution_count": 23,
   "id": "e4cb708b",
   "metadata": {},
   "outputs": [
    {
     "data": {
      "text/plain": [
       "16.85"
      ]
     },
     "execution_count": 23,
     "metadata": {},
     "output_type": "execute_result"
    }
   ],
   "source": [
    "# Percent of late stops\n",
    "round((wego['ADJUSTED_LATE_COUNT'].sum()) / (wego.shape[0]) * 100, 2)"
   ]
  },
  {
   "cell_type": "code",
   "execution_count": 16,
   "id": "f6805b6d",
   "metadata": {},
   "outputs": [
    {
     "data": {
      "image/png": "[encoded data removed]",
      "text/plain": [
       "<Figure size 640x480 with 1 Axes>"
      ]
     },
     "metadata": {},
     "output_type": "display_data"
    }
   ],
   "source": [
    "# Adherence distribution - removing non-visible outliers\n",
    "plt.hist(wego.ADHERENCE, bins=40, range=(-35, 10))\n",
    "plt.title('Frequency of WeGo Adherence Times')\n",
    "plt.xlabel('Adherence Times')\n",
    "plt.ylabel('Frequency')\n",
    "plt.show() "
   ]
  },
  {
   "cell_type": "code",
   "execution_count": 17,
   "id": "c3c9219a",
   "metadata": {},
   "outputs": [
    {
     "data": {
      "image/png": "[encoded data removed]",
      "text/plain": [
       "<Figure size 640x480 with 1 Axes>"
      ]
     },
     "metadata": {},
     "output_type": "display_data"
    }
   ],
   "source": [
    "# Headway distribution - removing non-visible outliers\n",
    "plt.hist(wego.HDWY_DEV, bins=40, range=(-25, 35))\n",
    "plt.title('Frequency of WeGo Headway Times')\n",
    "plt.xlabel('Adherence Times')\n",
    "plt.ylabel('Frequency')\n",
    "plt.show() "
   ]
  },
  {
   "cell_type": "code",
   "execution_count": null,
   "id": "cf56a5ae",
   "metadata": {},
   "outputs": [],
   "source": []
  },
  {
   "cell_type": "markdown",
   "id": "8f8aac59",
   "metadata": {},
   "source": [
    "# Q2\n",
    "### How does direction of travel, route, or location affect the headway and on-time performance?"
   ]
  },
  {
   "cell_type": "code",
   "execution_count": 18,
   "id": "8e8453c3",
   "metadata": {},
   "outputs": [
    {
     "data": {
      "text/plain": [
       "ROUTE_DIRECTION_NAME\n",
       "FROM DOWNTOWN    139170\n",
       "TO DOWNTOWN      122131\n",
       "Name: count, dtype: int64"
      ]
     },
     "execution_count": 18,
     "metadata": {},
     "output_type": "execute_result"
    }
   ],
   "source": [
    "wego['ROUTE_DIRECTION_NAME'].value_counts()"
   ]
  },
  {
   "cell_type": "code",
   "execution_count": 19,
   "id": "fcfdb42e",
   "metadata": {},
   "outputs": [],
   "source": [
    "to_downtown = wego[wego['ROUTE_DIRECTION_NAME']=='TO DOWNTOWN']\n",
    "from_downtown = wego[wego['ROUTE_DIRECTION_NAME']=='FROM DOWNTOWN']"
   ]
  },
  {
   "cell_type": "code",
   "execution_count": null,
   "id": "deab498f",
   "metadata": {},
   "outputs": [],
   "source": []
  }
 ],
 "metadata": {
  "kernelspec": {
   "display_name": "Python 3 (ipykernel)",
   "language": "python",
   "name": "python3"
  },
  "language_info": {
   "codemirror_mode": {
    "name": "ipython",
    "version": 3
   },
   "file_extension": ".py",
   "mimetype": "text/x-python",
   "name": "python",
   "nbconvert_exporter": "python",
   "pygments_lexer": "ipython3",
   "version": "3.11.7"
  }
 },
 "nbformat": 4,
 "nbformat_minor": 5
}
