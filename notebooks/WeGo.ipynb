{
 "cells": [
  {
   "cell_type": "code",
   "execution_count": 36,
   "id": "3cfd665a",
   "metadata": {},
   "outputs": [],
   "source": [
    "import pandas as pd\n",
    "import numpy as np\n",
    "from matplotlib import pyplot as plt\n",
    "from scipy import stats\n",
    "import seaborn as sns"
   ]
  },
  {
   "cell_type": "code",
   "execution_count": 2,
   "id": "692d64f0",
   "metadata": {},
   "outputs": [],
   "source": [
    "pd.set_option('display.max_columns', None)"
   ]
  },
  {
   "cell_type": "code",
   "execution_count": 3,
   "id": "4379cf04",
   "metadata": {},
   "outputs": [],
   "source": [
    "# Reading in the csv\n",
    "wego = pd.read_csv(\"../data/wego.csv\")"
   ]
  },
  {
   "cell_type": "code",
   "execution_count": 4,
   "id": "e2c6f1cb",
   "metadata": {
    "scrolled": true
   },
   "outputs": [],
   "source": [
    "# Remove rows where all adjusted counts are 0 - they're mostly NaN values in all columns.\n",
    "wego = wego.loc[~ ((wego['ADJUSTED_EARLY_COUNT'] == 0) &\n",
    "             (wego['ADJUSTED_ONTIME_COUNT'] == 0) &\n",
    "             (wego['ADJUSTED_LATE_COUNT'] == 0)) ]"
   ]
  },
  {
   "cell_type": "code",
   "execution_count": 5,
   "id": "1acf366b",
   "metadata": {},
   "outputs": [],
   "source": [
    "# Remove rows where the previously scheduled stop was cancelled.\n",
    "wego = wego[wego['PREV_SCHED_STOP_CANCELLED'] != 1.0]"
   ]
  },
  {
   "cell_type": "code",
   "execution_count": 6,
   "id": "3d6a81fc",
   "metadata": {},
   "outputs": [
    {
     "name": "stdout",
     "output_type": "stream",
     "text": [
      "-57.040499999999994\n",
      "9.466666\n",
      "-21.624767162\n",
      "56.43715000000084\n"
     ]
    }
   ],
   "source": [
    "# Creating percentiles to clean outliers from adherence and headway deviation\n",
    "# Used quantile instead of percentile, percentile was causing issues due to NaN columns\n",
    "\n",
    "percentile1adh = wego['ADHERENCE'].quantile(0.001)\n",
    "print(percentile1adh)\n",
    "\n",
    "percentile99adh = wego['ADHERENCE'].quantile(0.999)\n",
    "print(percentile99adh)\n",
    "\n",
    "percentile1hdwy = wego['HDWY_DEV'].quantile(0.001)\n",
    "print(percentile1hdwy)\n",
    "\n",
    "percentile99hdwy = wego['HDWY_DEV'].quantile(0.999)\n",
    "print(percentile99hdwy)"
   ]
  },
  {
   "cell_type": "code",
   "execution_count": 7,
   "id": "b1f97f57",
   "metadata": {},
   "outputs": [],
   "source": [
    "# Removing outliers\n",
    "wego = wego.drop(wego[wego.ADHERENCE < percentile1adh].index)\n",
    "wego = wego.drop(wego[wego.ADHERENCE > percentile99adh].index)\n",
    "wego = wego.drop(wego[wego.HDWY_DEV < percentile1hdwy].index)\n",
    "wego = wego.drop(wego[wego.HDWY_DEV > percentile99hdwy].index)"
   ]
  },
  {
   "cell_type": "code",
   "execution_count": 8,
   "id": "2eb24d9e",
   "metadata": {},
   "outputs": [
    {
     "data": {
      "text/plain": [
       "(334031, 30)"
      ]
     },
     "execution_count": 8,
     "metadata": {},
     "output_type": "execute_result"
    }
   ],
   "source": [
    "wego.shape"
   ]
  },
  {
   "cell_type": "code",
   "execution_count": 9,
   "id": "f7818f49",
   "metadata": {
    "scrolled": false
   },
   "outputs": [],
   "source": [
    "# Calculating new column, headway deviation percentage\n",
    "\n",
    "# Dropping the 104 rows where scheduled headway is 0\n",
    "wego = wego[wego['SCHEDULED_HDWY'] != 0.00]\n",
    "\n",
    "wego['HDWY_DEV_PERC'] = wego['HDWY_DEV'] / wego['SCHEDULED_HDWY'] * 100"
   ]
  },
  {
   "cell_type": "code",
   "execution_count": 10,
   "id": "6d407017",
   "metadata": {},
   "outputs": [
    {
     "data": {
      "text/plain": [
       "Series([], Name: SCHEDULED_HDWY, dtype: int64)"
      ]
     },
     "execution_count": 10,
     "metadata": {},
     "output_type": "execute_result"
    }
   ],
   "source": [
    "wego[wego['SCHEDULED_HDWY']<1].groupby('TRIP_EDGE')['SCHEDULED_HDWY'].count()"
   ]
  },
  {
   "cell_type": "code",
   "execution_count": 11,
   "id": "c21a909d",
   "metadata": {},
   "outputs": [
    {
     "data": {
      "text/plain": [
       "(array([    0.,     0.,     0.,     0.,     0.,  1135.,  2286.,  2270.,\n",
       "         2631.,  2965.,  3935.,  4923.,  7223., 10494., 15626., 25105.,\n",
       "        42495., 47763., 29495., 18364., 11395.,  7955.,  5385.,  3736.,\n",
       "         3024.,  2243.,  2029.,  1772.,  1739.,  1329.,   911.,   624.,\n",
       "          492.,   328.,   275.,   210.,   193.,   130.,   114.,   100.]),\n",
       " array([-150.  , -141.25, -132.5 , -123.75, -115.  , -106.25,  -97.5 ,\n",
       "         -88.75,  -80.  ,  -71.25,  -62.5 ,  -53.75,  -45.  ,  -36.25,\n",
       "         -27.5 ,  -18.75,  -10.  ,   -1.25,    7.5 ,   16.25,   25.  ,\n",
       "          33.75,   42.5 ,   51.25,   60.  ,   68.75,   77.5 ,   86.25,\n",
       "          95.  ,  103.75,  112.5 ,  121.25,  130.  ,  138.75,  147.5 ,\n",
       "         156.25,  165.  ,  173.75,  182.5 ,  191.25,  200.  ]),\n",
       " <BarContainer object of 40 artists>)"
      ]
     },
     "execution_count": 11,
     "metadata": {},
     "output_type": "execute_result"
    },
    {
     "data": {
      "image/png": "[encoded data removed]",
      "text/plain": [
       "<Figure size 640x480 with 1 Axes>"
      ]
     },
     "metadata": {},
     "output_type": "display_data"
    }
   ],
   "source": [
    "plt.hist(wego.HDWY_DEV_PERC, bins=40, range = (-150, 200))"
   ]
  },
  {
   "cell_type": "markdown",
   "id": "ba28063d",
   "metadata": {},
   "source": [
    "\n",
    "Bunching occurs when there is shorter headway than scheduled, which would appear as a negative HDWY_DEV value. \n",
    "Gapping is when there is more headway than scheduled and appears as a positive value in the HDWY_DEV column. \n",
    "Note that you can calculate headway deviation percentage as HDWY_DEV/SCHEDULED_HDWY. \n",
    "The generally accepted range of headway deviation is 50% to 150% of the scheduled headway, \n",
    "so if scheduled headway is 10 minutes, a headway deviation of up to 5 minutes would be acceptable (but not ideal).\n",
    "\n",
    "bunching is <-50\n",
    "\n",
    "normal is -50 to 50\n",
    "\n",
    "gapping is >50"
   ]
  },
  {
   "cell_type": "code",
   "execution_count": 12,
   "id": "af2d154a",
   "metadata": {},
   "outputs": [],
   "source": [
    "# Adding columns to indicate if headway was normal, bunching, or gapping\n",
    "\n",
    "wego['HDWY_IS_BUNCHING'] = 0\n",
    "wego['HDWY_IS_NORMAL'] = 0\n",
    "wego['HDWY_IS_GAPPING'] = 0\n",
    "\n",
    "def hdwy_cat(row):\n",
    "    if row['HDWY_DEV_PERC'] < -50:\n",
    "        row['HDWY_IS_BUNCHING'] = 1\n",
    "    elif -50 <= row['HDWY_DEV_PERC'] <= 50:\n",
    "        row['HDWY_IS_NORMAL'] = 1\n",
    "    elif row['HDWY_DEV_PERC'] > 50:\n",
    "        row['HDWY_IS_GAPPING'] = 1\n",
    "    return row\n",
    "\n",
    "wego = wego.apply(hdwy_cat, axis=1)"
   ]
  },
  {
   "cell_type": "code",
   "execution_count": 13,
   "id": "e3244198",
   "metadata": {
    "scrolled": true
   },
   "outputs": [
    {
     "data": {
      "text/html": [
       "<div>\n",
       "<style scoped>\n",
       "    .dataframe tbody tr th:only-of-type {\n",
       "        vertical-align: middle;\n",
       "    }\n",
       "\n",
       "    .dataframe tbody tr th {\n",
       "        vertical-align: top;\n",
       "    }\n",
       "\n",
       "    .dataframe thead th {\n",
       "        text-align: right;\n",
       "    }\n",
       "</style>\n",
       "<table border=\"1\" class=\"dataframe\">\n",
       "  <thead>\n",
       "    <tr style=\"text-align: right;\">\n",
       "      <th></th>\n",
       "      <th>HDWY_IS_BUNCHING</th>\n",
       "      <th>HDWY_IS_NORMAL</th>\n",
       "      <th>HDWY_IS_GAPPING</th>\n",
       "      <th>count</th>\n",
       "    </tr>\n",
       "  </thead>\n",
       "  <tbody>\n",
       "    <tr>\n",
       "      <th>0</th>\n",
       "      <td>1</td>\n",
       "      <td>0</td>\n",
       "      <td>0</td>\n",
       "      <td>17243</td>\n",
       "    </tr>\n",
       "    <tr>\n",
       "      <th>1</th>\n",
       "      <td>0</td>\n",
       "      <td>0</td>\n",
       "      <td>1</td>\n",
       "      <td>20562</td>\n",
       "    </tr>\n",
       "    <tr>\n",
       "      <th>2</th>\n",
       "      <td>0</td>\n",
       "      <td>0</td>\n",
       "      <td>0</td>\n",
       "      <td>72640</td>\n",
       "    </tr>\n",
       "    <tr>\n",
       "      <th>3</th>\n",
       "      <td>0</td>\n",
       "      <td>1</td>\n",
       "      <td>0</td>\n",
       "      <td>223482</td>\n",
       "    </tr>\n",
       "  </tbody>\n",
       "</table>\n",
       "</div>"
      ],
      "text/plain": [
       "   HDWY_IS_BUNCHING  HDWY_IS_NORMAL  HDWY_IS_GAPPING   count\n",
       "0                 1               0                0   17243\n",
       "1                 0               0                1   20562\n",
       "2                 0               0                0   72640\n",
       "3                 0               1                0  223482"
      ]
     },
     "execution_count": 13,
     "metadata": {},
     "output_type": "execute_result"
    }
   ],
   "source": [
    "wego[['HDWY_IS_BUNCHING', 'HDWY_IS_NORMAL', 'HDWY_IS_GAPPING']].value_counts().sort_values().reset_index()"
   ]
  },
  {
   "cell_type": "code",
   "execution_count": 14,
   "id": "3ef446d1",
   "metadata": {},
   "outputs": [
    {
     "data": {
      "text/html": [
       "<div>\n",
       "<style scoped>\n",
       "    .dataframe tbody tr th:only-of-type {\n",
       "        vertical-align: middle;\n",
       "    }\n",
       "\n",
       "    .dataframe tbody tr th {\n",
       "        vertical-align: top;\n",
       "    }\n",
       "\n",
       "    .dataframe thead th {\n",
       "        text-align: right;\n",
       "    }\n",
       "</style>\n",
       "<table border=\"1\" class=\"dataframe\">\n",
       "  <thead>\n",
       "    <tr style=\"text-align: right;\">\n",
       "      <th></th>\n",
       "      <th>CALENDAR_ID</th>\n",
       "      <th>SERVICE_ABBR</th>\n",
       "      <th>ADHERENCE_ID</th>\n",
       "      <th>DATE</th>\n",
       "      <th>ROUTE_ABBR</th>\n",
       "      <th>BLOCK_ABBR</th>\n",
       "      <th>OPERATOR</th>\n",
       "      <th>TRIP_ID</th>\n",
       "      <th>OVERLOAD_ID</th>\n",
       "      <th>ROUTE_DIRECTION_NAME</th>\n",
       "      <th>TIME_POINT_ABBR</th>\n",
       "      <th>ROUTE_STOP_SEQUENCE</th>\n",
       "      <th>TRIP_EDGE</th>\n",
       "      <th>LATITUDE</th>\n",
       "      <th>LONGITUDE</th>\n",
       "      <th>SCHEDULED_TIME</th>\n",
       "      <th>ACTUAL_ARRIVAL_TIME</th>\n",
       "      <th>ACTUAL_DEPARTURE_TIME</th>\n",
       "      <th>ADHERENCE</th>\n",
       "      <th>SCHEDULED_HDWY</th>\n",
       "      <th>ACTUAL_HDWY</th>\n",
       "      <th>HDWY_DEV</th>\n",
       "      <th>ADJUSTED_EARLY_COUNT</th>\n",
       "      <th>ADJUSTED_LATE_COUNT</th>\n",
       "      <th>ADJUSTED_ONTIME_COUNT</th>\n",
       "      <th>STOP_CANCELLED</th>\n",
       "      <th>PREV_SCHED_STOP_CANCELLED</th>\n",
       "      <th>IS_RELIEF</th>\n",
       "      <th>DWELL_IN_MINS</th>\n",
       "      <th>SCHEDULED_LAYOVER_MINUTES</th>\n",
       "      <th>HDWY_DEV_PERC</th>\n",
       "      <th>HDWY_IS_BUNCHING</th>\n",
       "      <th>HDWY_IS_NORMAL</th>\n",
       "      <th>HDWY_IS_GAPPING</th>\n",
       "    </tr>\n",
       "  </thead>\n",
       "  <tbody>\n",
       "    <tr>\n",
       "      <th>0</th>\n",
       "      <td>120230801</td>\n",
       "      <td>1</td>\n",
       "      <td>99457890</td>\n",
       "      <td>2023-08-01</td>\n",
       "      <td>22</td>\n",
       "      <td>2200</td>\n",
       "      <td>1040</td>\n",
       "      <td>345104</td>\n",
       "      <td>0</td>\n",
       "      <td>TO DOWNTOWN</td>\n",
       "      <td>MHSP</td>\n",
       "      <td>14.0</td>\n",
       "      <td>1</td>\n",
       "      <td>36.181248</td>\n",
       "      <td>-86.847705</td>\n",
       "      <td>2023-08-01 04:42:00</td>\n",
       "      <td>2023-08-01 04:37:38</td>\n",
       "      <td>2023-08-01 04:44:08</td>\n",
       "      <td>-2.133333</td>\n",
       "      <td>NaN</td>\n",
       "      <td>NaN</td>\n",
       "      <td>NaN</td>\n",
       "      <td>0</td>\n",
       "      <td>0</td>\n",
       "      <td>1</td>\n",
       "      <td>0</td>\n",
       "      <td>0.0</td>\n",
       "      <td>0</td>\n",
       "      <td>6.500000</td>\n",
       "      <td>NaN</td>\n",
       "      <td>NaN</td>\n",
       "      <td>0</td>\n",
       "      <td>0</td>\n",
       "      <td>0</td>\n",
       "    </tr>\n",
       "    <tr>\n",
       "      <th>1</th>\n",
       "      <td>120230801</td>\n",
       "      <td>1</td>\n",
       "      <td>99457891</td>\n",
       "      <td>2023-08-01</td>\n",
       "      <td>22</td>\n",
       "      <td>2200</td>\n",
       "      <td>1040</td>\n",
       "      <td>345104</td>\n",
       "      <td>0</td>\n",
       "      <td>TO DOWNTOWN</td>\n",
       "      <td>ELIZ</td>\n",
       "      <td>10.0</td>\n",
       "      <td>0</td>\n",
       "      <td>36.193454</td>\n",
       "      <td>-86.839981</td>\n",
       "      <td>2023-08-01 04:46:00</td>\n",
       "      <td>2023-08-01 04:48:27</td>\n",
       "      <td>2023-08-01 04:48:27</td>\n",
       "      <td>-2.450000</td>\n",
       "      <td>NaN</td>\n",
       "      <td>NaN</td>\n",
       "      <td>NaN</td>\n",
       "      <td>0</td>\n",
       "      <td>0</td>\n",
       "      <td>1</td>\n",
       "      <td>0</td>\n",
       "      <td>0.0</td>\n",
       "      <td>0</td>\n",
       "      <td>0.000000</td>\n",
       "      <td>NaN</td>\n",
       "      <td>NaN</td>\n",
       "      <td>0</td>\n",
       "      <td>0</td>\n",
       "      <td>0</td>\n",
       "    </tr>\n",
       "    <tr>\n",
       "      <th>2</th>\n",
       "      <td>120230801</td>\n",
       "      <td>1</td>\n",
       "      <td>99457892</td>\n",
       "      <td>2023-08-01</td>\n",
       "      <td>22</td>\n",
       "      <td>2200</td>\n",
       "      <td>1040</td>\n",
       "      <td>345104</td>\n",
       "      <td>0</td>\n",
       "      <td>TO DOWNTOWN</td>\n",
       "      <td>CV23</td>\n",
       "      <td>5.0</td>\n",
       "      <td>0</td>\n",
       "      <td>36.182177</td>\n",
       "      <td>-86.814445</td>\n",
       "      <td>2023-08-01 04:54:00</td>\n",
       "      <td>2023-08-01 04:54:56</td>\n",
       "      <td>2023-08-01 04:54:56</td>\n",
       "      <td>-0.933333</td>\n",
       "      <td>NaN</td>\n",
       "      <td>NaN</td>\n",
       "      <td>NaN</td>\n",
       "      <td>0</td>\n",
       "      <td>0</td>\n",
       "      <td>1</td>\n",
       "      <td>0</td>\n",
       "      <td>0.0</td>\n",
       "      <td>0</td>\n",
       "      <td>0.000000</td>\n",
       "      <td>NaN</td>\n",
       "      <td>NaN</td>\n",
       "      <td>0</td>\n",
       "      <td>0</td>\n",
       "      <td>0</td>\n",
       "    </tr>\n",
       "    <tr>\n",
       "      <th>3</th>\n",
       "      <td>120230801</td>\n",
       "      <td>1</td>\n",
       "      <td>99457893</td>\n",
       "      <td>2023-08-01</td>\n",
       "      <td>22</td>\n",
       "      <td>2200</td>\n",
       "      <td>1040</td>\n",
       "      <td>345104</td>\n",
       "      <td>0</td>\n",
       "      <td>TO DOWNTOWN</td>\n",
       "      <td>MCC5_10</td>\n",
       "      <td>1.0</td>\n",
       "      <td>2</td>\n",
       "      <td>36.167091</td>\n",
       "      <td>-86.781923</td>\n",
       "      <td>2023-08-01 05:10:00</td>\n",
       "      <td>2023-08-01 05:03:43</td>\n",
       "      <td>2023-08-01 05:03:43</td>\n",
       "      <td>6.283333</td>\n",
       "      <td>NaN</td>\n",
       "      <td>NaN</td>\n",
       "      <td>NaN</td>\n",
       "      <td>0</td>\n",
       "      <td>0</td>\n",
       "      <td>1</td>\n",
       "      <td>0</td>\n",
       "      <td>NaN</td>\n",
       "      <td>0</td>\n",
       "      <td>0.000000</td>\n",
       "      <td>NaN</td>\n",
       "      <td>NaN</td>\n",
       "      <td>0</td>\n",
       "      <td>0</td>\n",
       "      <td>0</td>\n",
       "    </tr>\n",
       "    <tr>\n",
       "      <th>4</th>\n",
       "      <td>120230801</td>\n",
       "      <td>1</td>\n",
       "      <td>99457894</td>\n",
       "      <td>2023-08-01</td>\n",
       "      <td>22</td>\n",
       "      <td>2200</td>\n",
       "      <td>1040</td>\n",
       "      <td>345105</td>\n",
       "      <td>0</td>\n",
       "      <td>FROM DOWNTOWN</td>\n",
       "      <td>MCC5_10</td>\n",
       "      <td>1.0</td>\n",
       "      <td>1</td>\n",
       "      <td>36.167091</td>\n",
       "      <td>-86.781923</td>\n",
       "      <td>2023-08-01 05:15:00</td>\n",
       "      <td>2023-08-01 05:03:43</td>\n",
       "      <td>2023-08-01 05:16:35</td>\n",
       "      <td>-1.583333</td>\n",
       "      <td>NaN</td>\n",
       "      <td>NaN</td>\n",
       "      <td>NaN</td>\n",
       "      <td>0</td>\n",
       "      <td>0</td>\n",
       "      <td>1</td>\n",
       "      <td>0</td>\n",
       "      <td>0.0</td>\n",
       "      <td>0</td>\n",
       "      <td>12.866666</td>\n",
       "      <td>5.0</td>\n",
       "      <td>NaN</td>\n",
       "      <td>0</td>\n",
       "      <td>0</td>\n",
       "      <td>0</td>\n",
       "    </tr>\n",
       "  </tbody>\n",
       "</table>\n",
       "</div>"
      ],
      "text/plain": [
       "   CALENDAR_ID  SERVICE_ABBR  ADHERENCE_ID        DATE  ROUTE_ABBR  \\\n",
       "0    120230801             1      99457890  2023-08-01          22   \n",
       "1    120230801             1      99457891  2023-08-01          22   \n",
       "2    120230801             1      99457892  2023-08-01          22   \n",
       "3    120230801             1      99457893  2023-08-01          22   \n",
       "4    120230801             1      99457894  2023-08-01          22   \n",
       "\n",
       "   BLOCK_ABBR  OPERATOR  TRIP_ID  OVERLOAD_ID ROUTE_DIRECTION_NAME  \\\n",
       "0        2200      1040   345104            0          TO DOWNTOWN   \n",
       "1        2200      1040   345104            0          TO DOWNTOWN   \n",
       "2        2200      1040   345104            0          TO DOWNTOWN   \n",
       "3        2200      1040   345104            0          TO DOWNTOWN   \n",
       "4        2200      1040   345105            0        FROM DOWNTOWN   \n",
       "\n",
       "  TIME_POINT_ABBR  ROUTE_STOP_SEQUENCE  TRIP_EDGE   LATITUDE  LONGITUDE  \\\n",
       "0            MHSP                 14.0          1  36.181248 -86.847705   \n",
       "1            ELIZ                 10.0          0  36.193454 -86.839981   \n",
       "2            CV23                  5.0          0  36.182177 -86.814445   \n",
       "3         MCC5_10                  1.0          2  36.167091 -86.781923   \n",
       "4         MCC5_10                  1.0          1  36.167091 -86.781923   \n",
       "\n",
       "        SCHEDULED_TIME  ACTUAL_ARRIVAL_TIME ACTUAL_DEPARTURE_TIME  ADHERENCE  \\\n",
       "0  2023-08-01 04:42:00  2023-08-01 04:37:38   2023-08-01 04:44:08  -2.133333   \n",
       "1  2023-08-01 04:46:00  2023-08-01 04:48:27   2023-08-01 04:48:27  -2.450000   \n",
       "2  2023-08-01 04:54:00  2023-08-01 04:54:56   2023-08-01 04:54:56  -0.933333   \n",
       "3  2023-08-01 05:10:00  2023-08-01 05:03:43   2023-08-01 05:03:43   6.283333   \n",
       "4  2023-08-01 05:15:00  2023-08-01 05:03:43   2023-08-01 05:16:35  -1.583333   \n",
       "\n",
       "   SCHEDULED_HDWY  ACTUAL_HDWY  HDWY_DEV  ADJUSTED_EARLY_COUNT  \\\n",
       "0             NaN          NaN       NaN                     0   \n",
       "1             NaN          NaN       NaN                     0   \n",
       "2             NaN          NaN       NaN                     0   \n",
       "3             NaN          NaN       NaN                     0   \n",
       "4             NaN          NaN       NaN                     0   \n",
       "\n",
       "   ADJUSTED_LATE_COUNT  ADJUSTED_ONTIME_COUNT  STOP_CANCELLED  \\\n",
       "0                    0                      1               0   \n",
       "1                    0                      1               0   \n",
       "2                    0                      1               0   \n",
       "3                    0                      1               0   \n",
       "4                    0                      1               0   \n",
       "\n",
       "   PREV_SCHED_STOP_CANCELLED  IS_RELIEF  DWELL_IN_MINS  \\\n",
       "0                        0.0          0       6.500000   \n",
       "1                        0.0          0       0.000000   \n",
       "2                        0.0          0       0.000000   \n",
       "3                        NaN          0       0.000000   \n",
       "4                        0.0          0      12.866666   \n",
       "\n",
       "   SCHEDULED_LAYOVER_MINUTES  HDWY_DEV_PERC  HDWY_IS_BUNCHING  HDWY_IS_NORMAL  \\\n",
       "0                        NaN            NaN                 0               0   \n",
       "1                        NaN            NaN                 0               0   \n",
       "2                        NaN            NaN                 0               0   \n",
       "3                        NaN            NaN                 0               0   \n",
       "4                        5.0            NaN                 0               0   \n",
       "\n",
       "   HDWY_IS_GAPPING  \n",
       "0                0  \n",
       "1                0  \n",
       "2                0  \n",
       "3                0  \n",
       "4                0  "
      ]
     },
     "execution_count": 14,
     "metadata": {},
     "output_type": "execute_result"
    }
   ],
   "source": [
    "wego.head()"
   ]
  },
  {
   "cell_type": "markdown",
   "id": "ba9bec4f",
   "metadata": {},
   "source": [
    "# Q1\n",
    "### What is the overall on-time performance, and what do the overall distributions of adherence and headway deviation look like?"
   ]
  },
  {
   "cell_type": "code",
   "execution_count": 127,
   "id": "c2dbef03",
   "metadata": {},
   "outputs": [
    {
     "data": {
      "text/plain": [
       "79.9"
      ]
     },
     "execution_count": 127,
     "metadata": {},
     "output_type": "execute_result"
    }
   ],
   "source": [
    "# Percent of on-time stops\n",
    "round(wego['ADJUSTED_ONTIME_COUNT'].mean()*100, 2)"
   ]
  },
  {
   "cell_type": "code",
   "execution_count": 128,
   "id": "f70040c6",
   "metadata": {},
   "outputs": [
    {
     "data": {
      "text/plain": [
       "2.83"
      ]
     },
     "execution_count": 128,
     "metadata": {},
     "output_type": "execute_result"
    }
   ],
   "source": [
    "# Percent of early stops\n",
    "round(wego['ADJUSTED_EARLY_COUNT'].mean()*100, 2)"
   ]
  },
  {
   "cell_type": "code",
   "execution_count": 129,
   "id": "ebc3e413",
   "metadata": {},
   "outputs": [
    {
     "data": {
      "text/plain": [
       "17.27"
      ]
     },
     "execution_count": 129,
     "metadata": {},
     "output_type": "execute_result"
    }
   ],
   "source": [
    "# Percent of late stops\n",
    "round(wego['ADJUSTED_LATE_COUNT'].mean()*100, 2)"
   ]
  },
  {
   "cell_type": "code",
   "execution_count": 18,
   "id": "a49f42f3",
   "metadata": {},
   "outputs": [
    {
     "data": {
      "image/png": "[encoded data removed]",
      "text/plain": [
       "<Figure size 640x480 with 1 Axes>"
      ]
     },
     "metadata": {},
     "output_type": "display_data"
    }
   ],
   "source": [
    "# Adherence distribution - removing non-visible outliers\n",
    "plt.hist(wego.ADHERENCE, bins=40, range=(-35, 10))\n",
    "plt.title('Frequency of WeGo Adherence Times')\n",
    "plt.xlabel('Adherence Times')\n",
    "plt.ylabel('Frequency')\n",
    "plt.show() "
   ]
  },
  {
   "cell_type": "code",
   "execution_count": 19,
   "id": "66f7a061",
   "metadata": {},
   "outputs": [
    {
     "data": {
      "image/png": "[encoded data removed]",
      "text/plain": [
       "<Figure size 640x480 with 1 Axes>"
      ]
     },
     "metadata": {},
     "output_type": "display_data"
    }
   ],
   "source": [
    "# Headway distribution - removing non-visible outliers\n",
    "plt.hist(wego.HDWY_DEV, bins=40, range=(-25, 35))\n",
    "plt.title('Frequency of WeGo Headway Times')\n",
    "plt.xlabel('Adherence Times')\n",
    "plt.ylabel('Frequency')\n",
    "plt.show() "
   ]
  },
  {
   "cell_type": "code",
   "execution_count": null,
   "id": "fb7e88d2",
   "metadata": {},
   "outputs": [],
   "source": []
  },
  {
   "cell_type": "markdown",
   "id": "5805fa9b",
   "metadata": {},
   "source": [
    "# Q2\n",
    "### How does direction of travel, route, or location affect the headway and on-time performance?"
   ]
  },
  {
   "cell_type": "code",
   "execution_count": 20,
   "id": "e2b8d52b",
   "metadata": {},
   "outputs": [],
   "source": [
    "# Adjusted late perc will be very diff  \n",
    "# on time perc: round((wego['ADJUSTED_ONTIME_COUNT'].sum()) / (wego.shape[0]) * 100, 2)\n",
    "# Route is route_abbr (8 diff)\n",
    "# Location is lat and long??? - Time point abbr is also location. maybe do groupby"
   ]
  },
  {
   "cell_type": "markdown",
   "id": "dc63e494",
   "metadata": {},
   "source": [
    "### Direction of Travel"
   ]
  },
  {
   "cell_type": "code",
   "execution_count": 21,
   "id": "174aac17",
   "metadata": {
    "scrolled": true
   },
   "outputs": [
    {
     "data": {
      "text/html": [
       "<div>\n",
       "<style scoped>\n",
       "    .dataframe tbody tr th:only-of-type {\n",
       "        vertical-align: middle;\n",
       "    }\n",
       "\n",
       "    .dataframe tbody tr th {\n",
       "        vertical-align: top;\n",
       "    }\n",
       "\n",
       "    .dataframe thead th {\n",
       "        text-align: right;\n",
       "    }\n",
       "</style>\n",
       "<table border=\"1\" class=\"dataframe\">\n",
       "  <thead>\n",
       "    <tr style=\"text-align: right;\">\n",
       "      <th></th>\n",
       "      <th>ROUTE_DIRECTION_NAME</th>\n",
       "      <th>min</th>\n",
       "      <th>mean</th>\n",
       "      <th>median</th>\n",
       "      <th>max</th>\n",
       "    </tr>\n",
       "  </thead>\n",
       "  <tbody>\n",
       "    <tr>\n",
       "      <th>0</th>\n",
       "      <td>FROM DOWNTOWN</td>\n",
       "      <td>-100.00</td>\n",
       "      <td>3.04</td>\n",
       "      <td>0.17</td>\n",
       "      <td>2417.50</td>\n",
       "    </tr>\n",
       "    <tr>\n",
       "      <th>1</th>\n",
       "      <td>TO DOWNTOWN</td>\n",
       "      <td>-100.00</td>\n",
       "      <td>2.03</td>\n",
       "      <td>0.17</td>\n",
       "      <td>551.39</td>\n",
       "    </tr>\n",
       "  </tbody>\n",
       "</table>\n",
       "</div>"
      ],
      "text/plain": [
       "  ROUTE_DIRECTION_NAME     min  mean  median     max\n",
       "0        FROM DOWNTOWN -100.00  3.04    0.17 2417.50\n",
       "1          TO DOWNTOWN -100.00  2.03    0.17  551.39"
      ]
     },
     "execution_count": 21,
     "metadata": {},
     "output_type": "execute_result"
    }
   ],
   "source": [
    "# Headway\n",
    "\n",
    "pd.options.display.float_format = '{:.2f}'.format\n",
    "\n",
    "wego.groupby('ROUTE_DIRECTION_NAME')['HDWY_DEV_PERC'].agg(['min', 'mean', 'median', 'max']).reset_index()"
   ]
  },
  {
   "cell_type": "code",
   "execution_count": 117,
   "id": "7773142a",
   "metadata": {},
   "outputs": [],
   "source": [
    "# On time performance\n",
    "direction_otp = wego.groupby('ROUTE_DIRECTION_NAME')['ADJUSTED_ONTIME_COUNT'].mean()\\\n",
    "    .to_frame().reset_index().rename(columns={0: 'ON_TIME_PERFORMANCE'})\n",
    "\n",
    "########## I don't have this part working yet, also want to add early_perf\n",
    "#direction_otp['LATE_PERFORMANCE'] = (wego.groupby('ROUTE_DIRECTION_NAME')['ADJUSTED_LATE_COUNT'].sum()) / (wego.groupby('ROUTE_DIRECTION_NAME').size()) * 100"
   ]
  },
  {
   "cell_type": "code",
   "execution_count": 23,
   "id": "220ce309",
   "metadata": {},
   "outputs": [
    {
     "data": {
      "text/html": [
       "<div>\n",
       "<style scoped>\n",
       "    .dataframe tbody tr th:only-of-type {\n",
       "        vertical-align: middle;\n",
       "    }\n",
       "\n",
       "    .dataframe tbody tr th {\n",
       "        vertical-align: top;\n",
       "    }\n",
       "\n",
       "    .dataframe thead th {\n",
       "        text-align: right;\n",
       "    }\n",
       "</style>\n",
       "<table border=\"1\" class=\"dataframe\">\n",
       "  <thead>\n",
       "    <tr style=\"text-align: right;\">\n",
       "      <th></th>\n",
       "      <th>ROUTE_DIRECTION_NAME</th>\n",
       "      <th>ON_TIME_PERFORMANCE</th>\n",
       "      <th>LATE_PERFORMANCE</th>\n",
       "    </tr>\n",
       "  </thead>\n",
       "  <tbody>\n",
       "    <tr>\n",
       "      <th>0</th>\n",
       "      <td>FROM DOWNTOWN</td>\n",
       "      <td>75.22</td>\n",
       "      <td>NaN</td>\n",
       "    </tr>\n",
       "    <tr>\n",
       "      <th>1</th>\n",
       "      <td>TO DOWNTOWN</td>\n",
       "      <td>85.17</td>\n",
       "      <td>NaN</td>\n",
       "    </tr>\n",
       "  </tbody>\n",
       "</table>\n",
       "</div>"
      ],
      "text/plain": [
       "  ROUTE_DIRECTION_NAME  ON_TIME_PERFORMANCE  LATE_PERFORMANCE\n",
       "0        FROM DOWNTOWN                75.22               NaN\n",
       "1          TO DOWNTOWN                85.17               NaN"
      ]
     },
     "execution_count": 23,
     "metadata": {},
     "output_type": "execute_result"
    }
   ],
   "source": [
    "direction_otp"
   ]
  },
  {
   "cell_type": "markdown",
   "id": "cca439ab",
   "metadata": {},
   "source": [
    "### Route"
   ]
  },
  {
   "cell_type": "code",
   "execution_count": 24,
   "id": "9aaabd8d",
   "metadata": {},
   "outputs": [],
   "source": [
    "route_names = {\n",
    "    3: 'West End',\n",
    "    7: 'Hillsboro',\n",
    "    22: 'Bordeaux',\n",
    "    23: 'Dickerson Pike',\n",
    "    50: 'Charlotte Pike',\n",
    "    52: 'Nolensville Pike',\n",
    "    55: 'Murfreesboro Pike',\n",
    "    56: 'Gallatin Pike'\n",
    "}"
   ]
  },
  {
   "cell_type": "code",
   "execution_count": 25,
   "id": "e39094c6",
   "metadata": {},
   "outputs": [
    {
     "data": {
      "text/html": [
       "<div>\n",
       "<style scoped>\n",
       "    .dataframe tbody tr th:only-of-type {\n",
       "        vertical-align: middle;\n",
       "    }\n",
       "\n",
       "    .dataframe tbody tr th {\n",
       "        vertical-align: top;\n",
       "    }\n",
       "\n",
       "    .dataframe thead th {\n",
       "        text-align: right;\n",
       "    }\n",
       "</style>\n",
       "<table border=\"1\" class=\"dataframe\">\n",
       "  <thead>\n",
       "    <tr style=\"text-align: right;\">\n",
       "      <th></th>\n",
       "      <th>ROUTE</th>\n",
       "      <th>min</th>\n",
       "      <th>mean</th>\n",
       "      <th>median</th>\n",
       "      <th>max</th>\n",
       "    </tr>\n",
       "  </thead>\n",
       "  <tbody>\n",
       "    <tr>\n",
       "      <th>0</th>\n",
       "      <td>West End</td>\n",
       "      <td>-100.00</td>\n",
       "      <td>5.00</td>\n",
       "      <td>0.54</td>\n",
       "      <td>2417.50</td>\n",
       "    </tr>\n",
       "    <tr>\n",
       "      <th>1</th>\n",
       "      <td>Hillsboro</td>\n",
       "      <td>-99.67</td>\n",
       "      <td>2.01</td>\n",
       "      <td>0.11</td>\n",
       "      <td>551.39</td>\n",
       "    </tr>\n",
       "    <tr>\n",
       "      <th>2</th>\n",
       "      <td>Bordeaux</td>\n",
       "      <td>-99.44</td>\n",
       "      <td>2.56</td>\n",
       "      <td>0.19</td>\n",
       "      <td>322.64</td>\n",
       "    </tr>\n",
       "    <tr>\n",
       "      <th>3</th>\n",
       "      <td>Dickerson Pike</td>\n",
       "      <td>-99.86</td>\n",
       "      <td>4.36</td>\n",
       "      <td>0.33</td>\n",
       "      <td>285.56</td>\n",
       "    </tr>\n",
       "    <tr>\n",
       "      <th>4</th>\n",
       "      <td>Charlotte Pike</td>\n",
       "      <td>-99.89</td>\n",
       "      <td>0.89</td>\n",
       "      <td>0.11</td>\n",
       "      <td>282.33</td>\n",
       "    </tr>\n",
       "    <tr>\n",
       "      <th>5</th>\n",
       "      <td>Nolensville Pike</td>\n",
       "      <td>-100.00</td>\n",
       "      <td>3.18</td>\n",
       "      <td>0.36</td>\n",
       "      <td>449.05</td>\n",
       "    </tr>\n",
       "    <tr>\n",
       "      <th>6</th>\n",
       "      <td>Murfreesboro Pike</td>\n",
       "      <td>-100.00</td>\n",
       "      <td>1.99</td>\n",
       "      <td>-0.33</td>\n",
       "      <td>616.67</td>\n",
       "    </tr>\n",
       "    <tr>\n",
       "      <th>7</th>\n",
       "      <td>Gallatin Pike</td>\n",
       "      <td>-100.00</td>\n",
       "      <td>1.09</td>\n",
       "      <td>0.00</td>\n",
       "      <td>286.17</td>\n",
       "    </tr>\n",
       "  </tbody>\n",
       "</table>\n",
       "</div>"
      ],
      "text/plain": [
       "               ROUTE     min  mean  median     max\n",
       "0           West End -100.00  5.00    0.54 2417.50\n",
       "1          Hillsboro  -99.67  2.01    0.11  551.39\n",
       "2           Bordeaux  -99.44  2.56    0.19  322.64\n",
       "3     Dickerson Pike  -99.86  4.36    0.33  285.56\n",
       "4     Charlotte Pike  -99.89  0.89    0.11  282.33\n",
       "5   Nolensville Pike -100.00  3.18    0.36  449.05\n",
       "6  Murfreesboro Pike -100.00  1.99   -0.33  616.67\n",
       "7      Gallatin Pike -100.00  1.09    0.00  286.17"
      ]
     },
     "execution_count": 25,
     "metadata": {},
     "output_type": "execute_result"
    }
   ],
   "source": [
    "# Headway\n",
    "wego.groupby('ROUTE_ABBR')['HDWY_DEV_PERC'].agg(['min', 'mean', 'median', 'max']).reset_index() \\\n",
    "    .assign(ROUTE_ABBR=lambda x: x['ROUTE_ABBR'].map(route_names))\\\n",
    "    .rename(columns={'ROUTE_ABBR': 'ROUTE'})"
   ]
  },
  {
   "cell_type": "code",
   "execution_count": 114,
   "id": "3a5d5d09",
   "metadata": {},
   "outputs": [
    {
     "data": {
      "text/html": [
       "<div>\n",
       "<style scoped>\n",
       "    .dataframe tbody tr th:only-of-type {\n",
       "        vertical-align: middle;\n",
       "    }\n",
       "\n",
       "    .dataframe tbody tr th {\n",
       "        vertical-align: top;\n",
       "    }\n",
       "\n",
       "    .dataframe thead th {\n",
       "        text-align: right;\n",
       "    }\n",
       "</style>\n",
       "<table border=\"1\" class=\"dataframe\">\n",
       "  <thead>\n",
       "    <tr style=\"text-align: right;\">\n",
       "      <th></th>\n",
       "      <th>ROUTE</th>\n",
       "      <th>ON_TIME_PERFORMANCE</th>\n",
       "    </tr>\n",
       "  </thead>\n",
       "  <tbody>\n",
       "    <tr>\n",
       "      <th>0</th>\n",
       "      <td>West End</td>\n",
       "      <td>0.76</td>\n",
       "    </tr>\n",
       "    <tr>\n",
       "      <th>1</th>\n",
       "      <td>Hillsboro</td>\n",
       "      <td>0.78</td>\n",
       "    </tr>\n",
       "    <tr>\n",
       "      <th>2</th>\n",
       "      <td>Bordeaux</td>\n",
       "      <td>0.89</td>\n",
       "    </tr>\n",
       "    <tr>\n",
       "      <th>3</th>\n",
       "      <td>Dickerson Pike</td>\n",
       "      <td>0.89</td>\n",
       "    </tr>\n",
       "    <tr>\n",
       "      <th>4</th>\n",
       "      <td>Charlotte Pike</td>\n",
       "      <td>0.85</td>\n",
       "    </tr>\n",
       "    <tr>\n",
       "      <th>5</th>\n",
       "      <td>Nolensville Pike</td>\n",
       "      <td>0.77</td>\n",
       "    </tr>\n",
       "    <tr>\n",
       "      <th>6</th>\n",
       "      <td>Murfreesboro Pike</td>\n",
       "      <td>0.70</td>\n",
       "    </tr>\n",
       "    <tr>\n",
       "      <th>7</th>\n",
       "      <td>Gallatin Pike</td>\n",
       "      <td>0.82</td>\n",
       "    </tr>\n",
       "  </tbody>\n",
       "</table>\n",
       "</div>"
      ],
      "text/plain": [
       "               ROUTE  ON_TIME_PERFORMANCE\n",
       "0           West End                 0.76\n",
       "1          Hillsboro                 0.78\n",
       "2           Bordeaux                 0.89\n",
       "3     Dickerson Pike                 0.89\n",
       "4     Charlotte Pike                 0.85\n",
       "5   Nolensville Pike                 0.77\n",
       "6  Murfreesboro Pike                 0.70\n",
       "7      Gallatin Pike                 0.82"
      ]
     },
     "execution_count": 114,
     "metadata": {},
     "output_type": "execute_result"
    }
   ],
   "source": [
    "# On time performance\n",
    "\n",
    "wego.groupby('ROUTE_ABBR')['ADJUSTED_ONTIME_COUNT'].mean()\\\n",
    "    .to_frame().reset_index().rename(columns={'ROUTE_ABBR': 'ROUTE', 'ADJUSTED_ONTIME_COUNT': 'ON_TIME_PERFORMANCE'}) \\\n",
    "    .assign(ROUTE=lambda x: x['ROUTE'].map(route_names))"
   ]
  },
  {
   "cell_type": "markdown",
   "id": "b27bbb16",
   "metadata": {},
   "source": [
    "### Location"
   ]
  },
  {
   "cell_type": "code",
   "execution_count": 27,
   "id": "70adb714",
   "metadata": {},
   "outputs": [
    {
     "data": {
      "text/html": [
       "<div>\n",
       "<style scoped>\n",
       "    .dataframe tbody tr th:only-of-type {\n",
       "        vertical-align: middle;\n",
       "    }\n",
       "\n",
       "    .dataframe tbody tr th {\n",
       "        vertical-align: top;\n",
       "    }\n",
       "\n",
       "    .dataframe thead th {\n",
       "        text-align: right;\n",
       "    }\n",
       "</style>\n",
       "<table border=\"1\" class=\"dataframe\">\n",
       "  <thead>\n",
       "    <tr style=\"text-align: right;\">\n",
       "      <th></th>\n",
       "      <th>TIME_POINT_ABBR</th>\n",
       "      <th>min</th>\n",
       "      <th>mean</th>\n",
       "      <th>median</th>\n",
       "      <th>max</th>\n",
       "    </tr>\n",
       "  </thead>\n",
       "  <tbody>\n",
       "    <tr>\n",
       "      <th>0</th>\n",
       "      <td>21BK</td>\n",
       "      <td>-99.67</td>\n",
       "      <td>2.40</td>\n",
       "      <td>0.11</td>\n",
       "      <td>551.39</td>\n",
       "    </tr>\n",
       "    <tr>\n",
       "      <th>1</th>\n",
       "      <td>25ACLARK</td>\n",
       "      <td>-55.13</td>\n",
       "      <td>1.80</td>\n",
       "      <td>-0.27</td>\n",
       "      <td>125.23</td>\n",
       "    </tr>\n",
       "    <tr>\n",
       "      <th>2</th>\n",
       "      <td>28&amp;CHARL</td>\n",
       "      <td>-99.89</td>\n",
       "      <td>0.82</td>\n",
       "      <td>0.33</td>\n",
       "      <td>244.00</td>\n",
       "    </tr>\n",
       "    <tr>\n",
       "      <th>3</th>\n",
       "      <td>ARTS</td>\n",
       "      <td>NaN</td>\n",
       "      <td>NaN</td>\n",
       "      <td>NaN</td>\n",
       "      <td>NaN</td>\n",
       "    </tr>\n",
       "    <tr>\n",
       "      <th>4</th>\n",
       "      <td>BRCJ</td>\n",
       "      <td>-99.17</td>\n",
       "      <td>9.83</td>\n",
       "      <td>0.33</td>\n",
       "      <td>2417.50</td>\n",
       "    </tr>\n",
       "    <tr>\n",
       "      <th>...</th>\n",
       "      <td>...</td>\n",
       "      <td>...</td>\n",
       "      <td>...</td>\n",
       "      <td>...</td>\n",
       "      <td>...</td>\n",
       "    </tr>\n",
       "    <tr>\n",
       "      <th>56</th>\n",
       "      <td>WE23</td>\n",
       "      <td>-99.83</td>\n",
       "      <td>4.57</td>\n",
       "      <td>0.83</td>\n",
       "      <td>1467.50</td>\n",
       "    </tr>\n",
       "    <tr>\n",
       "      <th>57</th>\n",
       "      <td>WE31</td>\n",
       "      <td>-100.00</td>\n",
       "      <td>4.68</td>\n",
       "      <td>0.42</td>\n",
       "      <td>1541.67</td>\n",
       "    </tr>\n",
       "    <tr>\n",
       "      <th>58</th>\n",
       "      <td>WHBG</td>\n",
       "      <td>-99.78</td>\n",
       "      <td>1.24</td>\n",
       "      <td>0.17</td>\n",
       "      <td>278.22</td>\n",
       "    </tr>\n",
       "    <tr>\n",
       "      <th>59</th>\n",
       "      <td>WMRT</td>\n",
       "      <td>-99.90</td>\n",
       "      <td>2.10</td>\n",
       "      <td>0.00</td>\n",
       "      <td>449.05</td>\n",
       "    </tr>\n",
       "    <tr>\n",
       "      <th>60</th>\n",
       "      <td>YGKG</td>\n",
       "      <td>NaN</td>\n",
       "      <td>NaN</td>\n",
       "      <td>NaN</td>\n",
       "      <td>NaN</td>\n",
       "    </tr>\n",
       "  </tbody>\n",
       "</table>\n",
       "<p>61 rows × 5 columns</p>\n",
       "</div>"
      ],
      "text/plain": [
       "   TIME_POINT_ABBR     min  mean  median     max\n",
       "0             21BK  -99.67  2.40    0.11  551.39\n",
       "1         25ACLARK  -55.13  1.80   -0.27  125.23\n",
       "2         28&CHARL  -99.89  0.82    0.33  244.00\n",
       "3             ARTS     NaN   NaN     NaN     NaN\n",
       "4             BRCJ  -99.17  9.83    0.33 2417.50\n",
       "..             ...     ...   ...     ...     ...\n",
       "56            WE23  -99.83  4.57    0.83 1467.50\n",
       "57            WE31 -100.00  4.68    0.42 1541.67\n",
       "58            WHBG  -99.78  1.24    0.17  278.22\n",
       "59            WMRT  -99.90  2.10    0.00  449.05\n",
       "60            YGKG     NaN   NaN     NaN     NaN\n",
       "\n",
       "[61 rows x 5 columns]"
      ]
     },
     "execution_count": 27,
     "metadata": {},
     "output_type": "execute_result"
    }
   ],
   "source": [
    "# Headway\n",
    "wego.groupby('TIME_POINT_ABBR')['HDWY_DEV_PERC'].agg(['min', 'mean', 'median', 'max']).reset_index()"
   ]
  },
  {
   "cell_type": "code",
   "execution_count": 110,
   "id": "7c6ae211",
   "metadata": {},
   "outputs": [
    {
     "data": {
      "text/html": [
       "<div>\n",
       "<style scoped>\n",
       "    .dataframe tbody tr th:only-of-type {\n",
       "        vertical-align: middle;\n",
       "    }\n",
       "\n",
       "    .dataframe tbody tr th {\n",
       "        vertical-align: top;\n",
       "    }\n",
       "\n",
       "    .dataframe thead th {\n",
       "        text-align: right;\n",
       "    }\n",
       "</style>\n",
       "<table border=\"1\" class=\"dataframe\">\n",
       "  <thead>\n",
       "    <tr style=\"text-align: right;\">\n",
       "      <th></th>\n",
       "      <th>TIME_POINT_ABBR</th>\n",
       "      <th>ON_TIME_PERFORMANCE</th>\n",
       "    </tr>\n",
       "  </thead>\n",
       "  <tbody>\n",
       "    <tr>\n",
       "      <th>0</th>\n",
       "      <td>21BK</td>\n",
       "      <td>0.73</td>\n",
       "    </tr>\n",
       "    <tr>\n",
       "      <th>1</th>\n",
       "      <td>25ACLARK</td>\n",
       "      <td>0.98</td>\n",
       "    </tr>\n",
       "    <tr>\n",
       "      <th>2</th>\n",
       "      <td>28&amp;CHARL</td>\n",
       "      <td>0.85</td>\n",
       "    </tr>\n",
       "    <tr>\n",
       "      <th>3</th>\n",
       "      <td>ARTS</td>\n",
       "      <td>0.59</td>\n",
       "    </tr>\n",
       "    <tr>\n",
       "      <th>4</th>\n",
       "      <td>BRCJ</td>\n",
       "      <td>0.77</td>\n",
       "    </tr>\n",
       "    <tr>\n",
       "      <th>...</th>\n",
       "      <td>...</td>\n",
       "      <td>...</td>\n",
       "    </tr>\n",
       "    <tr>\n",
       "      <th>56</th>\n",
       "      <td>WE23</td>\n",
       "      <td>0.73</td>\n",
       "    </tr>\n",
       "    <tr>\n",
       "      <th>57</th>\n",
       "      <td>WE31</td>\n",
       "      <td>0.74</td>\n",
       "    </tr>\n",
       "    <tr>\n",
       "      <th>58</th>\n",
       "      <td>WHBG</td>\n",
       "      <td>0.78</td>\n",
       "    </tr>\n",
       "    <tr>\n",
       "      <th>59</th>\n",
       "      <td>WMRT</td>\n",
       "      <td>0.79</td>\n",
       "    </tr>\n",
       "    <tr>\n",
       "      <th>60</th>\n",
       "      <td>YGKG</td>\n",
       "      <td>0.54</td>\n",
       "    </tr>\n",
       "  </tbody>\n",
       "</table>\n",
       "<p>61 rows × 2 columns</p>\n",
       "</div>"
      ],
      "text/plain": [
       "   TIME_POINT_ABBR  ON_TIME_PERFORMANCE\n",
       "0             21BK                 0.73\n",
       "1         25ACLARK                 0.98\n",
       "2         28&CHARL                 0.85\n",
       "3             ARTS                 0.59\n",
       "4             BRCJ                 0.77\n",
       "..             ...                  ...\n",
       "56            WE23                 0.73\n",
       "57            WE31                 0.74\n",
       "58            WHBG                 0.78\n",
       "59            WMRT                 0.79\n",
       "60            YGKG                 0.54\n",
       "\n",
       "[61 rows x 2 columns]"
      ]
     },
     "execution_count": 110,
     "metadata": {},
     "output_type": "execute_result"
    }
   ],
   "source": [
    "# On time performance\n",
    "wego.groupby('TIME_POINT_ABBR')['ADJUSTED_ONTIME_COUNT'].mean()\\\n",
    "    .to_frame().reset_index().rename(columns={'ADJUSTED_ONTIME_COUNT': 'ON_TIME_PERFORMANCE'})"
   ]
  },
  {
   "cell_type": "markdown",
   "id": "dc55f1ba",
   "metadata": {},
   "source": [
    "# Q3\n",
    "### How does time of day or day of week affect headway and on-time performance?"
   ]
  },
  {
   "cell_type": "code",
   "execution_count": 148,
   "id": "4003f175",
   "metadata": {},
   "outputs": [],
   "source": [
    "# Pulling hour and day out of scheduled arrival time\n",
    "wego['hour'] = pd.to_datetime(wego['SCHEDULED_TIME'], format='mixed').dt.hour\n",
    "wego['day'] = pd.to_datetime(wego['SCHEDULED_TIME'], format='mixed').dt.day_name()\n",
    "\n",
    "# Removing rows with no headway data for clean calculations\n",
    "wego_hdwy = wego[((wego['HDWY_IS_NORMAL'] != 0) | \n",
    "                  (wego['HDWY_IS_BUNCHING'] != 0) | \n",
    "                  (wego['HDWY_IS_GAPPING'] != 0))]"
   ]
  },
  {
   "cell_type": "markdown",
   "id": "ba2a5b34",
   "metadata": {},
   "source": [
    "### Headway"
   ]
  },
  {
   "cell_type": "code",
   "execution_count": 152,
   "id": "f6c15e22",
   "metadata": {},
   "outputs": [],
   "source": [
    "# # Creating dataframe to look at headway deviation perc by day and hour\n",
    "# dh = wego_hdwy.groupby(['day','hour'])['HDWY_DEV_PERC'].mean().reset_index()\n",
    "\n",
    "# # Graphing this data with Seaborn\n",
    "\n",
    "# # Defining the order of days of the week\n",
    "# days_of_week_order = [\"Monday\", \"Tuesday\", \"Wednesday\", \"Thursday\", \"Friday\", \"Saturday\", \"Sunday\"]\n",
    "\n",
    "# # Creating the FacetGrid\n",
    "# g = sns.FacetGrid(dh, \n",
    "#                   col=\"day\", \n",
    "#                   col_order=days_of_week_order, \n",
    "#                   col_wrap=4)\n",
    "# g.map_dataframe(sns.barplot, \n",
    "#                 x=\"hour\", \n",
    "#                 y=\"HDWY_DEV_PERC\", \n",
    "#                 palette='husl')\n",
    "\n",
    "# # Fine Tuning\n",
    "# g.fig.suptitle(\"Headway Deviation Percentage by Hour and Day\", fontsize=16, y=1.05)\n",
    "# g.set_axis_labels(\"Hour of Day\", \"Headway Deviation Percentage\")\n",
    "# g.set_titles(\"{col_name}\")\n",
    "# g.set_xticklabels(rotation=45)\n",
    "\n",
    "# # Show the plot\n",
    "# plt.show()"
   ]
  },
  {
   "cell_type": "code",
   "execution_count": 153,
   "id": "2a7bf0ff",
   "metadata": {
    "scrolled": true
   },
   "outputs": [],
   "source": [
    "# # Creating dataframe to look at headway deviation perc by hour\n",
    "# h = wego_hdwy.groupby('hour')['HDWY_DEV_PERC'].mean().reset_index()\n",
    "\n",
    "# # Plotting\n",
    "# sns.barplot(\n",
    "#     x=\"hour\", \n",
    "#     y=\"HDWY_DEV_PERC\",\n",
    "#     data=h, \n",
    "#     errorbar=None)\n",
    "\n",
    "# # Fine tuning\n",
    "# plt.xlabel(\"Hour of Day\", fontsize=12)\n",
    "# plt.ylabel(\"Headway Deviation Percentage\", fontsize=12)\n",
    "# plt.title(\"Headway Deviation Percentage by Hour of Day\", fontsize=14)\n",
    "\n",
    "# plt.show()"
   ]
  },
  {
   "cell_type": "code",
   "execution_count": 178,
   "id": "985c2ea6",
   "metadata": {},
   "outputs": [],
   "source": [
    "# # Grouped bar chart version for hour\n",
    "\n",
    "# h = wego_hdwy.groupby('hour')[['HDWY_IS_NORMAL', 'HDWY_IS_BUNCHING', 'HDWY_IS_GAPPING']].mean().reset_index()\n",
    "\n",
    "# # Multiply the means by 100 to convert them to percentages\n",
    "# h[['HDWY_IS_NORMAL', 'HDWY_IS_BUNCHING', 'HDWY_IS_GAPPING']] = h[['HDWY_IS_NORMAL', 'HDWY_IS_BUNCHING', 'HDWY_IS_GAPPING']] * 100\n",
    "\n",
    "# # Melt the DataFrame to get it in a long format\n",
    "# hmelt = h.melt(id_vars='hour', value_vars=['HDWY_IS_NORMAL', 'HDWY_IS_BUNCHING', 'HDWY_IS_GAPPING'], \n",
    "#                   var_name='Headway Category', value_name='Headway Perc')\n",
    "\n",
    "# # Plotting\n",
    "# sns.barplot(x='hour', \n",
    "#             y='Headway Perc', \n",
    "#             hue='Headway Category', \n",
    "#             data=hmelt)\n",
    "\n",
    "# # Fine tuning\n",
    "# plt.xlabel(\"Hour of Day\", fontsize=12)\n",
    "# plt.ylabel(\"Percentage\", fontsize=12)\n",
    "# plt.title(\"Headway Categories by Hour of Day\", fontsize=14)\n",
    "# plt.legend(title='Headway Category', fontsize=10, title_fontsize=12)\n",
    "# plt.show()"
   ]
  },
  {
   "cell_type": "code",
   "execution_count": 170,
   "id": "fcee125d",
   "metadata": {},
   "outputs": [
    {
     "data": {
      "image/png": "[encoded data removed]",
      "text/plain": [
       "<Figure size 1200x600 with 1 Axes>"
      ]
     },
     "metadata": {},
     "output_type": "display_data"
    }
   ],
   "source": [
    "# Stacked bar chart version for hour\n",
    "\n",
    "hours = h['hour']\n",
    "normal = h['HDWY_IS_NORMAL']\n",
    "bunching = h['HDWY_IS_BUNCHING']\n",
    "gapping = h['HDWY_IS_GAPPING']\n",
    "\n",
    "plt.figure(figsize=(12, 6))\n",
    "plt.bar(hours, normal, label='HDWY_IS_NORMAL')\n",
    "plt.bar(hours, bunching, bottom=normal, label='HDWY_IS_BUNCHING')\n",
    "plt.bar(hours, gapping, bottom=normal+bunching, label='HDWY_IS_GAPPING')\n",
    "\n",
    "# Fine tuning\n",
    "plt.xlabel('Hour of Day', fontsize=12)\n",
    "plt.ylabel('Percentage', fontsize=12)\n",
    "plt.title('Headway Categories by Hour of Day', fontsize=14)\n",
    "plt.legend(title='Headway Category', fontsize=10, title_fontsize=12)\n",
    "plt.xticks(hours)  # Shows all the hour labels - might remove this\n",
    "plt.show()"
   ]
  },
  {
   "cell_type": "code",
   "execution_count": 179,
   "id": "2e508367",
   "metadata": {},
   "outputs": [],
   "source": [
    "# # Grouped bar chart version for day\n",
    "\n",
    "# # Creating dataframe to look at headway deviation perc by day\n",
    "# d = wego_hdwy.groupby('day')[['HDWY_IS_NORMAL', 'HDWY_IS_BUNCHING', 'HDWY_IS_GAPPING']].mean().reset_index()\n",
    "\n",
    "# # Multiply the means by 100 to convert them to percentages\n",
    "# d[['HDWY_IS_NORMAL', 'HDWY_IS_BUNCHING', 'HDWY_IS_GAPPING']] = d[['HDWY_IS_NORMAL', 'HDWY_IS_BUNCHING', 'HDWY_IS_GAPPING']] * 100\n",
    "\n",
    "# # Melt the DataFrame to get it in a long format\n",
    "# dmelt = d.melt(id_vars='day', value_vars=['HDWY_IS_NORMAL', 'HDWY_IS_BUNCHING', 'HDWY_IS_GAPPING'], \n",
    "#                   var_name='Headway Category', value_name='Headway Perc')\n",
    "\n",
    "# # Plotting\n",
    "# sns.barplot(x='day', \n",
    "#             y='Headway Perc', \n",
    "#             hue='Headway Category', \n",
    "#             data=dmelt)\n",
    "\n",
    "# # Fine tuning\n",
    "# plt.xlabel('Day of Week', fontsize=12)\n",
    "# plt.ylabel('Percentage', fontsize=12)\n",
    "# plt.title(\"Headway Categories by Day of Week\", fontsize=14)\n",
    "# plt.legend(title='Headway Category', fontsize=10, title_fontsize=12)\n",
    "# plt.show()\n",
    "\n",
    "# plt.show()"
   ]
  },
  {
   "cell_type": "code",
   "execution_count": 175,
   "id": "f0a02506",
   "metadata": {},
   "outputs": [
    {
     "data": {
      "image/png": "[encoded data removed]",
      "text/plain": [
       "<Figure size 1000x600 with 1 Axes>"
      ]
     },
     "metadata": {},
     "output_type": "display_data"
    }
   ],
   "source": [
    "# Stacked bar chart version for day of week\n",
    "\n",
    "d = d.set_index('day').loc[days_of_week_order].reset_index()\n",
    "\n",
    "hours = d['day']\n",
    "normal = d['HDWY_IS_NORMAL']\n",
    "bunching = d['HDWY_IS_BUNCHING']\n",
    "gapping = d['HDWY_IS_GAPPING']\n",
    "\n",
    "fig, ax = plt.subplots(figsize=(10, 6))\n",
    "plt.bar(hours, normal, label='HDWY_IS_NORMAL')\n",
    "plt.bar(hours, bunching, bottom=normal, label='HDWY_IS_BUNCHING')\n",
    "plt.bar(hours, gapping, bottom=normal+bunching, label='HDWY_IS_GAPPING')\n",
    "\n",
    "# Fine tuning\n",
    "ax.set_xlabel('Day of Week', fontsize=12)\n",
    "ax.set_ylabel('Percentage', fontsize=12)\n",
    "ax.set_title('Headway Categories by Day of Week', fontsize=14)\n",
    "ax.legend(title='Headway Category', fontsize=10, title_fontsize=12)\n",
    "plt.show()"
   ]
  },
  {
   "cell_type": "code",
   "execution_count": 154,
   "id": "a14f725f",
   "metadata": {},
   "outputs": [],
   "source": [
    "# # Creating dataframe to look at headway deviation perc by day\n",
    "# d = wego_hdwy.groupby('day')['HDWY_DEV_PERC'].mean().reset_index()\n",
    "\n",
    "# # Plotting\n",
    "# sns.barplot(\n",
    "#     x=\"day\", \n",
    "#     y=\"HDWY_DEV_PERC\",\n",
    "#     data=d,\n",
    "#     order=days_of_week_order,\n",
    "#     palette='husl',\n",
    "#     errorbar=None)\n",
    "\n",
    "# # Fine tuning\n",
    "# plt.xlabel(\"Day of Week\", fontsize=12)\n",
    "# plt.ylabel(\"Headway Deviation Percentage\", fontsize=12)\n",
    "# plt.title(\"Headway Deviation Percentage by Day of Week\", fontsize=14)\n",
    "\n",
    "# plt.show()"
   ]
  },
  {
   "cell_type": "markdown",
   "id": "51e971eb",
   "metadata": {},
   "source": [
    "### On-Time Performance"
   ]
  },
  {
   "cell_type": "code",
   "execution_count": 89,
   "id": "5321c3f1",
   "metadata": {},
   "outputs": [
    {
     "data": {
      "image/png": "[encoded data removed]",
      "text/plain": [
       "<Figure size 1200x600 with 7 Axes>"
      ]
     },
     "metadata": {},
     "output_type": "display_data"
    }
   ],
   "source": [
    "# Creating dataframe to look at OTP by day and hour\n",
    "dh2 = ((wego.groupby(['day','hour'])['ADJUSTED_ONTIME_COUNT']\n",
    "        .mean().to_frame().reset_index().rename(columns={'ADJUSTED_ONTIME_COUNT': 'ON_TIME_PERFORMANCE'})))\n",
    "\n",
    "# Graphing this data with Seaborn\n",
    "\n",
    "# Defining the order of days of the week\n",
    "days_of_week_order = [\"Monday\", \"Tuesday\", \"Wednesday\", \"Thursday\", \"Friday\", \"Saturday\", \"Sunday\"]\n",
    "\n",
    "# Creating the FacetGrid\n",
    "g = sns.FacetGrid(dh2, \n",
    "                  col=\"day\",\n",
    "                  col_order=days_of_week_order,\n",
    "                  col_wrap=4)\n",
    "g.map_dataframe(sns.barplot, \n",
    "                x=\"hour\", \n",
    "                y=\"ON_TIME_PERFORMANCE\", \n",
    "                palette='husl')\n",
    "\n",
    "# Fine Tuning\n",
    "g.fig.suptitle(\"On-Time Performance by Hour and Day\", fontsize=16, y=1.05)\n",
    "g.set_axis_labels(\"Hour of Day\", \"On-Time Performance\")\n",
    "g.set_titles(\"{col_name}\")\n",
    "g.set_xticklabels(rotation=45)\n",
    "\n",
    "# Show the plot\n",
    "plt.show()"
   ]
  },
  {
   "cell_type": "code",
   "execution_count": 87,
   "id": "793072f1",
   "metadata": {},
   "outputs": [
    {
     "data": {
      "image/png": "[encoded data removed]",
      "text/plain": [
       "<Figure size 640x480 with 1 Axes>"
      ]
     },
     "metadata": {},
     "output_type": "display_data"
    }
   ],
   "source": [
    "# Creating dataframe to look at OTP by hour\n",
    "h2 = ((wego.groupby('hour')['ADJUSTED_ONTIME_COUNT']\n",
    "       .mean().to_frame().reset_index().rename(columns={'ADJUSTED_ONTIME_COUNT': 'ON_TIME_PERFORMANCE'})))\n",
    "\n",
    "# Plotting\n",
    "sns.barplot(\n",
    "    x=\"hour\", \n",
    "    y=\"ON_TIME_PERFORMANCE\",\n",
    "    data=h2, \n",
    "    errorbar=None)\n",
    "\n",
    "# Fine tuning\n",
    "plt.xlabel(\"Hour of Day\", fontsize=12)\n",
    "plt.ylabel(\"On-Time Performance\", fontsize=12)\n",
    "plt.title(\"On-Time Performance by Hour of Day\", fontsize=14)\n",
    "\n",
    "plt.show()"
   ]
  },
  {
   "cell_type": "code",
   "execution_count": 98,
   "id": "e8503fdb",
   "metadata": {},
   "outputs": [
    {
     "data": {
      "image/png": "[encoded data removed]",
      "text/plain": [
       "<Figure size 640x480 with 1 Axes>"
      ]
     },
     "metadata": {},
     "output_type": "display_data"
    }
   ],
   "source": [
    "# Creating dataframe to look at OTP by day\n",
    "d2 = ((wego.groupby('day')['ADJUSTED_ONTIME_COUNT']\n",
    "       .mean().to_frame().reset_index().rename(columns={'ADJUSTED_ONTIME_COUNT': 'ON_TIME_PERFORMANCE'})))\n",
    "\n",
    "# Plotting\n",
    "sns.barplot(\n",
    "    x=\"day\", \n",
    "    y=\"ON_TIME_PERFORMANCE\",\n",
    "    data=d2,\n",
    "    order=days_of_week_order,\n",
    "    palette='husl',\n",
    "    errorbar=None)\n",
    "\n",
    "# Fine tuning\n",
    "plt.xlabel(\"Day of Week\", fontsize=12)\n",
    "plt.ylabel(\"On-Time Performance\", fontsize=12)\n",
    "plt.title(\"On-Time Performance by Day of Week\", fontsize=14)\n",
    "\n",
    "plt.show()"
   ]
  },
  {
   "cell_type": "code",
   "execution_count": 108,
   "id": "80f307c8",
   "metadata": {},
   "outputs": [],
   "source": [
    "# Headway - corrected on #3, fix #2 also\n",
    "# boxplot for days of week???\n",
    "# Redo all OTP... need to be OT, E, and L"
   ]
  },
  {
   "cell_type": "code",
   "execution_count": 109,
   "id": "d9e826af",
   "metadata": {},
   "outputs": [
    {
     "data": {
      "text/html": [
       "<div>\n",
       "<style scoped>\n",
       "    .dataframe tbody tr th:only-of-type {\n",
       "        vertical-align: middle;\n",
       "    }\n",
       "\n",
       "    .dataframe tbody tr th {\n",
       "        vertical-align: top;\n",
       "    }\n",
       "\n",
       "    .dataframe thead th {\n",
       "        text-align: right;\n",
       "    }\n",
       "</style>\n",
       "<table border=\"1\" class=\"dataframe\">\n",
       "  <thead>\n",
       "    <tr style=\"text-align: right;\">\n",
       "      <th></th>\n",
       "      <th>day</th>\n",
       "      <th>HDWY_IS_BUNCHING</th>\n",
       "      <th>HDWY_IS_GAPPING</th>\n",
       "      <th>HDWY_IS_NORMAL</th>\n",
       "    </tr>\n",
       "  </thead>\n",
       "  <tbody>\n",
       "    <tr>\n",
       "      <th>0</th>\n",
       "      <td>Friday</td>\n",
       "      <td>0.07</td>\n",
       "      <td>0.08</td>\n",
       "      <td>0.63</td>\n",
       "    </tr>\n",
       "    <tr>\n",
       "      <th>1</th>\n",
       "      <td>Monday</td>\n",
       "      <td>0.05</td>\n",
       "      <td>0.05</td>\n",
       "      <td>0.69</td>\n",
       "    </tr>\n",
       "    <tr>\n",
       "      <th>2</th>\n",
       "      <td>Saturday</td>\n",
       "      <td>0.02</td>\n",
       "      <td>0.03</td>\n",
       "      <td>0.72</td>\n",
       "    </tr>\n",
       "    <tr>\n",
       "      <th>3</th>\n",
       "      <td>Sunday</td>\n",
       "      <td>0.02</td>\n",
       "      <td>0.03</td>\n",
       "      <td>0.73</td>\n",
       "    </tr>\n",
       "    <tr>\n",
       "      <th>4</th>\n",
       "      <td>Thursday</td>\n",
       "      <td>0.06</td>\n",
       "      <td>0.07</td>\n",
       "      <td>0.65</td>\n",
       "    </tr>\n",
       "    <tr>\n",
       "      <th>5</th>\n",
       "      <td>Tuesday</td>\n",
       "      <td>0.06</td>\n",
       "      <td>0.07</td>\n",
       "      <td>0.66</td>\n",
       "    </tr>\n",
       "    <tr>\n",
       "      <th>6</th>\n",
       "      <td>Wednesday</td>\n",
       "      <td>0.06</td>\n",
       "      <td>0.07</td>\n",
       "      <td>0.66</td>\n",
       "    </tr>\n",
       "  </tbody>\n",
       "</table>\n",
       "</div>"
      ],
      "text/plain": [
       "         day  HDWY_IS_BUNCHING  HDWY_IS_GAPPING  HDWY_IS_NORMAL\n",
       "0     Friday              0.07             0.08            0.63\n",
       "1     Monday              0.05             0.05            0.69\n",
       "2   Saturday              0.02             0.03            0.72\n",
       "3     Sunday              0.02             0.03            0.73\n",
       "4   Thursday              0.06             0.07            0.65\n",
       "5    Tuesday              0.06             0.07            0.66\n",
       "6  Wednesday              0.06             0.07            0.66"
      ]
     },
     "execution_count": 109,
     "metadata": {},
     "output_type": "execute_result"
    }
   ],
   "source": [
    "wego.groupby('day')[['HDWY_IS_BUNCHING', 'HDWY_IS_GAPPING', 'HDWY_IS_NORMAL']].mean().reset_index()"
   ]
  },
  {
   "cell_type": "code",
   "execution_count": 130,
   "id": "5e72cf4f",
   "metadata": {},
   "outputs": [
    {
     "name": "stdout",
     "output_type": "stream",
     "text": [
      "<class 'pandas.core.frame.DataFrame'>\n",
      "Index: 333927 entries, 0 to 350328\n",
      "Data columns (total 38 columns):\n",
      " #   Column                     Non-Null Count   Dtype  \n",
      "---  ------                     --------------   -----  \n",
      " 0   CALENDAR_ID                333927 non-null  int64  \n",
      " 1   SERVICE_ABBR               333927 non-null  int64  \n",
      " 2   ADHERENCE_ID               333927 non-null  int64  \n",
      " 3   DATE                       333927 non-null  object \n",
      " 4   ROUTE_ABBR                 333927 non-null  int64  \n",
      " 5   BLOCK_ABBR                 333927 non-null  int64  \n",
      " 6   OPERATOR                   333927 non-null  int64  \n",
      " 7   TRIP_ID                    333927 non-null  int64  \n",
      " 8   OVERLOAD_ID                333927 non-null  int64  \n",
      " 9   ROUTE_DIRECTION_NAME       333927 non-null  object \n",
      " 10  TIME_POINT_ABBR            333927 non-null  object \n",
      " 11  ROUTE_STOP_SEQUENCE        333922 non-null  float64\n",
      " 12  TRIP_EDGE                  333927 non-null  int64  \n",
      " 13  LATITUDE                   333927 non-null  float64\n",
      " 14  LONGITUDE                  333927 non-null  float64\n",
      " 15  SCHEDULED_TIME             333927 non-null  object \n",
      " 16  ACTUAL_ARRIVAL_TIME        333925 non-null  object \n",
      " 17  ACTUAL_DEPARTURE_TIME      333927 non-null  object \n",
      " 18  ADHERENCE                  333927 non-null  float64\n",
      " 19  SCHEDULED_HDWY             261427 non-null  float64\n",
      " 20  ACTUAL_HDWY                261455 non-null  float64\n",
      " 21  HDWY_DEV                   261287 non-null  float64\n",
      " 22  ADJUSTED_EARLY_COUNT       333927 non-null  int64  \n",
      " 23  ADJUSTED_LATE_COUNT        333927 non-null  int64  \n",
      " 24  ADJUSTED_ONTIME_COUNT      333927 non-null  int64  \n",
      " 25  STOP_CANCELLED             333927 non-null  int64  \n",
      " 26  PREV_SCHED_STOP_CANCELLED  266448 non-null  float64\n",
      " 27  IS_RELIEF                  333927 non-null  int64  \n",
      " 28  DWELL_IN_MINS              333925 non-null  float64\n",
      " 29  SCHEDULED_LAYOVER_MINUTES  52068 non-null   float64\n",
      " 30  HDWY_DEV_PERC              261287 non-null  float64\n",
      " 31  HDWY_IS_BUNCHING           333927 non-null  int64  \n",
      " 32  HDWY_IS_NORMAL             333927 non-null  int64  \n",
      " 33  HDWY_IS_GAPPING            333927 non-null  int64  \n",
      " 34  HOUR                       333927 non-null  int32  \n",
      " 35  DAY                        333927 non-null  object \n",
      " 36  hour                       333927 non-null  int32  \n",
      " 37  day                        333927 non-null  object \n",
      "dtypes: float64(11), int32(2), int64(17), object(8)\n",
      "memory usage: 96.8+ MB\n"
     ]
    }
   ],
   "source": [
    "wego.info()"
   ]
  },
  {
   "cell_type": "code",
   "execution_count": null,
   "id": "53146411",
   "metadata": {},
   "outputs": [],
   "source": [
    "# 4: how many operators are there, and how many routes did they each drive? \n",
    "# Come up with cutoff (ex 500 trips or less, drop them; "
   ]
  }
 ],
 "metadata": {
  "kernelspec": {
   "display_name": "Python 3 (ipykernel)",
   "language": "python",
   "name": "python3"
  },
  "language_info": {
   "codemirror_mode": {
    "name": "ipython",
    "version": 3
   },
   "file_extension": ".py",
   "mimetype": "text/x-python",
   "name": "python",
   "nbconvert_exporter": "python",
   "pygments_lexer": "ipython3",
   "version": "3.11.7"
  }
 },
 "nbformat": 4,
 "nbformat_minor": 5
}
